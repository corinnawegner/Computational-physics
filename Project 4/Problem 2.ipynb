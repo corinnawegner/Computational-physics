{
 "cells": [
  {
   "cell_type": "code",
   "execution_count": 1,
   "metadata": {
    "collapsed": true,
    "ExecuteTime": {
     "end_time": "2024-01-06T16:55:31.319275Z",
     "start_time": "2024-01-06T16:55:30.621383Z"
    }
   },
   "outputs": [],
   "source": [
    "import numpy as np\n",
    "import matplotlib.pyplot as plt\n",
    "from tqdm import tqdm"
   ]
  },
  {
   "cell_type": "code",
   "execution_count": 2,
   "outputs": [],
   "source": [
    "L = 1\n",
    "K = 200\n",
    "C = 1000\n",
    "rho = 3000\n",
    "l = K/(C*rho)\n",
    "N_t = 10000\n",
    "delta_x = 0.01\n",
    "x = np.linspace(-L/2, L/2, int(L/delta_x))\n",
    "x = np.pad(x, (1, 1), 'constant', constant_values=0)\n",
    "T_0 = [np.sin(np.pi*x_i/L) for x_i in x]"
   ],
   "metadata": {
    "collapsed": false,
    "ExecuteTime": {
     "end_time": "2024-01-06T16:55:31.561724500Z",
     "start_time": "2024-01-06T16:55:31.559048700Z"
    }
   }
  },
  {
   "cell_type": "code",
   "execution_count": 30,
   "outputs": [
    {
     "data": {
      "text/plain": "0.75"
     },
     "execution_count": 30,
     "metadata": {},
     "output_type": "execute_result"
    }
   ],
   "source": [
    "tau = (delta_x**2)/(2*l)\n",
    "tau"
   ],
   "metadata": {
    "collapsed": false,
    "ExecuteTime": {
     "end_time": "2024-01-06T17:59:04.347435300Z",
     "start_time": "2024-01-06T17:59:04.346928400Z"
    }
   }
  },
  {
   "cell_type": "markdown",
   "source": [
    "# Problem a)"
   ],
   "metadata": {
    "collapsed": false
   }
  },
  {
   "cell_type": "code",
   "execution_count": 3,
   "outputs": [],
   "source": [
    "def FTCS_rod(delta_t = 0.1):\n",
    "    a = l*delta_t/delta_x**2\n",
    "    T = [T_0]\n",
    "    for t in range(N_t):\n",
    "        T_new = np.zeros(int(L/delta_x)+2)\n",
    "        T_old = T[-1]\n",
    "        for i in range(1, T_new.shape[0]-1):\n",
    "            T_new[i] = (1-2*a)*T_old[i]+a*(T_old[i-1]+T_old[i+1])\n",
    "        T.append(T_new)\n",
    "    return T\n",
    "\n",
    "T = FTCS_rod()"
   ],
   "metadata": {
    "collapsed": false,
    "ExecuteTime": {
     "end_time": "2024-01-06T16:55:35.521218900Z",
     "start_time": "2024-01-06T16:55:35.154743700Z"
    }
   }
  },
  {
   "cell_type": "code",
   "execution_count": 4,
   "outputs": [
    {
     "name": "stderr",
     "output_type": "stream",
     "text": [
      "No artists with labels found to put in legend.  Note that artists whose label start with an underscore are ignored when legend() is called with no argument.\n"
     ]
    }
   ],
   "source": [
    "import matplotlib; matplotlib.use(\"TkAgg\")\n",
    "import matplotlib.animation as animation\n",
    "\n",
    "fig, ax = plt.subplots()\n",
    "\n",
    "line, = ax.plot(x, T_0)\n",
    "legend = plt.legend()\n",
    "\n",
    "def animate(i):\n",
    "    line.set_ydata(T[i])\n",
    "    legend.set_title(\"Time step: {}\".format(i))\n",
    "    return line, legend\n",
    "\n",
    "# Init only required for blitting to give a clean slate.\n",
    "def init():\n",
    "    line.set_ydata(np.ma.array(x, mask=True))\n",
    "    return line,\n",
    "\n",
    "ani = animation.FuncAnimation(fig=fig, func=animate, frames=N_t, init_func=init, interval=25, blit=True)\n",
    "\n",
    "plt.xlabel(\"x\")\n",
    "plt.ylabel(\"T\")\n",
    "plt.title(\"Temperature development in the rod\")\n",
    "plt.show()"
   ],
   "metadata": {
    "collapsed": false,
    "ExecuteTime": {
     "end_time": "2024-01-06T16:55:41.070446300Z",
     "start_time": "2024-01-06T16:55:35.747620700Z"
    }
   }
  },
  {
   "cell_type": "markdown",
   "source": [
    "# Problem b)"
   ],
   "metadata": {
    "collapsed": false
   }
  },
  {
   "cell_type": "code",
   "execution_count": 16,
   "outputs": [],
   "source": [
    "def T_exact(t):\n",
    "    list_T_exact = np.zeros(len(x))\n",
    "    f2 = np.exp(-(K*t*np.pi**2)/(C*rho*L**2))\n",
    "    for i, x_i in enumerate(x):\n",
    "        f1 = np.sin(np.pi*x_i/L)\n",
    "        list_T_exact[i] = f1*f2\n",
    "    list_T_exact = np.array(list_T_exact)\n",
    "    return list_T_exact\n",
    "\n",
    "def error(T, t):\n",
    "    return (delta_x/L)*np.sum(np.abs(T[t]-T_exact(t)))"
   ],
   "metadata": {
    "collapsed": false,
    "ExecuteTime": {
     "end_time": "2024-01-06T17:07:46.536908400Z",
     "start_time": "2024-01-06T17:07:46.527811700Z"
    }
   }
  },
  {
   "cell_type": "code",
   "execution_count": 17,
   "outputs": [
    {
     "name": "stderr",
     "output_type": "stream",
     "text": [
      "100%|██████████| 100/100 [00:44<00:00,  2.24it/s]\n"
     ]
    }
   ],
   "source": [
    "list_delta_t = np.linspace(0.001,0.7, 100)\n",
    "def errors_for_delta_t(scheme):\n",
    "    list_errors = []\n",
    "    for dt in tqdm(list_delta_t):\n",
    "        T_dt = scheme(dt)\n",
    "        err = error(T_dt, 100)\n",
    "        list_errors.append(err)\n",
    "    return list_errors\n",
    "\n",
    "list_errors_FTCS = errors_for_delta_t(FTCS_rod)"
   ],
   "metadata": {
    "collapsed": false,
    "ExecuteTime": {
     "end_time": "2024-01-06T17:08:31.452830700Z",
     "start_time": "2024-01-06T17:07:46.871675900Z"
    }
   }
  },
  {
   "cell_type": "code",
   "execution_count": 18,
   "outputs": [
    {
     "data": {
      "text/plain": "Text(0.5, 0, '$\\\\Delta t$')"
     },
     "execution_count": 18,
     "metadata": {},
     "output_type": "execute_result"
    },
    {
     "data": {
      "text/plain": "<Figure size 640x480 with 1 Axes>",
      "image/png": "[encoded data removed]"
     },
     "metadata": {},
     "output_type": "display_data"
    }
   ],
   "source": [
    "%matplotlib inline\n",
    "plt.plot(list_delta_t, list_errors_FTCS)\n",
    "plt.title(\"Error at $t=100$\")\n",
    "plt.ylabel(\"$\\epsilon(100)$\")\n",
    "plt.xlabel(\"$\\Delta t$\")"
   ],
   "metadata": {
    "collapsed": false,
    "ExecuteTime": {
     "end_time": "2024-01-06T17:08:31.585688600Z",
     "start_time": "2024-01-06T17:08:31.469444800Z"
    }
   }
  },
  {
   "cell_type": "markdown",
   "source": [
    "The error gets larger with increasing $\\Delta_t$. This is because the simulation approximates the exact solution with discrete steps in time. The time-dependent exponential factor in $T_{exact}$ is linearized between the discrete time steps. When $\\Delta_{t}$ is increased, thus is the error made by linearization."
   ],
   "metadata": {
    "collapsed": false
   }
  },
  {
   "cell_type": "markdown",
   "source": [
    "# Problem c)"
   ],
   "metadata": {
    "collapsed": false
   }
  },
  {
   "cell_type": "code",
   "execution_count": 35,
   "outputs": [],
   "source": [
    "def Euler_backward_rod(delta_t = 0.1):\n",
    "    a = l*delta_t/delta_x**2\n",
    "    T = [T_0]\n",
    "    dim = len(x)\n",
    "    A = np.eye(dim)\n",
    "    for i in range(A.shape[0]-1):\n",
    "        A[i+1, i] = -a\n",
    "        A[i, i+1] = -a\n",
    "    A[0, 1] = 0\n",
    "    A[dim-1][dim-2] = 0\n",
    "    for i in range(1, A.shape[0]-1):\n",
    "        A[i,i] += 2*a\n",
    "    A_inv = np.linalg.inv(A)\n",
    "    for t in range(N_t):\n",
    "        T_old = T[-1]\n",
    "        T_new = np.matmul(A_inv, T_old)\n",
    "        T.append(T_new)\n",
    "    return T\n",
    "\n",
    "T_euler_backward = Euler_backward_rod()"
   ],
   "metadata": {
    "collapsed": false,
    "ExecuteTime": {
     "end_time": "2024-01-06T18:13:00.946913Z",
     "start_time": "2024-01-06T18:12:59.849096700Z"
    }
   }
  },
  {
   "cell_type": "code",
   "execution_count": 20,
   "outputs": [],
   "source": [
    "def Crank_Nicolson_rod(delta_t = 0.1):\n",
    "    a = l*delta_t/delta_x**2\n",
    "    T = [T_0]\n",
    "    dim = len(x)\n",
    "    A = np.eye(dim)\n",
    "    B = np.eye(dim)\n",
    "    for i in range(1, dim-1):\n",
    "        A[i,i] += 2*a\n",
    "        B[i,i] -= 2*a\n",
    "        A[i, i-1] = -a\n",
    "        A[i, i+1] = -a\n",
    "        B[i, i-1] = a\n",
    "        B[i, i+1] = a\n",
    "    A_inv = np.linalg.inv(A)\n",
    "    for t in range(N_t):\n",
    "        T_old = T[-1]\n",
    "        T_new_p = np.matmul(B, T_old)\n",
    "        T_new = np.matmul(A_inv, T_new_p)\n",
    "        T.append(T_new)\n",
    "    return T\n",
    "\n",
    "T_Crank_Nicolson = Crank_Nicolson_rod()"
   ],
   "metadata": {
    "collapsed": false,
    "ExecuteTime": {
     "end_time": "2024-01-06T17:24:44.497354700Z",
     "start_time": "2024-01-06T17:24:42.575843600Z"
    }
   }
  },
  {
   "cell_type": "code",
   "execution_count": 21,
   "outputs": [],
   "source": [
    "def DuFort_Frankel_rod(delta_t = 0.1):\n",
    "    a = l*delta_t/delta_x**2\n",
    "    T = [T_0]\n",
    "    c = (1-a)/(1+a)\n",
    "    d = a/(1+a)\n",
    "    for t in range(N_t):\n",
    "        T_new = np.zeros(int(L/delta_x)+2)\n",
    "        T_old = T[-1]\n",
    "        T_before = T[-2] if t>1 else np.zeros(int(L/delta_x)+2)\n",
    "        for i in range(1, T_new.shape[0]-1):\n",
    "            T_new[i] = c*T_before[i] + d*(T_old[i-1]+T_old[i+1])\n",
    "        T.append(T_new)\n",
    "    return T\n",
    "\n",
    "T_DuFort_Frankel = DuFort_Frankel_rod()"
   ],
   "metadata": {
    "collapsed": false,
    "ExecuteTime": {
     "end_time": "2024-01-06T17:24:46.500109700Z",
     "start_time": "2024-01-06T17:24:46.108428900Z"
    }
   }
  },
  {
   "cell_type": "code",
   "execution_count": 36,
   "outputs": [
    {
     "name": "stdout",
     "output_type": "stream",
     "text": [
      "Euler backward:\n"
     ]
    },
    {
     "name": "stderr",
     "output_type": "stream",
     "text": [
      "100%|██████████| 100/100 [01:37<00:00,  1.03it/s]\n"
     ]
    },
    {
     "name": "stdout",
     "output_type": "stream",
     "text": [
      "Crank Nicolson:\n"
     ]
    },
    {
     "name": "stderr",
     "output_type": "stream",
     "text": [
      "100%|██████████| 100/100 [03:22<00:00,  2.02s/it]\n"
     ]
    },
    {
     "name": "stdout",
     "output_type": "stream",
     "text": [
      "DuFort-Frankel:\n"
     ]
    },
    {
     "name": "stderr",
     "output_type": "stream",
     "text": [
      "100%|██████████| 100/100 [00:34<00:00,  2.93it/s]\n"
     ]
    }
   ],
   "source": [
    "print(\"Euler backward:\")\n",
    "list_errors_Euler_backward = errors_for_delta_t(Euler_backward_rod)\n",
    "print(\"Crank Nicolson:\")\n",
    "list_errors_Crank_nicolson = errors_for_delta_t(Crank_Nicolson_rod)\n",
    "print(\"DuFort-Frankel:\")\n",
    "list_errors_DuFort_Frankel = errors_for_delta_t(DuFort_Frankel_rod)"
   ],
   "metadata": {
    "collapsed": false,
    "ExecuteTime": {
     "end_time": "2024-01-06T18:18:37.816339300Z",
     "start_time": "2024-01-06T18:13:03.865712800Z"
    }
   }
  },
  {
   "cell_type": "code",
   "execution_count": 40,
   "outputs": [
    {
     "data": {
      "text/plain": "<matplotlib.legend.Legend at 0x17cb0361190>"
     },
     "execution_count": 40,
     "metadata": {},
     "output_type": "execute_result"
    },
    {
     "data": {
      "text/plain": "<Figure size 640x480 with 1 Axes>",
      "image/png": "[encoded data removed]"
     },
     "metadata": {},
     "output_type": "display_data"
    }
   ],
   "source": [
    "%matplotlib inline\n",
    "plt.plot(list_delta_t, list_errors_Euler_backward, label=\"Euler backward\")\n",
    "plt.plot(list_delta_t, list_errors_Crank_nicolson, label=\"Crank-Nicolson\")\n",
    "plt.plot(list_delta_t, list_errors_DuFort_Frankel, label=\"DuFort-Frankel\")\n",
    "plt.plot(list_delta_t, list_errors_FTCS, label=\"FTCS\")\n",
    "plt.title(\"Error at $t=100$\")\n",
    "plt.ylabel(\"$\\epsilon(100)$\")\n",
    "plt.xlabel(\"$\\Delta t$\")\n",
    "plt.legend()"
   ],
   "metadata": {
    "collapsed": false,
    "ExecuteTime": {
     "end_time": "2024-01-06T18:35:48.728268500Z",
     "start_time": "2024-01-06T18:35:48.598451100Z"
    }
   }
  },
  {
   "cell_type": "markdown",
   "source": [
    "The errors for the Crank-Nicolson- and the DuFort-Frankel algorithm are in general higher than that of the Euler backward and FTCS. "
   ],
   "metadata": {
    "collapsed": false
   }
  }
 ],
 "metadata": {
  "kernelspec": {
   "display_name": "Python 3",
   "language": "python",
   "name": "python3"
  },
  "language_info": {
   "codemirror_mode": {
    "name": "ipython",
    "version": 2
   },
   "file_extension": ".py",
   "mimetype": "text/x-python",
   "name": "python",
   "nbconvert_exporter": "python",
   "pygments_lexer": "ipython2",
   "version": "2.7.6"
  }
 },
 "nbformat": 4,
 "nbformat_minor": 0
}
