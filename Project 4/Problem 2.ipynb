{
 "cells": [
  {
   "cell_type": "code",
   "execution_count": 5,
   "metadata": {
    "collapsed": true,
    "ExecuteTime": {
     "end_time": "2023-12-27T18:29:22.248330700Z",
     "start_time": "2023-12-27T18:29:22.226536500Z"
    }
   },
   "outputs": [],
   "source": [
    "import numpy as np\n",
    "import matplotlib.pyplot as plt\n",
    "from tqdm import tqdm"
   ]
  },
  {
   "cell_type": "code",
   "execution_count": 4,
   "outputs": [],
   "source": [
    "L = 1\n",
    "K = 200\n",
    "C = 1000\n",
    "rho = 3000\n",
    "delta_x = 0.01\n",
    "delta_t = 0.1\n",
    "N_t = 10000\n",
    "l = K/(C*rho)\n",
    "a = l*delta_t/delta_x**2\n",
    "x = np.linspace(-L/2, L/2, int(L/delta_x))\n",
    "x = np.pad(x, (1, 1), 'constant', constant_values=0)\n",
    "T_0 = [np.sin(np.pi*x_i/L) for x_i in x]"
   ],
   "metadata": {
    "collapsed": false,
    "ExecuteTime": {
     "end_time": "2023-12-27T18:29:22.204222800Z",
     "start_time": "2023-12-27T18:29:22.196602800Z"
    }
   }
  },
  {
   "cell_type": "code",
   "execution_count": 6,
   "outputs": [
    {
     "name": "stderr",
     "output_type": "stream",
     "text": [
      "100%|██████████| 10000/10000 [00:00<00:00, 11494.82it/s]\n"
     ]
    }
   ],
   "source": [
    "T = [T_0]\n",
    "\n",
    "for t in tqdm(range(N_t)):\n",
    "    T_new = np.zeros(int(L/delta_x)+2)\n",
    "    T_old = T[-1]\n",
    "    for i in range(1, T_new.shape[0]-1):\n",
    "        T_new[i] = (1-2*a)*T_old[i]+a*(T_old[i-1]+T_old[i+1])\n",
    "    T.append(T_new)"
   ],
   "metadata": {
    "collapsed": false,
    "ExecuteTime": {
     "end_time": "2023-12-27T18:29:23.152251100Z",
     "start_time": "2023-12-27T18:29:22.252324600Z"
    }
   }
  },
  {
   "cell_type": "code",
   "execution_count": 18,
   "outputs": [
    {
     "name": "stderr",
     "output_type": "stream",
     "text": [
      "No artists with labels found to put in legend.  Note that artists whose label start with an underscore are ignored when legend() is called with no argument.\n"
     ]
    }
   ],
   "source": [
    "import matplotlib; matplotlib.use(\"TkAgg\")\n",
    "import matplotlib.animation as animation\n",
    "\n",
    "fig, ax = plt.subplots()\n",
    "\n",
    "line, = ax.plot(x, T_0)\n",
    "legend = plt.legend(title= \"Time step\")\n",
    "\n",
    "def animate(i):\n",
    "    line.set_ydata(T[i])\n",
    "    #legend.set_text(i)\n",
    "    return line,\n",
    "\n",
    "# Init only required for blitting to give a clean slate.\n",
    "def init():\n",
    "    line.set_ydata(np.ma.array(x, mask=True))\n",
    "    return line,\n",
    "\n",
    "ani = animation.FuncAnimation(fig=fig, func=animate, frames=N_t, init_func=init, interval=250, blit=True)\n",
    "\n",
    "plt.xlabel(\"x\")\n",
    "plt.ylabel(\"T\")\n",
    "plt.title(\"Temperature development in the rod\")\n",
    "plt.show()"
   ],
   "metadata": {
    "collapsed": false,
    "ExecuteTime": {
     "end_time": "2023-12-27T18:51:52.615268700Z",
     "start_time": "2023-12-27T18:51:13.781664Z"
    }
   }
  },
  {
   "cell_type": "code",
   "execution_count": null,
   "outputs": [],
   "source": [],
   "metadata": {
    "collapsed": false
   }
  }
 ],
 "metadata": {
  "kernelspec": {
   "display_name": "Python 3",
   "language": "python",
   "name": "python3"
  },
  "language_info": {
   "codemirror_mode": {
    "name": "ipython",
    "version": 2
   },
   "file_extension": ".py",
   "mimetype": "text/x-python",
   "name": "python",
   "nbconvert_exporter": "python",
   "pygments_lexer": "ipython2",
   "version": "2.7.6"
  }
 },
 "nbformat": 4,
 "nbformat_minor": 0
}
