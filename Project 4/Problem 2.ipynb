{
 "cells": [
  {
   "cell_type": "code",
   "execution_count": 1,
   "metadata": {
    "collapsed": true,
    "ExecuteTime": {
     "end_time": "2023-12-28T10:15:24.278490200Z",
     "start_time": "2023-12-28T10:15:22.369132800Z"
    }
   },
   "outputs": [],
   "source": [
    "import numpy as np\n",
    "import matplotlib.pyplot as plt\n",
    "from tqdm import tqdm"
   ]
  },
  {
   "cell_type": "code",
   "execution_count": 9,
   "outputs": [],
   "source": [
    "L = 1\n",
    "K = 200\n",
    "C = 1000\n",
    "rho = 3000\n",
    "l = K/(C*rho)\n",
    "N_t = 10000\n",
    "delta_x = 0.01\n",
    "x = np.linspace(-L/2, L/2, int(L/delta_x))\n",
    "x = np.pad(x, (1, 1), 'constant', constant_values=0)\n",
    "T_0 = [np.sin(np.pi*x_i/L) for x_i in x]"
   ],
   "metadata": {
    "collapsed": false,
    "ExecuteTime": {
     "end_time": "2023-12-28T10:34:28.939157900Z",
     "start_time": "2023-12-28T10:34:28.929465500Z"
    }
   }
  },
  {
   "cell_type": "code",
   "execution_count": 45,
   "outputs": [],
   "source": [
    "def FTCS_rod(delta_t = 0.1):\n",
    "    a = l*delta_t/delta_x**2\n",
    "    T = [T_0]\n",
    "    for t in range(N_t):\n",
    "        T_new = np.zeros(int(L/delta_x)+2)\n",
    "        T_old = T[-1]\n",
    "        for i in range(1, T_new.shape[0]-1):\n",
    "            T_new[i] = (1-2*a)*T_old[i]+a*(T_old[i-1]+T_old[i+1])\n",
    "        T.append(T_new)\n",
    "    return T\n",
    "\n",
    "T = FTCS_rod()"
   ],
   "metadata": {
    "collapsed": false,
    "ExecuteTime": {
     "end_time": "2023-12-28T12:11:31.085286400Z",
     "start_time": "2023-12-28T12:11:30.271708700Z"
    }
   }
  },
  {
   "cell_type": "code",
   "execution_count": 8,
   "outputs": [
    {
     "name": "stderr",
     "output_type": "stream",
     "text": [
      "No artists with labels found to put in legend.  Note that artists whose label start with an underscore are ignored when legend() is called with no argument.\n"
     ]
    }
   ],
   "source": [
    "import matplotlib; matplotlib.use(\"TkAgg\")\n",
    "import matplotlib.animation as animation\n",
    "\n",
    "fig, ax = plt.subplots()\n",
    "\n",
    "line, = ax.plot(x, T_0)\n",
    "legend = plt.legend()\n",
    "\n",
    "def animate(i):\n",
    "    line.set_ydata(T[i])\n",
    "    legend.set_title(\"Time step: {}\".format(i))\n",
    "    return line, legend\n",
    "\n",
    "# Init only required for blitting to give a clean slate.\n",
    "def init():\n",
    "    line.set_ydata(np.ma.array(x, mask=True))\n",
    "    return line,\n",
    "\n",
    "ani = animation.FuncAnimation(fig=fig, func=animate, frames=N_t, init_func=init, interval=25, blit=True)\n",
    "\n",
    "plt.xlabel(\"x\")\n",
    "plt.ylabel(\"T\")\n",
    "plt.title(\"Temperature development in the rod\")\n",
    "plt.show()"
   ],
   "metadata": {
    "collapsed": false,
    "ExecuteTime": {
     "end_time": "2023-12-28T10:18:44.406030900Z",
     "start_time": "2023-12-28T10:18:29.464056Z"
    }
   }
  },
  {
   "cell_type": "code",
   "execution_count": 23,
   "outputs": [],
   "source": [
    "def T_exact(t):\n",
    "    list_T_exact = np.zeros(len(x))\n",
    "    f2 = np.exp(-(K*t*np.pi**2)/(C*rho*L**2))\n",
    "    for i, x_i in enumerate(x):\n",
    "        f1 = np.sin(np.pi*x_i/L)\n",
    "        list_T_exact[i] = f1*f2\n",
    "    list_T_exact = np.array(list_T_exact)\n",
    "    return list_T_exact\n",
    "\n",
    "def error(T, t):\n",
    "    return np.sum(np.abs(T[t]-T_exact(t)))\n",
    "\n",
    "# Study the behaviour of ϵ(t = 100) varying ∆t between 0.001\n",
    "#and 0.7 while keeping ∆x fixed. What happens? Explain your finding."
   ],
   "metadata": {
    "collapsed": false,
    "ExecuteTime": {
     "end_time": "2023-12-28T10:58:49.087477200Z",
     "start_time": "2023-12-28T10:58:49.076281200Z"
    }
   }
  },
  {
   "cell_type": "code",
   "execution_count": 46,
   "outputs": [
    {
     "name": "stderr",
     "output_type": "stream",
     "text": [
      "100%|██████████| 100/100 [01:18<00:00,  1.27it/s]\n"
     ]
    }
   ],
   "source": [
    "list_delta_t = np.linspace(0.001,0.7, 100)\n",
    "def errors_for_delta_t(scheme):\n",
    "    list_errors = []\n",
    "    for dt in tqdm(list_delta_t):\n",
    "        T_dt = scheme(dt)\n",
    "        err = error(T_dt, 100)\n",
    "        list_errors.append(err)\n",
    "    return list_errors\n",
    "\n",
    "list_errors_FTCS = errors_for_delta_t(FTCS_rod)"
   ],
   "metadata": {
    "collapsed": false,
    "ExecuteTime": {
     "end_time": "2023-12-28T12:12:56.199922600Z",
     "start_time": "2023-12-28T12:11:37.385437400Z"
    }
   }
  },
  {
   "cell_type": "code",
   "execution_count": 33,
   "outputs": [
    {
     "data": {
      "text/plain": "Text(0.5, 0, '$\\\\Delta t$')"
     },
     "execution_count": 33,
     "metadata": {},
     "output_type": "execute_result"
    },
    {
     "data": {
      "text/plain": "<Figure size 640x480 with 1 Axes>",
      "image/png": "[encoded data removed]"
     },
     "metadata": {},
     "output_type": "display_data"
    }
   ],
   "source": [
    "%matplotlib inline\n",
    "plt.plot(list_delta_t, list_errors_FTCS)\n",
    "plt.title(\"Error at t=100\")\n",
    "plt.ylabel(\"Error\")\n",
    "plt.xlabel(\"$\\Delta t$\")"
   ],
   "metadata": {
    "collapsed": false,
    "ExecuteTime": {
     "end_time": "2023-12-28T11:12:10.262490300Z",
     "start_time": "2023-12-28T11:12:09.983691700Z"
    }
   }
  },
  {
   "cell_type": "code",
   "execution_count": 37,
   "outputs": [],
   "source": [
    "def Euler_backward_rod(delta_t = 0.1):\n",
    "    a = l*delta_t/delta_x**2\n",
    "    T = [T_0]\n",
    "    A = np.eye(len(x))\n",
    "    for i in range(A.shape[0]-1):\n",
    "        A[i+1, i] = -a\n",
    "        A[i, i+1] = -a\n",
    "    for i in range(1, A.shape[0]-1):\n",
    "        A[i,i] += 2*a\n",
    "    A_inv = np.linalg.inv(A)\n",
    "    for t in range(N_t):\n",
    "        T_old = T[-1]\n",
    "        T_new = np.matmul(A_inv, T_old)\n",
    "        T.append(T_new)\n",
    "    return T\n",
    "\n",
    "T_euler_backward = Euler_backward_rod()"
   ],
   "metadata": {
    "collapsed": false,
    "ExecuteTime": {
     "end_time": "2023-12-28T11:35:33.049882Z",
     "start_time": "2023-12-28T11:35:32.575968Z"
    }
   }
  },
  {
   "cell_type": "code",
   "execution_count": 39,
   "outputs": [],
   "source": [
    "def Crank_Nicolson_rod(delta_t = 0.1):\n",
    "    a = l*delta_t/delta_x**2\n",
    "    T = [T_0]\n",
    "    dim = len(x)\n",
    "    A = np.eye(dim)\n",
    "    B = np.eye(dim)\n",
    "    for i in range(1, dim-1):\n",
    "        A[i,i] += 2*a\n",
    "        B[i,i] -= 2*a\n",
    "        A[i, i-1] = -a\n",
    "        A[i, i+1] = -a\n",
    "        B[i, i-1] = a\n",
    "        B[i, i+1] = a\n",
    "    A_inv = np.linalg.inv(A)\n",
    "    for t in range(N_t):\n",
    "        T_old = T[-1]\n",
    "        T_new_p = np.matmul(B, T_old)\n",
    "        T_new = np.matmul(A_inv, T_new_p)\n",
    "        T.append(T_new)\n",
    "    return T\n",
    "\n",
    "T_Crank_Nicolson = Crank_Nicolson_rod()"
   ],
   "metadata": {
    "collapsed": false,
    "ExecuteTime": {
     "end_time": "2023-12-28T11:47:13.663322800Z",
     "start_time": "2023-12-28T11:47:12.531861500Z"
    }
   }
  },
  {
   "cell_type": "code",
   "execution_count": 42,
   "outputs": [],
   "source": [
    "def DuFort_Frankel_rod(delta_t = 0.1):\n",
    "    a = l*delta_t/delta_x**2\n",
    "    T = [T_0]\n",
    "    c = (1-a)/(1+a)\n",
    "    d = a/(1+a)\n",
    "    for t in range(N_t):\n",
    "        T_new = np.zeros(int(L/delta_x)+2)\n",
    "        T_old = T[-1]\n",
    "        T_before = T[-2] if t>1 else np.zeros(int(L/delta_x)+2)\n",
    "        for i in range(1, T_new.shape[0]-1):\n",
    "            T_new[i] = c*T_before[i] + d*(T_old[i-1]+T_old[i+1])\n",
    "        T.append(T_new)\n",
    "    return T\n",
    "\n",
    "T_DuFort_Frankel = DuFort_Frankel_rod()"
   ],
   "metadata": {
    "collapsed": false,
    "ExecuteTime": {
     "end_time": "2023-12-28T12:03:54.857000800Z",
     "start_time": "2023-12-28T12:03:54.255527300Z"
    }
   }
  },
  {
   "cell_type": "code",
   "execution_count": 47,
   "outputs": [
    {
     "name": "stderr",
     "output_type": "stream",
     "text": [
      " 29%|██▉       | 29/100 [00:10<00:24,  2.85it/s]C:\\Users\\corin\\AppData\\Local\\Temp\\ipykernel_8580\\803799785.py:13: RuntimeWarning: overflow encountered in matmul\n",
      "  T_new = np.matmul(A_inv, T_old)\n",
      "C:\\Users\\corin\\AppData\\Local\\Temp\\ipykernel_8580\\803799785.py:13: RuntimeWarning: invalid value encountered in matmul\n",
      "  T_new = np.matmul(A_inv, T_old)\n",
      "100%|██████████| 100/100 [00:34<00:00,  2.91it/s]\n",
      "100%|██████████| 100/100 [01:05<00:00,  1.52it/s]\n",
      "100%|██████████| 100/100 [01:03<00:00,  1.58it/s]\n"
     ]
    }
   ],
   "source": [
    "list_errors_Euler_backward = errors_for_delta_t(Euler_backward_rod)\n",
    "list_errors_Crank_nicolson = errors_for_delta_t(Crank_Nicolson_rod)\n",
    "list_errors_DuFort_Frankel = errors_for_delta_t(DuFort_Frankel_rod)"
   ],
   "metadata": {
    "collapsed": false,
    "ExecuteTime": {
     "end_time": "2023-12-28T12:16:33.295611700Z",
     "start_time": "2023-12-28T12:13:49.803989700Z"
    }
   }
  },
  {
   "cell_type": "code",
   "execution_count": 50,
   "outputs": [
    {
     "data": {
      "text/plain": "Text(0.5, 0, '$\\\\Delta t$')"
     },
     "execution_count": 50,
     "metadata": {},
     "output_type": "execute_result"
    },
    {
     "data": {
      "text/plain": "<Figure size 640x480 with 1 Axes>",
      "image/png": "[encoded data removed]"
     },
     "metadata": {},
     "output_type": "display_data"
    }
   ],
   "source": [
    "%matplotlib inline\n",
    "plt.plot(list_delta_t, list_errors_Euler_backward)\n",
    "plt.plot(list_delta_t, list_errors_Crank_nicolson)\n",
    "plt.plot(list_delta_t, list_errors_DuFort_Frankel)\n",
    "plt.title(\"Error at t=100\")\n",
    "plt.ylabel(\"Error\")\n",
    "plt.ylim(0.1)\n",
    "plt.xlabel(\"$\\Delta t$\")"
   ],
   "metadata": {
    "collapsed": false,
    "ExecuteTime": {
     "end_time": "2023-12-28T12:17:03.475706800Z",
     "start_time": "2023-12-28T12:17:03.299122200Z"
    }
   }
  },
  {
   "cell_type": "code",
   "execution_count": null,
   "outputs": [],
   "source": [],
   "metadata": {
    "collapsed": false
   }
  }
 ],
 "metadata": {
  "kernelspec": {
   "display_name": "Python 3",
   "language": "python",
   "name": "python3"
  },
  "language_info": {
   "codemirror_mode": {
    "name": "ipython",
    "version": 2
   },
   "file_extension": ".py",
   "mimetype": "text/x-python",
   "name": "python",
   "nbconvert_exporter": "python",
   "pygments_lexer": "ipython2",
   "version": "2.7.6"
  }
 },
 "nbformat": 4,
 "nbformat_minor": 0
}
