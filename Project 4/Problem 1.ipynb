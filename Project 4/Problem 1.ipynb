{
 "cells": [
  {
   "cell_type": "code",
   "execution_count": 123,
   "outputs": [
    {
     "name": "stderr",
     "output_type": "stream",
     "text": [
      "C:\\Users\\corin\\PycharmProjects\\Computational-physics\\venv\\Lib\\site-packages\\cupy\\_environment.py:216: UserWarning: CUDA path could not be detected. Set CUDA_PATH environment variable if CuPy fails to load.\n",
      "  warnings.warn(\n"
     ]
    },
    {
     "ename": "ImportError",
     "evalue": "\n================================================================\nFailed to import CuPy.\n\nIf you installed CuPy via wheels (cupy-cudaXXX or cupy-rocm-X-X), make sure that the package matches with the version of CUDA or ROCm installed.\n\nOn Linux, you may need to set LD_LIBRARY_PATH environment variable depending on how you installed CUDA/ROCm.\nOn Windows, try setting CUDA_PATH environment variable.\n\nCheck the Installation Guide for details:\n  https://docs.cupy.dev/en/latest/install.html\n\nCUDA Path: None\nDLL dependencies:\n  KERNEL32.dll -> C:\\Windows\\System32\\KERNEL32.DLL\n  MSVCP140.dll -> C:\\Users\\corin\\PycharmProjects\\Computational-physics\\venv\\Lib\\site-packages\\pyzmq.libs\\MSVCP140.dll\n  VCRUNTIME140.dll -> C:\\Users\\corin\\AppData\\Local\\Programs\\Python\\Python311\\VCRUNTIME140.dll\n  api-ms-win-crt-convert-l1-1-0.dll -> C:\\Windows\\System32\\ucrtbase.dll\n  api-ms-win-crt-environment-l1-1-0.dll -> C:\\Windows\\System32\\ucrtbase.dll\n  api-ms-win-crt-filesystem-l1-1-0.dll -> C:\\Windows\\System32\\ucrtbase.dll\n  api-ms-win-crt-heap-l1-1-0.dll -> C:\\Windows\\System32\\ucrtbase.dll\n  api-ms-win-crt-runtime-l1-1-0.dll -> C:\\Windows\\System32\\ucrtbase.dll\n  api-ms-win-crt-stdio-l1-1-0.dll -> C:\\Windows\\System32\\ucrtbase.dll\n  cuTENSOR.dll -> not found\n  cublas64_12.dll -> not found\n  cudart64_12.dll -> not found\n  cudnn64_8.dll -> not found\n  cufft64_11.dll -> not found\n  curand64_10.dll -> not found\n  cusolver64_11.dll -> not found\n  cusparse64_12.dll -> not found\n  nvcuda.dll -> C:\\Windows\\SYSTEM32\\nvcuda.dll\n  nvrtc64_120_0.dll -> not found\n  python311.dll -> C:\\Users\\corin\\AppData\\Local\\Programs\\Python\\Python311\\python311.dll\n\nOriginal error:\n  ImportError: DLL load failed while importing runtime: The specified module could not be found.\n================================================================\n",
     "output_type": "error",
     "traceback": [
      "\u001B[1;31m---------------------------------------------------------------------------\u001B[0m",
      "\u001B[1;31mImportError\u001B[0m                               Traceback (most recent call last)",
      "File \u001B[1;32m~\\PycharmProjects\\Computational-physics\\venv\\Lib\\site-packages\\cupy\\__init__.py:17\u001B[0m\n\u001B[0;32m     16\u001B[0m \u001B[38;5;28;01mtry\u001B[39;00m:\n\u001B[1;32m---> 17\u001B[0m     \u001B[38;5;28;01mfrom\u001B[39;00m \u001B[38;5;21;01mcupy\u001B[39;00m \u001B[38;5;28;01mimport\u001B[39;00m _core  \u001B[38;5;66;03m# NOQA\u001B[39;00m\n\u001B[0;32m     18\u001B[0m \u001B[38;5;28;01mexcept\u001B[39;00m \u001B[38;5;167;01mImportError\u001B[39;00m \u001B[38;5;28;01mas\u001B[39;00m exc:\n",
      "File \u001B[1;32m~\\PycharmProjects\\Computational-physics\\venv\\Lib\\site-packages\\cupy\\_core\\__init__.py:3\u001B[0m\n\u001B[0;32m      1\u001B[0m \u001B[38;5;66;03m# mypy: ignore-errors\u001B[39;00m\n\u001B[1;32m----> 3\u001B[0m \u001B[38;5;28;01mfrom\u001B[39;00m \u001B[38;5;21;01mcupy\u001B[39;00m\u001B[38;5;21;01m.\u001B[39;00m\u001B[38;5;21;01m_core\u001B[39;00m \u001B[38;5;28;01mimport\u001B[39;00m core  \u001B[38;5;66;03m# NOQA\u001B[39;00m\n\u001B[0;32m      4\u001B[0m \u001B[38;5;28;01mfrom\u001B[39;00m \u001B[38;5;21;01mcupy\u001B[39;00m\u001B[38;5;21;01m.\u001B[39;00m\u001B[38;5;21;01m_core\u001B[39;00m \u001B[38;5;28;01mimport\u001B[39;00m fusion  \u001B[38;5;66;03m# NOQA\u001B[39;00m\n",
      "File \u001B[1;32mcupy\\_core\\core.pyx:1\u001B[0m, in \u001B[0;36minit cupy._core.core\u001B[1;34m()\u001B[0m\n",
      "File \u001B[1;32m~\\PycharmProjects\\Computational-physics\\venv\\Lib\\site-packages\\cupy\\cuda\\__init__.py:8\u001B[0m\n\u001B[0;32m      7\u001B[0m \u001B[38;5;28;01mfrom\u001B[39;00m \u001B[38;5;21;01mcupy\u001B[39;00m\u001B[38;5;21;01m.\u001B[39;00m\u001B[38;5;21;01m_environment\u001B[39;00m \u001B[38;5;28;01mimport\u001B[39;00m get_hipcc_path  \u001B[38;5;66;03m# NOQA\u001B[39;00m\n\u001B[1;32m----> 8\u001B[0m \u001B[38;5;28;01mfrom\u001B[39;00m \u001B[38;5;21;01mcupy\u001B[39;00m\u001B[38;5;21;01m.\u001B[39;00m\u001B[38;5;21;01mcuda\u001B[39;00m \u001B[38;5;28;01mimport\u001B[39;00m compiler  \u001B[38;5;66;03m# NOQA\u001B[39;00m\n\u001B[0;32m      9\u001B[0m \u001B[38;5;28;01mfrom\u001B[39;00m \u001B[38;5;21;01mcupy\u001B[39;00m\u001B[38;5;21;01m.\u001B[39;00m\u001B[38;5;21;01mcuda\u001B[39;00m \u001B[38;5;28;01mimport\u001B[39;00m device  \u001B[38;5;66;03m# NOQA\u001B[39;00m\n",
      "File \u001B[1;32m~\\PycharmProjects\\Computational-physics\\venv\\Lib\\site-packages\\cupy\\cuda\\compiler.py:13\u001B[0m\n\u001B[0;32m     11\u001B[0m \u001B[38;5;28;01mimport\u001B[39;00m \u001B[38;5;21;01mwarnings\u001B[39;00m\n\u001B[1;32m---> 13\u001B[0m \u001B[38;5;28;01mfrom\u001B[39;00m \u001B[38;5;21;01mcupy\u001B[39;00m\u001B[38;5;21;01m.\u001B[39;00m\u001B[38;5;21;01mcuda\u001B[39;00m \u001B[38;5;28;01mimport\u001B[39;00m device\n\u001B[0;32m     14\u001B[0m \u001B[38;5;28;01mfrom\u001B[39;00m \u001B[38;5;21;01mcupy\u001B[39;00m\u001B[38;5;21;01m.\u001B[39;00m\u001B[38;5;21;01mcuda\u001B[39;00m \u001B[38;5;28;01mimport\u001B[39;00m function\n",
      "File \u001B[1;32mcupy\\cuda\\device.pyx:1\u001B[0m, in \u001B[0;36minit cupy.cuda.device\u001B[1;34m()\u001B[0m\n",
      "\u001B[1;31mImportError\u001B[0m: DLL load failed while importing runtime: The specified module could not be found.",
      "\nThe above exception was the direct cause of the following exception:\n",
      "\u001B[1;31mImportError\u001B[0m                               Traceback (most recent call last)",
      "Cell \u001B[1;32mIn[123], line 4\u001B[0m\n\u001B[0;32m      2\u001B[0m \u001B[38;5;28;01mimport\u001B[39;00m \u001B[38;5;21;01mmatplotlib\u001B[39;00m\u001B[38;5;21;01m.\u001B[39;00m\u001B[38;5;21;01mpyplot\u001B[39;00m \u001B[38;5;28;01mas\u001B[39;00m \u001B[38;5;21;01mplt\u001B[39;00m\n\u001B[0;32m      3\u001B[0m \u001B[38;5;28;01mfrom\u001B[39;00m \u001B[38;5;21;01mtqdm\u001B[39;00m \u001B[38;5;28;01mimport\u001B[39;00m tqdm\n\u001B[1;32m----> 4\u001B[0m \u001B[38;5;28;01mimport\u001B[39;00m \u001B[38;5;21;01mcupy\u001B[39;00m \u001B[38;5;28;01mas\u001B[39;00m \u001B[38;5;21;01mcp\u001B[39;00m\n",
      "File \u001B[1;32m~\\PycharmProjects\\Computational-physics\\venv\\Lib\\site-packages\\cupy\\__init__.py:19\u001B[0m\n\u001B[0;32m     17\u001B[0m     \u001B[38;5;28;01mfrom\u001B[39;00m \u001B[38;5;21;01mcupy\u001B[39;00m \u001B[38;5;28;01mimport\u001B[39;00m _core  \u001B[38;5;66;03m# NOQA\u001B[39;00m\n\u001B[0;32m     18\u001B[0m \u001B[38;5;28;01mexcept\u001B[39;00m \u001B[38;5;167;01mImportError\u001B[39;00m \u001B[38;5;28;01mas\u001B[39;00m exc:\n\u001B[1;32m---> 19\u001B[0m     \u001B[38;5;28;01mraise\u001B[39;00m \u001B[38;5;167;01mImportError\u001B[39;00m(\u001B[38;5;124mf\u001B[39m\u001B[38;5;124m'''\u001B[39m\n\u001B[0;32m     20\u001B[0m \u001B[38;5;124m================================================================\u001B[39m\n\u001B[0;32m     21\u001B[0m \u001B[38;5;132;01m{\u001B[39;00m_environment\u001B[38;5;241m.\u001B[39m_diagnose_import_error()\u001B[38;5;132;01m}\u001B[39;00m\n\u001B[0;32m     22\u001B[0m \n\u001B[0;32m     23\u001B[0m \u001B[38;5;124mOriginal error:\u001B[39m\n\u001B[0;32m     24\u001B[0m \u001B[38;5;124m  \u001B[39m\u001B[38;5;132;01m{\u001B[39;00m\u001B[38;5;28mtype\u001B[39m(exc)\u001B[38;5;241m.\u001B[39m\u001B[38;5;18m__name__\u001B[39m\u001B[38;5;132;01m}\u001B[39;00m\u001B[38;5;124m: \u001B[39m\u001B[38;5;132;01m{\u001B[39;00mexc\u001B[38;5;132;01m}\u001B[39;00m\n\u001B[0;32m     25\u001B[0m \u001B[38;5;124m================================================================\u001B[39m\n\u001B[0;32m     26\u001B[0m \u001B[38;5;124m'''\u001B[39m) \u001B[38;5;28;01mfrom\u001B[39;00m \u001B[38;5;21;01mexc\u001B[39;00m\n\u001B[0;32m     29\u001B[0m \u001B[38;5;28;01mfrom\u001B[39;00m \u001B[38;5;21;01mcupy\u001B[39;00m \u001B[38;5;28;01mimport\u001B[39;00m cuda  \u001B[38;5;66;03m# NOQA\u001B[39;00m\n\u001B[0;32m     30\u001B[0m \u001B[38;5;66;03m# Do not make `cupy.cupyx` available because it is confusing.\u001B[39;00m\n",
      "\u001B[1;31mImportError\u001B[0m: \n================================================================\nFailed to import CuPy.\n\nIf you installed CuPy via wheels (cupy-cudaXXX or cupy-rocm-X-X), make sure that the package matches with the version of CUDA or ROCm installed.\n\nOn Linux, you may need to set LD_LIBRARY_PATH environment variable depending on how you installed CUDA/ROCm.\nOn Windows, try setting CUDA_PATH environment variable.\n\nCheck the Installation Guide for details:\n  https://docs.cupy.dev/en/latest/install.html\n\nCUDA Path: None\nDLL dependencies:\n  KERNEL32.dll -> C:\\Windows\\System32\\KERNEL32.DLL\n  MSVCP140.dll -> C:\\Users\\corin\\PycharmProjects\\Computational-physics\\venv\\Lib\\site-packages\\pyzmq.libs\\MSVCP140.dll\n  VCRUNTIME140.dll -> C:\\Users\\corin\\AppData\\Local\\Programs\\Python\\Python311\\VCRUNTIME140.dll\n  api-ms-win-crt-convert-l1-1-0.dll -> C:\\Windows\\System32\\ucrtbase.dll\n  api-ms-win-crt-environment-l1-1-0.dll -> C:\\Windows\\System32\\ucrtbase.dll\n  api-ms-win-crt-filesystem-l1-1-0.dll -> C:\\Windows\\System32\\ucrtbase.dll\n  api-ms-win-crt-heap-l1-1-0.dll -> C:\\Windows\\System32\\ucrtbase.dll\n  api-ms-win-crt-runtime-l1-1-0.dll -> C:\\Windows\\System32\\ucrtbase.dll\n  api-ms-win-crt-stdio-l1-1-0.dll -> C:\\Windows\\System32\\ucrtbase.dll\n  cuTENSOR.dll -> not found\n  cublas64_12.dll -> not found\n  cudart64_12.dll -> not found\n  cudnn64_8.dll -> not found\n  cufft64_11.dll -> not found\n  curand64_10.dll -> not found\n  cusolver64_11.dll -> not found\n  cusparse64_12.dll -> not found\n  nvcuda.dll -> C:\\Windows\\SYSTEM32\\nvcuda.dll\n  nvrtc64_120_0.dll -> not found\n  python311.dll -> C:\\Users\\corin\\AppData\\Local\\Programs\\Python\\Python311\\python311.dll\n\nOriginal error:\n  ImportError: DLL load failed while importing runtime: The specified module could not be found.\n================================================================\n"
     ]
    }
   ],
   "source": [
    "import numpy as np\n",
    "import matplotlib.pyplot as plt\n",
    "from tqdm import tqdm\n",
    "import cupy as cp"
   ],
   "metadata": {
    "collapsed": false,
    "ExecuteTime": {
     "end_time": "2023-12-27T16:43:10.252024300Z",
     "start_time": "2023-12-27T16:43:09.605993100Z"
    }
   }
  },
  {
   "cell_type": "code",
   "execution_count": 116,
   "outputs": [],
   "source": [
    "L = 100"
   ],
   "metadata": {
    "collapsed": false,
    "ExecuteTime": {
     "end_time": "2023-12-27T16:14:55.027638300Z",
     "start_time": "2023-12-27T16:14:55.015655Z"
    }
   }
  },
  {
   "cell_type": "code",
   "execution_count": 121,
   "outputs": [
    {
     "ename": "NameError",
     "evalue": "name 'cp' is not defined",
     "output_type": "error",
     "traceback": [
      "\u001B[1;31m---------------------------------------------------------------------------\u001B[0m",
      "\u001B[1;31mNameError\u001B[0m                                 Traceback (most recent call last)",
      "Cell \u001B[1;32mIn[121], line 3\u001B[0m\n\u001B[0;32m      1\u001B[0m Mp \u001B[38;5;241m=\u001B[39m L\u001B[38;5;241m-\u001B[39m\u001B[38;5;241m2\u001B[39m\n\u001B[0;32m      2\u001B[0m dim_Ap \u001B[38;5;241m=\u001B[39m Mp\u001B[38;5;241m*\u001B[39m\u001B[38;5;241m*\u001B[39m\u001B[38;5;241m2\u001B[39m\n\u001B[1;32m----> 3\u001B[0m Ap \u001B[38;5;241m=\u001B[39m \u001B[43mcp\u001B[49m\u001B[38;5;241m.\u001B[39mzeros((dim_Ap, dim_Ap))\n\u001B[0;32m      4\u001B[0m \u001B[38;5;28;01mfor\u001B[39;00m i \u001B[38;5;129;01min\u001B[39;00m \u001B[38;5;28mrange\u001B[39m(dim_Ap):\n\u001B[0;32m      5\u001B[0m     Ap[i,i] \u001B[38;5;241m=\u001B[39m \u001B[38;5;241m-\u001B[39m\u001B[38;5;241m5\u001B[39m\n",
      "\u001B[1;31mNameError\u001B[0m: name 'cp' is not defined"
     ]
    }
   ],
   "source": [
    "Mp = L-2\n",
    "dim_Ap = Mp**2\n",
    "Ap = cp.zeros((dim_Ap, dim_Ap))\n",
    "for i in range(dim_Ap):\n",
    "    Ap[i,i] = -5\n",
    "    if i+1<dim_Ap:\n",
    "        Ap[i+1, i] = 1\n",
    "        Ap[i, i+1] = 1\n",
    "    if L-2+i < dim_Ap:\n",
    "        Ap[L-2+i, i] = 1\n",
    "        Ap[i, L-2+i] = 1\n",
    "for m in range(1,L-2):\n",
    "        Ap[m*Mp, m*Mp-1] = 0\n",
    "        Ap[m*Mp-1, m*Mp] = 0\n",
    "A = cp.pad(Ap, (L+1,0), \"constant\", constant_values=0)\n",
    "A = cp.pad(A, (0,L+1), \"constant\", constant_values=0)\n",
    "for n in tqdm(range(2,L-1)):\n",
    "    A = cp.insert(A, n*L-1, 0, axis=0)\n",
    "    A = cp.insert(A, n*L-1, 0, axis=0)\n",
    "    A = cp.insert(A, n*L-1, 0, axis=1)\n",
    "    A = cp.insert(A, n*L-1, 0, axis=1)\n",
    "\n",
    "A = A + np.eye(A.shape[0])\n",
    "print(A.shape)"
   ],
   "metadata": {
    "collapsed": false,
    "ExecuteTime": {
     "end_time": "2023-12-27T16:27:17.144959400Z",
     "start_time": "2023-12-27T16:27:17.049600100Z"
    }
   }
  },
  {
   "cell_type": "code",
   "execution_count": 118,
   "outputs": [],
   "source": [
    "dim_A = A.shape[0]\n",
    "b = np. zeros(dim_A)"
   ],
   "metadata": {
    "collapsed": false,
    "ExecuteTime": {
     "end_time": "2023-12-27T16:17:40.520351300Z",
     "start_time": "2023-12-27T16:17:40.496511100Z"
    }
   }
  },
  {
   "cell_type": "code",
   "execution_count": 119,
   "outputs": [
    {
     "name": "stdout",
     "output_type": "stream",
     "text": [
      "(10000,)\n"
     ]
    }
   ],
   "source": [
    "x_0 = np.ones(dim_A)\n",
    "for i in range(1,L):\n",
    "    x_0[i] = 1000\n",
    "print(x_0.shape)"
   ],
   "metadata": {
    "collapsed": false,
    "ExecuteTime": {
     "end_time": "2023-12-27T16:17:42.393924700Z",
     "start_time": "2023-12-27T16:17:42.380268800Z"
    }
   }
  },
  {
   "cell_type": "code",
   "execution_count": 120,
   "outputs": [
    {
     "name": "stderr",
     "output_type": "stream",
     "text": [
      "while loop:   0%|          | 0/0.001 [00:00<?, ?it/s]C:\\Users\\corin\\PycharmProjects\\Computational-physics\\venv\\Lib\\site-packages\\tqdm\\std.py:639: TqdmWarning: clamping frac to range [0, 1]\n",
      "  full_bar = Bar(frac,\n",
      "while loop: 21.471330421448865it [02:42, 16.33s/it]                     "
     ]
    },
    {
     "ename": "KeyboardInterrupt",
     "evalue": "",
     "output_type": "error",
     "traceback": [
      "\u001B[1;31m---------------------------------------------------------------------------\u001B[0m",
      "\u001B[1;31mKeyboardInterrupt\u001B[0m                         Traceback (most recent call last)",
      "Cell \u001B[1;32mIn[120], line 26\u001B[0m\n\u001B[0;32m     23\u001B[0m         pbar\u001B[38;5;241m.\u001B[39mupdate(np\u001B[38;5;241m.\u001B[39mmax(epsilon_mat))\n\u001B[0;32m     24\u001B[0m     \u001B[38;5;28;01mreturn\u001B[39;00m x, num_iterations, np\u001B[38;5;241m.\u001B[39mmax(epsilon_mat), np\u001B[38;5;241m.\u001B[39mmean(epsilon_mat)\n\u001B[1;32m---> 26\u001B[0m x_end_JR, num_iter_JR, err_max_JR, err_mean_JR \u001B[38;5;241m=\u001B[39m \u001B[43mJacobi_relaxation\u001B[49m\u001B[43m(\u001B[49m\u001B[43mA\u001B[49m\u001B[43m,\u001B[49m\u001B[43mb\u001B[49m\u001B[43m,\u001B[49m\u001B[43m \u001B[49m\u001B[43mx_0\u001B[49m\u001B[43m)\u001B[49m\n",
      "Cell \u001B[1;32mIn[120], line 19\u001B[0m, in \u001B[0;36mJacobi_relaxation\u001B[1;34m(A, b, x_0, epsilon_max)\u001B[0m\n\u001B[0;32m     17\u001B[0m pbar \u001B[38;5;241m=\u001B[39m tqdm(desc\u001B[38;5;241m=\u001B[39m\u001B[38;5;124m\"\u001B[39m\u001B[38;5;124mwhile loop\u001B[39m\u001B[38;5;124m\"\u001B[39m, total \u001B[38;5;241m=\u001B[39m epsilon_max)\n\u001B[0;32m     18\u001B[0m \u001B[38;5;28;01mwhile\u001B[39;00m np\u001B[38;5;241m.\u001B[39mmax(epsilon_mat) \u001B[38;5;241m>\u001B[39m epsilon_max:\n\u001B[1;32m---> 19\u001B[0m     x \u001B[38;5;241m=\u001B[39m \u001B[43mnp\u001B[49m\u001B[38;5;241;43m.\u001B[39;49m\u001B[43mmatmul\u001B[49m\u001B[43m(\u001B[49m\u001B[43mD_inv\u001B[49m\u001B[43m,\u001B[49m\u001B[43mb\u001B[49m\u001B[43m)\u001B[49m \u001B[38;5;241m+\u001B[39m np\u001B[38;5;241m.\u001B[39mmatmul(J,x)\n\u001B[0;32m     20\u001B[0m     \u001B[38;5;28;01mfor\u001B[39;00m r \u001B[38;5;129;01min\u001B[39;00m \u001B[38;5;28mrange\u001B[39m((l\u001B[38;5;241m-\u001B[39m\u001B[38;5;241m2\u001B[39m)\u001B[38;5;241m*\u001B[39m\u001B[38;5;241m*\u001B[39m\u001B[38;5;241m2\u001B[39m):\n\u001B[0;32m     21\u001B[0m         epsilon_mat[r] \u001B[38;5;241m=\u001B[39m np\u001B[38;5;241m.\u001B[39mabs(x[r\u001B[38;5;241m+\u001B[39ml]\u001B[38;5;241m-\u001B[39m\u001B[38;5;241m0.25\u001B[39m\u001B[38;5;241m*\u001B[39m(x[r\u001B[38;5;241m+\u001B[39m\u001B[38;5;241m2\u001B[39m\u001B[38;5;241m*\u001B[39ml]\u001B[38;5;241m+\u001B[39mx[r]\u001B[38;5;241m+\u001B[39mx[r\u001B[38;5;241m+\u001B[39m\u001B[38;5;241m1\u001B[39m\u001B[38;5;241m+\u001B[39ml]\u001B[38;5;241m+\u001B[39mx[r\u001B[38;5;241m-\u001B[39m\u001B[38;5;241m1\u001B[39m\u001B[38;5;241m+\u001B[39ml]))\n",
      "\u001B[1;31mKeyboardInterrupt\u001B[0m: "
     ]
    }
   ],
   "source": [
    "def Jacobi_relaxation(A, b, x_0, epsilon_max = 0.001):\n",
    "    \"\"\"\n",
    "\n",
    "    :param A: 2D Array of shape (n,n)\n",
    "    :param b:\n",
    "    :param x_0:\n",
    "    :param epsilon_max:\n",
    "    :return: x, num_iterations, np.max(epsilon_mat), np.mean(epsilon_mat)\n",
    "    \"\"\"\n",
    "    x = x_0\n",
    "    l = int(np.sqrt(A.shape[0]))\n",
    "    D = np.diag(np.diag(A))\n",
    "    D_inv = np.linalg.inv(D)\n",
    "    J = np.matmul(D_inv, D-A)\n",
    "    epsilon_mat = np.ones((l-2)**2)\n",
    "    num_iterations = 0\n",
    "    pbar = tqdm(desc=\"while loop\", total = epsilon_max)\n",
    "    while np.max(epsilon_mat) > epsilon_max:\n",
    "        x = np.matmul(D_inv,b) + np.matmul(J,x)\n",
    "        for r in range((l-2)**2):\n",
    "            epsilon_mat[r] = np.abs(x[r+l]-0.25*(x[r+2*l]+x[r]+x[r+1+l]+x[r-1+l]))\n",
    "        num_iterations += 1\n",
    "        pbar.update(np.max(epsilon_mat))\n",
    "    return x, num_iterations, np.max(epsilon_mat), np.mean(epsilon_mat)\n",
    "\n",
    "x_end_JR, num_iter_JR, err_max_JR, err_mean_JR = Jacobi_relaxation(A,b, x_0)"
   ],
   "metadata": {
    "collapsed": false,
    "ExecuteTime": {
     "end_time": "2023-12-27T16:21:19.754247600Z",
     "start_time": "2023-12-27T16:17:54.074410Z"
    }
   }
  },
  {
   "cell_type": "code",
   "execution_count": 109,
   "outputs": [
    {
     "ename": "ValueError",
     "evalue": "cannot reshape array of size 9810 into shape (99,99)",
     "output_type": "error",
     "traceback": [
      "\u001B[1;31m---------------------------------------------------------------------------\u001B[0m",
      "\u001B[1;31mValueError\u001B[0m                                Traceback (most recent call last)",
      "Cell \u001B[1;32mIn[109], line 1\u001B[0m\n\u001B[1;32m----> 1\u001B[0m x_end_JR \u001B[38;5;241m=\u001B[39m \u001B[43mx_end_JR\u001B[49m\u001B[38;5;241;43m.\u001B[39;49m\u001B[43mreshape\u001B[49m\u001B[43m(\u001B[49m\u001B[43mL\u001B[49m\u001B[38;5;241;43m-\u001B[39;49m\u001B[38;5;241;43m1\u001B[39;49m\u001B[43m,\u001B[49m\u001B[43mL\u001B[49m\u001B[38;5;241;43m-\u001B[39;49m\u001B[38;5;241;43m1\u001B[39;49m\u001B[43m)\u001B[49m\n",
      "\u001B[1;31mValueError\u001B[0m: cannot reshape array of size 9810 into shape (99,99)"
     ]
    }
   ],
   "source": [
    "x_end_JR = x_end_JR.reshape(L,L)"
   ],
   "metadata": {
    "collapsed": false,
    "ExecuteTime": {
     "end_time": "2023-12-27T16:08:18.322397400Z",
     "start_time": "2023-12-27T16:08:18.291780800Z"
    }
   }
  },
  {
   "cell_type": "code",
   "execution_count": null,
   "outputs": [],
   "source": [
    "def Gauss_Seidel_relaxation(A, b, x_0, epsilon_max = 0.001):\n",
    "    x = x_0\n",
    "    l = int(np.sqrt(A.shape[0]))\n",
    "    D = np.diag(np.diag(A))\n",
    "    L = np.tril(A, -1)\n",
    "    R = np.triu(A, 1)\n",
    "    DL_inv = np.linalg.inv(D+L)\n",
    "    J = np.matmul(DL_inv, R)\n",
    "    epsilon_mat = np.ones((l-2)**2)\n",
    "    num_iterations = 0\n",
    "    while np.max(epsilon_mat) > epsilon_max:\n",
    "        x = np.matmul(DL_inv,b) + np.matmul(J,x)\n",
    "        for r in range((l-2)**2):\n",
    "            epsilon_mat[r] = np.abs(x[r+l]-0.25*(x[r+2*l]+x[r]+x[r+1+l]+x[r-1+l]))\n",
    "        num_iterations += 1\n",
    "    return x, num_iterations, np.max(epsilon_mat), np.mean(epsilon_mat)\n",
    "\n",
    "x_end_GSR, num_iter_GSR, err_max_GSR, err_mean_GSR = Gauss_Seidel_relaxation(A,b, x_0)"
   ],
   "metadata": {
    "collapsed": false
   }
  },
  {
   "cell_type": "code",
   "execution_count": null,
   "outputs": [],
   "source": [
    "def SO_relaxation(A, b, x_0, epsilon_max = 0.001, w=1):\n",
    "    x = x_0\n",
    "    l = int(np.sqrt(A.shape[0]))\n",
    "    D = np.diag(np.diag(A))\n",
    "    L = np.tril(A, -1)\n",
    "    R = np.triu(A, 1)\n",
    "    DL_inv = np.linalg.inv(D+L)\n",
    "    J = np.matmul(DL_inv, R)\n",
    "    epsilon_mat = np.ones((l-2)**2)\n",
    "    num_iterations = 0\n",
    "    while np.max(epsilon_mat) > epsilon_max:\n",
    "        x_GSR = np.matmul(DL_inv,b) + np.matmul(J,x)\n",
    "        x = w*x_GSR+(1-w)*x\n",
    "        for r in range((l-2)**2):\n",
    "            epsilon_mat[r] = np.abs(x[r+l]-0.25*(x[r+2*l]+x[r]+x[r+1+l]+x[r-1+l]))\n",
    "        num_iterations += 1\n",
    "    return x, num_iterations, np.max(epsilon_mat), np.mean(epsilon_mat)\n",
    "\n",
    "x_end_SOR_05, num_iter_SOR_05, err_max_SOR_05, err_mean_SOR_05 = SO_relaxation(A,b, x_0, 0.5)\n",
    "x_end_SOR_1, num_iter_SOR_1, err_max_SOR_1, err_mean_SOR_1 = SO_relaxation(A,b, x_0, 1)\n",
    "x_end_SOR_125, num_iter_SOR_125, err_max_SOR_125, err_mean_SOR_125 = SO_relaxation(A,b, x_0, 1.25)\n",
    "x_end_SOR_15, num_iter_SOR_15, err_max_SOR_15, err_mean_SOR_15 = SO_relaxation(A,b, x_0, 1.5)\n",
    "x_end_SOR_175, num_iter_SOR_175, err_max_SOR_175, err_mean_SOR_175 = SO_relaxation(A,b, x_0, 1.75)\n",
    "x_end_SOR_199, num_iter_SOR_199, err_max_SOR_199, err_mean_SOR_199 = SO_relaxation(A,b, x_0, 1.99)"
   ],
   "metadata": {
    "collapsed": false
   }
  },
  {
   "cell_type": "code",
   "execution_count": null,
   "outputs": [],
   "source": [
    "x_end_SOR_3, num_iter_SOR_3, err_max_SOR_3, err_mean_SOR_3 = SO_relaxation(A,b, x_0, 3)"
   ],
   "metadata": {
    "collapsed": false
   }
  },
  {
   "cell_type": "code",
   "execution_count": null,
   "outputs": [],
   "source": [
    "plt.plot(num_iter_JR, err_max_JR, \"mo\", label = \"JR max error\")\n",
    "plt.plot(num_iter_GSR, err_max_GSR, \"ro\", label= \"GSR max error\")\n",
    "plt.plot(num_iter_SOR_3, err_max_SOR_3, \"ro\", label = \"SOR (w=3) max error\")\n",
    "plt.plot(num_iter_SOR_199, err_max_SOR_199, \"ro\", label = \"SOR (w=1.99) max error\")\n",
    "plt.plot(num_iter_SOR_175,err_max_SOR_175, \"ro\", label = \"SOR (w=1.75) max error\")\n",
    "plt.plot(num_iter_SOR_15, err_max_SOR_15, \"ro\", label = \"SOR (w=1.5) max error\")\n",
    "plt.plot(num_iter_SOR_05, err_max_SOR_05, \"ro\", label = \"SOR (w=0.5) max error\")\n",
    "plt.plot(num_iter_SOR_1, err_max_SOR_1, \"ro\", label = \"SOR (w=1) max error\")\n",
    "\n",
    "plt.plot(num_iter_JR, err_mean_JR, \"yo\", label= \"JR mean error\")\n",
    "plt.plot(num_iter_GSR, err_mean_GSR, \"bo\", label = \"GSR mean error\")\n",
    "plt.plot(num_iter_SOR_3, err_mean_SOR_3, \"yo\", label = \"SOR (w=3) mean error\")\n",
    "plt.plot(num_iter_SOR_199, err_mean_SOR_199, \"yo\", label = \"SOR (w=1.99) mean error\")\n",
    "plt.plot(num_iter_SOR_175,err_mean_SOR_175, \"yo\", label = \"SOR (w=1.75) mean error\")\n",
    "plt.plot(num_iter_SOR_15, err_mean_SOR_15, \"yo\", label = \"SOR (w=1.5) mean error\")\n",
    "plt.plot(num_iter_SOR_05, err_mean_SOR_05, \"yo\", label = \"SOR (w=0.5) mean error\")\n",
    "plt.plot(num_iter_SOR_1, err_mean_SOR_1, \"yo\", label = \"SOR (w=1) mean error\")\n",
    "\n",
    "plt.title(\"Errors of the Relaxation methods over number of iterations\")\n",
    "plt.ylabel(\"Errors\")\n",
    "plt.xlabel(\"number of iterations\")\n",
    "plt.legend()"
   ],
   "metadata": {
    "collapsed": false
   }
  },
  {
   "cell_type": "code",
   "execution_count": null,
   "outputs": [],
   "source": [],
   "metadata": {
    "collapsed": false
   }
  }
 ],
 "metadata": {
  "kernelspec": {
   "display_name": "Python 3",
   "language": "python",
   "name": "python3"
  },
  "language_info": {
   "codemirror_mode": {
    "name": "ipython",
    "version": 2
   },
   "file_extension": ".py",
   "mimetype": "text/x-python",
   "name": "python",
   "nbconvert_exporter": "python",
   "pygments_lexer": "ipython2",
   "version": "2.7.6"
  }
 },
 "nbformat": 4,
 "nbformat_minor": 0
}
