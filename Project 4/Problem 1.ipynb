{
 "cells": [
  {
   "cell_type": "code",
   "execution_count": 97,
   "outputs": [],
   "source": [
    "import numpy as np\n",
    "import matplotlib.pyplot as plt"
   ],
   "metadata": {
    "collapsed": false,
    "ExecuteTime": {
     "end_time": "2023-12-27T14:37:10.561648200Z",
     "start_time": "2023-12-27T14:37:10.546026500Z"
    }
   }
  },
  {
   "cell_type": "code",
   "execution_count": 98,
   "outputs": [],
   "source": [
    "L = 100"
   ],
   "metadata": {
    "collapsed": false,
    "ExecuteTime": {
     "end_time": "2023-12-27T14:37:10.590441900Z",
     "start_time": "2023-12-27T14:37:10.550021200Z"
    }
   }
  },
  {
   "cell_type": "code",
   "execution_count": 99,
   "outputs": [
    {
     "name": "stdout",
     "output_type": "stream",
     "text": [
      "[[1. 0. 0. ... 0. 0. 0.]\n",
      " [0. 1. 0. ... 0. 0. 0.]\n",
      " [0. 0. 1. ... 0. 0. 0.]\n",
      " ...\n",
      " [0. 0. 0. ... 1. 0. 0.]\n",
      " [0. 0. 0. ... 0. 1. 0.]\n",
      " [0. 0. 0. ... 0. 0. 1.]]\n"
     ]
    }
   ],
   "source": [
    "Mp = L-2\n",
    "dim_Ap = Mp**2\n",
    "Ap = np.zeros((dim_Ap, dim_Ap))\n",
    "for i in range(dim_Ap):\n",
    "    Ap[i,i] = -5\n",
    "    if i+1<dim_Ap:\n",
    "        Ap[i+1, i] = 1\n",
    "        Ap[i, i+1] = 1\n",
    "    if L-2+i < dim_Ap:\n",
    "        Ap[L-2+i, i] = 1\n",
    "        Ap[i, L-2+i] = 1\n",
    "for m in range(1,L-2):\n",
    "        Ap[m*Mp, m*Mp-1] = 0\n",
    "        Ap[m*Mp-1, m*Mp] = 0\n",
    "A = np.pad(Ap, (L+1,0), \"constant\", constant_values=0)\n",
    "A = np.pad(A, (0,L+1), \"constant\", constant_values=0)\n",
    "A = np.insert(A, 2*L-1, 0, axis=0)\n",
    "A = np.insert(A, 2*L-1, 0, axis=0)\n",
    "A = np.insert(A, 3*L-1, 0, axis=0)\n",
    "A = np.insert(A, 3*L-1, 0, axis=0)\n",
    "A = np.insert(A, 2*L-1, 0, axis=1)\n",
    "A = np.insert(A, 2*L-1, 0, axis=1)\n",
    "A = np.insert(A, 3*L-1, 0, axis=1)\n",
    "A = np.insert(A, 3*L-1, 0, axis=1)\n",
    "A = A + np.eye(A.shape[0])\n",
    "print(A.shape)"
   ],
   "metadata": {
    "collapsed": false,
    "ExecuteTime": {
     "end_time": "2023-12-27T14:37:17.591432600Z",
     "start_time": "2023-12-27T14:37:10.561648200Z"
    }
   }
  },
  {
   "cell_type": "code",
   "execution_count": 100,
   "outputs": [],
   "source": [
    "dim_A = A.shape[0]\n",
    "b = np. zeros(dim_A)"
   ],
   "metadata": {
    "collapsed": false,
    "ExecuteTime": {
     "end_time": "2023-12-27T14:37:17.646615300Z",
     "start_time": "2023-12-27T14:37:17.601404700Z"
    }
   }
  },
  {
   "cell_type": "code",
   "execution_count": 101,
   "outputs": [
    {
     "name": "stdout",
     "output_type": "stream",
     "text": [
      "[1000. 1000. 1000. ...    1.    1.    1.]\n"
     ]
    }
   ],
   "source": [
    "x_0 = np.ones(dim_A)\n",
    "for i in range(L):\n",
    "    x_0[i] = 1000\n",
    "print(x_0)"
   ],
   "metadata": {
    "collapsed": false,
    "ExecuteTime": {
     "end_time": "2023-12-27T14:37:17.657586600Z",
     "start_time": "2023-12-27T14:37:17.619862300Z"
    }
   }
  },
  {
   "cell_type": "code",
   "execution_count": null,
   "outputs": [],
   "source": [
    "def Jacobi_relaxation(A, b, x_0, epsilon_max = 0.001):\n",
    "    \"\"\"\n",
    "\n",
    "    :param A: 2D Array of shape (n,n)\n",
    "    :param b:\n",
    "    :param x_0:\n",
    "    :param epsilon_max:\n",
    "    :return: x, num_iterations, np.max(epsilon_mat), np.mean(epsilon_mat)\n",
    "    \"\"\"\n",
    "    x = x_0\n",
    "    l = int(np.sqrt(A.shape[0]))\n",
    "    D = np.diag(np.diag(A))\n",
    "    D_inv = np.linalg.inv(D)\n",
    "    J = np.matmul(D_inv, D-A)\n",
    "    epsilon_mat = np.ones((l-2)**2)\n",
    "    num_iterations = 0\n",
    "    while np.max(epsilon_mat) > epsilon_max:\n",
    "        x = np.matmul(D_inv,b) + np.matmul(J,x)\n",
    "        for r in range((l-2)**2):\n",
    "            epsilon_mat[r] = np.abs(x[r+l]-0.25*(x[r+2*l]+x[r]+x[r+1+l]+x[r-1+l]))\n",
    "        num_iterations += 1\n",
    "    return x, num_iterations, np.max(epsilon_mat), np.mean(epsilon_mat)\n",
    "\n",
    "x_end_JR, num_iter_JR, err_max_JR, err_mean_JR = Jacobi_relaxation(A,b, x_0)"
   ],
   "metadata": {
    "collapsed": false,
    "is_executing": true,
    "ExecuteTime": {
     "start_time": "2023-12-27T14:37:17.633650300Z"
    }
   }
  },
  {
   "cell_type": "code",
   "execution_count": null,
   "outputs": [],
   "source": [
    "def Gauss_Seidel_relaxation(A, b, x_0, epsilon_max = 0.001):\n",
    "    x = x_0\n",
    "    l = int(np.sqrt(A.shape[0]))\n",
    "    D = np.diag(np.diag(A))\n",
    "    L = np.tril(A, -1)\n",
    "    R = np.triu(A, 1)\n",
    "    DL_inv = np.linalg.inv(D+L)\n",
    "    J = np.matmul(DL_inv, R)\n",
    "    epsilon_mat = np.ones((l-2)**2)\n",
    "    num_iterations = 0\n",
    "    while np.max(epsilon_mat) > epsilon_max:\n",
    "        x = np.matmul(DL_inv,b) + np.matmul(J,x)\n",
    "        for r in range((l-2)**2):\n",
    "            epsilon_mat[r] = np.abs(x[r+l]-0.25*(x[r+2*l]+x[r]+x[r+1+l]+x[r-1+l]))\n",
    "        num_iterations += 1\n",
    "    return x, num_iterations, np.max(epsilon_mat), np.mean(epsilon_mat)\n",
    "\n",
    "x_end_GSR, num_iter_GSR, err_max_GSR, err_mean_GSR = Gauss_Seidel_relaxation(A,b, x_0)"
   ],
   "metadata": {
    "collapsed": false,
    "is_executing": true
   }
  },
  {
   "cell_type": "code",
   "execution_count": null,
   "outputs": [],
   "source": [
    "def SO_relaxation(A, b, x_0, epsilon_max = 0.001, w=1):\n",
    "    x = x_0\n",
    "    l = int(np.sqrt(A.shape[0]))\n",
    "    D = np.diag(np.diag(A))\n",
    "    L = np.tril(A, -1)\n",
    "    R = np.triu(A, 1)\n",
    "    DL_inv = np.linalg.inv(D+L)\n",
    "    J = np.matmul(DL_inv, R)\n",
    "    epsilon_mat = np.ones((l-2)**2)\n",
    "    num_iterations = 0\n",
    "    while np.max(epsilon_mat) > epsilon_max:\n",
    "        x_GSR = np.matmul(DL_inv,b) + np.matmul(J,x)\n",
    "        x = w*x_GSR+(1-w)*x\n",
    "        for r in range((l-2)**2):\n",
    "            epsilon_mat[r] = np.abs(x[r+l]-0.25*(x[r+2*l]+x[r]+x[r+1+l]+x[r-1+l]))\n",
    "        num_iterations += 1\n",
    "    return x, num_iterations, np.max(epsilon_mat), np.mean(epsilon_mat)\n",
    "\n",
    "x_end_SOR_05, num_iter_SOR_05, err_max_SOR_05, err_mean_SOR_05 = SO_relaxation(A,b, x_0, 0.5)\n",
    "x_end_SOR_1, num_iter_SOR_1, err_max_SOR_1, err_mean_SOR_1 = SO_relaxation(A,b, x_0, 1)\n",
    "x_end_SOR_125, num_iter_SOR_125, err_max_SOR_125, err_mean_SOR_125 = SO_relaxation(A,b, x_0, 1.25)\n",
    "x_end_SOR_15, num_iter_SOR_15, err_max_SOR_15, err_mean_SOR_15 = SO_relaxation(A,b, x_0, 1.5)\n",
    "x_end_SOR_175, num_iter_SOR_175, err_max_SOR_175, err_mean_SOR_175 = SO_relaxation(A,b, x_0, 1.75)\n",
    "x_end_SOR_199, num_iter_SOR_199, err_max_SOR_199, err_mean_SOR_199 = SO_relaxation(A,b, x_0, 1.99)"
   ],
   "metadata": {
    "collapsed": false,
    "is_executing": true
   }
  },
  {
   "cell_type": "code",
   "execution_count": null,
   "outputs": [],
   "source": [
    "x_end_SOR_3, num_iter_SOR_3, err_max_SOR_3, err_mean_SOR_3 = SO_relaxation(A,b, x_0, 3)"
   ],
   "metadata": {
    "collapsed": false,
    "is_executing": true
   }
  },
  {
   "cell_type": "code",
   "execution_count": null,
   "outputs": [],
   "source": [
    "plt.plot(num_iter_JR, err_max_JR, \"mo\", label = \"JR max error\")\n",
    "plt.plot(num_iter_GSR, err_max_GSR, \"ro\", label= \"GSR max error\")\n",
    "plt.plot(num_iter_SOR_3, err_max_SOR_3, \"ro\", label = \"SOR (w=3) max error\")\n",
    "plt.plot(num_iter_SOR_199, err_max_SOR_199, \"ro\", label = \"SOR (w=1.99) max error\")\n",
    "plt.plot(num_iter_SOR_175,err_max_SOR_175, \"ro\", label = \"SOR (w=1.75) max error\")\n",
    "plt.plot(num_iter_SOR_15, err_max_SOR_15, \"ro\", label = \"SOR (w=1.5) max error\")\n",
    "plt.plot(num_iter_SOR_05, err_max_SOR_05, \"ro\", label = \"SOR (w=0.5) max error\")\n",
    "plt.plot(num_iter_SOR_1, err_max_SOR_1, \"ro\", label = \"SOR (w=1) max error\")\n",
    "\n",
    "plt.plot(num_iter_JR, err_mean_JR, \"yo\", label= \"JR mean error\")\n",
    "plt.plot(num_iter_GSR, err_mean_GSR, \"bo\", label = \"GSR mean error\")\n",
    "plt.plot(num_iter_SOR_3, err_mean_SOR_3, \"yo\", label = \"SOR (w=3) mean error\")\n",
    "plt.plot(num_iter_SOR_199, err_mean_SOR_199, \"yo\", label = \"SOR (w=1.99) mean error\")\n",
    "plt.plot(num_iter_SOR_175,err_mean_SOR_175, \"yo\", label = \"SOR (w=1.75) mean error\")\n",
    "plt.plot(num_iter_SOR_15, err_mean_SOR_15, \"yo\", label = \"SOR (w=1.5) mean error\")\n",
    "plt.plot(num_iter_SOR_05, err_mean_SOR_05, \"yo\", label = \"SOR (w=0.5) mean error\")\n",
    "plt.plot(num_iter_SOR_1, err_mean_SOR_1, \"yo\", label = \"SOR (w=1) mean error\")\n",
    "\n",
    "plt.title(\"Errors of the Relaxation methods over number of iterations\")\n",
    "plt.ylabel(\"Errors\")\n",
    "plt.xlabel(\"number of iterations\")\n",
    "plt.legend()"
   ],
   "metadata": {
    "collapsed": false,
    "is_executing": true
   }
  },
  {
   "cell_type": "code",
   "execution_count": null,
   "outputs": [],
   "source": [],
   "metadata": {
    "collapsed": false,
    "is_executing": true
   }
  }
 ],
 "metadata": {
  "kernelspec": {
   "display_name": "Python 3",
   "language": "python",
   "name": "python3"
  },
  "language_info": {
   "codemirror_mode": {
    "name": "ipython",
    "version": 2
   },
   "file_extension": ".py",
   "mimetype": "text/x-python",
   "name": "python",
   "nbconvert_exporter": "python",
   "pygments_lexer": "ipython2",
   "version": "2.7.6"
  }
 },
 "nbformat": 4,
 "nbformat_minor": 0
}
