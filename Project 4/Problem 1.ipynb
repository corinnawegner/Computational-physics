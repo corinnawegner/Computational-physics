{
 "cells": [
  {
   "cell_type": "code",
   "execution_count": 42,
   "outputs": [],
   "source": [
    "import numpy as np"
   ],
   "metadata": {
    "collapsed": false,
    "ExecuteTime": {
     "end_time": "2023-12-26T13:37:18.666336200Z",
     "start_time": "2023-12-26T13:37:18.653427700Z"
    }
   }
  },
  {
   "cell_type": "code",
   "execution_count": 43,
   "outputs": [],
   "source": [
    "L = 5\n",
    "delta_x = L/10"
   ],
   "metadata": {
    "collapsed": false,
    "ExecuteTime": {
     "end_time": "2023-12-26T13:37:18.696576600Z",
     "start_time": "2023-12-26T13:37:18.667334Z"
    }
   }
  },
  {
   "cell_type": "code",
   "execution_count": 44,
   "outputs": [
    {
     "name": "stdout",
     "output_type": "stream",
     "text": [
      "[[-4.  1.  0.  1.  0.  0.  0.  0.  0.]\n",
      " [ 1. -4.  1.  0.  1.  0.  0.  0.  0.]\n",
      " [ 0.  1. -4.  0.  0.  1.  0.  0.  0.]\n",
      " [ 1.  0.  0. -4.  1.  0.  1.  0.  0.]\n",
      " [ 0.  1.  0.  1. -4.  1.  0.  1.  0.]\n",
      " [ 0.  0.  1.  0.  1. -4.  0.  0.  1.]\n",
      " [ 0.  0.  0.  1.  0.  0. -4.  1.  0.]\n",
      " [ 0.  0.  0.  0.  1.  0.  1. -4.  1.]\n",
      " [ 0.  0.  0.  0.  0.  1.  0.  1. -4.]]\n"
     ]
    }
   ],
   "source": [
    "M = L-2\n",
    "dim_A = M**2\n",
    "A = np.zeros((dim_A, dim_A))\n",
    "for i in range(dim_A):\n",
    "    A[i,i] = -4\n",
    "    if i+1<dim_A:\n",
    "        A[i+1, i] = 1\n",
    "        A[i, i+1] = 1\n",
    "    if L-2+i < dim_A:\n",
    "        A[L-2+i, i] = 1\n",
    "        A[i, L-2+i] = 1\n",
    "for m in range(1,L-2):\n",
    "        A[m*M, m*M-1] = 0\n",
    "        A[m*M-1, m*M] = 0\n",
    "print(A)"
   ],
   "metadata": {
    "collapsed": false,
    "ExecuteTime": {
     "end_time": "2023-12-26T13:37:18.708715600Z",
     "start_time": "2023-12-26T13:37:18.676074500Z"
    }
   }
  },
  {
   "cell_type": "code",
   "execution_count": 45,
   "outputs": [],
   "source": [
    "b = np. zeros(dim_A)"
   ],
   "metadata": {
    "collapsed": false,
    "ExecuteTime": {
     "end_time": "2023-12-26T13:37:18.711707Z",
     "start_time": "2023-12-26T13:37:18.700350900Z"
    }
   }
  },
  {
   "cell_type": "code",
   "execution_count": 46,
   "outputs": [],
   "source": [
    "x_0 = np.zeros(dim_A)\n",
    "for i in range(M):\n",
    "    x_0[(i-1)*M] = 1000"
   ],
   "metadata": {
    "collapsed": false,
    "ExecuteTime": {
     "end_time": "2023-12-26T13:37:18.748333Z",
     "start_time": "2023-12-26T13:37:18.711707Z"
    }
   }
  },
  {
   "cell_type": "code",
   "execution_count": 54,
   "outputs": [
    {
     "ename": "IndexError",
     "evalue": "index 9 is out of bounds for axis 0 with size 9",
     "output_type": "error",
     "traceback": [
      "\u001B[1;31m---------------------------------------------------------------------------\u001B[0m",
      "\u001B[1;31mIndexError\u001B[0m                                Traceback (most recent call last)",
      "Cell \u001B[1;32mIn[54], line 17\u001B[0m\n\u001B[0;32m     14\u001B[0m         num_iterations \u001B[38;5;241m+\u001B[39m\u001B[38;5;241m=\u001B[39m \u001B[38;5;241m1\u001B[39m\n\u001B[0;32m     15\u001B[0m     \u001B[38;5;28;01mreturn\u001B[39;00m x, num_iterations, np\u001B[38;5;241m.\u001B[39mmax(epsilon_mat), np\u001B[38;5;241m.\u001B[39mmean(epsilon_mat)\n\u001B[1;32m---> 17\u001B[0m x_end, num_iter, err_max, err_mean \u001B[38;5;241m=\u001B[39m \u001B[43mJacobi_relaxation\u001B[49m\u001B[43m(\u001B[49m\u001B[43mA\u001B[49m\u001B[43m,\u001B[49m\u001B[43mb\u001B[49m\u001B[43m,\u001B[49m\u001B[43m \u001B[49m\u001B[43mx_0\u001B[49m\u001B[43m)\u001B[49m\n\u001B[0;32m     18\u001B[0m \u001B[38;5;28mprint\u001B[39m(num_iter)\n",
      "Cell \u001B[1;32mIn[54], line 13\u001B[0m, in \u001B[0;36mJacobi_relaxation\u001B[1;34m(A, b, x_0, epsilon_max)\u001B[0m\n\u001B[0;32m     11\u001B[0m     x \u001B[38;5;241m=\u001B[39m np\u001B[38;5;241m.\u001B[39mmatmul(D_inv,b) \u001B[38;5;241m+\u001B[39m np\u001B[38;5;241m.\u001B[39mmatmul(J,x)\n\u001B[0;32m     12\u001B[0m     \u001B[38;5;28;01mfor\u001B[39;00m r, err \u001B[38;5;129;01min\u001B[39;00m \u001B[38;5;28menumerate\u001B[39m(epsilon_mat):\n\u001B[1;32m---> 13\u001B[0m         epsilon_mat[r] \u001B[38;5;241m=\u001B[39m np\u001B[38;5;241m.\u001B[39mabs(x[r]\u001B[38;5;241m-\u001B[39m\u001B[38;5;241m0.25\u001B[39m\u001B[38;5;241m*\u001B[39m(\u001B[43mx\u001B[49m\u001B[43m[\u001B[49m\u001B[43mr\u001B[49m\u001B[38;5;241;43m+\u001B[39;49m\u001B[43mM\u001B[49m\u001B[43m]\u001B[49m\u001B[38;5;241m+\u001B[39mx[r\u001B[38;5;241m-\u001B[39mM]\u001B[38;5;241m+\u001B[39mx[r\u001B[38;5;241m+\u001B[39m\u001B[38;5;241m1\u001B[39m]\u001B[38;5;241m+\u001B[39mx[r\u001B[38;5;241m-\u001B[39m\u001B[38;5;241m1\u001B[39m]))\n\u001B[0;32m     14\u001B[0m     num_iterations \u001B[38;5;241m+\u001B[39m\u001B[38;5;241m=\u001B[39m \u001B[38;5;241m1\u001B[39m\n\u001B[0;32m     15\u001B[0m \u001B[38;5;28;01mreturn\u001B[39;00m x, num_iterations, np\u001B[38;5;241m.\u001B[39mmax(epsilon_mat), np\u001B[38;5;241m.\u001B[39mmean(epsilon_mat)\n",
      "\u001B[1;31mIndexError\u001B[0m: index 9 is out of bounds for axis 0 with size 9"
     ]
    }
   ],
   "source": [
    "def Jacobi_relaxation(A, b, x_0, epsilon_max = 0.001):\n",
    "    x = x_0\n",
    "    D = np.diag(np.diag(A))\n",
    "    D_inv = np.linalg.inv(D)\n",
    "    L = np.tril(A, -1)\n",
    "    R = np.triu(A, 1)\n",
    "    J = np.matmul(D_inv, D-A)\n",
    "    epsilon_mat = np.ones(M**2)\n",
    "    num_iterations = 0\n",
    "    while np.max(epsilon_mat)>epsilon_max:\n",
    "        x = np.matmul(D_inv,b) + np.matmul(J,x)\n",
    "        for r, err in enumerate(epsilon_mat):\n",
    "            epsilon_mat[r] = np.abs(x[r]-0.25*(x[r+M]+x[r-M]+x[r+1]+x[r-1]))\n",
    "        num_iterations += 1\n",
    "    return x, num_iterations, np.max(epsilon_mat), np.mean(epsilon_mat)\n",
    "\n",
    "x_end, num_iter, err_max, err_mean = Jacobi_relaxation(A,b, x_0)\n",
    "print(num_iter)"
   ],
   "metadata": {
    "collapsed": false,
    "ExecuteTime": {
     "end_time": "2023-12-26T14:23:03.495476200Z",
     "start_time": "2023-12-26T14:23:03.435358200Z"
    }
   }
  },
  {
   "cell_type": "code",
   "execution_count": null,
   "outputs": [],
   "source": [],
   "metadata": {
    "collapsed": false
   }
  }
 ],
 "metadata": {
  "kernelspec": {
   "display_name": "Python 3",
   "language": "python",
   "name": "python3"
  },
  "language_info": {
   "codemirror_mode": {
    "name": "ipython",
    "version": 2
   },
   "file_extension": ".py",
   "mimetype": "text/x-python",
   "name": "python",
   "nbconvert_exporter": "python",
   "pygments_lexer": "ipython2",
   "version": "2.7.6"
  }
 },
 "nbformat": 4,
 "nbformat_minor": 0
}
