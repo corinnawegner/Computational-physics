{
 "cells": [
  {
   "cell_type": "code",
   "execution_count": 8,
   "outputs": [],
   "source": [
    "import numpy as np"
   ],
   "metadata": {
    "collapsed": false,
    "ExecuteTime": {
     "end_time": "2023-12-26T12:18:07.016412900Z",
     "start_time": "2023-12-26T12:18:07.007920900Z"
    }
   }
  },
  {
   "cell_type": "code",
   "execution_count": 7,
   "outputs": [],
   "source": [
    "L = 5\n",
    "delta_x = L/10"
   ],
   "metadata": {
    "collapsed": false,
    "ExecuteTime": {
     "end_time": "2023-12-26T12:18:06.668406500Z",
     "start_time": "2023-12-26T12:18:06.646065200Z"
    }
   }
  },
  {
   "cell_type": "code",
   "execution_count": 23,
   "outputs": [
    {
     "name": "stdout",
     "output_type": "stream",
     "text": [
      "[[-4.  1.  0.  1.  0.  0.  0.  0.  0.]\n",
      " [ 1. -4.  1.  0.  1.  0.  0.  0.  0.]\n",
      " [ 0.  1. -4.  0.  0.  1.  0.  0.  0.]\n",
      " [ 1.  0.  0. -4.  1.  0.  1.  0.  0.]\n",
      " [ 0.  1.  0.  1. -4.  1.  0.  1.  0.]\n",
      " [ 0.  0.  1.  0.  1. -4.  0.  0.  1.]\n",
      " [ 0.  0.  0.  1.  0.  0. -4.  1.  0.]\n",
      " [ 0.  0.  0.  0.  1.  0.  1. -4.  1.]\n",
      " [ 0.  0.  0.  0.  0.  1.  0.  1. -4.]]\n"
     ]
    }
   ],
   "source": [
    "dim_A = (L-2)**2\n",
    "A = np.zeros((dim_A, dim_A))\n",
    "for i in range(dim_A):\n",
    "    A[i,i] = -4\n",
    "    if i+1<dim_A:\n",
    "        A[i+1, i] = 1\n",
    "        A[i, i+1] = 1\n",
    "    if L-2+i < dim_A:\n",
    "        A[L-2+i, i] = 1\n",
    "        A[i, L-2+i] = 1\n",
    "for m in range(1,L-2):\n",
    "        A[m*(L-2), m*(L-2)-1] = 0\n",
    "        A[m*(L-2)-1, m*(L-2)] = 0\n",
    "print(A)"
   ],
   "metadata": {
    "collapsed": false,
    "ExecuteTime": {
     "end_time": "2023-12-26T12:31:04.517417800Z",
     "start_time": "2023-12-26T12:31:04.512342100Z"
    }
   }
  },
  {
   "cell_type": "code",
   "execution_count": null,
   "outputs": [],
   "source": [],
   "metadata": {
    "collapsed": false
   }
  }
 ],
 "metadata": {
  "kernelspec": {
   "display_name": "Python 3",
   "language": "python",
   "name": "python3"
  },
  "language_info": {
   "codemirror_mode": {
    "name": "ipython",
    "version": 2
   },
   "file_extension": ".py",
   "mimetype": "text/x-python",
   "name": "python",
   "nbconvert_exporter": "python",
   "pygments_lexer": "ipython2",
   "version": "2.7.6"
  }
 },
 "nbformat": 4,
 "nbformat_minor": 0
}
