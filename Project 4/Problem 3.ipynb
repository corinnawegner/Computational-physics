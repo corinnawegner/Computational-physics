{
 "cells": [
  {
   "cell_type": "code",
   "execution_count": 1,
   "id": "initial_id",
   "metadata": {
    "collapsed": true,
    "ExecuteTime": {
     "end_time": "2024-01-02T12:39:08.813594500Z",
     "start_time": "2024-01-02T12:39:08.185443500Z"
    }
   },
   "outputs": [],
   "source": [
    "import numpy as np\n",
    "import matplotlib.pyplot as plt\n",
    "from tqdm import tqdm"
   ]
  },
  {
   "cell_type": "code",
   "execution_count": 2,
   "outputs": [],
   "source": [
    "epsilon = 0.2\n",
    "mu = 0.1\n",
    "delta_x = 0.4\n",
    "delta_t = 0.1\n",
    "N_x = 130\n",
    "L = N_x*delta_x\n"
   ],
   "metadata": {
    "collapsed": false,
    "ExecuteTime": {
     "end_time": "2024-01-02T14:02:49.412161500Z",
     "start_time": "2024-01-02T14:02:49.411151700Z"
    }
   },
   "id": "6b011af623db8b99"
  },
  {
   "cell_type": "code",
   "execution_count": null,
   "outputs": [],
   "source": [
    "u_0 = np.zeros(N_x)\n",
    "for j in range(len(u_0)):\n",
    "    u_0[j] = 0.5*(1-np.tanh((j-25)/5))\n",
    "\n",
    "def Koorteweg_de_Vries(num_timesteps, u_0):\n",
    "    u = [u_0]\n",
    "    for t in range(num_timesteps):\n",
    "        u_prev = u[-2] #n-1\n",
    "        u_current = u[-1] #n\n",
    "        u_next = np.zeros(N_x)\n",
    "        for j in range(N_x):\n",
    "            u_next[j] = u_prev[j] - (epsilon/3)*(delta_t/delta_x)*(u_current[j+1]+u_current[j]+u_current[j-1])*(u_current[j+1]+u_current[j-1])-mu*(delta_t / (delta_x**3))*(u_current[j+2]+2*u_current[j-1]-2*u_current[j+1]-u_current[j-2])\n",
    "        u.append(u_next)"
   ],
   "metadata": {
    "collapsed": false
   },
   "id": "af619716956ae47c"
  }
 ],
 "metadata": {
  "kernelspec": {
   "display_name": "Python 3",
   "language": "python",
   "name": "python3"
  },
  "language_info": {
   "codemirror_mode": {
    "name": "ipython",
    "version": 2
   },
   "file_extension": ".py",
   "mimetype": "text/x-python",
   "name": "python",
   "nbconvert_exporter": "python",
   "pygments_lexer": "ipython2",
   "version": "2.7.6"
  }
 },
 "nbformat": 4,
 "nbformat_minor": 5
}
