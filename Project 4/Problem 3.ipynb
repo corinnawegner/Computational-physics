{
 "cells": [
  {
   "cell_type": "code",
   "execution_count": 10,
   "id": "initial_id",
   "metadata": {
    "collapsed": true,
    "ExecuteTime": {
     "end_time": "2024-01-03T11:30:36.386181400Z",
     "start_time": "2024-01-03T11:30:36.372239300Z"
    }
   },
   "outputs": [],
   "source": [
    "import numpy as np\n",
    "import matplotlib.pyplot as plt\n",
    "from tqdm import tqdm"
   ]
  },
  {
   "cell_type": "markdown",
   "source": [
    "## Part b"
   ],
   "metadata": {
    "collapsed": false
   },
   "id": "3ba219a5aa4675cc"
  },
  {
   "cell_type": "code",
   "execution_count": 11,
   "outputs": [],
   "source": [
    "epsilon = 0.2\n",
    "mu = 0.1\n",
    "delta_x = 0.4\n",
    "delta_t = 0.1\n",
    "N_x = 130\n",
    "L = N_x*delta_x"
   ],
   "metadata": {
    "collapsed": false,
    "ExecuteTime": {
     "end_time": "2024-01-03T11:30:36.400015300Z",
     "start_time": "2024-01-03T11:30:36.374752900Z"
    }
   },
   "id": "6b011af623db8b99"
  },
  {
   "cell_type": "code",
   "execution_count": 12,
   "outputs": [],
   "source": [
    "u_0 = np.zeros(N_x)\n",
    "for j in range(len(u_0)):\n",
    "    u_0[j] = 0.5*(1-np.tanh((j-25)/5))"
   ],
   "metadata": {
    "collapsed": false,
    "ExecuteTime": {
     "end_time": "2024-01-03T11:30:36.401016500Z",
     "start_time": "2024-01-03T11:30:36.378713600Z"
    }
   },
   "id": "bc6d1133a8efdd5f"
  },
  {
   "cell_type": "code",
   "execution_count": 13,
   "outputs": [
    {
     "data": {
      "text/plain": "0.8647925385270318"
     },
     "execution_count": 13,
     "metadata": {},
     "output_type": "execute_result"
    }
   ],
   "source": [
    "#Checking the stability condition:\n",
    "(delta_t/delta_x)*(epsilon*np.sqrt(np.sum([u_0[j]**2 for j in range(N_x)]))+4*(mu/(delta_x**2)))"
   ],
   "metadata": {
    "collapsed": false,
    "ExecuteTime": {
     "end_time": "2024-01-03T11:30:36.402015200Z",
     "start_time": "2024-01-03T11:30:36.382623100Z"
    }
   },
   "id": "f600a91a4553eda4"
  },
  {
   "cell_type": "markdown",
   "source": [
    "The stability condition is fulfilled, because 0.865 < 1"
   ],
   "metadata": {
    "collapsed": false
   },
   "id": "766d04231f57b815"
  },
  {
   "cell_type": "code",
   "execution_count": 55,
   "outputs": [],
   "source": [
    "def apply_boundary_conditions(arr, arrs_prev, isfirst=False): \n",
    "    \"\"\"\n",
    "    :param arr: array that boundary conditions are applied on\n",
    "    :param arrs_prev: array before the current array and the array before that in case of isfirst=False\n",
    "    :param isfirst: is arr u_1?\n",
    "    :return: \n",
    "    \"\"\"\n",
    "    if isfirst:\n",
    "        arrs_prev = arrs_prev[np.newaxis, :]\n",
    "    arr[0] = 1\n",
    "    arr[-1] = 0\n",
    "    a = arrs_prev[1][-2] if not isfirst else arrs_prev[0][-2]\n",
    "    b = arrs_prev[1][1] if not isfirst else arrs_prev[0][1]\n",
    "    pref = 1 if not isfirst else 0.5\n",
    "    arr[-2] = a - pref*(epsilon*delta_t/3*delta_x)*(arrs_prev[0][-1]+arrs_prev[0][-2]+arrs_prev[0][-3])*(arrs_prev[0][-1]-arrs_prev[0][-3]) - pref*(mu*delta_t/(delta_x**3))*(-arrs_prev[0][-1]+2*arrs_prev[0][-3]-arrs_prev[0][-4])\n",
    "    arr[1] = b - pref*(epsilon*delta_t/3*delta_x)*(arrs_prev[0][2]+arrs_prev[0][1]+arrs_prev[0][0])*(arrs_prev[0][2]-arrs_prev[0][0]) - pref*(mu*delta_t/(delta_x**3))*(arrs_prev[0][3]+arrs_prev[0][0]-2*arrs_prev[0][2])\n",
    "    arr_final = arr\n",
    "    return arr_final\n",
    "\n",
    "def Koorteweg_de_Vries(num_timesteps, u_start):\n",
    "    u_1 = np.zeros(N_x)\n",
    "    u_1 = apply_boundary_conditions(u_1, u_start, isfirst=True)\n",
    "    for j in range(2, N_x-2):\n",
    "        u_1[j] = u_start[j] - (epsilon / 6) * (delta_t / delta_x) * (u_start[j + 1] + u_start[j] + u_start[j - 1]) * (u_start[j + 1] + u_start[j - 1]) - mu * (delta_t / (delta_x ** 3)) * (u_start[j + 2] + 2 * u_start[j - 1] - 2 * u_start[j + 1] - u_start[j - 2])\n",
    "    u = [u_start, u_1]\n",
    "    for t in tqdm(range(num_timesteps-1)):\n",
    "        u_prev = u[-2] #n-1\n",
    "        u_current = u[-1] #n\n",
    "        u_next = np.zeros(N_x)\n",
    "        u_next = apply_boundary_conditions(u_next, [u_current, u_prev])\n",
    "        if np.isnan(u_next).any() or np.isinf(u_next).any():\n",
    "            print(\"NaN or Inf detected. Stopping simulation.\")\n",
    "            break\n",
    "        for j in range(2,N_x-2):\n",
    "            u_next[j] = u_prev[j] - ((epsilon*delta_t)/(3*delta_x))*(u_current[j+1]+u_current[j]+u_current[j-1])*(u_current[j+1]+u_current[j-1]) - mu*(delta_t / (delta_x**3))*(u_current[j+2]+2*u_current[j-1]-2*u_current[j+1]-u_current[j-2])\n",
    "        u.append(u_next)\n",
    "    return u"
   ],
   "metadata": {
    "collapsed": false,
    "ExecuteTime": {
     "end_time": "2024-01-03T12:16:03.709400600Z",
     "start_time": "2024-01-03T12:16:03.705880600Z"
    }
   },
   "id": "af619716956ae47c"
  },
  {
   "cell_type": "code",
   "execution_count": 56,
   "outputs": [
    {
     "name": "stderr",
     "output_type": "stream",
     "text": [
      "  0%|          | 0/1999 [00:00<?, ?it/s]C:\\Users\\corin\\AppData\\Local\\Temp\\ipykernel_15532\\3993694988.py:35: RuntimeWarning: overflow encountered in scalar multiply\n",
      "  u_next[j] = u_prev[j] - ((epsilon*delta_t)/(3*delta_x))*(u_current[j+1]+u_current[j]+u_current[j-1])*(u_current[j+1]+u_current[j-1]) - mu*(delta_t / (delta_x**3))*(u_current[j+2]+2*u_current[j-1]-2*u_current[j+1]-u_current[j-2])\n",
      "C:\\Users\\corin\\AppData\\Local\\Temp\\ipykernel_15532\\3993694988.py:35: RuntimeWarning: invalid value encountered in scalar subtract\n",
      "  u_next[j] = u_prev[j] - ((epsilon*delta_t)/(3*delta_x))*(u_current[j+1]+u_current[j]+u_current[j-1])*(u_current[j+1]+u_current[j-1]) - mu*(delta_t / (delta_x**3))*(u_current[j+2]+2*u_current[j-1]-2*u_current[j+1]-u_current[j-2])\n",
      " 18%|█▊        | 350/1999 [00:00<00:00, 6870.89it/s]"
     ]
    },
    {
     "name": "stdout",
     "output_type": "stream",
     "text": [
      "NaN or Inf detected. Stopping simulation.\n"
     ]
    },
    {
     "name": "stderr",
     "output_type": "stream",
     "text": [
      "\n"
     ]
    }
   ],
   "source": [
    "u_KdV = Koorteweg_de_Vries(2000, u_0)"
   ],
   "metadata": {
    "collapsed": false,
    "ExecuteTime": {
     "end_time": "2024-01-03T12:16:03.980995100Z",
     "start_time": "2024-01-03T12:16:03.919431300Z"
    }
   },
   "id": "719cae5ef75c8a2e"
  },
  {
   "cell_type": "code",
   "execution_count": 49,
   "outputs": [
    {
     "name": "stdout",
     "output_type": "stream",
     "text": [
      "[ 1.00000000e+00  3.00218486e-01  4.54836921e-01 -8.38368129e-02\n",
      "  2.07199886e-01 -2.47713437e-01  1.10178965e-01 -2.89972368e-01\n",
      "  9.77733167e-02 -2.75227048e-01  1.09303140e-01 -2.53997515e-01\n",
      "  1.17778086e-01 -2.51975283e-01  1.14639876e-01 -2.49537514e-01\n",
      "  1.09444757e-01 -2.32800232e-01  1.33042420e-01 -2.06055102e-01\n",
      "  1.68465745e-01 -1.74337000e-01  1.73195558e-01 -1.79713352e-01\n",
      "  1.43662708e-01 -2.40825984e-01  7.50914078e-02 -3.15139318e-01\n",
      " -3.20355843e-02 -4.21326695e-01 -2.07423435e-01 -6.34755461e-01\n",
      " -1.28822460e-01  1.16709207e+00 -1.83104296e+01 -5.08442252e+02\n",
      " -4.31646609e+03 -1.60717573e+04 -3.02432280e+04 -3.14452161e+04\n",
      " -1.83868869e+04 -5.88683000e+03 -1.07960578e+03 -1.54431909e+02\n",
      " -2.88964124e+01 -8.96065638e+00 -4.23063586e+00 -2.59732663e+00\n",
      " -1.82061214e+00 -1.40690022e+00 -1.11427554e+00 -9.50386430e-01\n",
      " -7.83502343e-01 -7.16964569e-01 -5.95293480e-01 -5.74642920e-01\n",
      " -4.78504979e-01 -4.79902137e-01 -3.95913855e-01 -4.17728738e-01\n",
      " -3.30933445e-01 -3.72436110e-01 -2.85028119e-01 -3.31659925e-01\n",
      " -2.52942456e-01 -3.01595007e-01 -2.20767459e-01 -2.84394443e-01\n",
      " -1.91614069e-01 -2.66306333e-01 -1.73741671e-01 -2.44470072e-01\n",
      " -1.60324001e-01 -2.30912311e-01 -1.40602632e-01 -2.26438949e-01\n",
      " -1.20892069e-01 -2.17302189e-01 -1.16556303e-01 -2.02597214e-01\n",
      " -1.07351293e-01 -1.88268968e-01 -8.99594960e-02 -2.02315676e-01\n",
      " -9.24061725e-02 -1.94056601e-01 -5.40803963e-02 -1.45734978e-01\n",
      " -7.92486845e-02 -2.25890859e-01 -1.18128471e-01 -1.48345897e-01\n",
      "  6.79710472e-02 -9.10419993e-02 -1.25230105e-01 -3.72686420e-01\n",
      " -1.70606599e-01 -1.06846702e-02  2.60991434e-01 -1.88160405e-02\n",
      " -2.51153948e-01 -5.68744867e-01 -2.23725927e-01 -2.29193790e-02\n",
      "  2.79012000e-01  7.78209511e-02 -2.59849428e-02 -3.34041509e-01\n",
      " -3.59514704e-01 -5.83904970e-01 -3.09645431e-01 -1.46107319e-01\n",
      "  3.19542784e-01  2.99041188e-01  2.72639514e-01 -2.10021359e-01\n",
      " -5.85753950e-01 -1.20257566e+00 -1.27446769e+00 -1.24627847e+00\n",
      " -7.66315996e-01 -5.69406002e-01 -2.12507880e-01 -9.59158100e-02\n",
      "  1.88739577e-01  1.95451479e-01  3.21835709e-01  1.95153310e-01\n",
      "  2.93801350e-01  0.00000000e+00]\n"
     ]
    }
   ],
   "source": [
    "print(u_KdV[330])"
   ],
   "metadata": {
    "collapsed": false,
    "ExecuteTime": {
     "end_time": "2024-01-03T12:05:03.212980600Z",
     "start_time": "2024-01-03T12:05:03.208472600Z"
    }
   },
   "id": "39c576c9733f1776"
  },
  {
   "cell_type": "code",
   "execution_count": null,
   "outputs": [],
   "source": [],
   "metadata": {
    "collapsed": false
   },
   "id": "22aaf6ffae1dcf8d"
  }
 ],
 "metadata": {
  "kernelspec": {
   "display_name": "Python 3",
   "language": "python",
   "name": "python3"
  },
  "language_info": {
   "codemirror_mode": {
    "name": "ipython",
    "version": 2
   },
   "file_extension": ".py",
   "mimetype": "text/x-python",
   "name": "python",
   "nbconvert_exporter": "python",
   "pygments_lexer": "ipython2",
   "version": "2.7.6"
  }
 },
 "nbformat": 4,
 "nbformat_minor": 5
}
