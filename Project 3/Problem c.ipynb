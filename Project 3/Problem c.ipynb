{
 "cells": [
  {
   "cell_type": "code",
   "execution_count": 1,
   "metadata": {
    "collapsed": true,
    "ExecuteTime": {
     "end_time": "2023-12-10T19:52:26.007013Z",
     "start_time": "2023-12-10T19:52:24.211241800Z"
    }
   },
   "outputs": [],
   "source": [
    "import numpy as np\n",
    "import matplotlib.pyplot as plt\n",
    "from tqdm import tqdm"
   ]
  },
  {
   "cell_type": "code",
   "execution_count": 13,
   "outputs": [],
   "source": [
    "rho = 0.85\n",
    "h = 0.016\n",
    "m = 48\n",
    "T = 1\n",
    "M = 6 # cube root of number of unit cells in the L^3 volume, gives N=864 particles\n",
    "L = np.cbrt((4*M**3)/rho)\n",
    "sigma = 3.405 #Angstrom\n",
    "epsilon = 119.8 #K\n",
    "\n",
    "tp = h #*"
   ],
   "metadata": {
    "collapsed": false,
    "ExecuteTime": {
     "end_time": "2023-12-10T20:05:17.530232Z",
     "start_time": "2023-12-10T20:05:17.502021900Z"
    }
   }
  },
  {
   "cell_type": "code",
   "execution_count": 3,
   "outputs": [
    {
     "data": {
      "text/plain": "(1295127, 3)"
     },
     "execution_count": 3,
     "metadata": {},
     "output_type": "execute_result"
    }
   ],
   "source": [
    "path_r_0 = \"C:/Users/corin/CLionProjects/Computational-physics/r_total_T0_rescaling.txt\"\n",
    "path_v_0 = \"C:/Users/corin/CLionProjects/Computational-physics/v_total_T0_rescaling.txt\"\n",
    "\n",
    "path_r_2 = r\"C:\\Users\\corin\\CLionProjects\\Computational-physics\\r_total_T2_rescaling.txt\"\n",
    "path_v_2 = r\"C:\\Users\\corin\\CLionProjects\\Computational-physics\\v_total_T2_rescaling.txt\"\n",
    "\n",
    "path_r_1 = r\"C:\\Users\\corin\\CLionProjects\\Computational-physics\\r_total_T1_rescaling.txt\"\n",
    "path_v_1 = r\"C:\\Users\\corin\\CLionProjects\\Computational-physics\\v_total_T1_rescaling.txt\"\n",
    "\n",
    "\n",
    "r_total = np.loadtxt(path_r_0, delimiter=\",\")\n",
    "v_total = np.loadtxt(path_v_0, delimiter=\",\")\n",
    "\n",
    "r_total_2 = np.loadtxt(path_r_2, delimiter=\",\")\n",
    "v_total_2 = np.loadtxt(path_v_2, delimiter=\",\")\n",
    "\n",
    "r_total_1 = np.loadtxt(path_r_1, delimiter=\",\")\n",
    "v_total_1 = np.loadtxt(path_v_1, delimiter=\",\")\n",
    "\n",
    "r_total_2.shape"
   ],
   "metadata": {
    "collapsed": false,
    "ExecuteTime": {
     "end_time": "2023-12-10T19:52:33.950067700Z",
     "start_time": "2023-12-10T19:52:26.016569600Z"
    }
   }
  },
  {
   "cell_type": "code",
   "execution_count": 4,
   "outputs": [],
   "source": [
    "num_timesteps = 1498\n",
    "\n",
    "r_total_cut = r_total[:864*num_timesteps - r_total.shape[0], :]\n",
    "v_total_cut = v_total[:864*num_timesteps - v_total.shape[0], :]\n",
    "r_total_reshaped = r_total_cut.reshape((num_timesteps, 864, 3))\n",
    "v_total_reshaped = v_total_cut.reshape((num_timesteps, 864, 3))\n",
    "\n",
    "r_total_2_cut = r_total_2[:864*num_timesteps - r_total_2.shape[0], :]\n",
    "v_total_2_cut = v_total_2[:864*num_timesteps - v_total_2.shape[0], :]\n",
    "r_total_2_reshaped = r_total_2_cut.reshape((num_timesteps, 864, 3))\n",
    "v_total_2_reshaped = v_total_2_cut.reshape((num_timesteps, 864, 3))\n",
    "\n",
    "r_total_1_cut = r_total_1[:864*num_timesteps - r_total_1.shape[0], :]\n",
    "v_total_1_cut = v_total_1[:864*num_timesteps - v_total_1.shape[0], :]\n",
    "r_total_1_reshaped = r_total_1_cut.reshape((num_timesteps, 864, 3))\n",
    "v_total_1_reshaped = v_total_1_cut.reshape((num_timesteps, 864, 3))"
   ],
   "metadata": {
    "collapsed": false,
    "ExecuteTime": {
     "end_time": "2023-12-10T19:52:33.957351700Z",
     "start_time": "2023-12-10T19:52:33.951065800Z"
    }
   }
  },
  {
   "cell_type": "code",
   "execution_count": 5,
   "outputs": [
    {
     "data": {
      "text/plain": "'\\nlist_rij_T1 = []\\nfor t in tqdm(range(num_timesteps)):\\n    if t%5 == 0:\\n        for r_a in r_total_1_reshaped[t]:\\n            for r_b in r_total_1_reshaped[t]:\\n                list_rij_T1.append(r_ij(r_a,r_b))\\n'"
     },
     "execution_count": 5,
     "metadata": {},
     "output_type": "execute_result"
    }
   ],
   "source": [
    "def r_ij(r_i, r_j):\n",
    "    return r_i[0]-r_j[0]\n",
    "\n",
    "\"\"\"\n",
    "list_rij_T1 = []\n",
    "for t in tqdm(range(num_timesteps)):\n",
    "    if t%5 == 0:\n",
    "        for r_a in r_total_1_reshaped[t]:\n",
    "            for r_b in r_total_1_reshaped[t]:\n",
    "                list_rij_T1.append(r_ij(r_a,r_b))\n",
    "\"\"\""
   ],
   "metadata": {
    "collapsed": false,
    "ExecuteTime": {
     "end_time": "2023-12-10T19:52:33.976655800Z",
     "start_time": "2023-12-10T19:52:33.960344500Z"
    }
   }
  },
  {
   "cell_type": "code",
   "execution_count": 6,
   "outputs": [],
   "source": [
    "#np.savetxt(\"rij_T1_x.txt\", np.array(list_rij_T1), delimiter=\", \")"
   ],
   "metadata": {
    "collapsed": false,
    "ExecuteTime": {
     "end_time": "2023-12-10T19:52:34.042666800Z",
     "start_time": "2023-12-10T19:52:33.978650100Z"
    }
   }
  },
  {
   "cell_type": "code",
   "execution_count": 7,
   "outputs": [
    {
     "data": {
      "text/plain": "'\\nlist_rij_T2 = []\\nfor t in tqdm(range(num_timesteps)):\\n    if t%5 ==0:\\n         for r_a in r_total_2_reshaped[t]:\\n            for r_b in r_total_2_reshaped[t]:\\n                list_rij_T2.append(r_ij(r_a,r_b))\\n#np.savetxt(\"rij_T2_x.txt\", np.array(list_rij_T2), delimiter=\", \")\\n'"
     },
     "execution_count": 7,
     "metadata": {},
     "output_type": "execute_result"
    }
   ],
   "source": [
    "\"\"\"\n",
    "list_rij_T2 = []\n",
    "for t in tqdm(range(num_timesteps)):\n",
    "    if t%5 ==0:\n",
    "         for r_a in r_total_2_reshaped[t]:\n",
    "            for r_b in r_total_2_reshaped[t]:\n",
    "                list_rij_T2.append(r_ij(r_a,r_b))\n",
    "#np.savetxt(\"rij_T2_x.txt\", np.array(list_rij_T2), delimiter=\", \")\n",
    "\"\"\""
   ],
   "metadata": {
    "collapsed": false,
    "ExecuteTime": {
     "end_time": "2023-12-10T19:52:34.087240100Z",
     "start_time": "2023-12-10T19:52:33.990450100Z"
    }
   }
  },
  {
   "cell_type": "code",
   "execution_count": 8,
   "outputs": [
    {
     "data": {
      "text/plain": "'\\nfor t in tqdm(range(num_timesteps)):\\n    for r_a in r_total_reshaped[t]:\\n            for r_b in r_total_reshaped[t]:\\n                list_rij_T0.append(r_ij(r_a,r_b))\\n#np.savetxt(\"rij_T0_x.txt\", np.array(list_rij_T0), delimiter=\", \")\\n'"
     },
     "execution_count": 8,
     "metadata": {},
     "output_type": "execute_result"
    }
   ],
   "source": [
    "list_rij_T0 = []\n",
    "\"\"\"\n",
    "for t in tqdm(range(num_timesteps)):\n",
    "    for r_a in r_total_reshaped[t]:\n",
    "            for r_b in r_total_reshaped[t]:\n",
    "                list_rij_T0.append(r_ij(r_a,r_b))\n",
    "#np.savetxt(\"rij_T0_x.txt\", np.array(list_rij_T0), delimiter=\", \")\n",
    "\"\"\""
   ],
   "metadata": {
    "collapsed": false,
    "ExecuteTime": {
     "end_time": "2023-12-10T19:52:34.088237900Z",
     "start_time": "2023-12-10T19:52:34.006851400Z"
    }
   }
  },
  {
   "cell_type": "code",
   "execution_count": 9,
   "outputs": [],
   "source": [
    "#list_rij_T0 = np.loadtxt(\"rij_T0_x.txt\")\n",
    "#list_rij_T1 = np.loadtxt(\"rij_T1_x.txt\")\n",
    "#list_rij_T2 = np.loadtxt(\"rij_T2_x.txt\")"
   ],
   "metadata": {
    "collapsed": false,
    "ExecuteTime": {
     "end_time": "2023-12-10T19:52:34.089199400Z",
     "start_time": "2023-12-10T19:52:34.029713100Z"
    }
   }
  },
  {
   "cell_type": "code",
   "execution_count": 10,
   "outputs": [
    {
     "data": {
      "text/plain": "'\\nbin_width = 0.05\\nmin_r = 0.0\\nmax_r = 2.5\\n\\nnum_bins = 50\\n\\nfig, ax = plt.subplots()\\nn_1, bins_1, patches_1 = ax.hist(list_rij_T1, num_bins, label=\"$T^{*} = 1$\")\\nn_2, bins_2, patches_2 = ax.hist(list_rij_T2, num_bins, label=\"$T^{*} = 2$\")\\n#n_0, bins_0, patches_0 = ax.hist(list_rij_T0, num_bins, label=\"$T^{*} = 0$\")\\n\\nax.set_xlabel(\\'Pairwise distances\\')\\nax.set_ylabel(\\'Frequency\\')\\nfig.tight_layout()\\nplt.legend()\\nplt.title(\"Histogram of the pairwise distances in x direction (accumulated over time)\")\\nplt.show()\\n'"
     },
     "execution_count": 10,
     "metadata": {},
     "output_type": "execute_result"
    }
   ],
   "source": [
    "\"\"\"\n",
    "bin_width = 0.05\n",
    "min_r = 0.0\n",
    "max_r = 2.5\n",
    "\n",
    "num_bins = 50\n",
    "\n",
    "fig, ax = plt.subplots()\n",
    "n_1, bins_1, patches_1 = ax.hist(list_rij_T1, num_bins, label=\"$T^{*} = 1$\")\n",
    "n_2, bins_2, patches_2 = ax.hist(list_rij_T2, num_bins, label=\"$T^{*} = 2$\")\n",
    "#n_0, bins_0, patches_0 = ax.hist(list_rij_T0, num_bins, label=\"$T^{*} = 0$\")\n",
    "\n",
    "ax.set_xlabel('Pairwise distances')\n",
    "ax.set_ylabel('Frequency')\n",
    "fig.tight_layout()\n",
    "plt.legend()\n",
    "plt.title(\"Histogram of the pairwise distances in x direction (accumulated over time)\")\n",
    "plt.show()\n",
    "\"\"\""
   ],
   "metadata": {
    "collapsed": false,
    "ExecuteTime": {
     "end_time": "2023-12-10T19:52:34.090197200Z",
     "start_time": "2023-12-10T19:52:34.044662100Z"
    }
   }
  },
  {
   "cell_type": "code",
   "execution_count": 11,
   "outputs": [],
   "source": [
    "#np.savetxt(\"rij_T2_x.txt\", np.array(list_rij_T2), delimiter=\", \")\n",
    "#np.savetxt(\"rij_T0_x.txt\", np.array(list_rij_T0), delimiter=\", \")\n",
    "#np.savetxt(\"rij_T2_x.txt\", np.array(list_rij_T2), delimiter=\", \")"
   ],
   "metadata": {
    "collapsed": false,
    "ExecuteTime": {
     "end_time": "2023-12-10T19:52:34.183946Z",
     "start_time": "2023-12-10T19:52:34.060639700Z"
    }
   }
  },
  {
   "cell_type": "code",
   "execution_count": 14,
   "outputs": [
    {
     "data": {
      "text/plain": "<matplotlib.legend.Legend at 0x243e9092790>"
     },
     "execution_count": 14,
     "metadata": {},
     "output_type": "execute_result"
    },
    {
     "data": {
      "text/plain": "<Figure size 640x480 with 1 Axes>",
      "image/png": "[encoded data removed]"
     },
     "metadata": {},
     "output_type": "display_data"
    }
   ],
   "source": [
    "def melting_factor(x):\n",
    "    \"\"\"\n",
    "    :param x: 1D array of shape (num_particles,), positions of all particles' x-positions at a certain time step\n",
    "    :return: float, melting factor for the configuration\n",
    "    \"\"\"\n",
    "    a = L/M\n",
    "    k = 4*np.pi/a\n",
    "    return np.sum([np.cos(k*i) for i in x])\n",
    "\n",
    "melting_factors_0 = [melting_factor(r_total_reshaped[t,:,0]) for t in range(r_total_reshaped.shape[0])]\n",
    "melting_factors_1 = [melting_factor(r_total_1_reshaped[t,:,0]) for t in range(r_total_reshaped.shape[0])]\n",
    "melting_factors_2 = [melting_factor(r_total_2_reshaped[t,:,0]) for t in range(r_total_reshaped.shape[0])]\n",
    "\n",
    "plt.plot(np.arange(num_timesteps)*tp, melting_factors_0, label=\"$T^* = 0$\")\n",
    "plt.plot(np.arange(num_timesteps)*tp, melting_factors_1, label=\"$T^* = 1$\")\n",
    "plt.plot(np.arange(num_timesteps)*tp, melting_factors_2, label=\"$T^* = 2$\")\n",
    "\n",
    "plt.title(\"Melting factors\")\n",
    "plt.xlabel(\"$t^*$\")\n",
    "plt.ylabel(r\"$\\rho$\")\n",
    "plt.legend()"
   ],
   "metadata": {
    "collapsed": false,
    "ExecuteTime": {
     "end_time": "2023-12-10T20:05:29.691227500Z",
     "start_time": "2023-12-10T20:05:23.118530200Z"
    }
   }
  },
  {
   "cell_type": "code",
   "execution_count": 16,
   "outputs": [
    {
     "data": {
      "text/plain": "(864, 3)"
     },
     "execution_count": 16,
     "metadata": {},
     "output_type": "execute_result"
    }
   ],
   "source": [
    "r_total_2_reshaped[-1].shape"
   ],
   "metadata": {
    "collapsed": false,
    "ExecuteTime": {
     "end_time": "2023-12-10T20:07:51.289993100Z",
     "start_time": "2023-12-10T20:07:51.279008300Z"
    }
   }
  },
  {
   "cell_type": "code",
   "execution_count": 17,
   "outputs": [
    {
     "name": "stdout",
     "output_type": "stream",
     "text": [
      "T=2:  0.4586044642152607\n",
      "T=1:  0.05073724644267092\n",
      "T=2:  0.0\n"
     ]
    }
   ],
   "source": [
    "def mean_squared_difference(list_r, list_r_0):\n",
    "    list_diff = list_r - list_r_0\n",
    "    list_total_diff = [[delta_r[dim]**2 for dim in range(3)] for delta_r in list_diff]\n",
    "    return np.mean(list_total_diff)\n",
    "\n",
    "print(\"T=2: \", mean_squared_difference(r_total_2_reshaped[-1], r_total_2_reshaped[0]))\n",
    "print(\"T=1: \", mean_squared_difference(r_total_1_reshaped[-1], r_total_1_reshaped[0]))\n",
    "print(\"T=2: \", mean_squared_difference(r_total_reshaped[-1], r_total_reshaped[0]))"
   ],
   "metadata": {
    "collapsed": false,
    "ExecuteTime": {
     "end_time": "2023-12-10T20:08:43.911006500Z",
     "start_time": "2023-12-10T20:08:43.860450Z"
    }
   }
  },
  {
   "cell_type": "code",
   "execution_count": null,
   "outputs": [],
   "source": [],
   "metadata": {
    "collapsed": false
   }
  }
 ],
 "metadata": {
  "kernelspec": {
   "display_name": "Python 3",
   "language": "python",
   "name": "python3"
  },
  "language_info": {
   "codemirror_mode": {
    "name": "ipython",
    "version": 2
   },
   "file_extension": ".py",
   "mimetype": "text/x-python",
   "name": "python",
   "nbconvert_exporter": "python",
   "pygments_lexer": "ipython2",
   "version": "2.7.6"
  }
 },
 "nbformat": 4,
 "nbformat_minor": 0
}
