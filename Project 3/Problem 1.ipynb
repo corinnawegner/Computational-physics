{
 "cells": [
  {
   "cell_type": "code",
   "execution_count": 648,
   "outputs": [],
   "source": [
    "import random\n",
    "\n",
    "import numpy as np\n",
    "import matplotlib.pyplot as plt\n",
    "from tqdm import tqdm\n",
    "from itertools import product\n",
    "import Cython\n",
    "from numba import njit"
   ],
   "metadata": {
    "collapsed": false,
    "ExecuteTime": {
     "end_time": "2023-12-06T17:56:29.376658600Z",
     "start_time": "2023-12-06T17:56:29.357563500Z"
    }
   }
  },
  {
   "cell_type": "code",
   "execution_count": 649,
   "outputs": [
    {
     "name": "stdout",
     "output_type": "stream",
     "text": [
      "The Cython extension is already loaded. To reload it, use:\n",
      "  %reload_ext Cython\n"
     ]
    }
   ],
   "source": [
    "%load_ext Cython"
   ],
   "metadata": {
    "collapsed": false,
    "ExecuteTime": {
     "end_time": "2023-12-06T17:56:29.439492300Z",
     "start_time": "2023-12-06T17:56:29.363694Z"
    }
   }
  },
  {
   "cell_type": "code",
   "execution_count": 650,
   "outputs": [
    {
     "data": {
      "text/plain": "'\\nrho = 0.85\\nh = 0.016\\nm = 48\\nT = 1\\nM = 6 # cube root of number of unit cells in the L^3 volume, gives N=864 particles\\nL = (4*6**3)/rho\\nsigma = 3.405 #Angstrom\\nepsilon = 119.8 #K\\n# Todo: Scale time\\n'"
     },
     "execution_count": 650,
     "metadata": {},
     "output_type": "execute_result"
    }
   ],
   "source": [
    "\"\"\"\n",
    "rho = 0.85\n",
    "h = 0.016\n",
    "m = 48\n",
    "T = 1\n",
    "M = 6 # cube root of number of unit cells in the L^3 volume, gives N=864 particles\n",
    "L = (4*6**3)/rho\n",
    "sigma = 3.405 #Angstrom\n",
    "epsilon = 119.8 #K\n",
    "# Todo: Scale time\n",
    "\"\"\""
   ],
   "metadata": {
    "collapsed": false,
    "ExecuteTime": {
     "end_time": "2023-12-06T17:56:29.440450700Z",
     "start_time": "2023-12-06T17:56:29.382666800Z"
    }
   }
  },
  {
   "cell_type": "code",
   "execution_count": 651,
   "outputs": [
    {
     "name": "stderr",
     "output_type": "stream",
     "text": [
      "performance hint: C:\\Users\\corin\\.ipython\\cython\\_cython_magic_03d7d3411128b998d63ecc60211a5e764a8dce0b.pyx:61:28: Index should be typed for more efficient access\n"
     ]
    },
    {
     "name": "stdout",
     "output_type": "stream",
     "text": [
      "Content of stdout:\n",
      "_cython_magic_03d7d3411128b998d63ecc60211a5e764a8dce0b.c\r\n",
      "   Creating library C:\\Users\\corin\\.ipython\\cython\\Users\\corin\\.ipython\\cython\\_cython_magic_03d7d3411128b998d63ecc60211a5e764a8dce0b.cp311-win_amd64.lib and object C:\\Users\\corin\\.ipython\\cython\\Users\\corin\\.ipython\\cython\\_cython_magic_03d7d3411128b998d63ecc60211a5e764a8dce0b.cp311-win_amd64.exp\r\n",
      "Generating code\r\n",
      "Finished generating code"
     ]
    },
    {
     "name": "stderr",
     "output_type": "stream",
     "text": [
      "  0%|          | 0/1000 [00:00<?, ?it/s]"
     ]
    },
    {
     "name": "stdout",
     "output_type": "stream",
     "text": [
      "HAllo 0\n",
      "F_r\n",
      "F_next\n"
     ]
    },
    {
     "name": "stderr",
     "output_type": "stream",
     "text": [
      "  0%|          | 1/1000 [00:22<6:11:16, 22.30s/it]"
     ]
    },
    {
     "name": "stdout",
     "output_type": "stream",
     "text": [
      "done\n",
      "HAllo 1\n",
      "F_r\n",
      "F_next\n"
     ]
    },
    {
     "name": "stderr",
     "output_type": "stream",
     "text": [
      "  0%|          | 2/1000 [00:44<6:07:36, 22.10s/it]"
     ]
    },
    {
     "name": "stdout",
     "output_type": "stream",
     "text": [
      "done\n",
      "HAllo 2\n",
      "F_r\n",
      "F_next\n"
     ]
    },
    {
     "name": "stderr",
     "output_type": "stream",
     "text": [
      "  0%|          | 3/1000 [01:06<6:07:00, 22.09s/it]"
     ]
    },
    {
     "name": "stdout",
     "output_type": "stream",
     "text": [
      "done\n",
      "HAllo 3\n",
      "F_r\n",
      "F_next\n"
     ]
    },
    {
     "name": "stderr",
     "output_type": "stream",
     "text": [
      "  0%|          | 4/1000 [01:28<6:07:53, 22.16s/it]"
     ]
    },
    {
     "name": "stdout",
     "output_type": "stream",
     "text": [
      "done\n",
      "HAllo 4\n",
      "F_r\n",
      "F_next\n"
     ]
    },
    {
     "name": "stderr",
     "output_type": "stream",
     "text": [
      "  0%|          | 5/1000 [01:50<6:06:09, 22.08s/it]"
     ]
    },
    {
     "name": "stdout",
     "output_type": "stream",
     "text": [
      "done\n",
      "HAllo 5\n",
      "F_r\n",
      "F_next\n"
     ]
    },
    {
     "name": "stderr",
     "output_type": "stream",
     "text": [
      "  1%|          | 6/1000 [02:13<6:10:41, 22.38s/it]"
     ]
    },
    {
     "name": "stdout",
     "output_type": "stream",
     "text": [
      "done\n",
      "HAllo 6\n",
      "F_r\n"
     ]
    },
    {
     "name": "stderr",
     "output_type": "stream",
     "text": [
      "  1%|          | 6/1000 [02:19<6:24:21, 23.20s/it]\n"
     ]
    },
    {
     "ename": "KeyboardInterrupt",
     "evalue": "",
     "output_type": "error",
     "traceback": [
      "\u001B[1;31m---------------------------------------------------------------------------\u001B[0m",
      "\u001B[1;31mKeyboardInterrupt\u001B[0m                         Traceback (most recent call last)",
      "Cell \u001B[1;32mIn[651], line 1\u001B[0m\n\u001B[1;32m----> 1\u001B[0m \u001B[43mget_ipython\u001B[49m\u001B[43m(\u001B[49m\u001B[43m)\u001B[49m\u001B[38;5;241;43m.\u001B[39;49m\u001B[43mrun_cell_magic\u001B[49m\u001B[43m(\u001B[49m\u001B[38;5;124;43m'\u001B[39;49m\u001B[38;5;124;43mcython\u001B[39;49m\u001B[38;5;124;43m'\u001B[39;49m\u001B[43m,\u001B[49m\u001B[43m \u001B[49m\u001B[38;5;124;43m'\u001B[39;49m\u001B[38;5;124;43m'\u001B[39;49m\u001B[43m,\u001B[49m\u001B[43m \u001B[49m\u001B[38;5;124;43m'\u001B[39;49m\u001B[38;5;124;43mimport numpy as np\u001B[39;49m\u001B[38;5;130;43;01m\\n\u001B[39;49;00m\u001B[38;5;124;43mfrom itertools import product\u001B[39;49m\u001B[38;5;130;43;01m\\n\u001B[39;49;00m\u001B[38;5;124;43mfrom tqdm import tqdm\u001B[39;49m\u001B[38;5;130;43;01m\\n\u001B[39;49;00m\u001B[38;5;130;43;01m\\n\u001B[39;49;00m\u001B[38;5;124;43mcdef double rho = 0.85\u001B[39;49m\u001B[38;5;130;43;01m\\n\u001B[39;49;00m\u001B[38;5;124;43mcdef double h = 0.016\u001B[39;49m\u001B[38;5;130;43;01m\\n\u001B[39;49;00m\u001B[38;5;124;43mcdef int m = 48 # Be aware that m is also defined later outside of the cython\u001B[39;49m\u001B[38;5;130;43;01m\\n\u001B[39;49;00m\u001B[38;5;124;43mcdef double T = 2.0\u001B[39;49m\u001B[38;5;130;43;01m\\n\u001B[39;49;00m\u001B[38;5;124;43mcdef int M = 4   # cube root of number of unit cells in the L^3 volume, gives N=864 particles\u001B[39;49m\u001B[38;5;130;43;01m\\n\u001B[39;49;00m\u001B[38;5;124;43mcdef double L = np.cbrt((4*M**3)/rho)\u001B[39;49m\u001B[38;5;130;43;01m\\n\u001B[39;49;00m\u001B[38;5;124;43mcdef int num_steps = 1000\u001B[39;49m\u001B[38;5;130;43;01m\\n\u001B[39;49;00m\u001B[38;5;124;43mcdef double sigma = 3.405 #Angstrom\u001B[39;49m\u001B[38;5;130;43;01m\\n\u001B[39;49;00m\u001B[38;5;124;43mcdef double epsilon = 119.8 #K\u001B[39;49m\u001B[38;5;130;43;01m\\n\u001B[39;49;00m\u001B[38;5;130;43;01m\\n\u001B[39;49;00m\u001B[38;5;124;43mlist_pbc = list(product([0, 1, -1], repeat=3))\u001B[39;49m\u001B[38;5;130;43;01m\\n\u001B[39;49;00m\u001B[38;5;124;43mlist_pbc = L*np.array(list_pbc)\u001B[39;49m\u001B[38;5;130;43;01m\\n\u001B[39;49;00m\u001B[38;5;130;43;01m\\n\u001B[39;49;00m\u001B[38;5;124;43mdef build_fcc():\u001B[39;49m\u001B[38;5;130;43;01m\\n\u001B[39;49;00m\u001B[38;5;124;43m    \u001B[39;49m\u001B[38;5;124;43m\"\u001B[39;49m\u001B[38;5;124;43m\"\u001B[39;49m\u001B[38;5;124;43m\"\u001B[39;49m\u001B[38;5;130;43;01m\\n\u001B[39;49;00m\u001B[38;5;124;43m    :param M: integer. cube root of Number of unit cells\u001B[39;49m\u001B[38;5;130;43;01m\\n\u001B[39;49;00m\u001B[38;5;124;43m    :return: fcc grid for the L*L cube (np.array of shape (n_points, 3))\u001B[39;49m\u001B[38;5;130;43;01m\\n\u001B[39;49;00m\u001B[38;5;124;43m    \u001B[39;49m\u001B[38;5;124;43m\"\u001B[39;49m\u001B[38;5;124;43m\"\u001B[39;49m\u001B[38;5;124;43m\"\u001B[39;49m\u001B[38;5;130;43;01m\\n\u001B[39;49;00m\u001B[38;5;124;43m    range_values_sc = np.linspace(-L/2, L/2, M+1)\u001B[39;49m\u001B[38;5;130;43;01m\\n\u001B[39;49;00m\u001B[38;5;124;43m    length_edge = np.abs(range_values_sc[0]-range_values_sc[1]) #L/(rho-1)\u001B[39;49m\u001B[38;5;130;43;01m\\n\u001B[39;49;00m\u001B[38;5;124;43m    sc_grid = np.array(list(product(range_values_sc, repeat=3)))\u001B[39;49m\u001B[38;5;130;43;01m\\n\u001B[39;49;00m\u001B[38;5;124;43m    sc_grid = sc_grid[sc_grid[:, 0] != -L/2]\u001B[39;49m\u001B[38;5;130;43;01m\\n\u001B[39;49;00m\u001B[38;5;124;43m    sc_grid = sc_grid[sc_grid[:, 1] != -L/2]\u001B[39;49m\u001B[38;5;130;43;01m\\n\u001B[39;49;00m\u001B[38;5;124;43m    sc_grid = sc_grid[sc_grid[:, 2] != -L/2]\u001B[39;49m\u001B[38;5;130;43;01m\\n\u001B[39;49;00m\u001B[38;5;124;43m    missing_points = []\u001B[39;49m\u001B[38;5;130;43;01m\\n\u001B[39;49;00m\u001B[38;5;124;43m    for point in sc_grid:\u001B[39;49m\u001B[38;5;130;43;01m\\n\u001B[39;49;00m\u001B[38;5;124;43m        p1 = [point[0]+0.5*length_edge, point[1], point[2]+0.5*length_edge]\u001B[39;49m\u001B[38;5;130;43;01m\\n\u001B[39;49;00m\u001B[38;5;124;43m        p2 = [point[0]+0.5*length_edge, point[1]+0.5*length_edge, point[2]]\u001B[39;49m\u001B[38;5;130;43;01m\\n\u001B[39;49;00m\u001B[38;5;124;43m        p3 = [point[0], point[1]+0.5*length_edge, point[2]+0.5*length_edge]\u001B[39;49m\u001B[38;5;130;43;01m\\n\u001B[39;49;00m\u001B[38;5;124;43m        missing_points.append(p1)\u001B[39;49m\u001B[38;5;130;43;01m\\n\u001B[39;49;00m\u001B[38;5;124;43m        missing_points.append(p2)\u001B[39;49m\u001B[38;5;130;43;01m\\n\u001B[39;49;00m\u001B[38;5;124;43m        missing_points.append(p3)\u001B[39;49m\u001B[38;5;130;43;01m\\n\u001B[39;49;00m\u001B[38;5;124;43m    missing_points = np.array(missing_points)\u001B[39;49m\u001B[38;5;130;43;01m\\n\u001B[39;49;00m\u001B[38;5;124;43m    x = sc_grid[:,0]\u001B[39;49m\u001B[38;5;130;43;01m\\n\u001B[39;49;00m\u001B[38;5;124;43m    y = sc_grid[:,1]\u001B[39;49m\u001B[38;5;130;43;01m\\n\u001B[39;49;00m\u001B[38;5;124;43m    z = sc_grid[:,2]\u001B[39;49m\u001B[38;5;130;43;01m\\n\u001B[39;49;00m\u001B[38;5;124;43m    x_m = missing_points[:,0]\u001B[39;49m\u001B[38;5;130;43;01m\\n\u001B[39;49;00m\u001B[38;5;124;43m    y_m = missing_points[:,1]\u001B[39;49m\u001B[38;5;130;43;01m\\n\u001B[39;49;00m\u001B[38;5;124;43m    z_m = missing_points[:,2]\u001B[39;49m\u001B[38;5;130;43;01m\\n\u001B[39;49;00m\u001B[38;5;124;43m    fcc_grid = np.concatenate([sc_grid, missing_points])\u001B[39;49m\u001B[38;5;130;43;01m\\n\u001B[39;49;00m\u001B[38;5;130;43;01m\\n\u001B[39;49;00m\u001B[38;5;124;43m    return fcc_grid\u001B[39;49m\u001B[38;5;130;43;01m\\n\u001B[39;49;00m\u001B[38;5;130;43;01m\\n\u001B[39;49;00m\u001B[38;5;124;43mr_0 = build_fcc()\u001B[39;49m\u001B[38;5;130;43;01m\\n\u001B[39;49;00m\u001B[38;5;124;43mN_0 = r_0.shape[0]\u001B[39;49m\u001B[38;5;130;43;01m\\n\u001B[39;49;00m\u001B[38;5;124;43mv_0 = np.random.normal(0,np.sqrt(T/epsilon*m), (N_0, 3))\u001B[39;49m\u001B[38;5;130;43;01m\\n\u001B[39;49;00m\u001B[38;5;130;43;01m\\n\u001B[39;49;00m\u001B[38;5;124;43mlist_r = [r_0]\u001B[39;49m\u001B[38;5;130;43;01m\\n\u001B[39;49;00m\u001B[38;5;124;43mlist_v = [v_0]\u001B[39;49m\u001B[38;5;130;43;01m\\n\u001B[39;49;00m\u001B[38;5;130;43;01m\\n\u001B[39;49;00m\u001B[38;5;124;43mdef f_optimized(double[:] r_i, double[:] r_j):\u001B[39;49m\u001B[38;5;130;43;01m\\n\u001B[39;49;00m\u001B[38;5;124;43m    cdef double[:] vec_L_min\u001B[39;49m\u001B[38;5;130;43;01m\\n\u001B[39;49;00m\u001B[38;5;124;43m    cdef double[:] r_ij_candidates = np.zeros(27)\u001B[39;49m\u001B[38;5;130;43;01m\\n\u001B[39;49;00m\u001B[38;5;130;43;01m\\n\u001B[39;49;00m\u001B[38;5;124;43m    for i, vec_L in enumerate(list_pbc):\u001B[39;49m\u001B[38;5;130;43;01m\\n\u001B[39;49;00m\u001B[38;5;124;43m        for d in range(3):\u001B[39;49m\u001B[38;5;130;43;01m\\n\u001B[39;49;00m\u001B[38;5;124;43m            r_ij_candidates[i] += (r_i[d] - r_j[d] + L*vec_L[d])**2\u001B[39;49m\u001B[38;5;130;43;01m\\n\u001B[39;49;00m\u001B[38;5;130;43;01m\\n\u001B[39;49;00m\u001B[38;5;124;43m    cdef int index_L_min = np.argmin(r_ij_candidates)\u001B[39;49m\u001B[38;5;130;43;01m\\n\u001B[39;49;00m\u001B[38;5;124;43m    vec_L_min = L * list_pbc[index_L_min]\u001B[39;49m\u001B[38;5;130;43;01m\\n\u001B[39;49;00m\u001B[38;5;124;43m    cdef double r_ij = (r_ij_candidates[index_L_min])\u001B[39;49m\u001B[38;5;130;43;01m\\n\u001B[39;49;00m\u001B[38;5;130;43;01m\\n\u001B[39;49;00m\u001B[38;5;124;43m    cdef double f_x = m * (r_i[0] - r_j[0] + vec_L_min[0]) * (r_ij**(-14) + 0.5 * r_ij**(-8))\u001B[39;49m\u001B[38;5;130;43;01m\\n\u001B[39;49;00m\u001B[38;5;124;43m    cdef double f_y = m * (r_i[1] - r_j[1] + vec_L_min[1]) * (r_ij**(-14) + 0.5 * r_ij**(-8))\u001B[39;49m\u001B[38;5;130;43;01m\\n\u001B[39;49;00m\u001B[38;5;124;43m    cdef double f_z = m * (r_i[2] - r_j[2] + vec_L_min[2]) * (r_ij**(-14) + 0.5 * r_ij**(-8))\u001B[39;49m\u001B[38;5;130;43;01m\\n\u001B[39;49;00m\u001B[38;5;124;43m    return np.array([f_x, f_y, f_z])\u001B[39;49m\u001B[38;5;130;43;01m\\n\u001B[39;49;00m\u001B[38;5;130;43;01m\\n\u001B[39;49;00m\u001B[38;5;124;43mdef arange_without(int i):\u001B[39;49m\u001B[38;5;130;43;01m\\n\u001B[39;49;00m\u001B[38;5;124;43m    cdef int N = 4 * M**3\u001B[39;49m\u001B[38;5;130;43;01m\\n\u001B[39;49;00m\u001B[38;5;124;43m    cdef set indices = set(range(N))\u001B[39;49m\u001B[38;5;130;43;01m\\n\u001B[39;49;00m\u001B[38;5;124;43m    indices.remove(i)\u001B[39;49m\u001B[38;5;130;43;01m\\n\u001B[39;49;00m\u001B[38;5;124;43m    return np.array(list(indices))\u001B[39;49m\u001B[38;5;130;43;01m\\n\u001B[39;49;00m\u001B[38;5;130;43;01m\\n\u001B[39;49;00m\u001B[38;5;124;43mdef verlet_step(double[:, :] r, double[:, :] v):\u001B[39;49m\u001B[38;5;130;43;01m\\n\u001B[39;49;00m\u001B[38;5;124;43m    cdef int i, d\u001B[39;49m\u001B[38;5;130;43;01m\\n\u001B[39;49;00m\u001B[38;5;124;43m    cdef int j, k\u001B[39;49m\u001B[38;5;130;43;01m\\n\u001B[39;49;00m\u001B[38;5;124;43m    cdef double[:,:] v_tilde = np.zeros((r.shape[0], 3), order=\u001B[39;49m\u001B[38;5;130;43;01m\\'\u001B[39;49;00m\u001B[38;5;124;43mC\u001B[39;49m\u001B[38;5;130;43;01m\\'\u001B[39;49;00m\u001B[38;5;124;43m)\u001B[39;49m\u001B[38;5;130;43;01m\\n\u001B[39;49;00m\u001B[38;5;124;43m    cdef double[:,:] r_next = np.zeros((r.shape[0], 3), order=\u001B[39;49m\u001B[38;5;130;43;01m\\'\u001B[39;49;00m\u001B[38;5;124;43mC\u001B[39;49m\u001B[38;5;130;43;01m\\'\u001B[39;49;00m\u001B[38;5;124;43m)\u001B[39;49m\u001B[38;5;130;43;01m\\n\u001B[39;49;00m\u001B[38;5;124;43m    cdef double[:,:] v_next = np.zeros((r.shape[0], 3), order=\u001B[39;49m\u001B[38;5;130;43;01m\\'\u001B[39;49;00m\u001B[38;5;124;43mC\u001B[39;49m\u001B[38;5;130;43;01m\\'\u001B[39;49;00m\u001B[38;5;124;43m)\u001B[39;49m\u001B[38;5;130;43;01m\\n\u001B[39;49;00m\u001B[38;5;124;43m    cdef double[:,:] F_r = np.zeros((r.shape[0], 3), order=\u001B[39;49m\u001B[38;5;130;43;01m\\'\u001B[39;49;00m\u001B[38;5;124;43mC\u001B[39;49m\u001B[38;5;130;43;01m\\'\u001B[39;49;00m\u001B[38;5;124;43m)\u001B[39;49m\u001B[38;5;130;43;01m\\n\u001B[39;49;00m\u001B[38;5;124;43m    cdef double[:,:] f_next = np.zeros((r.shape[0], 3), order=\u001B[39;49m\u001B[38;5;130;43;01m\\'\u001B[39;49;00m\u001B[38;5;124;43mC\u001B[39;49m\u001B[38;5;130;43;01m\\'\u001B[39;49;00m\u001B[38;5;124;43m)\u001B[39;49m\u001B[38;5;130;43;01m\\n\u001B[39;49;00m\u001B[38;5;124;43m    print(\u001B[39;49m\u001B[38;5;124;43m\"\u001B[39;49m\u001B[38;5;124;43mF_r\u001B[39;49m\u001B[38;5;124;43m\"\u001B[39;49m\u001B[38;5;124;43m)\u001B[39;49m\u001B[38;5;130;43;01m\\n\u001B[39;49;00m\u001B[38;5;124;43m    for i in range(r.shape[0]):\u001B[39;49m\u001B[38;5;130;43;01m\\n\u001B[39;49;00m\u001B[38;5;124;43m        for j in range(3):\u001B[39;49m\u001B[38;5;130;43;01m\\n\u001B[39;49;00m\u001B[38;5;124;43m            for k in arange_without(i):\u001B[39;49m\u001B[38;5;130;43;01m\\n\u001B[39;49;00m\u001B[38;5;124;43m                F_r[i,j] += f_optimized(r[i], r[k])[j]\u001B[39;49m\u001B[38;5;130;43;01m\\n\u001B[39;49;00m\u001B[38;5;124;43m            v_tilde[i,j] += v[i,j] + (h/(2.0*m))*F_r[i,j]\u001B[39;49m\u001B[38;5;130;43;01m\\n\u001B[39;49;00m\u001B[38;5;124;43m            r_next[i,j] += r[i,j] + h * v_tilde[i,j]\u001B[39;49m\u001B[38;5;130;43;01m\\n\u001B[39;49;00m\u001B[38;5;124;43m    print(\u001B[39;49m\u001B[38;5;124;43m\"\u001B[39;49m\u001B[38;5;124;43mF_next\u001B[39;49m\u001B[38;5;124;43m\"\u001B[39;49m\u001B[38;5;124;43m)\u001B[39;49m\u001B[38;5;130;43;01m\\n\u001B[39;49;00m\u001B[38;5;124;43m    for i in range(r.shape[0]):\u001B[39;49m\u001B[38;5;130;43;01m\\n\u001B[39;49;00m\u001B[38;5;124;43m        for d in range(3):\u001B[39;49m\u001B[38;5;130;43;01m\\n\u001B[39;49;00m\u001B[38;5;124;43m            for k in arange_without(i):\u001B[39;49m\u001B[38;5;130;43;01m\\n\u001B[39;49;00m\u001B[38;5;124;43m                f_next[i,d] += f_optimized(r_next[i], r_next[k])[d]\u001B[39;49m\u001B[38;5;130;43;01m\\n\u001B[39;49;00m\u001B[38;5;124;43m            v_next[i,d] += v_tilde[i,j] + (h/(2.0*m))*f_next[i,j]\u001B[39;49m\u001B[38;5;130;43;01m\\n\u001B[39;49;00m\u001B[38;5;124;43m    print(\u001B[39;49m\u001B[38;5;124;43m\"\u001B[39;49m\u001B[38;5;124;43mdone\u001B[39;49m\u001B[38;5;124;43m\"\u001B[39;49m\u001B[38;5;124;43m)\u001B[39;49m\u001B[38;5;130;43;01m\\n\u001B[39;49;00m\u001B[38;5;124;43m    return r_next, v_next\u001B[39;49m\u001B[38;5;130;43;01m\\n\u001B[39;49;00m\u001B[38;5;130;43;01m\\n\u001B[39;49;00m\u001B[38;5;124;43m#def verlet_algorithm(double[:, :] r_0, double[:, :] v_0, int num_steps):\u001B[39;49m\u001B[38;5;130;43;01m\\n\u001B[39;49;00m\u001B[38;5;124;43m#    r_0 = np.array(r_0)\u001B[39;49m\u001B[38;5;130;43;01m\\n\u001B[39;49;00m\u001B[38;5;124;43m#    v_0 = np.array(v_0)\u001B[39;49m\u001B[38;5;130;43;01m\\n\u001B[39;49;00m\u001B[38;5;124;43m#    cdef int t\u001B[39;49m\u001B[38;5;130;43;01m\\n\u001B[39;49;00m\u001B[38;5;124;43m#    cdef double[:, ::1] list_r = np.zeros((num_steps + 1, r_0.shape[0], 3), order=\u001B[39;49m\u001B[38;5;130;43;01m\\'\u001B[39;49;00m\u001B[38;5;124;43mC\u001B[39;49m\u001B[38;5;130;43;01m\\'\u001B[39;49;00m\u001B[38;5;124;43m)\u001B[39;49m\u001B[38;5;130;43;01m\\n\u001B[39;49;00m\u001B[38;5;124;43m#    cdef double[:, ::1] list_v = np.zeros((num_steps + 1, v_0.shape[0], 3), order=\u001B[39;49m\u001B[38;5;130;43;01m\\'\u001B[39;49;00m\u001B[38;5;124;43mC\u001B[39;49m\u001B[38;5;130;43;01m\\'\u001B[39;49;00m\u001B[38;5;124;43m)\u001B[39;49m\u001B[38;5;130;43;01m\\n\u001B[39;49;00m\u001B[38;5;124;43m#    list_r = np.array(list_r)\u001B[39;49m\u001B[38;5;130;43;01m\\n\u001B[39;49;00m\u001B[38;5;124;43m#    list_v = np.array(list_v)\u001B[39;49m\u001B[38;5;130;43;01m\\n\u001B[39;49;00m\u001B[38;5;124;43m#    print(list_r.shape)\u001B[39;49m\u001B[38;5;130;43;01m\\n\u001B[39;49;00m\u001B[38;5;124;43m#    list_r[0] = r_0\u001B[39;49m\u001B[38;5;130;43;01m\\n\u001B[39;49;00m\u001B[38;5;124;43m#    list_v[0] = v_0\u001B[39;49m\u001B[38;5;130;43;01m\\n\u001B[39;49;00m\u001B[38;5;124;43m#    print(\u001B[39;49m\u001B[38;5;124;43m\"\u001B[39;49m\u001B[38;5;124;43m3\u001B[39;49m\u001B[38;5;124;43m\"\u001B[39;49m\u001B[38;5;124;43m)\u001B[39;49m\u001B[38;5;130;43;01m\\n\u001B[39;49;00m\u001B[38;5;124;43m#    for t in tqdm(range(num_steps)):\u001B[39;49m\u001B[38;5;130;43;01m\\n\u001B[39;49;00m\u001B[38;5;124;43m#        r_new, v_new = verlet_step(list_r[t], list_v[t])\u001B[39;49m\u001B[38;5;130;43;01m\\n\u001B[39;49;00m\u001B[38;5;130;43;01m\\n\u001B[39;49;00m\u001B[38;5;124;43m#        print(\u001B[39;49m\u001B[38;5;124;43m\"\u001B[39;49m\u001B[38;5;124;43mShapes: r_new=\u001B[39;49m\u001B[38;5;132;43;01m{}\u001B[39;49;00m\u001B[38;5;124;43m, v_new=\u001B[39;49m\u001B[38;5;132;43;01m{}\u001B[39;49;00m\u001B[38;5;124;43m, list_r[t+1]=\u001B[39;49m\u001B[38;5;132;43;01m{}\u001B[39;49;00m\u001B[38;5;124;43m, list_v[t+1]=\u001B[39;49m\u001B[38;5;132;43;01m{}\u001B[39;49;00m\u001B[38;5;124;43m\"\u001B[39;49m\u001B[38;5;124;43m.format(\u001B[39;49m\u001B[38;5;130;43;01m\\n\u001B[39;49;00m\u001B[38;5;124;43m#            r_new.shape, v_new.shape, list_r[t+1].shape, list_v[t+1].shape))\u001B[39;49m\u001B[38;5;130;43;01m\\n\u001B[39;49;00m\u001B[38;5;130;43;01m\\n\u001B[39;49;00m\u001B[38;5;124;43m#        list_r[t+1] = r_new.reshape(-1)\u001B[39;49m\u001B[38;5;130;43;01m\\n\u001B[39;49;00m\u001B[38;5;124;43m#        list_v[t+1] = v_new.reshape(-1)\u001B[39;49m\u001B[38;5;130;43;01m\\n\u001B[39;49;00m\u001B[38;5;124;43m#    return list_r, list_v\u001B[39;49m\u001B[38;5;130;43;01m\\n\u001B[39;49;00m\u001B[38;5;130;43;01m\\n\u001B[39;49;00m\u001B[38;5;124;43mdef Temperature(v):\u001B[39;49m\u001B[38;5;130;43;01m\\n\u001B[39;49;00m\u001B[38;5;124;43m    return 16*np.mean([(v_i[0]**2)+(v_i[1]**2)+(v_i[2]**2) for v_i in v])\u001B[39;49m\u001B[38;5;130;43;01m\\n\u001B[39;49;00m\u001B[38;5;130;43;01m\\n\u001B[39;49;00m\u001B[38;5;124;43mfor t in tqdm(range(num_steps)):\u001B[39;49m\u001B[38;5;130;43;01m\\n\u001B[39;49;00m\u001B[38;5;124;43m        print(f\u001B[39;49m\u001B[38;5;124;43m\"\u001B[39;49m\u001B[38;5;124;43mHAllo \u001B[39;49m\u001B[38;5;132;43;01m{t}\u001B[39;49;00m\u001B[38;5;124;43m\"\u001B[39;49m\u001B[38;5;124;43m)\u001B[39;49m\u001B[38;5;130;43;01m\\n\u001B[39;49;00m\u001B[38;5;124;43m        #bytes(str(list_r[-1]), \u001B[39;49m\u001B[38;5;130;43;01m\\'\u001B[39;49;00m\u001B[38;5;124;43mutf-8\u001B[39;49m\u001B[38;5;130;43;01m\\'\u001B[39;49;00m\u001B[38;5;124;43m)\u001B[39;49m\u001B[38;5;130;43;01m\\n\u001B[39;49;00m\u001B[38;5;124;43m        r_new, v_new = verlet_step(list_r[t], list_v[t])\u001B[39;49m\u001B[38;5;130;43;01m\\n\u001B[39;49;00m\u001B[38;5;124;43m        list_r.append(r_new)\u001B[39;49m\u001B[38;5;130;43;01m\\n\u001B[39;49;00m\u001B[38;5;124;43m        list_v.append(v_new)\u001B[39;49m\u001B[38;5;130;43;01m\\n\u001B[39;49;00m\u001B[38;5;124;43m'\u001B[39;49m\u001B[43m)\u001B[49m\n",
      "File \u001B[1;32m~\\PycharmProjects\\Computational-physics\\venv\\Lib\\site-packages\\IPython\\core\\interactiveshell.py:2517\u001B[0m, in \u001B[0;36mInteractiveShell.run_cell_magic\u001B[1;34m(self, magic_name, line, cell)\u001B[0m\n\u001B[0;32m   2515\u001B[0m \u001B[38;5;28;01mwith\u001B[39;00m \u001B[38;5;28mself\u001B[39m\u001B[38;5;241m.\u001B[39mbuiltin_trap:\n\u001B[0;32m   2516\u001B[0m     args \u001B[38;5;241m=\u001B[39m (magic_arg_s, cell)\n\u001B[1;32m-> 2517\u001B[0m     result \u001B[38;5;241m=\u001B[39m \u001B[43mfn\u001B[49m\u001B[43m(\u001B[49m\u001B[38;5;241;43m*\u001B[39;49m\u001B[43margs\u001B[49m\u001B[43m,\u001B[49m\u001B[43m \u001B[49m\u001B[38;5;241;43m*\u001B[39;49m\u001B[38;5;241;43m*\u001B[39;49m\u001B[43mkwargs\u001B[49m\u001B[43m)\u001B[49m\n\u001B[0;32m   2519\u001B[0m \u001B[38;5;66;03m# The code below prevents the output from being displayed\u001B[39;00m\n\u001B[0;32m   2520\u001B[0m \u001B[38;5;66;03m# when using magics with decorator @output_can_be_silenced\u001B[39;00m\n\u001B[0;32m   2521\u001B[0m \u001B[38;5;66;03m# when the last Python token in the expression is a ';'.\u001B[39;00m\n\u001B[0;32m   2522\u001B[0m \u001B[38;5;28;01mif\u001B[39;00m \u001B[38;5;28mgetattr\u001B[39m(fn, magic\u001B[38;5;241m.\u001B[39mMAGIC_OUTPUT_CAN_BE_SILENCED, \u001B[38;5;28;01mFalse\u001B[39;00m):\n",
      "File \u001B[1;32m~\\PycharmProjects\\Computational-physics\\venv\\Lib\\site-packages\\Cython\\Build\\IpythonMagic.py:359\u001B[0m, in \u001B[0;36mCythonMagics.cython\u001B[1;34m(self, line, cell)\u001B[0m\n\u001B[0;32m    356\u001B[0m \u001B[38;5;66;03m# Build seems ok, but we might still want to show any warnings that occurred\u001B[39;00m\n\u001B[0;32m    357\u001B[0m print_compiler_output(get_stdout(), get_stderr(), sys\u001B[38;5;241m.\u001B[39mstdout)\n\u001B[1;32m--> 359\u001B[0m module \u001B[38;5;241m=\u001B[39m \u001B[43mload_dynamic\u001B[49m\u001B[43m(\u001B[49m\u001B[43mmodule_name\u001B[49m\u001B[43m,\u001B[49m\u001B[43m \u001B[49m\u001B[43mmodule_path\u001B[49m\u001B[43m)\u001B[49m\n\u001B[0;32m    360\u001B[0m \u001B[38;5;28mself\u001B[39m\u001B[38;5;241m.\u001B[39m_import_all(module)\n\u001B[0;32m    362\u001B[0m \u001B[38;5;28;01mif\u001B[39;00m args\u001B[38;5;241m.\u001B[39mannotate:\n",
      "File \u001B[1;32m~\\PycharmProjects\\Computational-physics\\venv\\Lib\\site-packages\\Cython\\Build\\Inline.py:51\u001B[0m, in \u001B[0;36mload_dynamic\u001B[1;34m(name, path)\u001B[0m\n\u001B[0;32m     49\u001B[0m spec \u001B[38;5;241m=\u001B[39m importlib\u001B[38;5;241m.\u001B[39mutil\u001B[38;5;241m.\u001B[39mspec_from_file_location(name, loader\u001B[38;5;241m=\u001B[39mExtensionFileLoader(name, path))\n\u001B[0;32m     50\u001B[0m module \u001B[38;5;241m=\u001B[39m importlib\u001B[38;5;241m.\u001B[39mutil\u001B[38;5;241m.\u001B[39mmodule_from_spec(spec)\n\u001B[1;32m---> 51\u001B[0m \u001B[43mspec\u001B[49m\u001B[38;5;241;43m.\u001B[39;49m\u001B[43mloader\u001B[49m\u001B[38;5;241;43m.\u001B[39;49m\u001B[43mexec_module\u001B[49m\u001B[43m(\u001B[49m\u001B[43mmodule\u001B[49m\u001B[43m)\u001B[49m\n\u001B[0;32m     52\u001B[0m \u001B[38;5;28;01mreturn\u001B[39;00m module\n",
      "File \u001B[1;32m<frozen importlib._bootstrap_external>:1241\u001B[0m, in \u001B[0;36mexec_module\u001B[1;34m(self, module)\u001B[0m\n",
      "File \u001B[1;32m<frozen importlib._bootstrap>:241\u001B[0m, in \u001B[0;36m_call_with_frames_removed\u001B[1;34m(f, *args, **kwds)\u001B[0m\n",
      "File \u001B[1;32m_cython_magic_03d7d3411128b998d63ecc60211a5e764a8dce0b.pyx:130\u001B[0m, in \u001B[0;36minit _cython_magic_03d7d3411128b998d63ecc60211a5e764a8dce0b\u001B[1;34m()\u001B[0m\n",
      "File \u001B[1;32m_cython_magic_03d7d3411128b998d63ecc60211a5e764a8dce0b.pyx:90\u001B[0m, in \u001B[0;36m_cython_magic_03d7d3411128b998d63ecc60211a5e764a8dce0b.verlet_step\u001B[1;34m()\u001B[0m\n",
      "File \u001B[1;32m_cython_magic_03d7d3411128b998d63ecc60211a5e764a8dce0b.pyx:63\u001B[0m, in \u001B[0;36m_cython_magic_03d7d3411128b998d63ecc60211a5e764a8dce0b.f_optimized\u001B[1;34m()\u001B[0m\n",
      "File \u001B[1;32m~\\PycharmProjects\\Computational-physics\\venv\\Lib\\site-packages\\numpy\\core\\fromnumeric.py:1325\u001B[0m, in \u001B[0;36margmin\u001B[1;34m(a, axis, out, keepdims)\u001B[0m\n\u001B[0;32m   1238\u001B[0m \u001B[38;5;250m\u001B[39m\u001B[38;5;124;03m\"\"\"\u001B[39;00m\n\u001B[0;32m   1239\u001B[0m \u001B[38;5;124;03mReturns the indices of the minimum values along an axis.\u001B[39;00m\n\u001B[0;32m   1240\u001B[0m \n\u001B[1;32m   (...)\u001B[0m\n\u001B[0;32m   1322\u001B[0m \u001B[38;5;124;03m(2, 1, 4)\u001B[39;00m\n\u001B[0;32m   1323\u001B[0m \u001B[38;5;124;03m\"\"\"\u001B[39;00m\n\u001B[0;32m   1324\u001B[0m kwds \u001B[38;5;241m=\u001B[39m {\u001B[38;5;124m'\u001B[39m\u001B[38;5;124mkeepdims\u001B[39m\u001B[38;5;124m'\u001B[39m: keepdims} \u001B[38;5;28;01mif\u001B[39;00m keepdims \u001B[38;5;129;01mis\u001B[39;00m \u001B[38;5;129;01mnot\u001B[39;00m np\u001B[38;5;241m.\u001B[39m_NoValue \u001B[38;5;28;01melse\u001B[39;00m {}\n\u001B[1;32m-> 1325\u001B[0m \u001B[38;5;28;01mreturn\u001B[39;00m \u001B[43m_wrapfunc\u001B[49m\u001B[43m(\u001B[49m\u001B[43ma\u001B[49m\u001B[43m,\u001B[49m\u001B[43m \u001B[49m\u001B[38;5;124;43m'\u001B[39;49m\u001B[38;5;124;43margmin\u001B[39;49m\u001B[38;5;124;43m'\u001B[39;49m\u001B[43m,\u001B[49m\u001B[43m \u001B[49m\u001B[43maxis\u001B[49m\u001B[38;5;241;43m=\u001B[39;49m\u001B[43maxis\u001B[49m\u001B[43m,\u001B[49m\u001B[43m \u001B[49m\u001B[43mout\u001B[49m\u001B[38;5;241;43m=\u001B[39;49m\u001B[43mout\u001B[49m\u001B[43m,\u001B[49m\u001B[43m \u001B[49m\u001B[38;5;241;43m*\u001B[39;49m\u001B[38;5;241;43m*\u001B[39;49m\u001B[43mkwds\u001B[49m\u001B[43m)\u001B[49m\n",
      "File \u001B[1;32m~\\PycharmProjects\\Computational-physics\\venv\\Lib\\site-packages\\numpy\\core\\fromnumeric.py:56\u001B[0m, in \u001B[0;36m_wrapfunc\u001B[1;34m(obj, method, *args, **kwds)\u001B[0m\n\u001B[0;32m     54\u001B[0m bound \u001B[38;5;241m=\u001B[39m \u001B[38;5;28mgetattr\u001B[39m(obj, method, \u001B[38;5;28;01mNone\u001B[39;00m)\n\u001B[0;32m     55\u001B[0m \u001B[38;5;28;01mif\u001B[39;00m bound \u001B[38;5;129;01mis\u001B[39;00m \u001B[38;5;28;01mNone\u001B[39;00m:\n\u001B[1;32m---> 56\u001B[0m     \u001B[38;5;28;01mreturn\u001B[39;00m \u001B[43m_wrapit\u001B[49m\u001B[43m(\u001B[49m\u001B[43mobj\u001B[49m\u001B[43m,\u001B[49m\u001B[43m \u001B[49m\u001B[43mmethod\u001B[49m\u001B[43m,\u001B[49m\u001B[43m \u001B[49m\u001B[38;5;241;43m*\u001B[39;49m\u001B[43margs\u001B[49m\u001B[43m,\u001B[49m\u001B[43m \u001B[49m\u001B[38;5;241;43m*\u001B[39;49m\u001B[38;5;241;43m*\u001B[39;49m\u001B[43mkwds\u001B[49m\u001B[43m)\u001B[49m\n\u001B[0;32m     58\u001B[0m \u001B[38;5;28;01mtry\u001B[39;00m:\n\u001B[0;32m     59\u001B[0m     \u001B[38;5;28;01mreturn\u001B[39;00m bound(\u001B[38;5;241m*\u001B[39margs, \u001B[38;5;241m*\u001B[39m\u001B[38;5;241m*\u001B[39mkwds)\n",
      "File \u001B[1;32m~\\PycharmProjects\\Computational-physics\\venv\\Lib\\site-packages\\numpy\\core\\fromnumeric.py:45\u001B[0m, in \u001B[0;36m_wrapit\u001B[1;34m(obj, method, *args, **kwds)\u001B[0m\n\u001B[0;32m     43\u001B[0m \u001B[38;5;28;01mexcept\u001B[39;00m \u001B[38;5;167;01mAttributeError\u001B[39;00m:\n\u001B[0;32m     44\u001B[0m     wrap \u001B[38;5;241m=\u001B[39m \u001B[38;5;28;01mNone\u001B[39;00m\n\u001B[1;32m---> 45\u001B[0m result \u001B[38;5;241m=\u001B[39m \u001B[38;5;28;43mgetattr\u001B[39;49m\u001B[43m(\u001B[49m\u001B[43masarray\u001B[49m\u001B[43m(\u001B[49m\u001B[43mobj\u001B[49m\u001B[43m)\u001B[49m\u001B[43m,\u001B[49m\u001B[43m \u001B[49m\u001B[43mmethod\u001B[49m\u001B[43m)\u001B[49m\u001B[43m(\u001B[49m\u001B[38;5;241;43m*\u001B[39;49m\u001B[43margs\u001B[49m\u001B[43m,\u001B[49m\u001B[43m \u001B[49m\u001B[38;5;241;43m*\u001B[39;49m\u001B[38;5;241;43m*\u001B[39;49m\u001B[43mkwds\u001B[49m\u001B[43m)\u001B[49m\n\u001B[0;32m     46\u001B[0m \u001B[38;5;28;01mif\u001B[39;00m wrap:\n\u001B[0;32m     47\u001B[0m     \u001B[38;5;28;01mif\u001B[39;00m \u001B[38;5;129;01mnot\u001B[39;00m \u001B[38;5;28misinstance\u001B[39m(result, mu\u001B[38;5;241m.\u001B[39mndarray):\n",
      "\u001B[1;31mKeyboardInterrupt\u001B[0m: "
     ]
    }
   ],
   "source": [
    "%%cython\n",
    "import numpy as np\n",
    "from itertools import product\n",
    "from tqdm import tqdm\n",
    "\n",
    "cdef double rho = 0.85\n",
    "cdef double h = 0.016\n",
    "cdef int m = 48 # Be aware that m is also defined later outside of the cython\n",
    "cdef double T = 2.0\n",
    "cdef int M = 4   # cube root of number of unit cells in the L^3 volume, gives N=864 particles\n",
    "cdef double L = np.cbrt((4*M**3)/rho)\n",
    "cdef int num_steps = 1000\n",
    "cdef double sigma = 3.405 #Angstrom\n",
    "cdef double epsilon = 119.8 #K\n",
    "\n",
    "list_pbc = list(product([0, 1, -1], repeat=3))\n",
    "list_pbc = L*np.array(list_pbc)\n",
    "\n",
    "def build_fcc():\n",
    "    \"\"\"\n",
    "    :param M: integer. cube root of Number of unit cells\n",
    "    :return: fcc grid for the L*L cube (np.array of shape (n_points, 3))\n",
    "    \"\"\"\n",
    "    range_values_sc = np.linspace(-L/2, L/2, M+1)\n",
    "    length_edge = np.abs(range_values_sc[0]-range_values_sc[1]) #L/(rho-1)\n",
    "    sc_grid = np.array(list(product(range_values_sc, repeat=3)))\n",
    "    sc_grid = sc_grid[sc_grid[:, 0] != -L/2]\n",
    "    sc_grid = sc_grid[sc_grid[:, 1] != -L/2]\n",
    "    sc_grid = sc_grid[sc_grid[:, 2] != -L/2]\n",
    "    missing_points = []\n",
    "    for point in sc_grid:\n",
    "        p1 = [point[0]+0.5*length_edge, point[1], point[2]+0.5*length_edge]\n",
    "        p2 = [point[0]+0.5*length_edge, point[1]+0.5*length_edge, point[2]]\n",
    "        p3 = [point[0], point[1]+0.5*length_edge, point[2]+0.5*length_edge]\n",
    "        missing_points.append(p1)\n",
    "        missing_points.append(p2)\n",
    "        missing_points.append(p3)\n",
    "    missing_points = np.array(missing_points)\n",
    "    x = sc_grid[:,0]\n",
    "    y = sc_grid[:,1]\n",
    "    z = sc_grid[:,2]\n",
    "    x_m = missing_points[:,0]\n",
    "    y_m = missing_points[:,1]\n",
    "    z_m = missing_points[:,2]\n",
    "    fcc_grid = np.concatenate([sc_grid, missing_points])\n",
    "\n",
    "    return fcc_grid\n",
    "\n",
    "r_0 = build_fcc()\n",
    "N_0 = r_0.shape[0]\n",
    "v_0 = np.random.normal(0,np.sqrt(T/epsilon*m), (N_0, 3))\n",
    "\n",
    "list_r = [r_0]\n",
    "list_v = [v_0]\n",
    "\n",
    "def f_optimized(double[:] r_i, double[:] r_j):\n",
    "    cdef double[:] vec_L_min\n",
    "    cdef double[:] r_ij_candidates = np.zeros(27)\n",
    "\n",
    "    for i, vec_L in enumerate(list_pbc):\n",
    "        for d in range(3):\n",
    "            r_ij_candidates[i] += (r_i[d] - r_j[d] + L*vec_L[d])**2\n",
    "\n",
    "    cdef int index_L_min = np.argmin(r_ij_candidates)\n",
    "    vec_L_min = L * list_pbc[index_L_min]\n",
    "    cdef double r_ij = (r_ij_candidates[index_L_min])\n",
    "\n",
    "    cdef double f_x = m * (r_i[0] - r_j[0] + vec_L_min[0]) * (r_ij**(-14) + 0.5 * r_ij**(-8))\n",
    "    cdef double f_y = m * (r_i[1] - r_j[1] + vec_L_min[1]) * (r_ij**(-14) + 0.5 * r_ij**(-8))\n",
    "    cdef double f_z = m * (r_i[2] - r_j[2] + vec_L_min[2]) * (r_ij**(-14) + 0.5 * r_ij**(-8))\n",
    "    return np.array([f_x, f_y, f_z])\n",
    "\n",
    "def arange_without(int i):\n",
    "    cdef int N = 4 * M**3\n",
    "    cdef set indices = set(range(N))\n",
    "    indices.remove(i)\n",
    "    return np.array(list(indices))\n",
    "\n",
    "def verlet_step(double[:, :] r, double[:, :] v):\n",
    "    cdef int i, d\n",
    "    cdef int j, k\n",
    "    cdef double[:,:] v_tilde = np.zeros((r.shape[0], 3), order='C')\n",
    "    cdef double[:,:] r_next = np.zeros((r.shape[0], 3), order='C')\n",
    "    cdef double[:,:] v_next = np.zeros((r.shape[0], 3), order='C')\n",
    "    cdef double[:,:] F_r = np.zeros((r.shape[0], 3), order='C')\n",
    "    cdef double[:,:] f_next = np.zeros((r.shape[0], 3), order='C')\n",
    "    print(\"F_r\")\n",
    "    for i in range(r.shape[0]):\n",
    "        for j in range(3):\n",
    "            for k in arange_without(i):\n",
    "                F_r[i,j] += f_optimized(r[i], r[k])[j]\n",
    "            v_tilde[i,j] += v[i,j] + (h/(2.0*m))*F_r[i,j]\n",
    "            r_next[i,j] += r[i,j] + h * v_tilde[i,j]\n",
    "    print(\"F_next\")\n",
    "    for i in range(r.shape[0]):\n",
    "        for d in range(3):\n",
    "            for k in arange_without(i):\n",
    "                f_next[i,d] += f_optimized(r_next[i], r_next[k])[d]\n",
    "            v_next[i,d] += v_tilde[i,j] + (h/(2.0*m))*f_next[i,j]\n",
    "    print(\"done\")\n",
    "    return r_next, v_next\n",
    "\n",
    "#def verlet_algorithm(double[:, :] r_0, double[:, :] v_0, int num_steps):\n",
    "#    r_0 = np.array(r_0)\n",
    "#    v_0 = np.array(v_0)\n",
    "#    cdef int t\n",
    "#    cdef double[:, ::1] list_r = np.zeros((num_steps + 1, r_0.shape[0], 3), order='C')\n",
    "#    cdef double[:, ::1] list_v = np.zeros((num_steps + 1, v_0.shape[0], 3), order='C')\n",
    "#    list_r = np.array(list_r)\n",
    "#    list_v = np.array(list_v)\n",
    "#    print(list_r.shape)\n",
    "#    list_r[0] = r_0\n",
    "#    list_v[0] = v_0\n",
    "#    print(\"3\")\n",
    "#    for t in tqdm(range(num_steps)):\n",
    "#        r_new, v_new = verlet_step(list_r[t], list_v[t])\n",
    "\n",
    "#        print(\"Shapes: r_new={}, v_new={}, list_r[t+1]={}, list_v[t+1]={}\".format(\n",
    "#            r_new.shape, v_new.shape, list_r[t+1].shape, list_v[t+1].shape))\n",
    "\n",
    "#        list_r[t+1] = r_new.reshape(-1)\n",
    "#        list_v[t+1] = v_new.reshape(-1)\n",
    "#    return list_r, list_v\n",
    "\n",
    "def Temperature(v):\n",
    "    return 16*np.mean([(v_i[0]**2)+(v_i[1]**2)+(v_i[2]**2) for v_i in v])\n",
    "\n",
    "for t in tqdm(range(num_steps)):\n",
    "        print(f\"HAllo {t}\")\n",
    "        #bytes(str(list_r[-1]), 'utf-8')\n",
    "        r_new, v_new = verlet_step(list_r[t], list_v[t])\n",
    "        list_r.append(r_new)\n",
    "        list_v.append(v_new)"
   ],
   "metadata": {
    "collapsed": false,
    "ExecuteTime": {
     "end_time": "2023-12-06T17:58:55.787912500Z",
     "start_time": "2023-12-06T17:56:29.396568800Z"
    }
   }
  },
  {
   "cell_type": "code",
   "execution_count": null,
   "outputs": [],
   "source": [
    "T = 2.0\n",
    "sigma = 3.405 #Angstrom\n",
    "epsilon = 119.8 #K\n",
    "m = 48 # Be careful, m is also defined in the cython\n",
    "\n",
    "r_0 = build_fcc()\n",
    "\n",
    "tp = np.sqrt(48*epsilon/(m*sigma**2)) #*t\n",
    "\n",
    "t_max = 1000\n",
    "#r_total, v_total = verlet_algorithm(r_0, v_0, t_max)"
   ],
   "metadata": {
    "collapsed": false
   }
  },
  {
   "cell_type": "code",
   "execution_count": null,
   "outputs": [],
   "source": [
    "r_0.shape"
   ],
   "metadata": {
    "collapsed": false
   }
  },
  {
   "cell_type": "code",
   "execution_count": null,
   "outputs": [],
   "source": [
    "\"\"\"\n",
    "r_0: Initial positions of the system\n",
    "    r_0[i]: 1D-array with 3 values, the coordinates of the i'th particle\n",
    "v_0: Initial velocities of the system particles\n",
    "    v_0[i]: 1D-array with 3 values, the velocity values of the i'th particle\n",
    "\"\"\""
   ],
   "metadata": {
    "collapsed": false
   }
  },
  {
   "cell_type": "code",
   "execution_count": null,
   "outputs": [],
   "source": [
    "print(N_0)"
   ],
   "metadata": {
    "collapsed": false
   }
  },
  {
   "cell_type": "code",
   "execution_count": null,
   "outputs": [],
   "source": [
    "#Seeing how the initial state looks like\n",
    "#ax = plt.figure().add_subplot(projection='3d')\n",
    "\n",
    "fig = plt.figure()\n",
    "ax = fig.add_subplot(projection='3d')\n",
    "\n",
    "# Extract x, y, and z coordinates\n",
    "x = r_0[:,0].flatten()\n",
    "y = r_0[:,1].flatten()\n",
    "z = r_0[:,2].flatten()\n",
    "\n",
    "# Plot the points\n",
    "ax.scatter(x, y, z, c='r', marker='o', alpha=0.5)\n",
    "\n",
    "# Set labels\n",
    "ax.set_xlabel('X-axis')\n",
    "ax.set_ylabel('Y-axis')\n",
    "ax.set_zlabel('Z-axis')\n",
    "\n",
    "# Set the title\n",
    "ax.set_title('Initial state of the Argon ')\n",
    "\n",
    "# Show the plot\n",
    "#plt.show()"
   ],
   "metadata": {
    "collapsed": false
   }
  },
  {
   "cell_type": "code",
   "execution_count": null,
   "outputs": [],
   "source": [
    "t_max = 1000\n",
    "\n",
    "r_total, v_total = verlet_algorithm(r_0, v_0, t_max)"
   ],
   "metadata": {
    "collapsed": false
   }
  },
  {
   "cell_type": "code",
   "execution_count": null,
   "outputs": [],
   "source": [
    "fig = plt.figure()\n",
    "ax = fig.add_subplot(projection='3d')\n",
    "\n",
    "ax.plot(r_total[:,0,0], r_total[:,0,1], r_total[:,0,2], alpha=0.5, markersize= 10, label= \"particle 0\")\n",
    "ax.plot(r_total[:,1,0], r_total[:,1,1], r_total[:,1,2], alpha=0.5, markersize=10, label= \"particle 1\")\n",
    "\n",
    "ax.set_xlabel('X-axis')\n",
    "ax.set_ylabel('Y-axis')\n",
    "ax.set_zlabel('Z-axis')\n",
    "ax.set_title('Trajectories ')\n",
    "plt.legend()"
   ],
   "metadata": {
    "collapsed": false
   }
  },
  {
   "cell_type": "code",
   "execution_count": null,
   "outputs": [],
   "source": [
    "T_total = [Temperature(v_t) for v_t in v_total]\n",
    "plt.plot(np.arange(t_max+1)*tp, T_total)\n",
    "plt.title(\"Temperature over time\")\n",
    "plt.xlabel(\"$t^*$\")\n",
    "plt.ylabel(\"$T^*$\")"
   ],
   "metadata": {
    "collapsed": false
   }
  },
  {
   "cell_type": "code",
   "execution_count": null,
   "outputs": [],
   "source": [
    "T_total"
   ],
   "metadata": {
    "collapsed": false
   }
  },
  {
   "cell_type": "code",
   "execution_count": null,
   "outputs": [],
   "source": [
    "flattened_array_r = r_total.reshape(-1, r_total.shape[-1])\n",
    "flattened_array_v = v_total.reshape(-1, v_total.shape[-1])\n",
    "\n",
    "# Save the flattened array to a CSV file\n",
    "\n",
    "np.savetxt(\"r_total.txt\", flattened_array_r, delimiter=\",\")\n",
    "np.savetxt(\"v_total.txt\", flattened_array_v, delimiter=\",\")"
   ],
   "metadata": {
    "collapsed": false
   }
  },
  {
   "cell_type": "code",
   "execution_count": null,
   "outputs": [],
   "source": [
    "plt.plot(np.arange(t_max+1)*tp, [F(r_total[t])[0,0] for t in range(t_max+1)])\n",
    "plt.title(\"Force that acts on particle 0 in x-direction over time\")"
   ],
   "metadata": {
    "collapsed": false
   }
  },
  {
   "cell_type": "code",
   "execution_count": null,
   "outputs": [],
   "source": [
    "float_value = 3.14\n",
    "bytes_value = bytes(str(float_value), 'utf-8')\n",
    "print(bytes_value)"
   ],
   "metadata": {
    "collapsed": false
   }
  }
 ],
 "metadata": {
  "kernelspec": {
   "display_name": "Python 3",
   "language": "python",
   "name": "python3"
  },
  "language_info": {
   "codemirror_mode": {
    "name": "ipython",
    "version": 2
   },
   "file_extension": ".py",
   "mimetype": "text/x-python",
   "name": "python",
   "nbconvert_exporter": "python",
   "pygments_lexer": "ipython2",
   "version": "2.7.6"
  }
 },
 "nbformat": 4,
 "nbformat_minor": 0
}
