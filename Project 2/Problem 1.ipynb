{
 "cells": [
  {
   "cell_type": "markdown",
   "source": [
    "# 1D Ising model\n",
    "\n",
    "Write a program that implements the Metropolis algorithm for single spin flips in a 1D\n",
    "Ising model of $N$ spins producing a new spin configuration $X_{k+1}$ from the present spin\n",
    "configuration $X_k$. Use the canonical ensemble for a heat bath of temperature $T$. Set\n",
    "up periodic boundary conditions (effectively bending the chain into circle, such that the\n",
    "first and the last spin are adjacent to each other). Choose units such that $J = 1$. The\n",
    "thermal energy $k_B T$ is given in units of J."
   ],
   "metadata": {
    "collapsed": false
   },
   "id": "dad4898254ed55f3"
  },
  {
   "cell_type": "code",
   "execution_count": 2,
   "outputs": [],
   "source": [
    "import numpy as np\n",
    "import matplotlib.pyplot as plt"
   ],
   "metadata": {
    "collapsed": false,
    "ExecuteTime": {
     "end_time": "2023-11-15T11:54:19.471255Z",
     "start_time": "2023-11-15T11:54:18.682706100Z"
    }
   },
   "id": "1e0a677fe7640b2e"
  },
  {
   "cell_type": "code",
   "execution_count": 4,
   "outputs": [],
   "source": [
    "random_sequence = np.random.choice([1, -1], size=500)\n",
    "\n",
    "# canonical ensemble\n",
    "# boundary conditions\n",
    "\n",
    "def energy(config, H):\n",
    "    config.append(config[0]) #periodic boundary conditions"
   ],
   "metadata": {
    "collapsed": false,
    "ExecuteTime": {
     "end_time": "2023-11-15T11:55:56.672033300Z",
     "start_time": "2023-11-15T11:55:56.670253500Z"
    }
   },
   "id": "195e95a8f75eabf0"
  },
  {
   "cell_type": "markdown",
   "source": [
    "a) Set $N = 30$, and $k_B T = 1$ and simulate $L = 500$ individual trial spin flips. Begin\n",
    "from a “cold” initial state, where all spins are pointing to the same direction. Set\n",
    "the external magnetic field to $H = 0$. Visualise how the spin configuration changes\n",
    "with the number of trial spin flips (i.e. with time). It might be advantageous for the\n",
    "visualisation to show the configuration only after every 5th trial or so. What can\n",
    "you observe? (4 points)\n"
   ],
   "metadata": {
    "collapsed": false
   },
   "id": "4a68b3b8b6e0c37a"
  },
  {
   "cell_type": "code",
   "execution_count": null,
   "outputs": [],
   "source": [],
   "metadata": {
    "collapsed": false
   },
   "id": "7dd519fe8552e5e"
  }
 ],
 "metadata": {
  "kernelspec": {
   "display_name": "Python 3",
   "language": "python",
   "name": "python3"
  },
  "language_info": {
   "codemirror_mode": {
    "name": "ipython",
    "version": 2
   },
   "file_extension": ".py",
   "mimetype": "text/x-python",
   "name": "python",
   "nbconvert_exporter": "python",
   "pygments_lexer": "ipython2",
   "version": "2.7.6"
  }
 },
 "nbformat": 4,
 "nbformat_minor": 5
}
