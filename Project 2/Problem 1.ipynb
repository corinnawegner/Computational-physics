{
 "cells": [
  {
   "cell_type": "markdown",
   "source": [
    "# 1D Ising model\n",
    "\n",
    "Write a program that implements the Metropolis algorithm for single spin flips in a 1D\n",
    "Ising model of $N$ spins producing a new spin configuration $X_{k+1}$ from the present spin\n",
    "configuration $X_k$. Use the canonical ensemble for a heat bath of temperature $T$. Set\n",
    "up periodic boundary conditions (effectively bending the chain into circle, such that the\n",
    "first and the last spin are adjacent to each other). Choose units such that $J = 1$. The\n",
    "thermal energy $k_B T$ is given in units of J."
   ],
   "metadata": {
    "collapsed": false
   },
   "id": "dad4898254ed55f3"
  },
  {
   "cell_type": "code",
   "execution_count": 2,
   "outputs": [],
   "source": [
    "import numpy as np\n",
    "import matplotlib.pyplot as plt"
   ],
   "metadata": {
    "collapsed": false,
    "ExecuteTime": {
     "end_time": "2023-11-15T11:54:19.471255Z",
     "start_time": "2023-11-15T11:54:18.682706100Z"
    }
   },
   "id": "1e0a677fe7640b2e"
  },
  {
   "cell_type": "markdown",
   "source": [
    "a) Set $N = 30$, and $k_B T = 1$ and simulate $L = 500$ individual trial spin flips. Begin\n",
    "from a “cold” initial state, where all spins are pointing to the same direction. Set\n",
    "the external magnetic field to $H = 0$. Visualise how the spin configuration changes\n",
    "with the number of trial spin flips (i.e. with time). It might be advantageous for the\n",
    "visualisation to show the configuration only after every 5th trial or so. What can\n",
    "you observe? (4 points)\n"
   ],
   "metadata": {
    "collapsed": false
   },
   "id": "4a68b3b8b6e0c37a"
  },
  {
   "cell_type": "code",
   "execution_count": 10,
   "outputs": [],
   "source": [
    "# canonical ensemble\n",
    "\n",
    "def energy(config, H_external = 0):\n",
    "    J = 1\n",
    "    H = np.sum(config[i]*config[i+1] for i in range(len(config)-1)) + config[0]*config[-1]\n",
    "    H_ext = H_external * np.sum(config)\n",
    "    return -(J*H+H_ext)\n",
    "\n",
    "def metropolis_algorithm(initial_state, num_trials):\n",
    "    sequence_states = [initial_state]\n",
    "    for n in range(num_trials):\n",
    "        next = metropolis_step(sequence_states[-1])\n",
    "        sequence_states.append(next)\n",
    "    return np.array(sequence_states), np.arange(num_trials) #sequences and corresponding time steps\n",
    "\n",
    "def metropolis_step(current_state):\n",
    "    beta = 1\n",
    "    propose_prob = 1/len(list(current_state))\n",
    "    spin_flip_index = np.random.randint(0,len(list(current_state)))\n",
    "    trial_configuration = list(current_state)\n",
    "    trial_configuration[spin_flip_index] *= -1\n",
    "    energy_diff = energy(trial_configuration) - energy(current_state)\n",
    "    trial_acceptance_prob = np.min([np.exp(-beta * energy_diff),1])\n",
    "    r = np.random.rand()\n",
    "    r_propose = np.random.rand()\n",
    "    if r_propose < propose_prob and r < trial_acceptance_prob:\n",
    "        new_state = trial_configuration\n",
    "    else:\n",
    "        new_state = current_state\n",
    "    return np.array(new_state)"
   ],
   "metadata": {
    "collapsed": false,
    "ExecuteTime": {
     "end_time": "2023-11-15T13:08:59.649519600Z",
     "start_time": "2023-11-15T13:08:59.648512700Z"
    }
   },
   "id": "195e95a8f75eabf0"
  },
  {
   "cell_type": "code",
   "execution_count": 11,
   "outputs": [
    {
     "name": "stderr",
     "output_type": "stream",
     "text": [
      "C:\\Users\\corin\\AppData\\Local\\Temp\\ipykernel_22536\\3654607864.py:5: DeprecationWarning: Calling np.sum(generator) is deprecated, and in the future will give a different result. Use np.sum(np.fromiter(generator)) or the python sum builtin instead.\n",
      "  H = np.sum(config[i]*config[i+1] for i in range(len(config)-1)) + config[0]*config[-1]\n"
     ]
    }
   ],
   "source": [
    "N = 30\n",
    "n_trials = 500\n",
    "X_0 = np.ones(N)\n",
    "t, states = metropolis_algorithm(X_0, n_trials)"
   ],
   "metadata": {
    "collapsed": false,
    "ExecuteTime": {
     "end_time": "2023-11-15T13:09:00.322756900Z",
     "start_time": "2023-11-15T13:09:00.299215600Z"
    }
   },
   "id": "7dd519fe8552e5e"
  },
  {
   "cell_type": "code",
   "execution_count": null,
   "outputs": [],
   "source": [],
   "metadata": {
    "collapsed": false
   },
   "id": "32b6298b54d67a4"
  }
 ],
 "metadata": {
  "kernelspec": {
   "display_name": "Python 3",
   "language": "python",
   "name": "python3"
  },
  "language_info": {
   "codemirror_mode": {
    "name": "ipython",
    "version": 2
   },
   "file_extension": ".py",
   "mimetype": "text/x-python",
   "name": "python",
   "nbconvert_exporter": "python",
   "pygments_lexer": "ipython2",
   "version": "2.7.6"
  }
 },
 "nbformat": 4,
 "nbformat_minor": 5
}
