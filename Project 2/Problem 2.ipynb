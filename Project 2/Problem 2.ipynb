{
 "cells": [
  {
   "cell_type": "markdown",
   "source": [
    "While the 1D Ising model does not yet feature a phase transition, the 2D Ising model already does. This can be seen e.g. in the analytical result for the absolute magnetisation per particle for $H = 0$. where $T_{c}$ is the Curie temperature at which the phase transition occurs.\n",
    "Implement a 2D Ising model on a square lattice with $n = \\sqrt{N} = 20$ spins per side, again using periodic boundary conditions, $s_{n+1,j} = s_{1,j}$ and $s{i,n+1} = s{i,1}$, connecting sides with each other. Calculate the absolute magnetisation of the model for $H = 0$ in dependence of the thermal energy $k_{B}T$ with the same techniques used for the 1D model. Note that more time might be needed to reach equilibrium. Discuss your results. Can you reproduce the predicted phase transition?1\n"
   ],
   "metadata": {
    "collapsed": false
   },
   "id": "511352f01814242c"
  },
  {
   "cell_type": "code",
   "execution_count": 1,
   "outputs": [],
   "source": [
    "import numpy as np\n",
    "import matplotlib.pyplot as plt\n",
    "import datetime\n",
    "import copy\n",
    "seeds = np.load(\"seeds_3000x100.npy\")"
   ],
   "metadata": {
    "collapsed": false,
    "ExecuteTime": {
     "end_time": "2023-11-25T18:44:32.696773900Z",
     "start_time": "2023-11-25T18:44:30.832472600Z"
    }
   },
   "id": "33bc1c25ee0b30cd"
  },
  {
   "cell_type": "code",
   "execution_count": 2,
   "outputs": [],
   "source": [
    "#generating 100 lists 3000 seeds\n",
    "#seeds = []\n",
    "#for i in range(100):\n",
    "#    seeds_i = np.random.randint(0, 100000, size=3000)\n",
    "#    seeds.append(seeds_i)\n",
    "#seeds = np.array(seeds)\n",
    "#np.save(\"seeds_3000x100\", seeds)"
   ],
   "metadata": {
    "collapsed": false,
    "ExecuteTime": {
     "end_time": "2023-11-25T18:44:32.709623400Z",
     "start_time": "2023-11-25T18:44:32.697768100Z"
    }
   }
  },
  {
   "cell_type": "code",
   "execution_count": 3,
   "outputs": [],
   "source": [
    "def padding(a):\n",
    "    bottom_row = np.array([a[-1]])\n",
    "    top_row = np.array([a[0]])\n",
    "    top_row_padded = np.concatenate((np.array([[0]]), top_row, np.array([[0]])), axis=1)\n",
    "    bottom_row_padded = np.concatenate((np.array([[0]]), bottom_row, np.array([[0]])), axis=1)\n",
    "    right_column = np.transpose([a[:,-1]])\n",
    "    left_column = np.transpose([a[:,0]])\n",
    "    a_cols = np.concatenate((right_column, a, left_column), axis=1)\n",
    "    a_padded = np.concatenate((bottom_row_padded, a_cols, top_row_padded))\n",
    "    return a_padded\n",
    "\n",
    "def energy_2D(config, H_external=0, J=1):\n",
    "    H = 0\n",
    "    config_with_boundaries = padding(config)\n",
    "    for i in range(1, config.shape[0]+1):\n",
    "        for j in range(1, config.shape[1]+1):\n",
    "            H_ij = config_with_boundaries[i][j]*(config_with_boundaries[i][j+1]+config_with_boundaries[i][j-1]+config_with_boundaries[i-1][j]+config_with_boundaries[i+1][j])\n",
    "            H += H_ij\n",
    "    H_ext = H_external * np.sum(config)\n",
    "    return -(0.5*J*H+H_ext)\n",
    "\n",
    "def metropolis_algorithm(initial_state, num_trials, beta, H_external=0, list_seeds=None):\n",
    "    sequence_states = [initial_state]\n",
    "    for n in range(num_trials):\n",
    "        #try:\n",
    "        #    sd = list_seeds[n]\n",
    "        #except:\n",
    "        #    sd = np.random.randint(100000)\n",
    "        next_sequence = metropolis_step(sequence_states[-1], beta, H_external, seed = 5)\n",
    "        sequence_states.append(next_sequence)\n",
    "    return np.array(sequence_states), np.arange(num_trials+1)\n",
    "\n",
    "def metropolis_step(current_state, beta, H_external, seed = None):\n",
    "    #np.random.seed(seed)\n",
    "    spin_flip_index = np.random.randint(0,current_state.shape[0], size=2)\n",
    "    trial_configuration = copy.deepcopy(current_state)\n",
    "    trial_configuration[spin_flip_index[0]][spin_flip_index[1]] *= -1\n",
    "    energy_diff = energy_2D(trial_configuration, H_external) - energy_2D(current_state, H_external)\n",
    "    trial_acceptance_prob = np.min([np.exp(-beta * energy_diff),1])\n",
    "    r_accept = np.random.rand()\n",
    "    if r_accept < trial_acceptance_prob:\n",
    "        new_state = trial_configuration\n",
    "    else:\n",
    "        new_state = current_state\n",
    "    return np.array(new_state)\n",
    "\n",
    "def magnetisation(config):\n",
    "    return np.sum(config)\n",
    "\n",
    "def magnetisation_theor(beta, J=1):\n",
    "    kT_c = 2.269185\n",
    "    if 1/beta > kT_c:\n",
    "        return 0\n",
    "    else:\n",
    "        z = np.exp(-2*J*beta)\n",
    "        m_enum_1 = (1+z**2)**(1/4)\n",
    "        m_enum_2 = (1-6*z**2 +z**4)**(1/8)\n",
    "        m_denom = np.sqrt(1-z**2)\n",
    "        return m_enum_1*m_enum_2/m_denom"
   ],
   "metadata": {
    "collapsed": false,
    "ExecuteTime": {
     "end_time": "2023-11-25T18:44:32.742268600Z",
     "start_time": "2023-11-25T18:44:32.706632100Z"
    }
   },
   "id": "1ef5a1751c87b3d2"
  },
  {
   "cell_type": "code",
   "execution_count": 15,
   "outputs": [
    {
     "name": "stdout",
     "output_type": "stream",
     "text": [
      "Metropolis algorithm for k_B T = 0.02 starting at 20:30:06\n",
      "Mean magnetisation for k_B T = 0.02: M = 642.38\n",
      "Metropolis algorithm for k_B T = 0.025 starting at 20:34:41\n",
      "Mean magnetisation for k_B T = 0.025: M = 900.0\n",
      "Metropolis algorithm for k_B T = 0.03333333333333333 starting at 20:39:13\n",
      "Mean magnetisation for k_B T = 0.03333333333333333: M = 653.86\n",
      "Metropolis algorithm for k_B T = 0.05 starting at 20:43:45\n",
      "Mean magnetisation for k_B T = 0.05: M = 14.0\n",
      "Metropolis algorithm for k_B T = 0.1 starting at 20:48:06\n",
      "Mean magnetisation for k_B T = 0.1: M = 783.44\n",
      "Metropolis algorithm for k_B T = 1.0 starting at 20:52:23\n",
      "Mean magnetisation for k_B T = 1.0: M = 900.0\n",
      "Metropolis algorithm for k_B T = 2.269186 starting at 20:56:35\n",
      "Mean magnetisation for k_B T = 2.269186: M = 36.62\n",
      "Metropolis algorithm for k_B T = 6.0 starting at 21:00:46\n",
      "Mean magnetisation for k_B T = 6.0: M = 6.6\n",
      "Metropolis algorithm for k_B T = 10.0 starting at 21:04:55\n",
      "Mean magnetisation for k_B T = 10.0: M = 12.58\n"
     ]
    }
   ],
   "source": [
    "N = 30\n",
    "np.random.seed(42)\n",
    "X_0 = np.random.choice([-1, 1], size=(N, N))\n",
    "list_beta = np.array([50,40,30,20, 1.e+01, 1.e+00, 1/2.269186, 1/6 ,0.1])#np.array([0.1,1/2.269186, 1,6,10, 100])#1/np.linspace(1,4,10)\n",
    "list_M = []\n",
    "\n",
    "for b in list_beta:\n",
    "    tnow = datetime.datetime.now()\n",
    "    formatted_time = tnow.strftime(\"%H:%M:%S\")\n",
    "    print(f\"Metropolis algorithm for k_B T = {1/b} starting at {formatted_time}\")\n",
    "    list_M_beta = []\n",
    "    for i in range(1):\n",
    "        states_m, _ = metropolis_algorithm(initial_state=X_0, num_trials=100000, beta=b)\n",
    "        states_m = states_m[-100:,:] #Keep only the equilibrium states\n",
    "        mag_m = [magnetisation(state) for state in states_m]\n",
    "        list_M_beta.append(mag_m)\n",
    "    M_mean = np.mean(list_M_beta)\n",
    "    list_M.append(M_mean)\n",
    "    print(f\"Mean magnetisation for k_B T = {1/b}: M = {M_mean}\")"
   ],
   "metadata": {
    "collapsed": false,
    "ExecuteTime": {
     "end_time": "2023-11-25T20:09:05.233595500Z",
     "start_time": "2023-11-25T19:30:06.906576400Z"
    }
   }
  },
  {
   "cell_type": "code",
   "execution_count": 16,
   "outputs": [
    {
     "data": {
      "text/plain": "<matplotlib.legend.Legend at 0x29bbf6e0c10>"
     },
     "execution_count": 16,
     "metadata": {},
     "output_type": "execute_result"
    },
    {
     "data": {
      "text/plain": "<Figure size 640x480 with 1 Axes>",
      "image/png": "[encoded data removed]"
     },
     "metadata": {},
     "output_type": "display_data"
    }
   ],
   "source": [
    "plt.plot(1/list_beta, np.array(list_M)/(N*N), label = \"Simulation\")\n",
    "plt.plot(1/list_beta, [magnetisation_theor(b) for b in list_beta], label = f\"Theoretical expectation\")\n",
    "plt.vlines(2.269185, 0, 1, \"k\", linestyles=\"dashed\", label=\"$k_{B}T_{c}=2.269185$\")\n",
    "plt.title(\"Magnetisation per particle for different thermal energies\")\n",
    "plt.xlabel(\"Thermal energy $k_{B}T$\")\n",
    "plt.ylabel(\"Magnetisation $m = M/N$\")\n",
    "plt.legend()"
   ],
   "metadata": {
    "collapsed": false,
    "ExecuteTime": {
     "end_time": "2023-11-25T20:09:05.613147Z",
     "start_time": "2023-11-25T20:09:05.254504700Z"
    }
   }
  },
  {
   "cell_type": "code",
   "execution_count": 17,
   "outputs": [
    {
     "data": {
      "text/plain": "[642.38, 900.0, 653.86, 14.0, 783.44, 900.0, 36.62, 6.6, 12.58]"
     },
     "execution_count": 17,
     "metadata": {},
     "output_type": "execute_result"
    }
   ],
   "source": [
    "list_M"
   ],
   "metadata": {
    "collapsed": false,
    "ExecuteTime": {
     "end_time": "2023-11-25T20:09:05.622565100Z",
     "start_time": "2023-11-25T20:09:05.610154200Z"
    }
   }
  },
  {
   "cell_type": "code",
   "execution_count": 14,
   "outputs": [
    {
     "data": {
      "text/plain": "400"
     },
     "execution_count": 14,
     "metadata": {},
     "output_type": "execute_result"
    }
   ],
   "source": [
    "np.random.seed(42)\n",
    "X_0 = np.random.choice([-1, 1], size=(N, N))\n",
    "state_new, _ = metropolis_algorithm(X_0, 100000, beta=50)\n",
    "magnetisation(state_new[-1])"
   ],
   "metadata": {
    "collapsed": false,
    "ExecuteTime": {
     "end_time": "2023-11-25T19:28:54.819152400Z",
     "start_time": "2023-11-25T19:26:50.016342200Z"
    }
   }
  },
  {
   "cell_type": "code",
   "execution_count": 8,
   "outputs": [
    {
     "data": {
      "text/plain": "array([[-1., -1., -1.,  1., -1.,  1.,  1.,  1., -1.,  1.,  1.,  1., -1.,\n        -1., -1., -1.,  1., -1.,  1., -1.],\n       [ 1., -1., -1.,  1., -1.,  1.,  1., -1.,  1.,  1.,  1.,  1., -1.,\n        -1., -1., -1., -1.,  1., -1., -1.],\n       [-1.,  1., -1.,  1.,  1.,  1.,  1.,  1., -1.,  1., -1.,  1., -1.,\n        -1., -1., -1., -1.,  1., -1., -1.],\n       [ 1.,  1.,  1., -1., -1.,  1.,  1.,  1., -1., -1., -1.,  1.,  1.,\n         1., -1., -1., -1., -1., -1.,  1.],\n       [-1.,  1.,  1., -1., -1.,  1.,  1.,  1., -1.,  1.,  1.,  1.,  1.,\n         1., -1., -1., -1.,  1.,  1., -1.],\n       [-1., -1., -1., -1., -1., -1., -1.,  1., -1.,  1.,  1.,  1.,  1.,\n         1., -1., -1.,  1., -1., -1., -1.],\n       [-1., -1., -1., -1., -1., -1., -1.,  1., -1., -1.,  1.,  1.,  1.,\n         1.,  1., -1., -1., -1.,  1., -1.],\n       [-1.,  1., -1.,  1.,  1., -1., -1.,  1., -1.,  1.,  1.,  1.,  1.,\n        -1.,  1., -1., -1.,  1., -1., -1.],\n       [-1.,  1., -1.,  1., -1.,  1., -1., -1., -1., -1.,  1., -1., -1.,\n        -1.,  1., -1., -1.,  1., -1., -1.],\n       [-1., -1., -1.,  1.,  1.,  1., -1., -1., -1., -1.,  1., -1.,  1.,\n         1., -1.,  1., -1., -1., -1.,  1.],\n       [-1., -1., -1., -1.,  1.,  1., -1., -1., -1., -1., -1., -1., -1.,\n        -1.,  1., -1., -1., -1., -1., -1.],\n       [ 1., -1., -1.,  1.,  1., -1., -1., -1.,  1.,  1.,  1.,  1.,  1.,\n        -1., -1.,  1.,  1., -1., -1., -1.],\n       [ 1., -1.,  1.,  1.,  1., -1., -1., -1.,  1.,  1.,  1.,  1., -1.,\n        -1., -1.,  1.,  1.,  1.,  1., -1.],\n       [-1., -1., -1.,  1.,  1.,  1.,  1., -1., -1.,  1., -1.,  1., -1.,\n         1., -1.,  1.,  1.,  1., -1., -1.],\n       [ 1.,  1.,  1., -1., -1.,  1., -1.,  1.,  1.,  1.,  1.,  1., -1.,\n         1., -1.,  1.,  1., -1., -1., -1.],\n       [-1., -1.,  1., -1., -1., -1., -1.,  1.,  1., -1.,  1.,  1.,  1.,\n        -1., -1., -1., -1.,  1.,  1.,  1.],\n       [-1.,  1., -1., -1., -1., -1.,  1., -1., -1.,  1., -1.,  1., -1.,\n        -1., -1.,  1.,  1.,  1., -1., -1.],\n       [ 1., -1., -1.,  1.,  1.,  1.,  1.,  1.,  1., -1.,  1., -1., -1.,\n        -1., -1., -1.,  1., -1.,  1.,  1.],\n       [-1., -1.,  1., -1., -1., -1., -1., -1., -1., -1., -1.,  1., -1.,\n        -1.,  1., -1., -1., -1., -1.,  1.],\n       [-1., -1.,  1.,  1., -1.,  1.,  1.,  1.,  1., -1., -1., -1.,  1.,\n         1.,  1., -1., -1., -1., -1., -1.]])"
     },
     "execution_count": 8,
     "metadata": {},
     "output_type": "execute_result"
    }
   ],
   "source": [
    "state_new[-1]"
   ],
   "metadata": {
    "collapsed": false,
    "ExecuteTime": {
     "end_time": "2023-11-25T19:02:50.376215800Z",
     "start_time": "2023-11-25T19:02:50.362888600Z"
    }
   }
  },
  {
   "cell_type": "code",
   "execution_count": 8,
   "outputs": [],
   "source": [],
   "metadata": {
    "collapsed": false,
    "ExecuteTime": {
     "end_time": "2023-11-25T19:02:50.379212700Z",
     "start_time": "2023-11-25T19:02:50.376215800Z"
    }
   }
  }
 ],
 "metadata": {
  "kernelspec": {
   "display_name": "Python 3",
   "language": "python",
   "name": "python3"
  },
  "language_info": {
   "codemirror_mode": {
    "name": "ipython",
    "version": 2
   },
   "file_extension": ".py",
   "mimetype": "text/x-python",
   "name": "python",
   "nbconvert_exporter": "python",
   "pygments_lexer": "ipython2",
   "version": "2.7.6"
  }
 },
 "nbformat": 4,
 "nbformat_minor": 5
}
