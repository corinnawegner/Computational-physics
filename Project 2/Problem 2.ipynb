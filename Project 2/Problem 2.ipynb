{
 "cells": [
  {
   "cell_type": "markdown",
   "source": [
    "While the 1D Ising model does not yet feature a phase transition, the 2D Ising model already does. This can be seen e.g. in the analytical result for the absolute magnetisation per particle for $H = 0$. where $T_{c}$ is the Curie temperature at which the phase transition occurs.\n",
    "Implement a 2D Ising model on a square lattice with $n = \\sqrt{N} = 20$ spins per side, again using periodic boundary conditions, $s_{n+1,j} = s_{1,j}$ and $s{i,n+1} = s{i,1}$, connecting sides with each other. Calculate the absolute magnetisation of the model for $H = 0$ in dependence of the thermal energy $k_{B}T$ with the same techniques used for the 1D model. Note that more time might be needed to reach equilibrium. Discuss your results. Can you reproduce the predicted phase transition?1\n"
   ],
   "metadata": {
    "collapsed": false
   },
   "id": "511352f01814242c"
  },
  {
   "cell_type": "code",
   "execution_count": 1,
   "outputs": [],
   "source": [
    "import numpy as np\n",
    "seeds = np.load(\"seeds_2000x100.npy\")"
   ],
   "metadata": {
    "collapsed": false,
    "ExecuteTime": {
     "end_time": "2023-11-22T14:22:00.250425800Z",
     "start_time": "2023-11-22T14:21:59.898656500Z"
    }
   },
   "id": "33bc1c25ee0b30cd"
  },
  {
   "cell_type": "code",
   "execution_count": null,
   "outputs": [],
   "source": [
    "N = 20\n",
    "X_0 = np.ones((N,N))\n",
    "num_trials = 1000\n",
    "\n",
    "def energy_2D(config, H_external=0):\n",
    "    J = 1\n",
    "    H = 0\n",
    "    for i in range(config.shape[0]-1):\n",
    "        for j in range(config.shape[1]-1):\n",
    "            try:\n",
    "                H_ij = config[i][j]*config[i][j+1]\n",
    "            except:\n",
    "                H_ij = 0\n",
    "            H += H_ij\n",
    "            H_boundary_j = config[0][j]*config[-1][j]\n",
    "            H += H_boundary_j\n",
    "        H_boundary_i = config[i][0]*config[i][-1]\n",
    "        H += H_boundary_i\n",
    "        \n",
    "        H = np.sum(config[i][j]*(config[i][j+1]+ for (i,j) in )\n",
    "        \n",
    "    H_ext = H_external * np.sum(config)\n",
    "    return -(J*H+H_ext)\n",
    "\n",
    "\n",
    "def metropolis_algorithm(initial_state, num_trials, beta=1, H_external=0, list_seeds=None):\n",
    "    sequence_states = [initial_state]\n",
    "    for n in range(num_trials):\n",
    "        sd = list_seeds[n]\n",
    "        next = metropolis_step(sequence_states[-1], beta, H_external, seed = sd)\n",
    "        sequence_states.append(next)\n",
    "    return np.array(sequence_states), np.arange(num_trials+1) #sequences and corresponding time steps\n",
    "\n",
    "def metropolis_step(current_state, beta, H_external, seed = None):\n",
    "    np.random.seed(seed) \n",
    "    #propose_prob = 1/len(list(current_state))\n",
    "    spin_flip_index = np.random.randint(0,len(list(current_state)), size=2)\n",
    "    trial_configuration = list(current_state)\n",
    "    trial_configuration[spin_flip_index[0]][spin_flip_index[1]] *= -1\n",
    "    energy_diff = energy_2D(trial_configuration, H_external) - energy_2D(current_state, H_external)\n",
    "    trial_acceptance_prob = np.min([np.exp(-beta * energy_diff),1])\n",
    "    #r_propose = np.random.rand()\n",
    "    r_accept = np.random.rand()\n",
    "    if r_accept < trial_acceptance_prob:\n",
    "        new_state = trial_configuration\n",
    "    else:\n",
    "        new_state = current_state\n",
    "    return np.array(new_state)"
   ],
   "metadata": {
    "collapsed": false
   },
   "id": "1ef5a1751c87b3d2"
  }
 ],
 "metadata": {
  "kernelspec": {
   "display_name": "Python 3",
   "language": "python",
   "name": "python3"
  },
  "language_info": {
   "codemirror_mode": {
    "name": "ipython",
    "version": 2
   },
   "file_extension": ".py",
   "mimetype": "text/x-python",
   "name": "python",
   "nbconvert_exporter": "python",
   "pygments_lexer": "ipython2",
   "version": "2.7.6"
  }
 },
 "nbformat": 4,
 "nbformat_minor": 5
}
