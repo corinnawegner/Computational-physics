{
 "cells": [
  {
   "cell_type": "code",
   "execution_count": 1,
   "id": "initial_id",
   "metadata": {
    "collapsed": true,
    "ExecuteTime": {
     "end_time": "2024-01-20T12:50:38.845989700Z",
     "start_time": "2024-01-20T12:50:38.214841200Z"
    }
   },
   "outputs": [],
   "source": [
    "import numpy as np\n",
    "import matplotlib.pyplot as plt\n",
    "from tqdm import tqdm"
   ]
  },
  {
   "cell_type": "code",
   "execution_count": null,
   "outputs": [],
   "source": [
    "M = 300 #number of random walkers\n",
    "R = np.zeros((2*M,3))\n",
    "for m in range(2*M):\n",
    "    for d in range(3):\n",
    "        R[m,d] = np.random.uniform(-0.5, 0.5)"
   ],
   "metadata": {
    "collapsed": false
   },
   "id": "7c19dd44ae2ae3"
  },
  {
   "cell_type": "code",
   "execution_count": null,
   "outputs": [],
   "source": [
    "delta_t = 0.03 \n",
    "N = 40000 #Todo: 10000 are equilibration\n",
    "kappa = 2 \n",
    "beta = 1/2\n",
    "alpha = 0.15 #Todo: Use the correct alpha"
   ],
   "metadata": {
    "collapsed": false
   },
   "id": "285bd2275701fca6"
  },
  {
   "cell_type": "code",
   "execution_count": null,
   "outputs": [],
   "source": [
    "\n",
    "\n",
    "def DMC_algorithm(initial_state, num_trials, s, alpha, beta, kappa, use_FP = False, delta_t=1, disable_tqdm = False):\n",
    "    sequence_states = [initial_state]\n",
    "    for _ in tqdm(range(num_trials), disable=disable_tqdm):\n",
    "        next_sequence = DMC_step(sequence_states[-1], alpha, beta, s, kappa, delta_t=delta_t, use_FP=use_FP)\n",
    "        sequence_states.append(next_sequence)\n",
    "    return np.array(sequence_states)\n",
    "   \n",
    "def DMC_step(current_state, alpha, beta, s, kappa, delta_t = 1, use_FP=False):\n",
    "    trial_configuration = current_state.copy()\n",
    "    new_state = np.zeros(current_state.shape)\n",
    "    for i in range(M):\n",
    "        which_particle = np.random.choice([0,M]) # Todo: Is this chosen for each of the M seperately?\n",
    "        if use_FP:\n",
    "            trial_configuration[i+which_particle] += Fokker_planck(current_state[i+which_particle], current_state[i+M-which_particle], alpha, kappa, beta)*delta_t/2 #Todo: Is this correct?\n",
    "        trial_configuration[i+which_particle] += np.random.uniform(low=-s/2, high=s/2, size=3)*np.sqrt(delta_t)\n",
    "        p = (psi_T(trial_configuration[i], trial_configuration[i+M], alpha, kappa, beta)/psi_T(current_state[i], current_state[i+M], alpha, kappa, beta))**2\n",
    "        if use_FP:\n",
    "            g1 = greens_function(trial_configuration[i], current_state[i], alpha, beta, kappa, delta_t)*greens_function(trial_configuration[i+M], current_state[i+M], alpha, beta, kappa, delta_t)\n",
    "            g2 = greens_function(trial_configuration[i], current_state[i], alpha, beta, kappa, delta_t)*greens_function(trial_configuration[i+M], current_state[i+M], alpha, beta, kappa, delta_t)\n",
    "            p *= g1/g2                    \n",
    "        trial_acceptance_prob = np.min([1, p])\n",
    "        r_accept = np.random.rand()\n",
    "        if r_accept < trial_acceptance_prob:\n",
    "            new_state[i] = trial_configuration[i]\n",
    "            new_state[i+M] = trial_configuration[i+M]\n",
    "        else:\n",
    "            new_state[i] = current_state[i]\n",
    "            new_state[i+M] = current_state[i+M]\n",
    "    return np.array(new_state)"
   ],
   "metadata": {
    "collapsed": false
   },
   "id": "d044e1bf9716db52"
  }
 ],
 "metadata": {
  "kernelspec": {
   "display_name": "Python 3",
   "language": "python",
   "name": "python3"
  },
  "language_info": {
   "codemirror_mode": {
    "name": "ipython",
    "version": 2
   },
   "file_extension": ".py",
   "mimetype": "text/x-python",
   "name": "python",
   "nbconvert_exporter": "python",
   "pygments_lexer": "ipython2",
   "version": "2.7.6"
  }
 },
 "nbformat": 4,
 "nbformat_minor": 5
}
