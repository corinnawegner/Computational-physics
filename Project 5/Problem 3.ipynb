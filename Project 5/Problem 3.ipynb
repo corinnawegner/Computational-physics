{
 "cells": [
  {
   "cell_type": "code",
   "execution_count": 3,
   "id": "initial_id",
   "metadata": {
    "collapsed": true,
    "ExecuteTime": {
     "end_time": "2024-01-20T13:49:35.464250800Z",
     "start_time": "2024-01-20T13:49:35.161213800Z"
    }
   },
   "outputs": [],
   "source": [
    "import numpy as np\n",
    "import matplotlib.pyplot as plt\n",
    "from tqdm import tqdm"
   ]
  },
  {
   "cell_type": "code",
   "execution_count": 22,
   "outputs": [],
   "source": [
    "N = 400\n",
    "delta_tau = 1/N\n",
    "list_tau = np.arange(start=0, stop=100, step=delta_tau)\n",
    "\n",
    "m = 1\n",
    "omega = 1"
   ],
   "metadata": {
    "collapsed": false,
    "ExecuteTime": {
     "end_time": "2024-01-20T13:56:10.738920200Z",
     "start_time": "2024-01-20T13:56:10.734405400Z"
    }
   },
   "id": "a5692ec1792aafa2"
  },
  {
   "cell_type": "code",
   "execution_count": 23,
   "outputs": [
    {
     "data": {
      "text/plain": "(400,)"
     },
     "execution_count": 23,
     "metadata": {},
     "output_type": "execute_result"
    }
   ],
   "source": [
    "x_0 = np.zeros(N)\n",
    "x_0.shape"
   ],
   "metadata": {
    "collapsed": false,
    "ExecuteTime": {
     "end_time": "2024-01-20T13:56:10.926711900Z",
     "start_time": "2024-01-20T13:56:10.922507200Z"
    }
   },
   "id": "c51d3d6a2f8b8a97"
  },
  {
   "cell_type": "code",
   "execution_count": 73,
   "outputs": [],
   "source": [
    "def S(x, d_tau, m=1, omega=1):\n",
    "    T = 0\n",
    "    V = 0\n",
    "    for j in range(1, x.shape[0]):\n",
    "        T += (m/2)*((x[j]-x[j-1])/d_tau)**2\n",
    "        V += (m/2)*(omega**2)*((x[j]+x[j-1])/2)**2\n",
    "    return T+V, T, V\n",
    "\n",
    "def metropolis_algorithm(initial_state, num_trials, d_tau):\n",
    "    sequence_states = [initial_state]\n",
    "    for _ in tqdm(range(num_trials)):\n",
    "        next_sequence = metropolis_step(sequence_states[-1], d_tau)\n",
    "        sequence_states.append(next_sequence)\n",
    "    return np.array(sequence_states)\n",
    "    \n",
    "def metropolis_step(current_state, d_tau):\n",
    "    trial_configuration = current_state.copy()\n",
    "    which_x = np.random.randint(1,current_state.shape[0]-1)\n",
    "    trial_configuration[which_x] += np.random.uniform(low=-1, high=1)\n",
    "    delta_S = S(trial_configuration, d_tau)[0] - S(current_state, d_tau)[0]\n",
    "    trial_acceptance_prob = np.exp(-delta_tau*delta_S)\n",
    "    r_accept = np.random.rand()\n",
    "    if r_accept < trial_acceptance_prob:\n",
    "        new_state = trial_configuration\n",
    "    else:\n",
    "        new_state = current_state\n",
    "    return np.array(new_state)"
   ],
   "metadata": {
    "collapsed": false,
    "ExecuteTime": {
     "end_time": "2024-01-20T14:16:50.331517600Z",
     "start_time": "2024-01-20T14:16:50.327009600Z"
    }
   },
   "id": "32052a7010064322"
  },
  {
   "cell_type": "code",
   "execution_count": null,
   "outputs": [
    {
     "name": "stderr",
     "output_type": "stream",
     "text": [
      " 34%|███▍      | 34366/100000 [00:22<00:43, 1508.69it/s]"
     ]
    }
   ],
   "source": [
    "N_simulation = 100000\n",
    "X = metropolis_algorithm(x_0, N_simulation, delta_tau)"
   ],
   "metadata": {
    "collapsed": false,
    "is_executing": true,
    "ExecuteTime": {
     "start_time": "2024-01-20T14:22:10.341732100Z"
    }
   },
   "id": "1f4808c2c95f0e48"
  },
  {
   "cell_type": "code",
   "execution_count": null,
   "outputs": [],
   "source": [
    "E_kin = []\n",
    "E_pot = []\n",
    "\n",
    "for i in tqdm(range(N_simulation)):\n",
    "    _, e_kin, e_pot = S(X[i], delta_tau)\n",
    "    E_kin.append(e_kin)\n",
    "    E_pot.append(e_pot)\n",
    "        \n",
    "E_kin = np.array(E_kin)\n",
    "E_pot = np.array(E_pot)"
   ],
   "metadata": {
    "collapsed": false,
    "is_executing": true
   },
   "id": "2346954b96532a2f"
  },
  {
   "cell_type": "code",
   "execution_count": null,
   "outputs": [],
   "source": [
    "t = np.arange(N_simulation)\n",
    "plt.plot(t, E_kin, label=\"T\")\n",
    "plt.plot(t, E_pot, label=\"V\")\n",
    "plt.legend()\n",
    "plt.title(\"Problem a): Kinetic and potential Energy\")\n",
    "plt.xlabel(\"Simulation step\")\n",
    "plt.ylabel(\"Energy\")"
   ],
   "metadata": {
    "collapsed": false,
    "is_executing": true
   },
   "id": "50707d791eebf4da"
  },
  {
   "cell_type": "code",
   "execution_count": null,
   "outputs": [],
   "source": [],
   "metadata": {
    "collapsed": false
   },
   "id": "a1fa96f83360f2f3"
  }
 ],
 "metadata": {
  "kernelspec": {
   "display_name": "Python 3",
   "language": "python",
   "name": "python3"
  },
  "language_info": {
   "codemirror_mode": {
    "name": "ipython",
    "version": 2
   },
   "file_extension": ".py",
   "mimetype": "text/x-python",
   "name": "python",
   "nbconvert_exporter": "python",
   "pygments_lexer": "ipython2",
   "version": "2.7.6"
  }
 },
 "nbformat": 4,
 "nbformat_minor": 5
}
