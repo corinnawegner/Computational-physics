{
 "cells": [
  {
   "cell_type": "code",
   "execution_count": 1,
   "metadata": {
    "collapsed": true,
    "ExecuteTime": {
     "end_time": "2024-01-19T16:10:19.453325900Z",
     "start_time": "2024-01-19T16:10:18.730477700Z"
    }
   },
   "outputs": [],
   "source": [
    "import numpy as np\n",
    "import matplotlib.pyplot as plt\n",
    "from tqdm import tqdm"
   ]
  },
  {
   "cell_type": "code",
   "execution_count": 2,
   "outputs": [],
   "source": [
    "M = 300 #number of random walkers\n",
    "R = np.zeros((2*M,3))\n",
    "for m in range(2*M):\n",
    "    for d in range(3):\n",
    "        R[m,d] = np.random.uniform(-0.5, 0.5)"
   ],
   "metadata": {
    "collapsed": false,
    "ExecuteTime": {
     "end_time": "2024-01-19T16:10:19.460241100Z",
     "start_time": "2024-01-19T16:10:19.460241100Z"
    }
   }
  },
  {
   "cell_type": "code",
   "execution_count": 3,
   "outputs": [],
   "source": [
    "def greens_function(config, old_config, alpha, beta, kappa, gamma, delta_t):\n",
    "    norm_diff = np.linalg.norm(config - old_config)\n",
    "    return (1/np.sqrt(4*np.pi* gamma*delta_t)) * np.exp(-norm_diff**2 / (4*gamma*delta_t))"
   ],
   "metadata": {
    "collapsed": false,
    "ExecuteTime": {
     "end_time": "2024-01-19T16:10:19.467305800Z",
     "start_time": "2024-01-19T16:10:19.460241100Z"
    }
   }
  },
  {
   "cell_type": "code",
   "execution_count": 37,
   "outputs": [],
   "source": [
    "def psi_T(vec_r_1, vec_r_2, alpha, kappa, beta):\n",
    "    r_1 = np.linalg.norm(vec_r_1)\n",
    "    r_2 = np.linalg.norm(vec_r_2)\n",
    "    vec_r12 = vec_r_2 - vec_r_1\n",
    "    r_12 = np.linalg.norm(vec_r12)\n",
    "    pref = beta*r_12/(1+alpha*r_12)\n",
    "    psi = np.exp(-kappa*(r_1+r_2))*np.exp(pref)\n",
    "    return psi\n",
    "\n",
    "def Fokker_planck(vec_r_1, vec_r_2, alpha, kappa, beta):\n",
    "    r_1 = np.linalg.norm(vec_r_1)\n",
    "    r_2 = np.linalg.norm(vec_r_2)\n",
    "    vec_r12 = vec_r_2 - vec_r_1\n",
    "    r_12 = np.linalg.norm(vec_r12)\n",
    "    u = 1 + alpha*r_12\n",
    "    factor = beta*(((u/r_12)-alpha)/u**2)\n",
    "    force_1 = 2*(-kappa*(vec_r_1/r_1)+factor*(vec_r_1-vec_r_2))\n",
    "    force_2 = 2*(-kappa*(vec_r_2/r_2)+factor*(vec_r_2-vec_r_1))\n",
    "    return np.array([force_1, force_2])\n",
    "\n",
    "def metropolis_algorithm(initial_state, num_trials, s, alpha, beta, kappa, use_FP = False):\n",
    "    sequence_states = [initial_state]\n",
    "    did_change_happen = []\n",
    "    for n in tqdm(range(num_trials)):\n",
    "        next_sequence = metropolis_step(sequence_states[-1], alpha, beta, s, kappa, use_FP=use_FP)\n",
    "        sequence_states.append(next_sequence)\n",
    "    return np.array(sequence_states)\n",
    "    \n",
    "def metropolis_step(current_state, alpha, beta, s, kappa, use_FP = False):\n",
    "    trial_configuration = current_state.copy()\n",
    "    current_r_1 = current_state[:M]\n",
    "    current_r_2 = current_state[M:]\n",
    "    new_state = np.zeros(current_state.shape)\n",
    "    which_particle = np.random.choice([0,M]) # Todo: Is this chosen for each of the M seperately?\n",
    "    for i in range(M):\n",
    "        if use_FP:\n",
    "            trial_configuration[i+which_particle] += Fokker_planck(current_r_1, current_r_2, alpha, kappa, beta)*delta_t/2\n",
    "        trial_configuration[i+which_particle] += np.random.uniform(low=-s/2, high=s/2, size=3)#*np.sqrt(delta_t)\n",
    "        if not use_FP:\n",
    "            trial_acceptance_prob = np.min([1, (psi_T(trial_configuration[i], trial_configuration[i+M], alpha, kappa, beta)/psi_T(current_state[i], current_state[i+M], alpha, kappa, beta))**2])\n",
    "        r_accept = np.random.rand()\n",
    "        if r_accept < trial_acceptance_prob:\n",
    "            new_state[i] = trial_configuration[i]\n",
    "            new_state[i+M] = trial_configuration[i+M]\n",
    "        else:\n",
    "            new_state[i] = current_state[i]\n",
    "            new_state[i+M] = trial_configuration[i+M]\n",
    "    return np.array(new_state)"
   ],
   "metadata": {
    "collapsed": false,
    "ExecuteTime": {
     "end_time": "2024-01-19T17:17:04.464818900Z",
     "start_time": "2024-01-19T17:17:04.459768100Z"
    }
   }
  },
  {
   "cell_type": "code",
   "execution_count": 28,
   "outputs": [
    {
     "name": "stdout",
     "output_type": "stream",
     "text": [
      "[-0.39005191  0.27200488 -0.14160547]\n",
      "[-0.30445057  0.76067298  0.18439648]\n",
      "0.1185219223794792\n"
     ]
    }
   ],
   "source": [
    "\n",
    "alpha = 0.15\n",
    "beta = 0.5\n",
    "kappa = 2\n",
    "print(R[0])\n",
    "R_trial = R[0] + np.random.uniform(low=-1/2, high=1/2, size=3)\n",
    "R_trial_2 = R[M] + np.random.uniform(low=-1/2, high=1/2, size=3)\n",
    "print(R_trial)\n",
    "print((psi_T(R_trial, R_trial_2, alpha, kappa, beta)/psi_T(R[0], R[M], alpha, kappa, beta))**2)"
   ],
   "metadata": {
    "collapsed": false,
    "ExecuteTime": {
     "end_time": "2024-01-19T16:45:35.024669400Z",
     "start_time": "2024-01-19T16:45:35.016517600Z"
    }
   }
  },
  {
   "cell_type": "code",
   "execution_count": 30,
   "outputs": [
    {
     "name": "stdout",
     "output_type": "stream",
     "text": [
      "4.355809383578361e-07\n",
      "(300, 3)\n"
     ]
    }
   ],
   "source": [
    "s=1\n",
    "current_state = R\n",
    "trial_configuration = current_state.copy()\n",
    "\n",
    "for i in range(M):\n",
    "    trial_configuration[i] += np.random.uniform(low=-s/2, high=s/2, size=3)#*np.sqrt(delta_t)\n",
    "\n",
    "current_r_1 = current_state[:M]\n",
    "current_r_2 = current_state[M:]\n",
    "trial_r_1 = trial_configuration[:M]\n",
    "trial_r_2 = trial_configuration[M:]\n",
    "print((psi_T(trial_r_1, trial_r_2, alpha, kappa, beta)/psi_T(current_r_1, current_r_2, alpha, kappa, beta))**2)\n",
    "print(trial_r_2.shape)"
   ],
   "metadata": {
    "collapsed": false,
    "ExecuteTime": {
     "end_time": "2024-01-19T16:45:47.514598900Z",
     "start_time": "2024-01-19T16:45:47.505536200Z"
    }
   }
  },
  {
   "cell_type": "code",
   "execution_count": 31,
   "outputs": [],
   "source": [
    "def energy_local(vec_r_1, vec_r_2, alpha, beta, kappa):\n",
    "    r_1 = np.linalg.norm(vec_r_1)\n",
    "    r_2 = np.linalg.norm(vec_r_2)\n",
    "    vec_r12 = vec_r_2 - vec_r_1\n",
    "    r_12 = np.linalg.norm(vec_r12)\n",
    "    u = 1+alpha*r_12\n",
    "    scalar_product = np.dot((vec_r_1/r_1) - (vec_r_2/r_2), -vec_r12/r_12)\n",
    "    E_L = (kappa-2)/r_1 + (kappa-2)/r_2 + (1-2*beta/u**2) +2*beta*alpha/u**3 - kappa**2 - (beta**2)/u**4 +(kappa*beta/u**2)*scalar_product    \n",
    "    return E_L\n",
    "\n",
    "def energy_statistics(simulation, accumulate_last_n, alpha, beta, kappa):\n",
    "    energies = []\n",
    "    num_simulation_steps = simulation.shape[0]\n",
    "\n",
    "    for time in tqdm(range(num_simulation_steps)):\n",
    "        energies_t = []\n",
    "        for i in range(M):\n",
    "            e_i = energy_local(simulation[time,i], simulation[time,i+M], alpha=alpha, beta=beta, kappa=kappa)\n",
    "            energies_t.append(e_i)\n",
    "        energies.append(energies_t)  \n",
    "    e_avg_accumulated = [np.mean(energies[0])]\n",
    "    e_var_accumulated = [np.std(energies[0])]\n",
    "    for time in tqdm(range(1, num_simulation_steps)):\n",
    "        if time > accumulate_last_n:\n",
    "            e_avg_t = np.mean(energies[time-accumulate_last_n:time])\n",
    "            e_var_t = np.std(energies[time-accumulate_last_n:time])\n",
    "        else: #For the first 999 time steps:\n",
    "            e_avg_t = np.mean(energies[:time])\n",
    "            e_var_t = np.std(energies[:time])              \n",
    "        e_avg_accumulated.append(e_avg_t)\n",
    "        e_var_accumulated.append(e_var_t)\n",
    "    return np.array(e_avg_accumulated), np.array(e_var_accumulated)"
   ],
   "metadata": {
    "collapsed": false,
    "ExecuteTime": {
     "end_time": "2024-01-19T16:46:45.933746400Z",
     "start_time": "2024-01-19T16:46:45.927413200Z"
    }
   }
  },
  {
   "cell_type": "code",
   "execution_count": 32,
   "outputs": [
    {
     "name": "stderr",
     "output_type": "stream",
     "text": [
      "100%|██████████| 10000/10000 [01:14<00:00, 133.96it/s]\n",
      "100%|██████████| 10001/10001 [00:34<00:00, 289.41it/s]\n",
      "100%|██████████| 10000/10000 [03:09<00:00, 52.81it/s]\n"
     ]
    }
   ],
   "source": [
    "sim, changes = metropolis_algorithm(R, num_trials=10000, s=1, alpha=0.15, beta=0.5, kappa=2)\n",
    "E_avg_s, E_std_s = energy_statistics(sim, 1000, alpha=0.15, beta=0.5, kappa=2)"
   ],
   "metadata": {
    "collapsed": false,
    "ExecuteTime": {
     "end_time": "2024-01-19T16:51:45.144078200Z",
     "start_time": "2024-01-19T16:46:46.510351200Z"
    }
   }
  },
  {
   "cell_type": "code",
   "execution_count": 33,
   "outputs": [
    {
     "data": {
      "text/plain": "10000"
     },
     "execution_count": 33,
     "metadata": {},
     "output_type": "execute_result"
    }
   ],
   "source": [
    "np.sum(changes)"
   ],
   "metadata": {
    "collapsed": false,
    "ExecuteTime": {
     "end_time": "2024-01-19T16:51:45.148067100Z",
     "start_time": "2024-01-19T16:51:45.146541700Z"
    }
   }
  },
  {
   "cell_type": "code",
   "execution_count": 34,
   "outputs": [
    {
     "data": {
      "text/plain": "<matplotlib.collections.PolyCollection at 0x273dc185310>"
     },
     "execution_count": 34,
     "metadata": {},
     "output_type": "execute_result"
    },
    {
     "data": {
      "text/plain": "<Figure size 640x480 with 1 Axes>",
      "image/png": "[encoded data removed]"
     },
     "metadata": {},
     "output_type": "display_data"
    }
   ],
   "source": [
    "plt.plot(np.arange(sim.shape[0]), E_avg_s)\n",
    "plt.fill_between(np.arange(sim.shape[0]), E_avg_s-E_std_s, E_avg_s+E_std_s, alpha=0.3)"
   ],
   "metadata": {
    "collapsed": false,
    "ExecuteTime": {
     "end_time": "2024-01-19T16:51:45.225328200Z",
     "start_time": "2024-01-19T16:51:45.148067100Z"
    }
   }
  },
  {
   "cell_type": "code",
   "execution_count": 37,
   "outputs": [
    {
     "name": "stdout",
     "output_type": "stream",
     "text": [
      "[ 0.47111873  0.07798355 -0.45012105]\n",
      "[ 0.10389725 -0.46783266  0.10703362]\n",
      "-2.6745152843362465\n"
     ]
    }
   ],
   "source": [
    "timestep = 0\n",
    "walker = 0\n",
    "sim_step_r1 = sim[timestep, walker, :]\n",
    "sim_step_r2 = sim[timestep, walker+M, :]\n",
    "e = energy_local(sim_step_r1, sim_step_r2, alpha=0.15, beta=0.5, kappa=2)\n",
    "\n",
    "print(sim_step_r1)\n",
    "print(sim_step_r2)\n",
    "print(e)"
   ],
   "metadata": {
    "collapsed": false,
    "ExecuteTime": {
     "start_time": "2024-01-18T16:59:53.060235300Z"
    }
   }
  },
  {
   "cell_type": "code",
   "execution_count": 38,
   "outputs": [
    {
     "name": "stdout",
     "output_type": "stream",
     "text": [
      "s = 0.1:\n"
     ]
    },
    {
     "name": "stderr",
     "output_type": "stream",
     "text": [
      "100%|██████████| 30000/30000 [03:43<00:00, 134.11it/s]\n",
      "100%|██████████| 30001/30001 [01:43<00:00, 289.52it/s]\n",
      "100%|██████████| 30000/30000 [09:56<00:00, 50.28it/s]\n"
     ]
    },
    {
     "name": "stdout",
     "output_type": "stream",
     "text": [
      "s = 1:\n"
     ]
    },
    {
     "name": "stderr",
     "output_type": "stream",
     "text": [
      "100%|██████████| 30000/30000 [03:43<00:00, 134.22it/s]\n",
      "100%|██████████| 30001/30001 [01:44<00:00, 286.07it/s]\n",
      "100%|██████████| 30000/30000 [09:52<00:00, 50.61it/s]\n"
     ]
    },
    {
     "name": "stdout",
     "output_type": "stream",
     "text": [
      "s = 10:\n"
     ]
    },
    {
     "name": "stderr",
     "output_type": "stream",
     "text": [
      "  5%|▌         | 1637/30000 [00:12<03:29, 135.36it/s]C:\\Users\\corin\\AppData\\Local\\Temp\\ipykernel_12852\\1902171874.py:40: RuntimeWarning: invalid value encountered in scalar divide\n",
      "  trial_acceptance_prob = np.min([1, (psi_T(trial_configuration[i], trial_configuration[i+M], alpha, kappa, beta)/psi_T(current_state[i], current_state[i+M], alpha, kappa, beta))**2])\n",
      "C:\\Users\\corin\\AppData\\Local\\Temp\\ipykernel_12852\\1902171874.py:40: RuntimeWarning: divide by zero encountered in scalar divide\n",
      "  trial_acceptance_prob = np.min([1, (psi_T(trial_configuration[i], trial_configuration[i+M], alpha, kappa, beta)/psi_T(current_state[i], current_state[i+M], alpha, kappa, beta))**2])\n",
      "100%|██████████| 30000/30000 [03:55<00:00, 127.52it/s]\n",
      "100%|██████████| 30001/30001 [01:45<00:00, 285.02it/s]\n",
      "100%|██████████| 30000/30000 [09:54<00:00, 50.43it/s]\n"
     ]
    }
   ],
   "source": [
    "N = 30000\n",
    "n = 1000\n",
    "list_s = [0.1,1,10]\n",
    "\n",
    "E_avg = []\n",
    "E_std = []\n",
    "\n",
    "for s_test in list_s:\n",
    "    print(f\"s = {s_test}:\")\n",
    "    simulation_s = metropolis_algorithm(R, N, s_test, alpha=0.15, beta=0.5, kappa=2)\n",
    "    E_avg_s, E_std_s = energy_statistics(simulation_s, n, alpha=0.15, beta=0.5, kappa=2)\n",
    "    E_avg.append(E_avg_s)\n",
    "    E_std.append(E_std_s)"
   ],
   "metadata": {
    "collapsed": false,
    "ExecuteTime": {
     "end_time": "2024-01-19T18:03:34.590268Z",
     "start_time": "2024-01-19T17:17:13.425465100Z"
    }
   }
  },
  {
   "cell_type": "code",
   "execution_count": 39,
   "outputs": [
    {
     "data": {
      "text/plain": "<matplotlib.legend.Legend at 0x273e5e01dd0>"
     },
     "execution_count": 39,
     "metadata": {},
     "output_type": "execute_result"
    },
    {
     "data": {
      "text/plain": "<Figure size 640x480 with 1 Axes>",
      "image/png": "[encoded data removed]"
     },
     "metadata": {},
     "output_type": "display_data"
    }
   ],
   "source": [
    "t = np.arange(N+1)\n",
    "for i in range(len(E_avg)):\n",
    "    plt.fill_between(t, E_avg[i]-E_std[i], E_avg[i]+E_std[i], alpha=0.3)\n",
    "    plt.plot(t, E_avg[i], label=f\"s = {list_s[i]}\")\n",
    "    \n",
    "plt.title(\"Energy development\")\n",
    "plt.xlabel(\"t\")\n",
    "plt.ylabel(r\"$\\langle E_L \\rangle$\")\n",
    "plt.legend()"
   ],
   "metadata": {
    "collapsed": false,
    "ExecuteTime": {
     "end_time": "2024-01-19T18:03:34.874785900Z",
     "start_time": "2024-01-19T18:03:34.591267400Z"
    }
   }
  },
  {
   "cell_type": "code",
   "execution_count": 40,
   "outputs": [
    {
     "data": {
      "text/plain": "[<matplotlib.lines.Line2D at 0x2741b447fd0>]"
     },
     "execution_count": 40,
     "metadata": {},
     "output_type": "execute_result"
    },
    {
     "data": {
      "text/plain": "<Figure size 640x480 with 1 Axes>",
      "image/png": "[encoded data removed]"
     },
     "metadata": {},
     "output_type": "display_data"
    }
   ],
   "source": [
    "plt.plot(t, E_avg[1], label=\"s = s=1\")"
   ],
   "metadata": {
    "collapsed": false,
    "ExecuteTime": {
     "end_time": "2024-01-19T18:03:34.960348200Z",
     "start_time": "2024-01-19T18:03:34.874785900Z"
    }
   }
  },
  {
   "cell_type": "markdown",
   "source": [
    "# Problem b"
   ],
   "metadata": {
    "collapsed": false
   }
  },
  {
   "cell_type": "code",
   "execution_count": 44,
   "outputs": [
    {
     "name": "stdout",
     "output_type": "stream",
     "text": [
      "$\\alpha$ = 0.0:\n"
     ]
    },
    {
     "name": "stderr",
     "output_type": "stream",
     "text": [
      "100%|██████████| 30000/30000 [00:59<00:00, 502.27it/s]\n",
      "100%|██████████| 30001/30001 [06:22<00:00, 78.49it/s] \n"
     ]
    },
    {
     "name": "stdout",
     "output_type": "stream",
     "text": [
      "$\\alpha$ = 0.1:\n"
     ]
    },
    {
     "name": "stderr",
     "output_type": "stream",
     "text": [
      "100%|██████████| 30000/30000 [02:03<00:00, 242.16it/s]\n",
      " 86%|████████▋ | 25903/30001 [05:06<00:48, 84.59it/s] \n"
     ]
    },
    {
     "ename": "KeyboardInterrupt",
     "evalue": "",
     "output_type": "error",
     "traceback": [
      "\u001B[1;31m---------------------------------------------------------------------------\u001B[0m",
      "\u001B[1;31mKeyboardInterrupt\u001B[0m                         Traceback (most recent call last)",
      "Cell \u001B[1;32mIn[44], line 9\u001B[0m\n\u001B[0;32m      7\u001B[0m \u001B[38;5;28mprint\u001B[39m(\u001B[38;5;124mrf\u001B[39m\u001B[38;5;124m\"\u001B[39m\u001B[38;5;124m$\u001B[39m\u001B[38;5;124m\\\u001B[39m\u001B[38;5;124malpha$ = \u001B[39m\u001B[38;5;132;01m{\u001B[39;00malpha\u001B[38;5;132;01m}\u001B[39;00m\u001B[38;5;124m:\u001B[39m\u001B[38;5;124m\"\u001B[39m)\n\u001B[0;32m      8\u001B[0m simulation_a \u001B[38;5;241m=\u001B[39m metropolis_algorithm(R, N, s\u001B[38;5;241m=\u001B[39m\u001B[38;5;241m1\u001B[39m, alpha\u001B[38;5;241m=\u001B[39malpha, beta\u001B[38;5;241m=\u001B[39m\u001B[38;5;241m0.5\u001B[39m, kappa\u001B[38;5;241m=\u001B[39m\u001B[38;5;241m2\u001B[39m)\n\u001B[1;32m----> 9\u001B[0m E_avg_a, E_std_a \u001B[38;5;241m=\u001B[39m \u001B[43menergy_statistics\u001B[49m\u001B[43m(\u001B[49m\u001B[43msimulation_a\u001B[49m\u001B[43m,\u001B[49m\u001B[43m \u001B[49m\u001B[43mn\u001B[49m\u001B[43m,\u001B[49m\u001B[43m \u001B[49m\u001B[43malpha\u001B[49m\u001B[38;5;241;43m=\u001B[39;49m\u001B[43malpha\u001B[49m\u001B[43m,\u001B[49m\u001B[43m \u001B[49m\u001B[43mbeta\u001B[49m\u001B[38;5;241;43m=\u001B[39;49m\u001B[38;5;241;43m0.5\u001B[39;49m\u001B[43m,\u001B[49m\u001B[43m \u001B[49m\u001B[43mkappa\u001B[49m\u001B[38;5;241;43m=\u001B[39;49m\u001B[38;5;241;43m2\u001B[39;49m\u001B[43m)\u001B[49m\n\u001B[0;32m     10\u001B[0m E_avg_alpha\u001B[38;5;241m.\u001B[39mappend(E_avg_a)\n\u001B[0;32m     11\u001B[0m E_std_alpha\u001B[38;5;241m.\u001B[39mappend(E_std_a)\n",
      "Cell \u001B[1;32mIn[35], line 17\u001B[0m, in \u001B[0;36menergy_statistics\u001B[1;34m(simulation, accumulate_last_n, alpha, beta, kappa)\u001B[0m\n\u001B[0;32m     15\u001B[0m energies_t \u001B[38;5;241m=\u001B[39m []\n\u001B[0;32m     16\u001B[0m \u001B[38;5;28;01mfor\u001B[39;00m i \u001B[38;5;129;01min\u001B[39;00m \u001B[38;5;28mrange\u001B[39m(M):\n\u001B[1;32m---> 17\u001B[0m     e_i \u001B[38;5;241m=\u001B[39m \u001B[43menergy_local\u001B[49m\u001B[43m(\u001B[49m\u001B[43msimulation\u001B[49m\u001B[43m[\u001B[49m\u001B[43mtime\u001B[49m\u001B[43m,\u001B[49m\u001B[43mi\u001B[49m\u001B[43m]\u001B[49m\u001B[43m,\u001B[49m\u001B[43m \u001B[49m\u001B[43msimulation\u001B[49m\u001B[43m[\u001B[49m\u001B[43mtime\u001B[49m\u001B[43m,\u001B[49m\u001B[43mi\u001B[49m\u001B[38;5;241;43m+\u001B[39;49m\u001B[43mM\u001B[49m\u001B[43m]\u001B[49m\u001B[43m,\u001B[49m\u001B[43m \u001B[49m\u001B[43malpha\u001B[49m\u001B[38;5;241;43m=\u001B[39;49m\u001B[43malpha\u001B[49m\u001B[43m,\u001B[49m\u001B[43m \u001B[49m\u001B[43mbeta\u001B[49m\u001B[38;5;241;43m=\u001B[39;49m\u001B[43mbeta\u001B[49m\u001B[43m,\u001B[49m\u001B[43m \u001B[49m\u001B[43mkappa\u001B[49m\u001B[38;5;241;43m=\u001B[39;49m\u001B[43mkappa\u001B[49m\u001B[43m)\u001B[49m\n\u001B[0;32m     18\u001B[0m     energies_t\u001B[38;5;241m.\u001B[39mappend(e_i)\n\u001B[0;32m     19\u001B[0m energies\u001B[38;5;241m.\u001B[39mappend(energies_t)\n",
      "Cell \u001B[1;32mIn[35], line 5\u001B[0m, in \u001B[0;36menergy_local\u001B[1;34m(vec_r_1, vec_r_2, alpha, beta, kappa)\u001B[0m\n\u001B[0;32m      3\u001B[0m r_2 \u001B[38;5;241m=\u001B[39m np\u001B[38;5;241m.\u001B[39mlinalg\u001B[38;5;241m.\u001B[39mnorm(vec_r_2)\n\u001B[0;32m      4\u001B[0m vec_r12 \u001B[38;5;241m=\u001B[39m vec_r_2 \u001B[38;5;241m-\u001B[39m vec_r_1\n\u001B[1;32m----> 5\u001B[0m r_12 \u001B[38;5;241m=\u001B[39m \u001B[43mnp\u001B[49m\u001B[38;5;241;43m.\u001B[39;49m\u001B[43mlinalg\u001B[49m\u001B[38;5;241;43m.\u001B[39;49m\u001B[43mnorm\u001B[49m\u001B[43m(\u001B[49m\u001B[43mvec_r12\u001B[49m\u001B[43m)\u001B[49m\n\u001B[0;32m      6\u001B[0m u \u001B[38;5;241m=\u001B[39m \u001B[38;5;241m1\u001B[39m\u001B[38;5;241m+\u001B[39malpha\u001B[38;5;241m*\u001B[39mr_12\n\u001B[0;32m      7\u001B[0m scalar_product \u001B[38;5;241m=\u001B[39m np\u001B[38;5;241m.\u001B[39mdot((vec_r_1\u001B[38;5;241m/\u001B[39mr_1) \u001B[38;5;241m-\u001B[39m (vec_r_2\u001B[38;5;241m/\u001B[39mr_2), \u001B[38;5;241m-\u001B[39mvec_r12\u001B[38;5;241m/\u001B[39mr_12)\n",
      "File \u001B[1;32m~\\AppData\\Local\\Programs\\Python\\Python39\\lib\\site-packages\\numpy\\linalg\\linalg.py:2552\u001B[0m, in \u001B[0;36mnorm\u001B[1;34m(x, ord, axis, keepdims)\u001B[0m\n\u001B[0;32m   2550\u001B[0m     sqnorm \u001B[38;5;241m=\u001B[39m x_real\u001B[38;5;241m.\u001B[39mdot(x_real) \u001B[38;5;241m+\u001B[39m x_imag\u001B[38;5;241m.\u001B[39mdot(x_imag)\n\u001B[0;32m   2551\u001B[0m \u001B[38;5;28;01melse\u001B[39;00m:\n\u001B[1;32m-> 2552\u001B[0m     sqnorm \u001B[38;5;241m=\u001B[39m \u001B[43mx\u001B[49m\u001B[38;5;241;43m.\u001B[39;49m\u001B[43mdot\u001B[49m\u001B[43m(\u001B[49m\u001B[43mx\u001B[49m\u001B[43m)\u001B[49m\n\u001B[0;32m   2553\u001B[0m ret \u001B[38;5;241m=\u001B[39m sqrt(sqnorm)\n\u001B[0;32m   2554\u001B[0m \u001B[38;5;28;01mif\u001B[39;00m keepdims:\n",
      "\u001B[1;31mKeyboardInterrupt\u001B[0m: "
     ]
    }
   ],
   "source": [
    "list_alpha = [0.0, 0.1, 0.2, 0.3, 0.4, 0.5]\n",
    "\n",
    "E_avg_alpha = []\n",
    "E_std_alpha = []\n",
    "\n",
    "for alpha in list_alpha:\n",
    "    print(rf\"$\\alpha$ = {alpha}:\")\n",
    "    simulation_a = metropolis_algorithm(R, N, s=1, alpha=alpha, beta=0.5, kappa=2)\n",
    "    E_avg_a, E_std_a = energy_statistics(simulation_a, n, alpha=alpha, beta=0.5, kappa=2)\n",
    "    E_avg_alpha.append(E_avg_a)\n",
    "    E_std_alpha.append(E_std_a)"
   ],
   "metadata": {
    "collapsed": false,
    "ExecuteTime": {
     "end_time": "2024-01-18T17:48:56.027295800Z",
     "start_time": "2024-01-18T17:34:17.195587200Z"
    }
   }
  },
  {
   "cell_type": "code",
   "execution_count": null,
   "outputs": [],
   "source": [
    "for i in range(len(E_avg)):\n",
    "    plt.fill_between(t, E_avg_alpha[i]-E_std_alpha[i], E_avg_alpha[i]+E_std_alpha[i], alpha=0.3)\n",
    "    plt.plot(t, E_avg_alpha[i], label= rf\"$\\alpha$ = {list_alpha[i]}\")\n",
    "    \n",
    "plt.title(\"Energy development\")\n",
    "plt.xlabel(\"t\")\n",
    "plt.ylabel(r\"$\\langle E_L \\rangle$\")\n",
    "plt.legend()"
   ],
   "metadata": {
    "collapsed": false,
    "ExecuteTime": {
     "end_time": "2024-01-18T17:48:56.061302300Z",
     "start_time": "2024-01-18T17:48:56.033298Z"
    }
   }
  },
  {
   "cell_type": "markdown",
   "source": [
    "# Problem c"
   ],
   "metadata": {
    "collapsed": false
   }
  },
  {
   "cell_type": "code",
   "execution_count": null,
   "outputs": [],
   "source": [
    "def energy_statistics_c(simulation, equilibration_time, alpha=0.15, beta=0.5, kappa=2): # Todo: If change in energy_statistics function is made, it may be necessary to change it here as well\n",
    "    energies = []\n",
    "    num_simulation_steps = simulation.shape[0]\n",
    "    for time in tqdm(range(num_simulation_steps)):\n",
    "        energies_t = []\n",
    "        for i in range(M):\n",
    "            e_i = energy_local(simulation[time,i], simulation[time,i+M], alpha=alpha, beta=beta, kappa=kappa)\n",
    "            energies_t.append(e_i)\n",
    "        energies.append(energies_t)\n",
    "    e_avg = np.mean(energies, axis=1)\n",
    "    var_E = np.std(energies, axis=1)   \n",
    "    e_avg_accumulated = [e_avg[0]]\n",
    "    e_var_accumulated = [var_E[0]]\n",
    "    for time in range(equilibration_time+1, num_simulation_steps):\n",
    "        e_avg_t = np.mean(e_avg[equilibration_time:time])\n",
    "        e_var_t = np.mean(var_E[equilibration_time:time])\n",
    "        e_avg_accumulated.append(e_avg_t)\n",
    "        e_var_accumulated.append(e_var_t)\n",
    "    return np.array(e_avg_accumulated), np.array(e_var_accumulated)"
   ],
   "metadata": {
    "collapsed": false,
    "ExecuteTime": {
     "start_time": "2024-01-18T17:19:24.887622200Z"
    }
   }
  },
  {
   "cell_type": "code",
   "execution_count": null,
   "outputs": [],
   "source": [
    "n_equilibrium = 5000 # Todo: Choose appropriate value\n",
    "\n",
    "list_alpha_c = np.linspace(0,0.5,50)\n",
    "\n",
    "E_avg_alpha_c = []\n",
    "E_std_alpha_c = []\n",
    "\n",
    "for alpha in list_alpha_c:\n",
    "    simulation_a = metropolis_algorithm(R, N, s=1, alpha=alpha, beta=0.5, kappa=2)\n",
    "    E_avg_a, E_std_a = energy_statistics_c(simulation_a, n_equilibrium, alpha=alpha, beta=0.5, kappa=2)\n",
    "    E_avg_alpha_c.append(E_avg_a)\n",
    "    E_std_alpha_c.append(E_std_a)"
   ],
   "metadata": {
    "collapsed": false,
    "ExecuteTime": {
     "start_time": "2024-01-18T17:19:24.892617Z"
    }
   }
  },
  {
   "cell_type": "markdown",
   "source": [
    "# Problem d"
   ],
   "metadata": {
    "collapsed": false
   }
  },
  {
   "cell_type": "code",
   "execution_count": null,
   "outputs": [],
   "source": [
    "alpha_optimal = 2 # Todo: Select optimal alpha from problem part c\n",
    "\n",
    "list_kappa = np.linspace(1.7,2.2,50)\n",
    "\n",
    "E_avg_alpha_c = []\n",
    "E_std_alpha_c = []\n",
    "\n",
    "for k in list_kappa:\n",
    "    simulation_a = metropolis_algorithm(R, N, s=1, alpha=alpha_optimal, beta=0.5, kappa=k)\n",
    "    E_avg_a, E_std_a = energy_statistics_c(simulation_a, n_equilibrium)\n",
    "    E_avg_alpha_c.append(E_avg_a)\n",
    "    E_std_alpha_c.append(E_std_a)"
   ],
   "metadata": {
    "collapsed": false,
    "ExecuteTime": {
     "start_time": "2024-01-18T17:19:24.896144800Z"
    }
   }
  },
  {
   "cell_type": "markdown",
   "source": [
    "# Problem e"
   ],
   "metadata": {
    "collapsed": false
   }
  },
  {
   "cell_type": "code",
   "execution_count": null,
   "outputs": [],
   "source": [
    "beta_e = 0.38\n",
    "alpha_e = 0.18 \n",
    "kappa_e = 1.85"
   ],
   "metadata": {
    "collapsed": false,
    "ExecuteTime": {
     "start_time": "2024-01-18T17:19:24.899156500Z"
    }
   }
  },
  {
   "cell_type": "markdown",
   "source": [
    "# Problem g"
   ],
   "metadata": {
    "collapsed": false
   }
  },
  {
   "cell_type": "code",
   "execution_count": null,
   "outputs": [],
   "source": [
    "metropolis_algorithm(initial_state, N, s=1, alpha_e, beta_e, kappa_e, use_FP = False)"
   ],
   "metadata": {
    "collapsed": false,
    "ExecuteTime": {
     "end_time": "2024-01-18T17:19:24.906148400Z",
     "start_time": "2024-01-18T17:19:24.905152200Z"
    }
   }
  },
  {
   "cell_type": "code",
   "execution_count": null,
   "outputs": [],
   "source": [],
   "metadata": {
    "collapsed": false,
    "ExecuteTime": {
     "start_time": "2024-01-18T17:19:24.906148400Z"
    }
   }
  },
  {
   "cell_type": "code",
   "execution_count": null,
   "outputs": [],
   "source": [],
   "metadata": {
    "collapsed": false
   }
  }
 ],
 "metadata": {
  "kernelspec": {
   "display_name": "Python 3",
   "language": "python",
   "name": "python3"
  },
  "language_info": {
   "codemirror_mode": {
    "name": "ipython",
    "version": 2
   },
   "file_extension": ".py",
   "mimetype": "text/x-python",
   "name": "python",
   "nbconvert_exporter": "python",
   "pygments_lexer": "ipython2",
   "version": "2.7.6"
  }
 },
 "nbformat": 4,
 "nbformat_minor": 0
}
