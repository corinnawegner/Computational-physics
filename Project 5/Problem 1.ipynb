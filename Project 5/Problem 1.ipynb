{
 "cells": [
  {
   "cell_type": "code",
   "execution_count": 105,
   "metadata": {
    "collapsed": true,
    "ExecuteTime": {
     "end_time": "2024-01-19T20:55:41.211759800Z",
     "start_time": "2024-01-19T20:55:41.203699900Z"
    }
   },
   "outputs": [],
   "source": [
    "import numpy as np\n",
    "import matplotlib.pyplot as plt\n",
    "import pandas as pd\n",
    "from tqdm import tqdm"
   ]
  },
  {
   "cell_type": "code",
   "execution_count": 2,
   "outputs": [],
   "source": [
    "M = 300 #number of random walkers\n",
    "R = np.zeros((2*M,3))\n",
    "for m in range(2*M):\n",
    "    for d in range(3):\n",
    "        R[m,d] = np.random.uniform(-0.5, 0.5)"
   ],
   "metadata": {
    "collapsed": false,
    "ExecuteTime": {
     "end_time": "2024-01-19T16:10:19.460241100Z",
     "start_time": "2024-01-19T16:10:19.460241100Z"
    }
   }
  },
  {
   "cell_type": "code",
   "execution_count": 3,
   "outputs": [],
   "source": [
    "def greens_function(config, old_config, alpha, beta, kappa, gamma, delta_t):\n",
    "    norm_diff = np.linalg.norm(config - old_config)\n",
    "    return (1/np.sqrt(4*np.pi* gamma*delta_t)) * np.exp(-norm_diff**2 / (4*gamma*delta_t))"
   ],
   "metadata": {
    "collapsed": false,
    "ExecuteTime": {
     "end_time": "2024-01-19T16:10:19.467305800Z",
     "start_time": "2024-01-19T16:10:19.460241100Z"
    }
   }
  },
  {
   "cell_type": "code",
   "execution_count": 99,
   "outputs": [],
   "source": [
    "def psi_T(vec_r_1, vec_r_2, alpha, kappa, beta):\n",
    "    r_1 = np.linalg.norm(vec_r_1)\n",
    "    r_2 = np.linalg.norm(vec_r_2)\n",
    "    vec_r12 = vec_r_2 - vec_r_1\n",
    "    r_12 = np.linalg.norm(vec_r12)\n",
    "    pref = beta*r_12/(1+alpha*r_12)\n",
    "    psi = np.exp(-kappa*(r_1+r_2))*np.exp(pref)\n",
    "    return psi\n",
    "\n",
    "def Fokker_planck(vec_r_1, vec_r_2, alpha, kappa, beta):\n",
    "    r_1 = np.linalg.norm(vec_r_1)\n",
    "    r_2 = np.linalg.norm(vec_r_2)\n",
    "    vec_r12 = vec_r_2 - vec_r_1\n",
    "    r_12 = np.linalg.norm(vec_r12)\n",
    "    u = 1 + alpha*r_12\n",
    "    factor = beta*(((u/r_12)-alpha)/u**2)\n",
    "    force_1 = 2*(-kappa*(vec_r_1/r_1)+factor*(vec_r_1-vec_r_2))\n",
    "    force_2 = 2*(-kappa*(vec_r_2/r_2)+factor*(vec_r_2-vec_r_1))\n",
    "    return np.array([force_1, force_2])\n",
    "\n",
    "def metropolis_algorithm(initial_state, num_trials, s, alpha, beta, kappa, use_FP = False):\n",
    "    sequence_states = [initial_state]\n",
    "    for _ in tqdm(range(num_trials)):\n",
    "        next_sequence = metropolis_step(sequence_states[-1], alpha, beta, s, kappa, use_FP=use_FP)\n",
    "        sequence_states.append(next_sequence)\n",
    "    return np.array(sequence_states)\n",
    "    \n",
    "def metropolis_step(current_state, alpha, beta, s, kappa, use_FP=False):\n",
    "    trial_configuration = current_state.copy()\n",
    "    new_state = np.zeros(current_state.shape)\n",
    "    for i in range(M):\n",
    "        which_particle = np.random.choice([0,M]) # Todo: Is this chosen for each of the M seperately?\n",
    "        if use_FP:\n",
    "            trial_configuration[i+which_particle] += Fokker_planck(current_state[i], current_state[i+M], alpha, kappa, beta)*delta_t/2\n",
    "        trial_configuration[i+which_particle] += np.random.uniform(low=-s/2, high=s/2, size=3)#*np.sqrt(delta_t)\n",
    "        if not use_FP:\n",
    "            p = (psi_T(trial_configuration[i], trial_configuration[i+M], alpha, kappa, beta)/psi_T(current_state[i], current_state[i+M], alpha, kappa, beta))**2\n",
    "            trial_acceptance_prob = np.min([1, p])\n",
    "        r_accept = np.random.rand()\n",
    "        if r_accept < trial_acceptance_prob:\n",
    "            new_state[i] = trial_configuration[i]\n",
    "            new_state[i+M] = trial_configuration[i+M]\n",
    "        else:\n",
    "            new_state[i] = current_state[i]\n",
    "            new_state[i+M] = current_state[i+M]\n",
    "    return np.array(new_state)"
   ],
   "metadata": {
    "collapsed": false,
    "ExecuteTime": {
     "end_time": "2024-01-19T20:45:25.437596500Z",
     "start_time": "2024-01-19T20:45:25.431235500Z"
    }
   }
  },
  {
   "cell_type": "code",
   "execution_count": 92,
   "outputs": [
    {
     "name": "stdout",
     "output_type": "stream",
     "text": [
      "[-0.39005191  0.27200488 -0.14160547]\n",
      "[-0.51196962 -0.09095288 -0.12375507]\n",
      "1.5803091994546494\n"
     ]
    }
   ],
   "source": [
    "\n",
    "alpha = 0.15\n",
    "beta = 0.5\n",
    "kappa = 2\n",
    "print(R[0])\n",
    "R_trial = R[0] + np.random.uniform(low=-1/2, high=1/2, size=3)\n",
    "R_trial_2 = R[M] + np.random.uniform(low=-1/2, high=1/2, size=3)\n",
    "print(R_trial)\n",
    "print((psi_T(R_trial, R_trial_2, alpha, kappa, beta)/psi_T(R[0], R[M], alpha, kappa, beta))**2)"
   ],
   "metadata": {
    "collapsed": false,
    "ExecuteTime": {
     "end_time": "2024-01-19T20:25:07.147597100Z",
     "start_time": "2024-01-19T20:25:07.145108900Z"
    }
   }
  },
  {
   "cell_type": "code",
   "execution_count": 93,
   "outputs": [
    {
     "name": "stdout",
     "output_type": "stream",
     "text": [
      "5.204882672870757e-07\n",
      "(300, 3)\n"
     ]
    }
   ],
   "source": [
    "s=1\n",
    "current_state = R\n",
    "trial_configuration = current_state.copy()\n",
    "\n",
    "for i in range(M):\n",
    "    trial_configuration[i] += np.random.uniform(low=-s/2, high=s/2, size=3)#*np.sqrt(delta_t)\n",
    "\n",
    "current_r_1 = current_state[:M]\n",
    "current_r_2 = current_state[M:]\n",
    "trial_r_1 = trial_configuration[:M]\n",
    "trial_r_2 = trial_configuration[M:]\n",
    "print((psi_T(trial_r_1, trial_r_2, alpha, kappa, beta)/psi_T(current_r_1, current_r_2, alpha, kappa, beta))**2)\n",
    "print(trial_r_2.shape)"
   ],
   "metadata": {
    "collapsed": false,
    "ExecuteTime": {
     "end_time": "2024-01-19T20:25:07.677162600Z",
     "start_time": "2024-01-19T20:25:07.675113100Z"
    }
   }
  },
  {
   "cell_type": "code",
   "execution_count": 94,
   "outputs": [],
   "source": [
    "def energy_local(vec_r_1, vec_r_2, alpha, beta, kappa):\n",
    "    r_1 = np.linalg.norm(vec_r_1)\n",
    "    r_2 = np.linalg.norm(vec_r_2)\n",
    "    vec_r12 = vec_r_2 - vec_r_1\n",
    "    r_12 = np.linalg.norm(vec_r12)\n",
    "    u = 1+alpha*r_12\n",
    "    scalar_product = np.dot((vec_r_1/r_1) - (vec_r_2/r_2), -vec_r12/r_12)\n",
    "    E_L = (kappa-2)/r_1 + (kappa-2)/r_2 + (1-2*beta/u**2) +2*beta*alpha/u**3 - kappa**2 - (beta**2)/u**4 +(kappa*beta/u**2)*scalar_product    \n",
    "    return E_L\n",
    "\n",
    "def energy_statistics(simulation, accumulate_last_n, alpha, beta, kappa):\n",
    "    energies = []\n",
    "    num_simulation_steps = simulation.shape[0]\n",
    "\n",
    "    for time in tqdm(range(num_simulation_steps)): #Todo: Enable turning tqdm off\n",
    "        energies_t = []\n",
    "        for i in range(M):\n",
    "            e_i = energy_local(simulation[time,i], simulation[time,i+M], alpha=alpha, beta=beta, kappa=kappa)\n",
    "            energies_t.append(e_i)\n",
    "        energies.append(energies_t)  \n",
    "    e_avg_accumulated = [np.mean(energies[0])]\n",
    "    e_var_accumulated = [np.std(energies[0])]\n",
    "    for time in tqdm(range(1, num_simulation_steps)):\n",
    "        if time > accumulate_last_n:\n",
    "            e_avg_t = np.mean(energies[time-accumulate_last_n:time])\n",
    "            e_var_t = np.std(energies[time-accumulate_last_n:time])\n",
    "        else: #For the first 999 time steps:\n",
    "            e_avg_t = np.mean(energies[:time])\n",
    "            e_var_t = np.std(energies[:time])              \n",
    "        e_avg_accumulated.append(e_avg_t)\n",
    "        e_var_accumulated.append(e_var_t)\n",
    "    return np.array(e_avg_accumulated), np.array(e_var_accumulated)"
   ],
   "metadata": {
    "collapsed": false,
    "ExecuteTime": {
     "end_time": "2024-01-19T20:25:08.138695700Z",
     "start_time": "2024-01-19T20:25:08.132155300Z"
    }
   }
  },
  {
   "cell_type": "code",
   "execution_count": 95,
   "outputs": [
    {
     "name": "stderr",
     "output_type": "stream",
     "text": [
      "100%|██████████| 5000/5000 [00:51<00:00, 96.77it/s] \n",
      "100%|██████████| 5001/5001 [00:17<00:00, 290.18it/s]\n",
      "100%|██████████| 5000/5000 [01:30<00:00, 55.46it/s]\n"
     ]
    }
   ],
   "source": [
    "sim = metropolis_algorithm(R, num_trials=5000, s=10, alpha=0.15, beta=0.5, kappa=2)\n",
    "E_avg_s, E_std_s = energy_statistics(sim, 1000, alpha=0.15, beta=0.5, kappa=2)"
   ],
   "metadata": {
    "collapsed": false,
    "ExecuteTime": {
     "end_time": "2024-01-19T20:27:47.834529700Z",
     "start_time": "2024-01-19T20:25:08.732792Z"
    }
   }
  },
  {
   "cell_type": "code",
   "execution_count": 96,
   "outputs": [
    {
     "data": {
      "text/plain": "<matplotlib.collections.PolyCollection at 0x273e4c234d0>"
     },
     "execution_count": 96,
     "metadata": {},
     "output_type": "execute_result"
    },
    {
     "data": {
      "text/plain": "<Figure size 640x480 with 1 Axes>",
      "image/png": "[encoded data removed]"
     },
     "metadata": {},
     "output_type": "display_data"
    }
   ],
   "source": [
    "plt.plot(np.arange(sim.shape[0]), E_avg_s)\n",
    "plt.fill_between(np.arange(sim.shape[0]), E_avg_s-E_std_s, E_avg_s+E_std_s, alpha=0.3)"
   ],
   "metadata": {
    "collapsed": false,
    "ExecuteTime": {
     "end_time": "2024-01-19T20:27:47.909976400Z",
     "start_time": "2024-01-19T20:27:47.837923100Z"
    }
   }
  },
  {
   "cell_type": "code",
   "execution_count": 37,
   "outputs": [
    {
     "name": "stdout",
     "output_type": "stream",
     "text": [
      "[ 0.47111873  0.07798355 -0.45012105]\n",
      "[ 0.10389725 -0.46783266  0.10703362]\n",
      "-2.6745152843362465\n"
     ]
    }
   ],
   "source": [
    "timestep = 0\n",
    "walker = 0\n",
    "sim_step_r1 = sim[timestep, walker, :]\n",
    "sim_step_r2 = sim[timestep, walker+M, :]\n",
    "e = energy_local(sim_step_r1, sim_step_r2, alpha=0.15, beta=0.5, kappa=2)\n",
    "\n",
    "print(sim_step_r1)\n",
    "print(sim_step_r2)\n",
    "print(e)"
   ],
   "metadata": {
    "collapsed": false,
    "ExecuteTime": {
     "start_time": "2024-01-18T16:59:53.060235300Z"
    }
   }
  },
  {
   "cell_type": "code",
   "execution_count": 97,
   "outputs": [
    {
     "name": "stdout",
     "output_type": "stream",
     "text": [
      "s = 0.1:\n"
     ]
    },
    {
     "name": "stderr",
     "output_type": "stream",
     "text": [
      "100%|██████████| 10000/10000 [01:43<00:00, 96.68it/s]\n",
      "100%|██████████| 10001/10001 [00:34<00:00, 287.89it/s]\n",
      "100%|██████████| 10000/10000 [03:09<00:00, 52.91it/s]\n"
     ]
    },
    {
     "name": "stdout",
     "output_type": "stream",
     "text": [
      "s = 1:\n"
     ]
    },
    {
     "name": "stderr",
     "output_type": "stream",
     "text": [
      "100%|██████████| 10000/10000 [01:42<00:00, 97.71it/s]\n",
      "100%|██████████| 10001/10001 [00:34<00:00, 288.18it/s]\n",
      "100%|██████████| 10000/10000 [03:10<00:00, 52.61it/s]\n"
     ]
    },
    {
     "name": "stdout",
     "output_type": "stream",
     "text": [
      "s = 10:\n"
     ]
    },
    {
     "name": "stderr",
     "output_type": "stream",
     "text": [
      "100%|██████████| 10000/10000 [01:44<00:00, 95.79it/s]\n",
      "100%|██████████| 10001/10001 [00:34<00:00, 290.77it/s]\n",
      "100%|██████████| 10000/10000 [03:08<00:00, 53.12it/s]\n"
     ]
    }
   ],
   "source": [
    "N = 10000 # Todo: Change back to 30k\n",
    "n = 1000\n",
    "list_s = [0.1,1,10]\n",
    "\n",
    "E_avg = []\n",
    "E_std = []\n",
    "\n",
    "for s_test in list_s:\n",
    "    print(f\"s = {s_test}:\")\n",
    "    simulation_s = metropolis_algorithm(R, N, s_test, alpha=0.15, beta=0.5, kappa=2)\n",
    "    E_avg_s, E_std_s = energy_statistics(simulation_s, n, alpha=0.15, beta=0.5, kappa=2)\n",
    "    E_avg.append(E_avg_s)\n",
    "    E_std.append(E_std_s)\n",
    "    \n"
   ],
   "metadata": {
    "collapsed": false,
    "ExecuteTime": {
     "end_time": "2024-01-19T20:45:25.290899800Z",
     "start_time": "2024-01-19T20:29:03.715575100Z"
    }
   }
  },
  {
   "cell_type": "code",
   "execution_count": 98,
   "outputs": [
    {
     "data": {
      "text/plain": "<matplotlib.legend.Legend at 0x273dc93fc90>"
     },
     "execution_count": 98,
     "metadata": {},
     "output_type": "execute_result"
    },
    {
     "data": {
      "text/plain": "<Figure size 640x480 with 1 Axes>",
      "image/png": "[encoded data removed]"
     },
     "metadata": {},
     "output_type": "display_data"
    }
   ],
   "source": [
    "t = np.arange(N+1)\n",
    "for i in range(len(E_avg)):\n",
    "    plt.fill_between(t, E_avg[i]-E_std[i], E_avg[i]+E_std[i], alpha=0.3)\n",
    "    plt.plot(t, E_avg[i], label=f\"s = {list_s[i]}\")\n",
    "    \n",
    "plt.title(\"Energy development\")\n",
    "plt.xlabel(\"t\")\n",
    "plt.ylabel(r\"$\\langle E_L \\rangle$\")\n",
    "plt.legend()\n",
    "\n",
    "#Todo: Look at the time, there is something wrong, maybe therefore weird standard deviation?"
   ],
   "metadata": {
    "collapsed": false,
    "ExecuteTime": {
     "end_time": "2024-01-19T20:45:25.437596500Z",
     "start_time": "2024-01-19T20:45:25.289899700Z"
    }
   }
  },
  {
   "cell_type": "code",
   "execution_count": 119,
   "outputs": [
    {
     "name": "stdout",
     "output_type": "stream",
     "text": [
      "      s      mean  $\\sigma$\n",
      "0   0.1 -2.808174  0.355044\n",
      "1   1.0 -2.819642  0.365399\n",
      "2  10.0 -2.789180  0.358577\n"
     ]
    }
   ],
   "source": [
    "E_avg = np.array(E_avg)\n",
    "E_std = np.array(E_std)\n",
    "print(pd.DataFrame({\"s\": list_s, \"mean\": E_avg[:,-1], \"$\\sigma$\": E_std[:,-1]}))"
   ],
   "metadata": {
    "collapsed": false,
    "ExecuteTime": {
     "end_time": "2024-01-19T20:58:20.933863800Z",
     "start_time": "2024-01-19T20:58:20.901767700Z"
    }
   }
  },
  {
   "cell_type": "markdown",
   "source": [
    "# Problem b"
   ],
   "metadata": {
    "collapsed": false
   }
  },
  {
   "cell_type": "code",
   "execution_count": 120,
   "outputs": [
    {
     "name": "stdout",
     "output_type": "stream",
     "text": [
      "$\\alpha$ = 0.0:\n"
     ]
    },
    {
     "name": "stderr",
     "output_type": "stream",
     "text": [
      "100%|██████████| 10000/10000 [01:39<00:00, 100.02it/s]\n",
      "100%|██████████| 10001/10001 [00:34<00:00, 292.18it/s]\n",
      "100%|██████████| 10000/10000 [03:10<00:00, 52.47it/s]\n"
     ]
    },
    {
     "name": "stdout",
     "output_type": "stream",
     "text": [
      "$\\alpha$ = 0.1:\n"
     ]
    },
    {
     "name": "stderr",
     "output_type": "stream",
     "text": [
      "100%|██████████| 10000/10000 [01:39<00:00, 100.39it/s]\n",
      "100%|██████████| 10001/10001 [00:34<00:00, 291.61it/s]\n",
      "100%|██████████| 10000/10000 [03:08<00:00, 52.93it/s]\n"
     ]
    },
    {
     "name": "stdout",
     "output_type": "stream",
     "text": [
      "$\\alpha$ = 0.2:\n"
     ]
    },
    {
     "name": "stderr",
     "output_type": "stream",
     "text": [
      "100%|██████████| 10000/10000 [01:40<00:00, 99.69it/s]\n",
      "100%|██████████| 10001/10001 [00:34<00:00, 287.88it/s]\n",
      "100%|██████████| 10000/10000 [03:10<00:00, 52.36it/s]\n"
     ]
    },
    {
     "name": "stdout",
     "output_type": "stream",
     "text": [
      "$\\alpha$ = 0.3:\n"
     ]
    },
    {
     "name": "stderr",
     "output_type": "stream",
     "text": [
      "100%|██████████| 10000/10000 [01:40<00:00, 99.46it/s]\n",
      "100%|██████████| 10001/10001 [00:34<00:00, 288.82it/s]\n",
      "100%|██████████| 10000/10000 [03:10<00:00, 52.38it/s]\n"
     ]
    },
    {
     "name": "stdout",
     "output_type": "stream",
     "text": [
      "$\\alpha$ = 0.4:\n"
     ]
    },
    {
     "name": "stderr",
     "output_type": "stream",
     "text": [
      "100%|██████████| 10000/10000 [01:40<00:00, 99.77it/s]\n",
      "100%|██████████| 10001/10001 [00:34<00:00, 289.62it/s]\n",
      "100%|██████████| 10000/10000 [03:11<00:00, 52.33it/s]\n"
     ]
    },
    {
     "name": "stdout",
     "output_type": "stream",
     "text": [
      "$\\alpha$ = 0.5:\n"
     ]
    },
    {
     "name": "stderr",
     "output_type": "stream",
     "text": [
      "100%|██████████| 10000/10000 [01:40<00:00, 99.80it/s]\n",
      "100%|██████████| 10001/10001 [00:38<00:00, 259.51it/s]\n",
      "100%|██████████| 10000/10000 [03:10<00:00, 52.38it/s]\n"
     ]
    }
   ],
   "source": [
    "N_b = 10000\n",
    "list_alpha = [0.0, 0.1, 0.2, 0.3, 0.4, 0.5]\n",
    "\n",
    "E_avg_alpha = []\n",
    "E_std_alpha = []\n",
    "\n",
    "for alpha in list_alpha:\n",
    "    print(rf\"$\\alpha$ = {alpha}:\")\n",
    "    simulation_a = metropolis_algorithm(R, N_b, s=1, alpha=alpha, beta=0.5, kappa=2)\n",
    "    E_avg_a, E_std_a = energy_statistics(simulation_a, n, alpha=alpha, beta=0.5, kappa=2)\n",
    "    E_avg_alpha.append(E_avg_a)\n",
    "    E_std_alpha.append(E_std_a)"
   ],
   "metadata": {
    "collapsed": false,
    "ExecuteTime": {
     "end_time": "2024-01-19T21:32:11.490596700Z",
     "start_time": "2024-01-19T20:59:35.822683200Z"
    }
   }
  },
  {
   "cell_type": "code",
   "execution_count": 122,
   "outputs": [],
   "source": [
    "E_avg_alpha = np.array(E_std_alpha)\n",
    "E_std_alpha = np.array(E_std_alpha)"
   ],
   "metadata": {
    "collapsed": false,
    "ExecuteTime": {
     "end_time": "2024-01-19T21:36:51.745454300Z",
     "start_time": "2024-01-19T21:36:51.737342800Z"
    }
   }
  },
  {
   "cell_type": "code",
   "execution_count": 127,
   "outputs": [
    {
     "data": {
      "text/plain": "<matplotlib.legend.Legend at 0x273dcad4ed0>"
     },
     "execution_count": 127,
     "metadata": {},
     "output_type": "execute_result"
    },
    {
     "data": {
      "text/plain": "<Figure size 640x480 with 1 Axes>",
      "image/png": "[encoded data removed]"
     },
     "metadata": {},
     "output_type": "display_data"
    }
   ],
   "source": [
    "t_b = np.arange(1000+1)\n",
    "for i in range(len(E_avg_alpha)):\n",
    "    #plt.fill_between(t, E_avg_alpha[i]-E_std_alpha[i], E_avg_alpha[i]+E_std_alpha[i], alpha=0.3)\n",
    "    plt.plot(t_b, E_avg_alpha[i], label= rf\"$\\alpha$ = {list_alpha[i]}\")\n",
    "    \n",
    "plt.title(\"Energy development\")\n",
    "plt.xlabel(\"t\")\n",
    "plt.ylabel(r\"$\\langle E_L \\rangle$\")\n",
    "plt.legend()"
   ],
   "metadata": {
    "collapsed": false,
    "ExecuteTime": {
     "end_time": "2024-01-19T21:49:28.083908600Z",
     "start_time": "2024-01-19T21:49:27.760875500Z"
    }
   }
  },
  {
   "cell_type": "markdown",
   "source": [
    "# Problem c"
   ],
   "metadata": {
    "collapsed": false
   }
  },
  {
   "cell_type": "code",
   "execution_count": 128,
   "outputs": [],
   "source": [
    "def energy_statistics_c(simulation, equilibration_time, alpha=0.15, beta=0.5, kappa=2): # Todo: If change in energy_statistics function is made, it may be necessary to change it here as well\n",
    "    energies = []\n",
    "    num_simulation_steps = simulation.shape[0]\n",
    "    for time in tqdm(range(num_simulation_steps)):\n",
    "        energies_t = []\n",
    "        for i in range(M):\n",
    "            e_i = energy_local(simulation[time,i], simulation[time,i+M], alpha=alpha, beta=beta, kappa=kappa)\n",
    "            energies_t.append(e_i)\n",
    "        energies.append(energies_t)\n",
    "    e_avg = np.mean(energies, axis=1)\n",
    "    var_E = np.std(energies, axis=1)   \n",
    "    e_avg_accumulated = [e_avg[0]]\n",
    "    e_var_accumulated = [var_E[0]]\n",
    "    for time in range(equilibration_time+1, num_simulation_steps):\n",
    "        e_avg_t = np.mean(e_avg[equilibration_time:time])\n",
    "        e_var_t = np.mean(var_E[equilibration_time:time])\n",
    "        e_avg_accumulated.append(e_avg_t)\n",
    "        e_var_accumulated.append(e_var_t)\n",
    "    return np.array(e_avg_accumulated), np.array(e_var_accumulated)"
   ],
   "metadata": {
    "collapsed": false,
    "ExecuteTime": {
     "end_time": "2024-01-19T21:51:16.045763100Z",
     "start_time": "2024-01-19T21:51:16.039253900Z"
    }
   }
  },
  {
   "cell_type": "code",
   "execution_count": 131,
   "outputs": [
    {
     "name": "stderr",
     "output_type": "stream",
     "text": [
      "100%|██████████| 10000/10000 [01:40<00:00, 99.11it/s]\n",
      "100%|██████████| 10001/10001 [00:34<00:00, 293.25it/s]\n",
      "100%|██████████| 10000/10000 [01:40<00:00, 99.98it/s]\n",
      "100%|██████████| 10001/10001 [00:34<00:00, 291.65it/s]\n",
      "100%|██████████| 10000/10000 [01:39<00:00, 100.44it/s]\n",
      "100%|██████████| 10001/10001 [00:34<00:00, 290.39it/s]\n",
      "100%|██████████| 10000/10000 [01:40<00:00, 99.80it/s]\n",
      "100%|██████████| 10001/10001 [00:34<00:00, 293.02it/s]\n",
      "100%|██████████| 10000/10000 [01:39<00:00, 100.73it/s]\n",
      "100%|██████████| 10001/10001 [00:34<00:00, 293.30it/s]\n",
      "100%|██████████| 10000/10000 [01:39<00:00, 100.05it/s]\n",
      "100%|██████████| 10001/10001 [00:34<00:00, 291.08it/s]\n",
      "100%|██████████| 10000/10000 [01:40<00:00, 99.86it/s]\n",
      "100%|██████████| 10001/10001 [00:34<00:00, 291.00it/s]\n",
      "100%|██████████| 10000/10000 [01:40<00:00, 99.82it/s]\n",
      "100%|██████████| 10001/10001 [00:34<00:00, 291.11it/s]\n",
      "100%|██████████| 10000/10000 [01:40<00:00, 99.86it/s]\n",
      "100%|██████████| 10001/10001 [00:34<00:00, 291.30it/s]\n",
      "100%|██████████| 10000/10000 [01:40<00:00, 99.67it/s]\n",
      "100%|██████████| 10001/10001 [00:34<00:00, 291.51it/s]\n",
      "100%|██████████| 10000/10000 [01:39<00:00, 100.06it/s]\n",
      "100%|██████████| 10001/10001 [00:34<00:00, 291.41it/s]\n",
      "100%|██████████| 10000/10000 [01:40<00:00, 99.83it/s]\n",
      "100%|██████████| 10001/10001 [00:34<00:00, 292.37it/s]\n",
      "100%|██████████| 10000/10000 [01:40<00:00, 99.93it/s]\n",
      "100%|██████████| 10001/10001 [00:34<00:00, 290.62it/s]\n",
      "100%|██████████| 10000/10000 [01:39<00:00, 100.54it/s]\n",
      "100%|██████████| 10001/10001 [00:34<00:00, 290.06it/s]\n",
      "100%|██████████| 10000/10000 [01:40<00:00, 99.49it/s]\n",
      "100%|██████████| 10001/10001 [00:34<00:00, 287.73it/s]\n",
      "100%|██████████| 10000/10000 [01:40<00:00, 99.45it/s]\n",
      "100%|██████████| 10001/10001 [00:34<00:00, 288.98it/s]\n",
      "100%|██████████| 10000/10000 [01:40<00:00, 99.06it/s]\n",
      "100%|██████████| 10001/10001 [00:34<00:00, 289.61it/s]\n",
      "100%|██████████| 10000/10000 [01:41<00:00, 98.79it/s]\n",
      "100%|██████████| 10001/10001 [00:34<00:00, 289.20it/s]\n",
      "100%|██████████| 10000/10000 [01:41<00:00, 98.99it/s]\n",
      "100%|██████████| 10001/10001 [00:34<00:00, 289.91it/s]\n",
      "100%|██████████| 10000/10000 [01:41<00:00, 98.58it/s]\n",
      "100%|██████████| 10001/10001 [00:34<00:00, 289.86it/s]\n",
      "100%|██████████| 10000/10000 [01:40<00:00, 99.21it/s]\n",
      "100%|██████████| 10001/10001 [00:34<00:00, 289.11it/s]\n",
      "100%|██████████| 10000/10000 [01:41<00:00, 98.90it/s]\n",
      "100%|██████████| 10001/10001 [00:34<00:00, 289.73it/s]\n",
      "100%|██████████| 10000/10000 [01:40<00:00, 99.42it/s]\n",
      "100%|██████████| 10001/10001 [00:34<00:00, 290.95it/s]\n",
      "100%|██████████| 10000/10000 [01:39<00:00, 100.03it/s]\n",
      "100%|██████████| 10001/10001 [00:34<00:00, 289.99it/s]\n",
      "100%|██████████| 10000/10000 [01:40<00:00, 99.32it/s]\n",
      "100%|██████████| 10001/10001 [00:34<00:00, 289.51it/s]\n",
      "100%|██████████| 10000/10000 [01:40<00:00, 99.67it/s] \n",
      "100%|██████████| 10001/10001 [00:34<00:00, 289.33it/s]\n",
      "100%|██████████| 10000/10000 [01:40<00:00, 99.35it/s]\n",
      "100%|██████████| 10001/10001 [00:34<00:00, 287.15it/s]\n",
      "100%|██████████| 10000/10000 [01:40<00:00, 99.86it/s]\n",
      "100%|██████████| 10001/10001 [00:34<00:00, 289.43it/s]\n",
      "100%|██████████| 10000/10000 [01:40<00:00, 99.28it/s]\n",
      "100%|██████████| 10001/10001 [00:34<00:00, 287.58it/s]\n",
      "100%|██████████| 10000/10000 [01:40<00:00, 99.72it/s]\n",
      "100%|██████████| 10001/10001 [00:34<00:00, 289.83it/s]\n",
      "100%|██████████| 10000/10000 [01:40<00:00, 99.12it/s]\n",
      "100%|██████████| 10001/10001 [00:34<00:00, 289.59it/s]\n",
      "100%|██████████| 10000/10000 [01:40<00:00, 99.75it/s]\n",
      "100%|██████████| 10001/10001 [00:35<00:00, 284.90it/s]\n",
      "100%|██████████| 10000/10000 [01:41<00:00, 98.96it/s]\n",
      "100%|██████████| 10001/10001 [00:34<00:00, 289.16it/s]\n",
      "100%|██████████| 10000/10000 [01:41<00:00, 98.94it/s]\n",
      "100%|██████████| 10001/10001 [00:34<00:00, 288.31it/s]\n",
      "100%|██████████| 10000/10000 [01:40<00:00, 99.03it/s]\n",
      "100%|██████████| 10001/10001 [00:34<00:00, 288.77it/s]\n",
      "100%|██████████| 10000/10000 [01:40<00:00, 99.58it/s]\n",
      "100%|██████████| 10001/10001 [00:34<00:00, 288.48it/s]\n",
      "100%|██████████| 10000/10000 [01:40<00:00, 99.91it/s]\n",
      "100%|██████████| 10001/10001 [00:34<00:00, 288.52it/s]\n",
      "100%|██████████| 10000/10000 [01:40<00:00, 99.21it/s]\n",
      "100%|██████████| 10001/10001 [00:34<00:00, 290.73it/s]\n",
      "100%|██████████| 10000/10000 [01:39<00:00, 100.02it/s]\n",
      "100%|██████████| 10001/10001 [00:34<00:00, 290.87it/s]\n",
      "100%|██████████| 10000/10000 [01:40<00:00, 99.48it/s]\n",
      "100%|██████████| 10001/10001 [00:34<00:00, 287.80it/s]\n",
      "  7%|▋         | 727/10000 [00:07<01:33, 99.64it/s] \n"
     ]
    },
    {
     "ename": "KeyboardInterrupt",
     "evalue": "",
     "output_type": "error",
     "traceback": [
      "\u001B[1;31m---------------------------------------------------------------------------\u001B[0m",
      "\u001B[1;31mKeyboardInterrupt\u001B[0m                         Traceback (most recent call last)",
      "Cell \u001B[1;32mIn[131], line 9\u001B[0m\n\u001B[0;32m      6\u001B[0m E_std_alpha_c \u001B[38;5;241m=\u001B[39m []\n\u001B[0;32m      8\u001B[0m \u001B[38;5;28;01mfor\u001B[39;00m alpha \u001B[38;5;129;01min\u001B[39;00m list_alpha_c:\n\u001B[1;32m----> 9\u001B[0m     simulation_a \u001B[38;5;241m=\u001B[39m \u001B[43mmetropolis_algorithm\u001B[49m\u001B[43m(\u001B[49m\u001B[43mR\u001B[49m\u001B[43m,\u001B[49m\u001B[43m \u001B[49m\u001B[38;5;241;43m10000\u001B[39;49m\u001B[43m,\u001B[49m\u001B[43m \u001B[49m\u001B[43ms\u001B[49m\u001B[38;5;241;43m=\u001B[39;49m\u001B[38;5;241;43m1\u001B[39;49m\u001B[43m,\u001B[49m\u001B[43m \u001B[49m\u001B[43malpha\u001B[49m\u001B[38;5;241;43m=\u001B[39;49m\u001B[43malpha\u001B[49m\u001B[43m,\u001B[49m\u001B[43m \u001B[49m\u001B[43mbeta\u001B[49m\u001B[38;5;241;43m=\u001B[39;49m\u001B[38;5;241;43m0.5\u001B[39;49m\u001B[43m,\u001B[49m\u001B[43m \u001B[49m\u001B[43mkappa\u001B[49m\u001B[38;5;241;43m=\u001B[39;49m\u001B[38;5;241;43m2\u001B[39;49m\u001B[43m)\u001B[49m\n\u001B[0;32m     10\u001B[0m     E_avg_a, E_std_a \u001B[38;5;241m=\u001B[39m energy_statistics_c(simulation_a, n_equilibrium, alpha\u001B[38;5;241m=\u001B[39malpha, beta\u001B[38;5;241m=\u001B[39m\u001B[38;5;241m0.5\u001B[39m, kappa\u001B[38;5;241m=\u001B[39m\u001B[38;5;241m2\u001B[39m)\n\u001B[0;32m     11\u001B[0m     E_avg_alpha_c\u001B[38;5;241m.\u001B[39mappend(E_avg_a)\n",
      "Cell \u001B[1;32mIn[99], line 24\u001B[0m, in \u001B[0;36mmetropolis_algorithm\u001B[1;34m(initial_state, num_trials, s, alpha, beta, kappa, use_FP)\u001B[0m\n\u001B[0;32m     22\u001B[0m sequence_states \u001B[38;5;241m=\u001B[39m [initial_state]\n\u001B[0;32m     23\u001B[0m \u001B[38;5;28;01mfor\u001B[39;00m _ \u001B[38;5;129;01min\u001B[39;00m tqdm(\u001B[38;5;28mrange\u001B[39m(num_trials)):\n\u001B[1;32m---> 24\u001B[0m     next_sequence \u001B[38;5;241m=\u001B[39m \u001B[43mmetropolis_step\u001B[49m\u001B[43m(\u001B[49m\u001B[43msequence_states\u001B[49m\u001B[43m[\u001B[49m\u001B[38;5;241;43m-\u001B[39;49m\u001B[38;5;241;43m1\u001B[39;49m\u001B[43m]\u001B[49m\u001B[43m,\u001B[49m\u001B[43m \u001B[49m\u001B[43malpha\u001B[49m\u001B[43m,\u001B[49m\u001B[43m \u001B[49m\u001B[43mbeta\u001B[49m\u001B[43m,\u001B[49m\u001B[43m \u001B[49m\u001B[43ms\u001B[49m\u001B[43m,\u001B[49m\u001B[43m \u001B[49m\u001B[43mkappa\u001B[49m\u001B[43m,\u001B[49m\u001B[43m \u001B[49m\u001B[43muse_FP\u001B[49m\u001B[38;5;241;43m=\u001B[39;49m\u001B[43muse_FP\u001B[49m\u001B[43m)\u001B[49m\n\u001B[0;32m     25\u001B[0m     sequence_states\u001B[38;5;241m.\u001B[39mappend(next_sequence)\n\u001B[0;32m     26\u001B[0m \u001B[38;5;28;01mreturn\u001B[39;00m np\u001B[38;5;241m.\u001B[39marray(sequence_states)\n",
      "Cell \u001B[1;32mIn[99], line 35\u001B[0m, in \u001B[0;36mmetropolis_step\u001B[1;34m(current_state, alpha, beta, s, kappa, use_FP)\u001B[0m\n\u001B[0;32m     33\u001B[0m \u001B[38;5;28;01mif\u001B[39;00m use_FP:\n\u001B[0;32m     34\u001B[0m     trial_configuration[i\u001B[38;5;241m+\u001B[39mwhich_particle] \u001B[38;5;241m+\u001B[39m\u001B[38;5;241m=\u001B[39m Fokker_planck(current_state[i], current_state[i\u001B[38;5;241m+\u001B[39mM], alpha, kappa, beta)\u001B[38;5;241m*\u001B[39mdelta_t\u001B[38;5;241m/\u001B[39m\u001B[38;5;241m2\u001B[39m\n\u001B[1;32m---> 35\u001B[0m trial_configuration[i\u001B[38;5;241m+\u001B[39mwhich_particle] \u001B[38;5;241m+\u001B[39m\u001B[38;5;241m=\u001B[39m np\u001B[38;5;241m.\u001B[39mrandom\u001B[38;5;241m.\u001B[39muniform(low\u001B[38;5;241m=\u001B[39m\u001B[38;5;241m-\u001B[39ms\u001B[38;5;241m/\u001B[39m\u001B[38;5;241m2\u001B[39m, high\u001B[38;5;241m=\u001B[39ms\u001B[38;5;241m/\u001B[39m\u001B[38;5;241m2\u001B[39m, size\u001B[38;5;241m=\u001B[39m\u001B[38;5;241m3\u001B[39m)\u001B[38;5;66;03m#*np.sqrt(delta_t)\u001B[39;00m\n\u001B[0;32m     36\u001B[0m \u001B[38;5;28;01mif\u001B[39;00m \u001B[38;5;129;01mnot\u001B[39;00m use_FP:\n\u001B[0;32m     37\u001B[0m     p \u001B[38;5;241m=\u001B[39m (psi_T(trial_configuration[i], trial_configuration[i\u001B[38;5;241m+\u001B[39mM], alpha, kappa, beta)\u001B[38;5;241m/\u001B[39mpsi_T(current_state[i], current_state[i\u001B[38;5;241m+\u001B[39mM], alpha, kappa, beta))\u001B[38;5;241m*\u001B[39m\u001B[38;5;241m*\u001B[39m\u001B[38;5;241m2\u001B[39m\n",
      "\u001B[1;31mKeyboardInterrupt\u001B[0m: "
     ]
    }
   ],
   "source": [
    "n_equilibrium = 5000 # Todo: Choose appropriate value\n",
    "\n",
    "list_alpha_c = np.linspace(0,0.5,50)\n",
    "\n",
    "E_avg_alpha_c = []\n",
    "E_std_alpha_c = []\n",
    "\n",
    "for alpha in list_alpha_c:\n",
    "    print(alpha)\n",
    "    simulation_a = metropolis_algorithm(R, N_b, s=1, alpha=alpha, beta=0.5, kappa=2)\n",
    "    E_avg_a, E_std_a = energy_statistics_c(simulation_a, n_equilibrium, alpha=alpha, beta=0.5, kappa=2)\n",
    "    E_avg_alpha_c.append(E_avg_a)\n",
    "    E_std_alpha_c.append(E_std_a)"
   ],
   "metadata": {
    "collapsed": false,
    "ExecuteTime": {
     "end_time": "2024-01-19T23:23:00.956477400Z",
     "start_time": "2024-01-19T21:52:43.761458600Z"
    }
   }
  },
  {
   "cell_type": "code",
   "execution_count": null,
   "outputs": [],
   "source": [
    "for i, alpha in enumerate(list_alpha_c):\n",
    "    plt.plot(list_alpha_c[i], E_avg_alpha_c[i], label = rf\"$\\alpha$ = {alpha}\")\n",
    "plt.xlabel(\"alpha\")\n",
    "plt.ylabel(r\"$\\langle \\bar{E_{L}} \\rangle$\")\n",
    "plt.title(r\"Part c): Mean energy for different $\\alpha$\")"
   ],
   "metadata": {
    "collapsed": false,
    "ExecuteTime": {
     "start_time": "2024-01-19T23:23:00.952968100Z"
    }
   }
  },
  {
   "cell_type": "code",
   "execution_count": null,
   "outputs": [],
   "source": [
    "#Todo: Plot sigma over alpha"
   ],
   "metadata": {
    "collapsed": false
   }
  },
  {
   "cell_type": "markdown",
   "source": [
    "# Problem d"
   ],
   "metadata": {
    "collapsed": false
   }
  },
  {
   "cell_type": "code",
   "execution_count": null,
   "outputs": [],
   "source": [
    "alpha_optimal = 0.15 # Todo: Select optimal alpha from problem part c\n",
    "\n",
    "list_kappa = np.linspace(1.7,2.2,50)\n",
    "\n",
    "E_avg_kappa_c = []\n",
    "E_std_kappa_c = []\n",
    "\n",
    "for k in list_kappa:\n",
    "    simulation_k = metropolis_algorithm(R, N, s=1, alpha=alpha_optimal, beta=0.5, kappa=k)\n",
    "    E_avg_k, E_std_k = energy_statistics_c(simulation_k, n_equilibrium)\n",
    "    E_avg_alpha_k.append(E_avg_k)\n",
    "    E_std_alpha_k.append(E_std_k)"
   ],
   "metadata": {
    "collapsed": false,
    "ExecuteTime": {
     "start_time": "2024-01-18T17:19:24.896144800Z"
    }
   }
  },
  {
   "cell_type": "markdown",
   "source": [
    "# Problem e"
   ],
   "metadata": {
    "collapsed": false
   }
  },
  {
   "cell_type": "code",
   "execution_count": null,
   "outputs": [],
   "source": [
    "beta_e = 0.38\n",
    "alpha_e = 0.18 \n",
    "kappa_e = 1.85"
   ],
   "metadata": {
    "collapsed": false,
    "ExecuteTime": {
     "start_time": "2024-01-18T17:19:24.899156500Z"
    }
   }
  },
  {
   "cell_type": "markdown",
   "source": [
    "# Problem g"
   ],
   "metadata": {
    "collapsed": false
   }
  },
  {
   "cell_type": "code",
   "execution_count": null,
   "outputs": [],
   "source": [
    "metropolis_algorithm(initial_state, N, s=1, alpha_e, beta_e, kappa_e, use_FP = False)"
   ],
   "metadata": {
    "collapsed": false,
    "ExecuteTime": {
     "end_time": "2024-01-18T17:19:24.906148400Z",
     "start_time": "2024-01-18T17:19:24.905152200Z"
    }
   }
  },
  {
   "cell_type": "code",
   "execution_count": null,
   "outputs": [],
   "source": [],
   "metadata": {
    "collapsed": false,
    "ExecuteTime": {
     "start_time": "2024-01-18T17:19:24.906148400Z"
    }
   }
  },
  {
   "cell_type": "code",
   "execution_count": null,
   "outputs": [],
   "source": [],
   "metadata": {
    "collapsed": false
   }
  }
 ],
 "metadata": {
  "kernelspec": {
   "display_name": "Python 3",
   "language": "python",
   "name": "python3"
  },
  "language_info": {
   "codemirror_mode": {
    "name": "ipython",
    "version": 2
   },
   "file_extension": ".py",
   "mimetype": "text/x-python",
   "name": "python",
   "nbconvert_exporter": "python",
   "pygments_lexer": "ipython2",
   "version": "2.7.6"
  }
 },
 "nbformat": 4,
 "nbformat_minor": 0
}
