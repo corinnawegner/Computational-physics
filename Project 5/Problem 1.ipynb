{
 "cells": [
  {
   "cell_type": "code",
   "execution_count": 1,
   "metadata": {
    "collapsed": true,
    "ExecuteTime": {
     "end_time": "2024-01-13T10:29:06.057448700Z",
     "start_time": "2024-01-13T10:29:05.662512Z"
    }
   },
   "outputs": [],
   "source": [
    "import numpy as np"
   ]
  },
  {
   "cell_type": "code",
   "execution_count": 9,
   "outputs": [
    {
     "data": {
      "text/plain": "(300, 3)"
     },
     "execution_count": 9,
     "metadata": {},
     "output_type": "execute_result"
    }
   ],
   "source": [
    "M = 300 #number of random walkers\n",
    "R = np.zeros((2*M,3))\n",
    "for m in range(M):\n",
    "    for d in range(3):\n",
    "        R[m,d] = np.random.uniform(-0.5, 0.5)"
   ],
   "metadata": {
    "collapsed": false,
    "ExecuteTime": {
     "end_time": "2024-01-13T11:43:13.844635Z",
     "start_time": "2024-01-13T11:43:13.837259900Z"
    }
   }
  },
  {
   "cell_type": "code",
   "execution_count": null,
   "outputs": [],
   "source": [
    "def greens_function(config, old_config, alpha, beta, kappa, gamma, delta_t):\n",
    "    norm_diff = np.linalg.norm(config - old_config)\n",
    "    return (1/np.sqrt(4*np.pi* gamma*delta_t)) * np.exp(-norm_diff**2 / (4*gamma*delta_t))"
   ],
   "metadata": {
    "collapsed": false
   }
  },
  {
   "cell_type": "code",
   "execution_count": null,
   "outputs": [],
   "source": [
    "def psi_T(vec_r_1, vec_r_2, alpha, kappa = 2, beta = 0.5):\n",
    "    r_1 = np.linalg.norm(vec_r_1)\n",
    "    r_2 = np.linalg.norm(vec_r_2)\n",
    "    vec_r12 = vec_r_2 - vec_r_1\n",
    "    r_12 = np.linalg.norm(vec_r12)\n",
    "    pref = beta*r_12/(1+alpha*r_12)\n",
    "    psi = np.exp(-kappa*r_1)*np.exp(kappa*r_2)*np.exp(pref)\n",
    "    return psi\n",
    "\n",
    "def energy_local(vec_r_1, vec_r_2, alpha, kappa = 2, beta = 0.5):\n",
    "    r_1 = np.sqrt(np.sum([x**2 for x in vec_r_1]))\n",
    "    r_2 = np.sqrt(np.sum([x**2 for x in vec_r_2]))\n",
    "    vec_r12 = vec_r_2 - vec_r_1\n",
    "    r_12 = np.sqrt(np.sum([x**2 for x in vec_r12]))\n",
    "    u = 1+alpha*r_12\n",
    "    scalar_product = np.dot(vec_r_1/r_1 - vec_r_2/r_2, vec_r12/r_12)\n",
    "    E_L = (kappa-2)/r_1 + (kappa-2)/r_2 + (1-2*beta/u**2) +2*beta*alpha/u**3 - kappa**2 - (beta**2)/u**4 +(kappa*beta/u**2)*scalar_product\n",
    "    return E_L\n",
    "\n",
    "def Fokker_planck(vec_r_1, vec_r_2, alpha, kappa = 2, beta = 0.5):\n",
    "    r_1 = np.linalg.norm(vec_r_1)\n",
    "    r_2 = np.linalg.norm(vec_r_2)\n",
    "    vec_r12 = vec_r_2 - vec_r_1\n",
    "    r_12 = np.linalg.norm(vec_r12)\n",
    "    a = 1 + alpha*r_12\n",
    "    factor = beta*(((a/r_12)-alpha)/a**2)\n",
    "    force_1 = 2*(-kappa*(vec_r_1/r_1)+factor*(vec_r_1-vec_r_2))\n",
    "    force_2 = 2*(-kappa*(vec_r_2/r_2)+factor*(vec_r_2-vec_r_1))\n",
    "    return np.array([force_1, force_2])\n",
    "\n",
    "def metropolis_algorithm(initial_state, num_trials, beta=1, list_seeds=None):\n",
    "    initial_r_1 = initial_state[:M]\n",
    "    initial_r_2 = initial_state[M:]\n",
    "    sequence_states = [initial_state]\n",
    "    #Todo: Implement random selection of R for metropolis step\n",
    "    for n in range(num_trials):\n",
    "        next_sequence = metropolis_step(sequence_states[-1], beta)\n",
    "        sequence_states.append(next_sequence)\n",
    "    return np.array(sequence_states), np.arange(num_trials+1) #sequences and corresponding time steps\n",
    "    \n",
    "def metropolis_step(current_state, alpha, beta, s, kappa, delta_t, seed = None):\n",
    "    #np.random.seed(seed)\n",
    "    trial_configuration = current_state.copy()\n",
    "    current_r_1 = current_state[:M]\n",
    "    current_r_2 = current_state[M:]\n",
    "    trial_r_1 = trial_configuration[:M]\n",
    "    trial_r_2 = trial_configuration[M:]\n",
    "    which_particle = np.random.choice([0,M])\n",
    "    for i in range(M):\n",
    "        trial_configuration[i+which_particle] += Fokker_planck()*delta_t/2\n",
    "        trial_configuration[i+which_particle] += np.random.uniform(low=-s/2, high=s/2, size=3)*np.sqrt(delta_t)\n",
    "    \n",
    "    trial_acceptance_prob = np.min([1, (psi_T(trial_r_1, trial_r_2, alpha, kappa, beta)/psi_T(current_r_1, current_r_2, alpha, kappa, beta))**2])\n",
    "    r_accept = np.random.rand()\n",
    "    if r_accept < trial_acceptance_prob:\n",
    "        new_state = trial_configuration\n",
    "    else:\n",
    "        new_state = current_state\n",
    "    return np.array(new_state)\n"
   ],
   "metadata": {
    "collapsed": false
   }
  }
 ],
 "metadata": {
  "kernelspec": {
   "display_name": "Python 3",
   "language": "python",
   "name": "python3"
  },
  "language_info": {
   "codemirror_mode": {
    "name": "ipython",
    "version": 2
   },
   "file_extension": ".py",
   "mimetype": "text/x-python",
   "name": "python",
   "nbconvert_exporter": "python",
   "pygments_lexer": "ipython2",
   "version": "2.7.6"
  }
 },
 "nbformat": 4,
 "nbformat_minor": 0
}
