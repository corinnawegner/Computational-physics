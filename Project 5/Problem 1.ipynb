{
 "cells": [
  {
   "cell_type": "code",
   "execution_count": 21,
   "metadata": {
    "collapsed": true,
    "ExecuteTime": {
     "end_time": "2024-01-13T15:09:33.045506300Z",
     "start_time": "2024-01-13T15:09:32.393347900Z"
    }
   },
   "outputs": [],
   "source": [
    "import numpy as np\n",
    "import matplotlib.pyplot as plt\n",
    "from tqdm import tqdm"
   ]
  },
  {
   "cell_type": "code",
   "execution_count": 41,
   "outputs": [],
   "source": [
    "M = 300 #number of random walkers\n",
    "R = np.zeros((2*M,3))\n",
    "for m in range(M):\n",
    "    for d in range(3):\n",
    "        R[m,d] = np.random.uniform(-0.5, 0.5)"
   ],
   "metadata": {
    "collapsed": false,
    "ExecuteTime": {
     "end_time": "2024-01-13T15:38:20.734680200Z",
     "start_time": "2024-01-13T15:38:20.727475600Z"
    }
   }
  },
  {
   "cell_type": "code",
   "execution_count": 18,
   "outputs": [],
   "source": [
    "def greens_function(config, old_config, alpha, beta, kappa, gamma, delta_t):\n",
    "    norm_diff = np.linalg.norm(config - old_config)\n",
    "    return (1/np.sqrt(4*np.pi* gamma*delta_t)) * np.exp(-norm_diff**2 / (4*gamma*delta_t))"
   ],
   "metadata": {
    "collapsed": false,
    "ExecuteTime": {
     "end_time": "2024-01-13T15:05:11.437748Z",
     "start_time": "2024-01-13T15:05:11.433233100Z"
    }
   }
  },
  {
   "cell_type": "code",
   "execution_count": 29,
   "outputs": [],
   "source": [
    "def psi_T(vec_r_1, vec_r_2, alpha, kappa, beta):\n",
    "    r_1 = np.linalg.norm(vec_r_1)\n",
    "    r_2 = np.linalg.norm(vec_r_2)\n",
    "    vec_r12 = vec_r_2 - vec_r_1\n",
    "    r_12 = np.linalg.norm(vec_r12)\n",
    "    pref = beta*r_12/(1+alpha*r_12)\n",
    "    psi = np.exp(-kappa*r_1)*np.exp(kappa*r_2)*np.exp(pref)\n",
    "    return psi\n",
    "\n",
    "def Fokker_planck(vec_r_1, vec_r_2, alpha, kappa, beta):\n",
    "    r_1 = np.linalg.norm(vec_r_1)\n",
    "    r_2 = np.linalg.norm(vec_r_2)\n",
    "    vec_r12 = vec_r_2 - vec_r_1\n",
    "    r_12 = np.linalg.norm(vec_r12)\n",
    "    u = 1 + alpha*r_12\n",
    "    factor = beta*(((u/r_12)-alpha)/u**2)\n",
    "    force_1 = 2*(-kappa*(vec_r_1/r_1)+factor*(vec_r_1-vec_r_2))\n",
    "    force_2 = 2*(-kappa*(vec_r_2/r_2)+factor*(vec_r_2-vec_r_1))\n",
    "    return np.array([force_1, force_2])\n",
    "\n",
    "def metropolis_algorithm(initial_state, num_trials, s, alpha, beta=0.5, kappa=2):\n",
    "    sequence_states = [initial_state]\n",
    "    for n in tqdm(range(num_trials)):\n",
    "        next_sequence = metropolis_step(sequence_states[-1], alpha, beta, s, kappa,)\n",
    "        sequence_states.append(next_sequence)\n",
    "    return np.array(sequence_states)\n",
    "    \n",
    "def metropolis_step(current_state, alpha, beta, s, kappa, use_FP = False):\n",
    "    trial_configuration = current_state.copy()\n",
    "    current_r_1 = current_state[:M]\n",
    "    current_r_2 = current_state[M:]\n",
    "\n",
    "    which_particle = np.random.choice([0,M])\n",
    "    for i in range(M):\n",
    "        #if use_FP:\n",
    "        #    trial_configuration[i+which_particle] += Fokker_planck(current_r_1, current_r_2, alpha, kappa = 2, beta = 0.5)*delta_t/2\n",
    "        trial_configuration[i+which_particle] += np.random.uniform(low=-s/2, high=s/2, size=3)#*np.sqrt(delta_t)\n",
    "    trial_r_1 = trial_configuration[:M]\n",
    "    trial_r_2 = trial_configuration[M:]\n",
    "    if not use_FP:\n",
    "        trial_acceptance_prob = np.min([1, (psi_T(trial_r_1, trial_r_2, alpha, kappa, beta)/psi_T(current_r_1, current_r_2, alpha, kappa, beta))**2])\n",
    "    r_accept = np.random.rand()\n",
    "    if r_accept < trial_acceptance_prob:\n",
    "        new_state = trial_configuration\n",
    "    else:\n",
    "        new_state = current_state\n",
    "    return np.array(new_state)\n"
   ],
   "metadata": {
    "collapsed": false,
    "ExecuteTime": {
     "end_time": "2024-01-13T15:28:57.850802200Z",
     "start_time": "2024-01-13T15:28:57.850295600Z"
    }
   }
  },
  {
   "cell_type": "code",
   "execution_count": null,
   "outputs": [],
   "source": [
    "def energy_local(vec_r_1, vec_r_2, alpha, beta, kappa):\n",
    "    r_1 = np.linalg.norm(vec_r_1)\n",
    "    r_2 = np.linalg.norm(vec_r_2)\n",
    "    vec_r12 = vec_r_2 - vec_r_1\n",
    "    r_12 = np.linalg.norm(vec_r12)\n",
    "    u = 1+alpha*r_12\n",
    "    scalar_product = np.dot((vec_r_1/r_1) - (vec_r_2/r_2), vec_r12/r_12)\n",
    "    E_L = (kappa-2)/r_1 + (kappa-2)/r_2 + (1-2*beta/u**2) +2*beta*alpha/u**3 - kappa**2 - (beta**2)/u**4 +(kappa*beta/u**2)*scalar_product\n",
    "    return E_L"
   ],
   "metadata": {
    "collapsed": false
   }
  },
  {
   "cell_type": "code",
   "execution_count": 42,
   "outputs": [
    {
     "name": "stderr",
     "output_type": "stream",
     "text": [
      "  0%|          | 0/30000 [00:00<?, ?it/s]C:\\Users\\corin\\AppData\\Local\\Temp\\ipykernel_6284\\1290545168.py:7: RuntimeWarning: overflow encountered in exp\n",
      "  psi = np.exp(-kappa*r_1)*np.exp(kappa*r_2)*np.exp(pref)\n",
      "C:\\Users\\corin\\AppData\\Local\\Temp\\ipykernel_6284\\1290545168.py:51: RuntimeWarning: invalid value encountered in scalar divide\n",
      "  trial_acceptance_prob = np.min([1, (psi_T(trial_r_1, trial_r_2, alpha, kappa, beta)/psi_T(current_r_1, current_r_2, alpha, kappa, beta))**2])\n",
      "100%|██████████| 30000/30000 [00:24<00:00, 1210.50it/s]\n"
     ]
    }
   ],
   "source": [
    "N = 30000\n",
    "n = 1000\n",
    "list_s = [0.1,1,10]\n",
    "Helium_simulation = metropolis_algorithm(R, N, list_s[2], alpha=0.15, beta=0.5, kappa=2)"
   ],
   "metadata": {
    "collapsed": false,
    "ExecuteTime": {
     "end_time": "2024-01-13T15:38:49.172342100Z",
     "start_time": "2024-01-13T15:38:24.250934300Z"
    }
   }
  },
  {
   "cell_type": "code",
   "execution_count": null,
   "outputs": [],
   "source": [
    "t = np.arange(N+1)\n",
    "\n",
    "energies = []\n",
    "for time in tqdm(range(N+1)):\n",
    "    energies_t = []\n",
    "    for i in range(M):\n",
    "        #Todo: n=1000\n",
    "        e_i = energy_local(Helium_simulation[time,i], Helium_simulation[time,i+M], alpha=0.15, beta=0.5, kappa=2)\n",
    "        energies_t.append(e_i)\n",
    "    energies.append(energies_t)\n",
    "       \n",
    "E_avg = np.average(energies)\n",
    "Var_E = np.std(energies)\n",
    "\n",
    "plt.plot(t, E_avg)"
   ],
   "metadata": {
    "collapsed": false,
    "ExecuteTime": {
     "end_time": "2024-01-13T15:43:38.577074800Z",
     "start_time": "2024-01-13T15:43:38.577074800Z"
    }
   }
  }
 ],
 "metadata": {
  "kernelspec": {
   "display_name": "Python 3",
   "language": "python",
   "name": "python3"
  },
  "language_info": {
   "codemirror_mode": {
    "name": "ipython",
    "version": 2
   },
   "file_extension": ".py",
   "mimetype": "text/x-python",
   "name": "python",
   "nbconvert_exporter": "python",
   "pygments_lexer": "ipython2",
   "version": "2.7.6"
  }
 },
 "nbformat": 4,
 "nbformat_minor": 0
}
