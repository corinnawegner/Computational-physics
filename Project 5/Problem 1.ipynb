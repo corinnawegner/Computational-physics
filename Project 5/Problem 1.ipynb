{
 "cells": [
  {
   "cell_type": "code",
   "execution_count": 54,
   "metadata": {
    "collapsed": true,
    "ExecuteTime": {
     "end_time": "2024-01-13T16:48:50.664228300Z",
     "start_time": "2024-01-13T16:48:50.659160200Z"
    }
   },
   "outputs": [],
   "source": [
    "import numpy as np\n",
    "import matplotlib.pyplot as plt\n",
    "from tqdm import tqdm"
   ]
  },
  {
   "cell_type": "code",
   "execution_count": 55,
   "outputs": [],
   "source": [
    "M = 300 #number of random walkers\n",
    "R = np.zeros((2*M,3))\n",
    "for m in range(2*M):\n",
    "    for d in range(3):\n",
    "        R[m,d] = np.random.uniform(-0.5, 0.5)"
   ],
   "metadata": {
    "collapsed": false,
    "ExecuteTime": {
     "end_time": "2024-01-13T16:48:50.724376100Z",
     "start_time": "2024-01-13T16:48:50.661230400Z"
    }
   }
  },
  {
   "cell_type": "code",
   "execution_count": 56,
   "outputs": [],
   "source": [
    "def greens_function(config, old_config, alpha, beta, kappa, gamma, delta_t):\n",
    "    norm_diff = np.linalg.norm(config - old_config)\n",
    "    return (1/np.sqrt(4*np.pi* gamma*delta_t)) * np.exp(-norm_diff**2 / (4*gamma*delta_t))"
   ],
   "metadata": {
    "collapsed": false,
    "ExecuteTime": {
     "end_time": "2024-01-13T16:48:50.724376100Z",
     "start_time": "2024-01-13T16:48:50.686892300Z"
    }
   }
  },
  {
   "cell_type": "code",
   "execution_count": 57,
   "outputs": [],
   "source": [
    "def psi_T(vec_r_1, vec_r_2, alpha, kappa, beta):\n",
    "    r_1 = np.linalg.norm(vec_r_1)\n",
    "    r_2 = np.linalg.norm(vec_r_2)\n",
    "    vec_r12 = vec_r_2 - vec_r_1\n",
    "    r_12 = np.linalg.norm(vec_r12)\n",
    "    pref = beta*r_12/(1+alpha*r_12)\n",
    "    psi = np.exp(-kappa*(r_1+r_2))*np.exp(pref)\n",
    "    return psi\n",
    "\n",
    "def Fokker_planck(vec_r_1, vec_r_2, alpha, kappa, beta):\n",
    "    r_1 = np.linalg.norm(vec_r_1)\n",
    "    r_2 = np.linalg.norm(vec_r_2)\n",
    "    vec_r12 = vec_r_2 - vec_r_1\n",
    "    r_12 = np.linalg.norm(vec_r12)\n",
    "    u = 1 + alpha*r_12\n",
    "    factor = beta*(((u/r_12)-alpha)/u**2)\n",
    "    force_1 = 2*(-kappa*(vec_r_1/r_1)+factor*(vec_r_1-vec_r_2))\n",
    "    force_2 = 2*(-kappa*(vec_r_2/r_2)+factor*(vec_r_2-vec_r_1))\n",
    "    return np.array([force_1, force_2])\n",
    "\n",
    "def metropolis_algorithm(initial_state, num_trials, s, alpha, beta, kappa):\n",
    "    sequence_states = [initial_state]\n",
    "    for n in tqdm(range(num_trials)):\n",
    "        next_sequence = metropolis_step(sequence_states[-1], alpha, beta, s, kappa)\n",
    "        sequence_states.append(next_sequence)\n",
    "    return np.array(sequence_states)\n",
    "    \n",
    "def metropolis_step(current_state, alpha, beta, s, kappa, use_FP = False):\n",
    "    trial_configuration = current_state.copy()\n",
    "    current_r_1 = current_state[:M]\n",
    "    current_r_2 = current_state[M:]\n",
    "\n",
    "    which_particle = np.random.choice([0,M])\n",
    "    for i in range(M):\n",
    "        #if use_FP:\n",
    "        #    trial_configuration[i+which_particle] += Fokker_planck(current_r_1, current_r_2, alpha, kappa = 2, beta = 0.5)*delta_t/2\n",
    "        trial_configuration[i+which_particle] += np.random.uniform(low=-s/2, high=s/2, size=3)#*np.sqrt(delta_t)\n",
    "    trial_r_1 = trial_configuration[:M]\n",
    "    trial_r_2 = trial_configuration[M:]\n",
    "    if not use_FP:\n",
    "        trial_acceptance_prob = np.min([1, (psi_T(trial_r_1, trial_r_2, alpha, kappa, beta)/psi_T(current_r_1, current_r_2, alpha, kappa, beta))**2])\n",
    "    r_accept = np.random.rand()\n",
    "    if r_accept < trial_acceptance_prob:\n",
    "        new_state = trial_configuration\n",
    "    else:\n",
    "        new_state = current_state\n",
    "    return np.array(new_state)\n"
   ],
   "metadata": {
    "collapsed": false,
    "ExecuteTime": {
     "end_time": "2024-01-13T16:48:50.724376100Z",
     "start_time": "2024-01-13T16:48:50.686892300Z"
    }
   }
  },
  {
   "cell_type": "code",
   "execution_count": 58,
   "outputs": [],
   "source": [
    "def energy_local(vec_r_1, vec_r_2, alpha, beta, kappa):\n",
    "    r_1 = np.linalg.norm(vec_r_1)\n",
    "    r_2 = np.linalg.norm(vec_r_2)\n",
    "    vec_r12 = vec_r_2 - vec_r_1\n",
    "    r_12 = np.linalg.norm(vec_r12)\n",
    "    u = 1+alpha*r_12\n",
    "    scalar_product = np.dot((vec_r_1/r_1) - (vec_r_2/r_2), vec_r12/r_12)\n",
    "    E_L = (kappa-2)/r_1 + (kappa-2)/r_2 + (1-2*beta/u**2) +2*beta*alpha/u**3 - kappa**2 - (beta**2)/u**4 +(kappa*beta/u**2)*scalar_product\n",
    "    return E_L\n",
    "\n",
    "def energy_statistics(simulation, accumulate_last_n):\n",
    "    energies = []\n",
    "    for time in tqdm(range(N+1)):\n",
    "        energies_t = []\n",
    "        for i in range(M):\n",
    "            e_i = energy_local(simulation[time,i], simulation[time,i+M], alpha=0.15, beta=0.5, kappa=2)\n",
    "            energies_t.append(e_i)\n",
    "        energies.append(energies_t)\n",
    "    e_avg = np.average(energies, axis=1)\n",
    "    var_E = np.std(energies, axis=1)   \n",
    "    e_avg_accumulated = []\n",
    "    e_var_accumulated = []\n",
    "    for time in range(N+1):\n",
    "        try:\n",
    "            e_avg_t = np.sum([e_avg[time-accumulate_last_n:time]]) \n",
    "            e_var_t = np.sum([var_E[time-accumulate_last_n:time]])\n",
    "        except: #For the first 999 time steps:\n",
    "            e_avg_t = np.sum(e_avg[:time])\n",
    "            e_var_t = np.sum(var_E[:time])\n",
    "        e_avg_accumulated.append(e_avg_t)\n",
    "        e_var_accumulated.append(e_var_t)\n",
    "    return np.array(e_avg_accumulated), np.array(e_var_accumulated)"
   ],
   "metadata": {
    "collapsed": false,
    "ExecuteTime": {
     "end_time": "2024-01-13T16:48:50.724376100Z",
     "start_time": "2024-01-13T16:48:50.687893800Z"
    }
   }
  },
  {
   "cell_type": "code",
   "execution_count": 59,
   "outputs": [
    {
     "name": "stdout",
     "output_type": "stream",
     "text": [
      "s = 0.1:\n"
     ]
    },
    {
     "name": "stderr",
     "output_type": "stream",
     "text": [
      "100%|██████████| 30000/30000 [00:24<00:00, 1232.06it/s]\n",
      "100%|██████████| 30001/30001 [01:37<00:00, 306.46it/s]\n"
     ]
    },
    {
     "name": "stdout",
     "output_type": "stream",
     "text": [
      "s = 1:\n"
     ]
    },
    {
     "name": "stderr",
     "output_type": "stream",
     "text": [
      "100%|██████████| 30000/30000 [00:24<00:00, 1208.44it/s]\n",
      "100%|██████████| 30001/30001 [01:38<00:00, 305.86it/s]\n"
     ]
    },
    {
     "name": "stdout",
     "output_type": "stream",
     "text": [
      "s = 10:\n"
     ]
    },
    {
     "name": "stderr",
     "output_type": "stream",
     "text": [
      "100%|██████████| 30000/30000 [00:24<00:00, 1206.39it/s]\n",
      "100%|██████████| 30001/30001 [01:39<00:00, 302.48it/s]\n"
     ]
    }
   ],
   "source": [
    "N = 30000\n",
    "n = 1000\n",
    "list_s = [0.1,1,10]\n",
    "\n",
    "E_avg = []\n",
    "E_std = []\n",
    "\n",
    "for s_test in list_s:\n",
    "    print(f\"s = {s_test}:\")\n",
    "    simulation_s = metropolis_algorithm(R, N, s_test, alpha=0.15, beta=0.5, kappa=2)\n",
    "    E_avg_s, E_std_s = energy_statistics(simulation_s, n)\n",
    "    E_avg.append(E_avg_s)\n",
    "    E_std.append(E_std_s)"
   ],
   "metadata": {
    "collapsed": false,
    "ExecuteTime": {
     "end_time": "2024-01-13T16:55:03.397825800Z",
     "start_time": "2024-01-13T16:48:50.691478900Z"
    }
   }
  },
  {
   "cell_type": "code",
   "execution_count": 60,
   "outputs": [
    {
     "data": {
      "text/plain": "<matplotlib.legend.Legend at 0x1737e8ec410>"
     },
     "execution_count": 60,
     "metadata": {},
     "output_type": "execute_result"
    },
    {
     "data": {
      "text/plain": "<Figure size 640x480 with 1 Axes>",
      "image/png": "[encoded data removed]"
     },
     "metadata": {},
     "output_type": "display_data"
    }
   ],
   "source": [
    "t = np.arange(N+1)\n",
    "for i in range(len(E_avg)):\n",
    "    plt.fill_between(t, E_avg[i]-E_std[i], E_avg[i]+E_std[i], alpha=0.3)\n",
    "    plt.plot(t, E_avg[i], label=f\"s = {list_s[i]}\")\n",
    "    \n",
    "plt.title(\"Energy development\")\n",
    "plt.xlabel(\"t\")\n",
    "plt.ylabel(r\"$\\langle E_L \\rangle$\")\n",
    "plt.legend()"
   ],
   "metadata": {
    "collapsed": false,
    "ExecuteTime": {
     "end_time": "2024-01-13T16:55:03.572303200Z",
     "start_time": "2024-01-13T16:55:03.399825700Z"
    }
   }
  },
  {
   "cell_type": "code",
   "execution_count": 60,
   "outputs": [],
   "source": [],
   "metadata": {
    "collapsed": false,
    "ExecuteTime": {
     "end_time": "2024-01-13T16:55:03.578731500Z",
     "start_time": "2024-01-13T16:55:03.573721600Z"
    }
   }
  }
 ],
 "metadata": {
  "kernelspec": {
   "display_name": "Python 3",
   "language": "python",
   "name": "python3"
  },
  "language_info": {
   "codemirror_mode": {
    "name": "ipython",
    "version": 2
   },
   "file_extension": ".py",
   "mimetype": "text/x-python",
   "name": "python",
   "nbconvert_exporter": "python",
   "pygments_lexer": "ipython2",
   "version": "2.7.6"
  }
 },
 "nbformat": 4,
 "nbformat_minor": 0
}
