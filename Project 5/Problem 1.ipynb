{
 "cells": [
  {
   "cell_type": "code",
   "execution_count": 32,
   "metadata": {
    "collapsed": true,
    "ExecuteTime": {
     "end_time": "2024-01-20T10:17:07.647290300Z",
     "start_time": "2024-01-20T10:17:07.644777Z"
    }
   },
   "outputs": [],
   "source": [
    "import numpy as np\n",
    "import matplotlib.pyplot as plt\n",
    "import pandas as pd\n",
    "from tqdm import tqdm"
   ]
  },
  {
   "cell_type": "code",
   "execution_count": 33,
   "outputs": [],
   "source": [
    "M = 300 #number of random walkers\n",
    "R = np.zeros((2*M,3))\n",
    "for m in range(2*M):\n",
    "    for d in range(3):\n",
    "        R[m,d] = np.random.uniform(-0.5, 0.5)"
   ],
   "metadata": {
    "collapsed": false,
    "ExecuteTime": {
     "end_time": "2024-01-20T10:17:08.052589700Z",
     "start_time": "2024-01-20T10:17:08.052085200Z"
    }
   }
  },
  {
   "cell_type": "code",
   "execution_count": 34,
   "outputs": [],
   "source": [
    "def greens_function(config, old_config, alpha, beta, kappa, gamma, delta_t):\n",
    "    norm_diff = np.linalg.norm(config - old_config)\n",
    "    return (1/np.sqrt(4*np.pi* gamma*delta_t)) * np.exp(-norm_diff**2 / (4*gamma*delta_t))"
   ],
   "metadata": {
    "collapsed": false,
    "ExecuteTime": {
     "end_time": "2024-01-20T10:17:08.429616600Z",
     "start_time": "2024-01-20T10:17:08.427106100Z"
    }
   }
  },
  {
   "cell_type": "code",
   "execution_count": 43,
   "outputs": [],
   "source": [
    "def psi_T(vec_r_1, vec_r_2, alpha, kappa, beta):\n",
    "    r_1 = np.linalg.norm(vec_r_1)\n",
    "    r_2 = np.linalg.norm(vec_r_2)\n",
    "    vec_r12 = vec_r_2 - vec_r_1\n",
    "    r_12 = np.linalg.norm(vec_r12)\n",
    "    pref = beta*r_12/(1+alpha*r_12)\n",
    "    psi = np.exp(-kappa*(r_1+r_2))*np.exp(pref)\n",
    "    return psi\n",
    "\n",
    "def Fokker_planck(vec_r_1, vec_r_2, alpha, kappa, beta):\n",
    "    r_1 = np.linalg.norm(vec_r_1)\n",
    "    r_2 = np.linalg.norm(vec_r_2)\n",
    "    vec_r12 = vec_r_2 - vec_r_1\n",
    "    r_12 = np.linalg.norm(vec_r12)\n",
    "    u = 1 + alpha*r_12\n",
    "    factor = beta*(((u/r_12)-alpha)/u**2)\n",
    "    force_1 = 2*(-kappa*(vec_r_1/r_1)+factor*(vec_r_1-vec_r_2))\n",
    "    force_2 = 2*(-kappa*(vec_r_2/r_2)+factor*(vec_r_2-vec_r_1))\n",
    "    return np.array([force_1, force_2])\n",
    "\n",
    "def metropolis_algorithm(initial_state, num_trials, s, alpha, beta, kappa, use_FP = False, disable_tqdm = False):\n",
    "    sequence_states = [initial_state]\n",
    "    for _ in tqdm(range(num_trials), disable=disable_tqdm):\n",
    "        next_sequence = metropolis_step(sequence_states[-1], alpha, beta, s, kappa, use_FP=use_FP)\n",
    "        sequence_states.append(next_sequence)\n",
    "    return np.array(sequence_states)\n",
    "   \n",
    "def metropolis_step(current_state, alpha, beta, s, kappa, use_FP=False):\n",
    "    trial_configuration = current_state.copy()\n",
    "    new_state = np.zeros(current_state.shape)\n",
    "    for i in range(M):\n",
    "        which_particle = np.random.choice([0,M]) # Todo: Is this chosen for each of the M seperately?\n",
    "        #if use_FP:\n",
    "         #   trial_configuration[i+which_particle] += Fokker_planck(current_state[i], current_state[i+M], alpha, kappa, beta)*delta_t/2\n",
    "        trial_configuration[i+which_particle] += np.random.uniform(low=-s/2, high=s/2, size=3)#*np.sqrt(delta_t)\n",
    "        if not use_FP:\n",
    "            p = (psi_T(trial_configuration[i], trial_configuration[i+M], alpha, kappa, beta)/psi_T(current_state[i], current_state[i+M], alpha, kappa, beta))**2\n",
    "            trial_acceptance_prob = np.min([1, p])\n",
    "        r_accept = np.random.rand()\n",
    "        if r_accept < trial_acceptance_prob:\n",
    "            new_state[i] = trial_configuration[i]\n",
    "            new_state[i+M] = trial_configuration[i+M]\n",
    "        else:\n",
    "            new_state[i] = current_state[i]\n",
    "            new_state[i+M] = current_state[i+M]\n",
    "    return np.array(new_state)"
   ],
   "metadata": {
    "collapsed": false,
    "ExecuteTime": {
     "end_time": "2024-01-20T10:38:07.128162100Z",
     "start_time": "2024-01-20T10:38:07.127656400Z"
    }
   }
  },
  {
   "cell_type": "code",
   "execution_count": 7,
   "outputs": [
    {
     "name": "stdout",
     "output_type": "stream",
     "text": [
      "[ 0.25799704  0.13485986 -0.35736079]\n",
      "[ 0.57520158  0.48210099 -0.76131643]\n",
      "0.01739253000037779\n"
     ]
    }
   ],
   "source": [
    "\n",
    "alpha = 0.15\n",
    "beta = 0.5\n",
    "kappa = 2\n",
    "print(R[0])\n",
    "R_trial = R[0] + np.random.uniform(low=-1/2, high=1/2, size=3)\n",
    "R_trial_2 = R[M] + np.random.uniform(low=-1/2, high=1/2, size=3)\n",
    "print(R_trial)\n",
    "print((psi_T(R_trial, R_trial_2, alpha, kappa, beta)/psi_T(R[0], R[M], alpha, kappa, beta))**2)"
   ],
   "metadata": {
    "collapsed": false,
    "ExecuteTime": {
     "end_time": "2024-01-20T09:57:58.318662300Z",
     "start_time": "2024-01-20T09:57:58.289924200Z"
    }
   }
  },
  {
   "cell_type": "code",
   "execution_count": 8,
   "outputs": [
    {
     "name": "stdout",
     "output_type": "stream",
     "text": [
      "1.6758867724233718e-07\n",
      "(300, 3)\n"
     ]
    }
   ],
   "source": [
    "s=1\n",
    "current_state = R\n",
    "trial_configuration = current_state.copy()\n",
    "\n",
    "for i in range(M):\n",
    "    trial_configuration[i] += np.random.uniform(low=-s/2, high=s/2, size=3)#*np.sqrt(delta_t)\n",
    "\n",
    "current_r_1 = current_state[:M]\n",
    "current_r_2 = current_state[M:]\n",
    "trial_r_1 = trial_configuration[:M]\n",
    "trial_r_2 = trial_configuration[M:]\n",
    "print((psi_T(trial_r_1, trial_r_2, alpha, kappa, beta)/psi_T(current_r_1, current_r_2, alpha, kappa, beta))**2)\n",
    "print(trial_r_2.shape)"
   ],
   "metadata": {
    "collapsed": false,
    "ExecuteTime": {
     "end_time": "2024-01-20T09:57:58.959481100Z",
     "start_time": "2024-01-20T09:57:58.953444600Z"
    }
   }
  },
  {
   "cell_type": "code",
   "execution_count": 12,
   "outputs": [],
   "source": [
    "def energy_local(vec_r_1, vec_r_2, alpha, beta, kappa):\n",
    "    r_1 = np.linalg.norm(vec_r_1)\n",
    "    r_2 = np.linalg.norm(vec_r_2)\n",
    "    vec_r12 = vec_r_2 - vec_r_1\n",
    "    r_12 = np.linalg.norm(vec_r12)\n",
    "    u = 1+alpha*r_12\n",
    "    scalar_product = np.dot((vec_r_1/r_1) - (vec_r_2/r_2), -vec_r12/r_12)\n",
    "    E_L = (kappa-2)/r_1 + (kappa-2)/r_2 + (1-2*beta/u**2) +2*beta*alpha/u**3 - kappa**2 - (beta**2)/u**4 +(kappa*beta/u**2)*scalar_product    \n",
    "    return E_L\n",
    "\n",
    "def energy_statistics(simulation, accumulate_last_n, alpha, beta, kappa, disable_tqdm = False):\n",
    "    energies = []\n",
    "    num_simulation_steps = simulation.shape[0]\n",
    "    e_0 = [energy_local(simulation[0,i], simulation[0,i+M], alpha=alpha, beta=beta, kappa=kappa) for i in range(M)]\n",
    "    e_avg_accumulated = [np.mean(e_0)]\n",
    "    e_var_accumulated = [np.std(e_0)]\n",
    "    for time in tqdm(range(1, num_simulation_steps), disable=disable_tqdm): #Todo: Enable turning tqdm off\n",
    "        e_t = []\n",
    "        for i in range(M):\n",
    "            e_i = energy_local(simulation[time,i], simulation[time,i+M], alpha=alpha, beta=beta, kappa=kappa)\n",
    "            e_t.append(e_i)\n",
    "        energies.append(e_t)\n",
    "    for time in range(1, num_simulation_steps, accumulate_last_n):\n",
    "        if time > accumulate_last_n:\n",
    "            e_avg_t = np.mean(energies[time-accumulate_last_n:time])\n",
    "            e_var_t = np.std(energies[time-accumulate_last_n:time])\n",
    "        else: #For the first 999 time steps:\n",
    "            e_avg_t = np.mean(energies[:time])\n",
    "            e_var_t = np.std(energies[:time])              \n",
    "        e_avg_accumulated.append(e_avg_t)\n",
    "        e_var_accumulated.append(e_var_t)\n",
    "    return np.array(e_avg_accumulated), np.array(e_var_accumulated)"
   ],
   "metadata": {
    "collapsed": false,
    "ExecuteTime": {
     "end_time": "2024-01-20T10:01:11.425940700Z",
     "start_time": "2024-01-20T10:01:11.421390300Z"
    }
   }
  },
  {
   "cell_type": "code",
   "execution_count": 10,
   "outputs": [
    {
     "name": "stderr",
     "output_type": "stream",
     "text": [
      "100%|██████████| 5000/5000 [00:50<00:00, 98.57it/s] \n",
      "100%|██████████| 5000/5000 [00:17<00:00, 292.39it/s]\n",
      "100%|██████████| 5/5 [00:00<00:00, 63.99it/s]\n"
     ]
    }
   ],
   "source": [
    "sim = metropolis_algorithm(R, num_trials=5000, s=10, alpha=0.15, beta=0.5, kappa=2)\n",
    "E_avg_s, E_std_s = energy_statistics(sim, 1000, alpha=0.15, beta=0.5, kappa=2)"
   ],
   "metadata": {
    "collapsed": false,
    "ExecuteTime": {
     "end_time": "2024-01-20T09:59:09.065936400Z",
     "start_time": "2024-01-20T09:58:01.107698700Z"
    }
   }
  },
  {
   "cell_type": "code",
   "execution_count": 96,
   "outputs": [
    {
     "data": {
      "text/plain": "<matplotlib.collections.PolyCollection at 0x273e4c234d0>"
     },
     "execution_count": 96,
     "metadata": {},
     "output_type": "execute_result"
    },
    {
     "data": {
      "text/plain": "<Figure size 640x480 with 1 Axes>",
      "image/png": "[encoded data removed]"
     },
     "metadata": {},
     "output_type": "display_data"
    }
   ],
   "source": [
    "plt.plot(np.arange(sim.shape[0]), E_avg_s)\n",
    "plt.fill_between(np.arange(sim.shape[0]), E_avg_s-E_std_s, E_avg_s+E_std_s, alpha=0.3)"
   ],
   "metadata": {
    "collapsed": false,
    "ExecuteTime": {
     "end_time": "2024-01-19T20:27:47.909976400Z",
     "start_time": "2024-01-19T20:27:47.837923100Z"
    }
   }
  },
  {
   "cell_type": "code",
   "execution_count": 37,
   "outputs": [
    {
     "name": "stdout",
     "output_type": "stream",
     "text": [
      "[ 0.47111873  0.07798355 -0.45012105]\n",
      "[ 0.10389725 -0.46783266  0.10703362]\n",
      "-2.6745152843362465\n"
     ]
    }
   ],
   "source": [
    "timestep = 0\n",
    "walker = 0\n",
    "sim_step_r1 = sim[timestep, walker, :]\n",
    "sim_step_r2 = sim[timestep, walker+M, :]\n",
    "e = energy_local(sim_step_r1, sim_step_r2, alpha=0.15, beta=0.5, kappa=2)\n",
    "\n",
    "print(sim_step_r1)\n",
    "print(sim_step_r2)\n",
    "print(e)"
   ],
   "metadata": {
    "collapsed": false,
    "ExecuteTime": {
     "start_time": "2024-01-18T16:59:53.060235300Z"
    }
   }
  },
  {
   "cell_type": "code",
   "execution_count": 97,
   "outputs": [
    {
     "name": "stdout",
     "output_type": "stream",
     "text": [
      "s = 0.1:\n"
     ]
    },
    {
     "name": "stderr",
     "output_type": "stream",
     "text": [
      "100%|██████████| 10000/10000 [01:43<00:00, 96.68it/s]\n",
      "100%|██████████| 10001/10001 [00:34<00:00, 287.89it/s]\n",
      "100%|██████████| 10000/10000 [03:09<00:00, 52.91it/s]\n"
     ]
    },
    {
     "name": "stdout",
     "output_type": "stream",
     "text": [
      "s = 1:\n"
     ]
    },
    {
     "name": "stderr",
     "output_type": "stream",
     "text": [
      "100%|██████████| 10000/10000 [01:42<00:00, 97.71it/s]\n",
      "100%|██████████| 10001/10001 [00:34<00:00, 288.18it/s]\n",
      "100%|██████████| 10000/10000 [03:10<00:00, 52.61it/s]\n"
     ]
    },
    {
     "name": "stdout",
     "output_type": "stream",
     "text": [
      "s = 10:\n"
     ]
    },
    {
     "name": "stderr",
     "output_type": "stream",
     "text": [
      "100%|██████████| 10000/10000 [01:44<00:00, 95.79it/s]\n",
      "100%|██████████| 10001/10001 [00:34<00:00, 290.77it/s]\n",
      "100%|██████████| 10000/10000 [03:08<00:00, 53.12it/s]\n"
     ]
    }
   ],
   "source": [
    "N = 10000 # Todo: Change back to 30k\n",
    "n = 1000\n",
    "list_s = [0.1,1,10]\n",
    "\n",
    "E_avg = []\n",
    "E_std = []\n",
    "\n",
    "for s_test in list_s:\n",
    "    print(f\"s = {s_test}:\")\n",
    "    simulation_s = metropolis_algorithm(R, N, s_test, alpha=0.15, beta=0.5, kappa=2)\n",
    "    E_avg_s, E_std_s = energy_statistics(simulation_s, n, alpha=0.15, beta=0.5, kappa=2)\n",
    "    E_avg.append(E_avg_s)\n",
    "    E_std.append(E_std_s)"
   ],
   "metadata": {
    "collapsed": false,
    "ExecuteTime": {
     "end_time": "2024-01-19T20:45:25.290899800Z",
     "start_time": "2024-01-19T20:29:03.715575100Z"
    }
   }
  },
  {
   "cell_type": "code",
   "execution_count": 98,
   "outputs": [
    {
     "data": {
      "text/plain": "<matplotlib.legend.Legend at 0x273dc93fc90>"
     },
     "execution_count": 98,
     "metadata": {},
     "output_type": "execute_result"
    },
    {
     "data": {
      "text/plain": "<Figure size 640x480 with 1 Axes>",
      "image/png": "[encoded data removed]"
     },
     "metadata": {},
     "output_type": "display_data"
    }
   ],
   "source": [
    "t = np.arange(N+1)\n",
    "for i in range(len(E_avg)):\n",
    "    plt.fill_between(t, E_avg[i]-E_std[i], E_avg[i]+E_std[i], alpha=0.3)\n",
    "    plt.plot(t, E_avg[i], label=f\"s = {list_s[i]}\")\n",
    "    \n",
    "plt.title(\"Energy development\")\n",
    "plt.xlabel(\"t\")\n",
    "plt.ylabel(r\"$\\langle E_L \\rangle$\")\n",
    "plt.legend()\n",
    "\n",
    "#Todo: Look at the time, there is something wrong, maybe therefore weird standard deviation?"
   ],
   "metadata": {
    "collapsed": false,
    "ExecuteTime": {
     "end_time": "2024-01-19T20:45:25.437596500Z",
     "start_time": "2024-01-19T20:45:25.289899700Z"
    }
   }
  },
  {
   "cell_type": "code",
   "execution_count": 119,
   "outputs": [
    {
     "name": "stdout",
     "output_type": "stream",
     "text": [
      "      s      mean  $\\sigma$\n",
      "0   0.1 -2.808174  0.355044\n",
      "1   1.0 -2.819642  0.365399\n",
      "2  10.0 -2.789180  0.358577\n"
     ]
    }
   ],
   "source": [
    "E_avg = np.array(E_avg)\n",
    "E_std = np.array(E_std)\n",
    "print(pd.DataFrame({\"s\": list_s, \"mean\": E_avg[:,-1], \"$\\sigma$\": E_std[:,-1]}))"
   ],
   "metadata": {
    "collapsed": false,
    "ExecuteTime": {
     "end_time": "2024-01-19T20:58:20.933863800Z",
     "start_time": "2024-01-19T20:58:20.901767700Z"
    }
   }
  },
  {
   "cell_type": "markdown",
   "source": [
    "# Problem b"
   ],
   "metadata": {
    "collapsed": false
   }
  },
  {
   "cell_type": "code",
   "execution_count": 8,
   "outputs": [
    {
     "name": "stdout",
     "output_type": "stream",
     "text": [
      "$\\alpha$ = 0.0:\n"
     ]
    },
    {
     "name": "stderr",
     "output_type": "stream",
     "text": [
      "100%|██████████| 1000/1000 [00:10<00:00, 99.21it/s]\n",
      "100%|██████████| 1001/1001 [00:03<00:00, 299.70it/s]\n",
      "100%|██████████| 1000/1000 [00:09<00:00, 102.43it/s]\n"
     ]
    },
    {
     "name": "stdout",
     "output_type": "stream",
     "text": [
      "$\\alpha$ = 0.1:\n"
     ]
    },
    {
     "name": "stderr",
     "output_type": "stream",
     "text": [
      "100%|██████████| 1000/1000 [00:09<00:00, 101.95it/s]\n",
      "100%|██████████| 1001/1001 [00:03<00:00, 298.93it/s]\n",
      "100%|██████████| 1000/1000 [00:09<00:00, 103.09it/s]\n"
     ]
    },
    {
     "name": "stdout",
     "output_type": "stream",
     "text": [
      "$\\alpha$ = 0.2:\n"
     ]
    },
    {
     "name": "stderr",
     "output_type": "stream",
     "text": [
      "100%|██████████| 1000/1000 [00:09<00:00, 102.28it/s]\n",
      "100%|██████████| 1001/1001 [00:03<00:00, 300.65it/s]\n",
      "100%|██████████| 1000/1000 [00:09<00:00, 102.05it/s]\n"
     ]
    },
    {
     "name": "stdout",
     "output_type": "stream",
     "text": [
      "$\\alpha$ = 0.3:\n"
     ]
    },
    {
     "name": "stderr",
     "output_type": "stream",
     "text": [
      "100%|██████████| 1000/1000 [00:09<00:00, 101.73it/s]\n",
      "100%|██████████| 1001/1001 [00:03<00:00, 297.25it/s]\n",
      "100%|██████████| 1000/1000 [00:09<00:00, 103.28it/s]\n"
     ]
    },
    {
     "name": "stdout",
     "output_type": "stream",
     "text": [
      "$\\alpha$ = 0.4:\n"
     ]
    },
    {
     "name": "stderr",
     "output_type": "stream",
     "text": [
      "100%|██████████| 1000/1000 [00:09<00:00, 100.26it/s]\n",
      "100%|██████████| 1001/1001 [00:03<00:00, 293.79it/s]\n",
      "100%|██████████| 1000/1000 [00:09<00:00, 103.03it/s]\n"
     ]
    },
    {
     "name": "stdout",
     "output_type": "stream",
     "text": [
      "$\\alpha$ = 0.5:\n"
     ]
    },
    {
     "name": "stderr",
     "output_type": "stream",
     "text": [
      "100%|██████████| 1000/1000 [00:09<00:00, 102.09it/s]\n",
      "100%|██████████| 1001/1001 [00:03<00:00, 294.50it/s]\n",
      "100%|██████████| 1000/1000 [00:09<00:00, 103.30it/s]\n"
     ]
    }
   ],
   "source": [
    "N_b = 1000\n",
    "list_alpha = [0.0, 0.1, 0.2, 0.3, 0.4, 0.5]\n",
    "\n",
    "E_avg_alpha = []\n",
    "E_std_alpha = []\n",
    "\n",
    "for alpha in list_alpha:\n",
    "    print(rf\"$\\alpha$ = {alpha}:\")\n",
    "    simulation_a = metropolis_algorithm(R, N_b, s=1, alpha=alpha, beta=0.5, kappa=2)\n",
    "    E_avg_a, E_std_a = energy_statistics(simulation_a, n, alpha=alpha, beta=0.5, kappa=2)\n",
    "    E_avg_alpha.append(E_avg_a)\n",
    "    E_std_alpha.append(E_std_a)"
   ],
   "metadata": {
    "collapsed": false,
    "ExecuteTime": {
     "end_time": "2024-01-20T09:22:51.629876Z",
     "start_time": "2024-01-20T09:20:33.751595300Z"
    }
   }
  },
  {
   "cell_type": "code",
   "execution_count": 9,
   "outputs": [],
   "source": [
    "E_avg_alpha = np.array(E_std_alpha)\n",
    "E_std_alpha = np.array(E_std_alpha)"
   ],
   "metadata": {
    "collapsed": false,
    "ExecuteTime": {
     "end_time": "2024-01-20T09:23:01.312520100Z",
     "start_time": "2024-01-20T09:23:01.303992400Z"
    }
   }
  },
  {
   "cell_type": "code",
   "execution_count": 10,
   "outputs": [
    {
     "data": {
      "text/plain": "<matplotlib.legend.Legend at 0x2090f6fac50>"
     },
     "execution_count": 10,
     "metadata": {},
     "output_type": "execute_result"
    },
    {
     "data": {
      "text/plain": "<Figure size 640x480 with 1 Axes>",
      "image/png": "[encoded data removed]"
     },
     "metadata": {},
     "output_type": "display_data"
    }
   ],
   "source": [
    "t_b = np.arange(1000+1)\n",
    "for i in range(len(E_avg_alpha)):\n",
    "    #plt.fill_between(t, E_avg_alpha[i]-E_std_alpha[i], E_avg_alpha[i]+E_std_alpha[i], alpha=0.3)\n",
    "    plt.plot(t_b, E_avg_alpha[i], label= rf\"$\\alpha$ = {list_alpha[i]}\")\n",
    "    \n",
    "plt.title(\"Energy development\")\n",
    "plt.xlabel(\"t\")\n",
    "plt.ylabel(r\"$\\langle E_L \\rangle$\")\n",
    "plt.legend()"
   ],
   "metadata": {
    "collapsed": false,
    "ExecuteTime": {
     "end_time": "2024-01-20T09:23:02.031235300Z",
     "start_time": "2024-01-20T09:23:01.767049Z"
    }
   }
  },
  {
   "cell_type": "markdown",
   "source": [
    "# Problem c"
   ],
   "metadata": {
    "collapsed": false
   }
  },
  {
   "cell_type": "code",
   "execution_count": 66,
   "outputs": [],
   "source": [
    "def energy_statistics_c(simulation, equilibration_time, alpha=0.15, beta=0.5, kappa=2, disable_tqdm=False): # Todo: If change in energy_statistics function is made, it may be necessary to change it here as well\n",
    "    energies = []\n",
    "    num_simulation_steps = simulation.shape[0]\n",
    "    e_0 = [energy_local(simulation[0,i], simulation[0,i+M], alpha=alpha, beta=beta, kappa=kappa) for i in range(M)]\n",
    "    for time in tqdm(range(equilibration_time, num_simulation_steps), disable=disable_tqdm):\n",
    "        energies_t = []\n",
    "        for i in range(M):\n",
    "            e_i = energy_local(simulation[time,i], simulation[time,i+M], alpha=alpha, beta=beta, kappa=kappa)\n",
    "            energies_t.append(e_i)\n",
    "        energies.append(energies_t)\n",
    "    e_avg_t = np.mean(energies)\n",
    "    e_var_t = np.std(energies)\n",
    "    return np.array(e_avg_t), np.array(e_var_t)"
   ],
   "metadata": {
    "collapsed": false,
    "ExecuteTime": {
     "end_time": "2024-01-20T11:05:08.928520100Z",
     "start_time": "2024-01-20T11:05:08.910952100Z"
    }
   }
  },
  {
   "cell_type": "code",
   "execution_count": 68,
   "outputs": [],
   "source": [
    "N_c = 10000"
   ],
   "metadata": {
    "collapsed": false,
    "ExecuteTime": {
     "end_time": "2024-01-20T11:05:24.812092800Z",
     "start_time": "2024-01-20T11:05:24.804085400Z"
    }
   }
  },
  {
   "cell_type": "code",
   "execution_count": 54,
   "outputs": [
    {
     "name": "stderr",
     "output_type": "stream",
     "text": [
      "100%|██████████| 50/50 [03:58<00:00,  4.78s/it]\n"
     ]
    }
   ],
   "source": [
    "M=10 #Todo: Change back to 300\n",
    "n_equilibrium = 5000 # Todo: Choose appropriate value\n",
    "\n",
    "\n",
    "list_alpha_c = np.linspace(0,0.5,50)\n",
    "\n",
    "E_avg_alpha_c = []\n",
    "E_std_alpha_c = []\n",
    "\n",
    "for alpha in tqdm(list_alpha_c):\n",
    "    simulation_a = metropolis_algorithm(R, N_c, s=1, alpha=alpha, beta=0.5, kappa=2, disable_tqdm=True)\n",
    "    E_avg_a, E_std_a = energy_statistics_c(simulation_a, n_equilibrium, alpha=alpha, beta=0.5, kappa=2, disable_tqdm=True)\n",
    "    E_avg_alpha_c.append(E_avg_a)\n",
    "    E_std_alpha_c.append(E_std_a)\n",
    "    \n",
    "E_avg_alpha_c = np.array(E_avg_alpha_c)"
   ],
   "metadata": {
    "collapsed": false,
    "ExecuteTime": {
     "end_time": "2024-01-20T10:48:43.802311Z",
     "start_time": "2024-01-20T10:44:44.846663500Z"
    }
   }
  },
  {
   "cell_type": "code",
   "execution_count": 58,
   "outputs": [
    {
     "data": {
      "text/plain": "Text(0.5, 1.0, 'Part c): Mean energy for different $\\\\alpha$')"
     },
     "execution_count": 58,
     "metadata": {},
     "output_type": "execute_result"
    },
    {
     "data": {
      "text/plain": "<Figure size 640x480 with 1 Axes>",
      "image/png": "[encoded data removed]"
     },
     "metadata": {},
     "output_type": "display_data"
    }
   ],
   "source": [
    "for i, alpha in enumerate(list_alpha_c):\n",
    "    plt.plot(list_alpha_c[i], E_avg_alpha_c[i, -1], \"ro\", label = rf\"$\\alpha$ = {alpha}\")\n",
    "plt.xlabel(r\"$\\alpha$\")\n",
    "plt.ylabel(r\"$\\langle \\bar{E_{L}} \\rangle$\")\n",
    "plt.title(r\"Part c): Mean energy for different $\\alpha$\")"
   ],
   "metadata": {
    "collapsed": false,
    "ExecuteTime": {
     "end_time": "2024-01-20T10:49:28.782411300Z",
     "start_time": "2024-01-20T10:49:28.645194800Z"
    }
   }
  },
  {
   "cell_type": "code",
   "execution_count": null,
   "outputs": [],
   "source": [
    "#Todo: Plot sigma over alpha"
   ],
   "metadata": {
    "collapsed": false
   }
  },
  {
   "cell_type": "markdown",
   "source": [
    "# Problem d"
   ],
   "metadata": {
    "collapsed": false
   }
  },
  {
   "cell_type": "code",
   "execution_count": 69,
   "outputs": [
    {
     "name": "stderr",
     "output_type": "stream",
     "text": [
      "100%|██████████| 50/50 [03:27<00:00,  4.16s/it]\n"
     ]
    }
   ],
   "source": [
    "alpha_optimal = 0.15 # Todo: Select optimal alpha from problem part c\n",
    "\n",
    "list_kappa = np.linspace(1.7,2.2,50)\n",
    "\n",
    "E_avg_kappa = []\n",
    "E_std_kappa = []\n",
    "\n",
    "for k in tqdm(list_kappa):\n",
    "    simulation_k = metropolis_algorithm(R, N_c, s=1, alpha=alpha_optimal, beta=0.5, kappa=k, disable_tqdm=True)\n",
    "    E_avg_k, E_std_k = energy_statistics_c(simulation_k, n_equilibrium, disable_tqdm=True)\n",
    "    E_avg_kappa.append(E_avg_k)\n",
    "    E_std_kappa.append(E_std_k)\n",
    "\n",
    "E_avg_kappa = np.array(E_avg_kappa)"
   ],
   "metadata": {
    "collapsed": false,
    "ExecuteTime": {
     "end_time": "2024-01-20T11:08:55.794042Z",
     "start_time": "2024-01-20T11:05:27.899588700Z"
    }
   }
  },
  {
   "cell_type": "code",
   "execution_count": 72,
   "outputs": [
    {
     "data": {
      "text/plain": "Text(0.5, 1.0, 'Part d): Mean energy for different $\\\\kappa$')"
     },
     "execution_count": 72,
     "metadata": {},
     "output_type": "execute_result"
    },
    {
     "data": {
      "text/plain": "<Figure size 640x480 with 1 Axes>",
      "image/png": "[encoded data removed]"
     },
     "metadata": {},
     "output_type": "display_data"
    }
   ],
   "source": [
    "for i, k in enumerate(list_kappa):\n",
    "    plt.plot(list_kappa[i], E_avg_kappa[i], \"ro\", label = rf\"$\\alpha$ = {k}\")\n",
    "plt.xlabel(r\"$\\kappa$\")\n",
    "plt.ylabel(r\"$\\langle \\bar{E_{L}} \\rangle$\")\n",
    "plt.title(r\"Part d): Mean energy for different $\\kappa$\")"
   ],
   "metadata": {
    "collapsed": false,
    "ExecuteTime": {
     "end_time": "2024-01-20T11:09:10.212895900Z",
     "start_time": "2024-01-20T11:09:10.094669500Z"
    }
   }
  },
  {
   "cell_type": "markdown",
   "source": [
    "# Problem e"
   ],
   "metadata": {
    "collapsed": false
   }
  },
  {
   "cell_type": "code",
   "execution_count": null,
   "outputs": [],
   "source": [
    "beta_e = 0.38\n",
    "alpha_e = 0.18 \n",
    "kappa_e = 1.85\n",
    "simulation_e = metropolis_algorithm(R, N_c, s=1, alpha=alpha_e, beta=beta_e, kappa=kappa_e)\n",
    "E_avg_e, E_std_e = energy_statistics_c(simulation_e, n_equilibrium, disable_tqdm=True)"
   ],
   "metadata": {
    "collapsed": false,
    "ExecuteTime": {
     "end_time": "2024-01-20T11:08:55.815417900Z",
     "start_time": "2024-01-20T11:08:55.809110500Z"
    }
   }
  },
  {
   "cell_type": "code",
   "execution_count": null,
   "outputs": [],
   "source": [
    "print(E_avg_e, E_std_e)"
   ],
   "metadata": {
    "collapsed": false,
    "ExecuteTime": {
     "start_time": "2024-01-20T11:08:55.809110500Z"
    }
   }
  },
  {
   "cell_type": "code",
   "execution_count": null,
   "outputs": [],
   "source": [
    "E_exp = -2.90338583"
   ],
   "metadata": {
    "collapsed": false
   }
  },
  {
   "cell_type": "markdown",
   "source": [
    "# Problem g"
   ],
   "metadata": {
    "collapsed": false
   }
  },
  {
   "cell_type": "code",
   "execution_count": null,
   "outputs": [],
   "source": [
    "metropolis_algorithm(initial_state, N, s=1, alpha_e, beta_e, kappa_e, use_FP = False)"
   ],
   "metadata": {
    "collapsed": false,
    "ExecuteTime": {
     "end_time": "2024-01-18T17:19:24.906148400Z",
     "start_time": "2024-01-18T17:19:24.905152200Z"
    }
   }
  },
  {
   "cell_type": "code",
   "execution_count": null,
   "outputs": [],
   "source": [],
   "metadata": {
    "collapsed": false,
    "ExecuteTime": {
     "start_time": "2024-01-18T17:19:24.906148400Z"
    }
   }
  },
  {
   "cell_type": "code",
   "execution_count": null,
   "outputs": [],
   "source": [],
   "metadata": {
    "collapsed": false
   }
  }
 ],
 "metadata": {
  "kernelspec": {
   "display_name": "Python 3",
   "language": "python",
   "name": "python3"
  },
  "language_info": {
   "codemirror_mode": {
    "name": "ipython",
    "version": 2
   },
   "file_extension": ".py",
   "mimetype": "text/x-python",
   "name": "python",
   "nbconvert_exporter": "python",
   "pygments_lexer": "ipython2",
   "version": "2.7.6"
  }
 },
 "nbformat": 4,
 "nbformat_minor": 0
}
