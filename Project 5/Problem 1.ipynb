{
 "cells": [
  {
   "cell_type": "code",
   "execution_count": 1,
   "metadata": {
    "collapsed": true,
    "ExecuteTime": {
     "end_time": "2024-01-18T10:34:51.425578100Z",
     "start_time": "2024-01-18T10:34:50.717577800Z"
    }
   },
   "outputs": [],
   "source": [
    "import numpy as np\n",
    "import matplotlib.pyplot as plt\n",
    "from tqdm import tqdm"
   ]
  },
  {
   "cell_type": "code",
   "execution_count": 2,
   "outputs": [],
   "source": [
    "M = 300 #number of random walkers\n",
    "R = np.zeros((2*M,3))\n",
    "for m in range(2*M):\n",
    "    for d in range(3):\n",
    "        R[m,d] = np.random.uniform(-0.5, 0.5)"
   ],
   "metadata": {
    "collapsed": false,
    "ExecuteTime": {
     "end_time": "2024-01-18T10:34:51.432686600Z",
     "start_time": "2024-01-18T10:34:51.430173400Z"
    }
   }
  },
  {
   "cell_type": "code",
   "execution_count": 3,
   "outputs": [],
   "source": [
    "def greens_function(config, old_config, alpha, beta, kappa, gamma, delta_t):\n",
    "    norm_diff = np.linalg.norm(config - old_config)\n",
    "    return (1/np.sqrt(4*np.pi* gamma*delta_t)) * np.exp(-norm_diff**2 / (4*gamma*delta_t))"
   ],
   "metadata": {
    "collapsed": false,
    "ExecuteTime": {
     "end_time": "2024-01-18T10:34:51.438995800Z",
     "start_time": "2024-01-18T10:34:51.432686600Z"
    }
   }
  },
  {
   "cell_type": "code",
   "execution_count": 4,
   "outputs": [],
   "source": [
    "def psi_T(vec_r_1, vec_r_2, alpha, kappa, beta):\n",
    "    r_1 = np.linalg.norm(vec_r_1)\n",
    "    r_2 = np.linalg.norm(vec_r_2)\n",
    "    vec_r12 = vec_r_2 - vec_r_1\n",
    "    r_12 = np.linalg.norm(vec_r12)\n",
    "    pref = beta*r_12/(1+alpha*r_12)\n",
    "    psi = np.exp(-kappa*(r_1+r_2))*np.exp(pref)\n",
    "    return psi\n",
    "\n",
    "def Fokker_planck(vec_r_1, vec_r_2, alpha, kappa, beta):\n",
    "    r_1 = np.linalg.norm(vec_r_1)\n",
    "    r_2 = np.linalg.norm(vec_r_2)\n",
    "    vec_r12 = vec_r_2 - vec_r_1\n",
    "    r_12 = np.linalg.norm(vec_r12)\n",
    "    u = 1 + alpha*r_12\n",
    "    factor = beta*(((u/r_12)-alpha)/u**2)\n",
    "    force_1 = 2*(-kappa*(vec_r_1/r_1)+factor*(vec_r_1-vec_r_2))\n",
    "    force_2 = 2*(-kappa*(vec_r_2/r_2)+factor*(vec_r_2-vec_r_1))\n",
    "    return np.array([force_1, force_2])\n",
    "\n",
    "def metropolis_algorithm(initial_state, num_trials, s, alpha, beta, kappa, use_FP = False):\n",
    "    sequence_states = [initial_state]\n",
    "    for n in tqdm(range(num_trials)):\n",
    "        next_sequence = metropolis_step(sequence_states[-1], alpha, beta, s, kappa, use_FP=use_FP)\n",
    "        sequence_states.append(next_sequence)\n",
    "    return np.array(sequence_states)\n",
    "    \n",
    "def metropolis_step(current_state, alpha, beta, s, kappa, use_FP = False):\n",
    "    trial_configuration = current_state.copy()\n",
    "    current_r_1 = current_state[:M]\n",
    "    current_r_2 = current_state[M:]\n",
    "\n",
    "    which_particle = np.random.choice([0,M])\n",
    "    for i in range(M):\n",
    "        if use_FP:\n",
    "            trial_configuration[i+which_particle] += Fokker_planck(current_r_1, current_r_2, alpha, kappa = 2, beta = 0.5)*delta_t/2\n",
    "        trial_configuration[i+which_particle] += np.random.uniform(low=-s/2, high=s/2, size=3)#*np.sqrt(delta_t)\n",
    "    trial_r_1 = trial_configuration[:M]\n",
    "    trial_r_2 = trial_configuration[M:]\n",
    "    if not use_FP:\n",
    "        trial_acceptance_prob = np.min([1, (psi_T(trial_r_1, trial_r_2, alpha, kappa, beta)/psi_T(current_r_1, current_r_2, alpha, kappa, beta))**2])\n",
    "    r_accept = np.random.rand()\n",
    "    if r_accept < trial_acceptance_prob:\n",
    "        new_state = trial_configuration\n",
    "    else:\n",
    "        new_state = current_state\n",
    "    return np.array(new_state)\n"
   ],
   "metadata": {
    "collapsed": false,
    "ExecuteTime": {
     "end_time": "2024-01-18T10:34:51.445936100Z",
     "start_time": "2024-01-18T10:34:51.438995800Z"
    }
   }
  },
  {
   "cell_type": "code",
   "execution_count": 5,
   "outputs": [],
   "source": [
    "def energy_local(vec_r_1, vec_r_2, alpha, beta, kappa):\n",
    "    r_1 = np.linalg.norm(vec_r_1)\n",
    "    r_2 = np.linalg.norm(vec_r_2)\n",
    "    vec_r12 = vec_r_2 - vec_r_1\n",
    "    r_12 = np.linalg.norm(vec_r12)\n",
    "    u = 1+alpha*r_12\n",
    "    scalar_product = np.dot((vec_r_1/r_1) - (vec_r_2/r_2), vec_r12/r_12)\n",
    "    E_L = (kappa-2)/r_1 + (kappa-2)/r_2 + (1-2*beta/u**2) +2*beta*alpha/u**3 - kappa**2 - (beta**2)/u**4 +(kappa*beta/u**2)*scalar_product\n",
    "    return E_L\n",
    "\n",
    "def energy_statistics(simulation, accumulate_last_n):\n",
    "    energies = []\n",
    "    num_simulation_steps = simulation.shape[0]\n",
    "    for time in tqdm(range(num_simulation_steps)):\n",
    "        energies_t = []\n",
    "        for i in range(M):\n",
    "            e_i = energy_local(simulation[time,i], simulation[time,i+M], alpha=0.15, beta=0.5, kappa=2)\n",
    "            energies_t.append(e_i)\n",
    "        energies.append(energies_t)\n",
    "    e_avg = np.mean(energies, axis=1)\n",
    "    var_E = np.std(energies, axis=1)   \n",
    "    e_avg_accumulated = [e_avg[0]]\n",
    "    e_var_accumulated = [var_E[0]]\n",
    "    for time in range(1, num_simulation_steps):\n",
    "        if time > accumulate_last_n:\n",
    "            e_avg_t = np.mean(e_avg[time-accumulate_last_n:time])\n",
    "            e_var_t = np.mean(var_E[time-accumulate_last_n:time])\n",
    "        else: #For the first 999 time steps:\n",
    "            e_avg_t = np.mean(e_avg[:time])\n",
    "            e_var_t = np.mean(var_E[:time])              \n",
    "        e_avg_accumulated.append(e_avg_t)\n",
    "        e_var_accumulated.append(e_var_t)\n",
    "    return np.array(e_avg_accumulated), np.array(e_var_accumulated)"
   ],
   "metadata": {
    "collapsed": false,
    "ExecuteTime": {
     "end_time": "2024-01-18T10:34:51.453100400Z",
     "start_time": "2024-01-18T10:34:51.445936100Z"
    }
   }
  },
  {
   "cell_type": "code",
   "execution_count": 14,
   "outputs": [
    {
     "name": "stderr",
     "output_type": "stream",
     "text": [
      "100%|██████████| 30000/30000 [00:24<00:00, 1233.42it/s]\n",
      "100%|██████████| 30001/30001 [01:37<00:00, 308.20it/s]\n"
     ]
    }
   ],
   "source": [
    "sim = metropolis_algorithm(R, num_trials=30000, s=0.1, alpha=0.15, beta=0.5, kappa=2)\n",
    "E_avg_s, E_std_s = energy_statistics(sim, 1000)"
   ],
   "metadata": {
    "collapsed": false,
    "ExecuteTime": {
     "end_time": "2024-01-18T11:13:50.462908200Z",
     "start_time": "2024-01-18T11:11:47.630970800Z"
    }
   }
  },
  {
   "cell_type": "code",
   "execution_count": 20,
   "outputs": [
    {
     "data": {
      "text/plain": "(30001, 300, 3)"
     },
     "execution_count": 20,
     "metadata": {},
     "output_type": "execute_result"
    }
   ],
   "source": [
    "sim[:,:M,:].shape"
   ],
   "metadata": {
    "collapsed": false,
    "ExecuteTime": {
     "end_time": "2024-01-18T11:43:18.473530700Z",
     "start_time": "2024-01-18T11:43:18.466998900Z"
    }
   }
  },
  {
   "cell_type": "code",
   "execution_count": 15,
   "outputs": [
    {
     "data": {
      "text/plain": "array([-4.89624203, -4.89624203, -4.89481382, ..., -3.63318393,\n       -3.63317445, -3.63316482])"
     },
     "execution_count": 15,
     "metadata": {},
     "output_type": "execute_result"
    }
   ],
   "source": [
    "E_avg_s"
   ],
   "metadata": {
    "collapsed": false,
    "ExecuteTime": {
     "end_time": "2024-01-18T11:13:50.474904Z",
     "start_time": "2024-01-18T11:13:50.466873700Z"
    }
   }
  },
  {
   "cell_type": "code",
   "execution_count": 16,
   "outputs": [
    {
     "data": {
      "text/plain": "[<matplotlib.lines.Line2D at 0x2ab86131810>]"
     },
     "execution_count": 16,
     "metadata": {},
     "output_type": "execute_result"
    },
    {
     "data": {
      "text/plain": "<Figure size 640x480 with 1 Axes>",
      "image/png": "[encoded data removed]"
     },
     "metadata": {},
     "output_type": "display_data"
    }
   ],
   "source": [
    "plt.plot(np.arange(sim.shape[0]), E_avg_s)"
   ],
   "metadata": {
    "collapsed": false,
    "ExecuteTime": {
     "end_time": "2024-01-18T11:13:50.557782500Z",
     "start_time": "2024-01-18T11:13:50.470848700Z"
    }
   }
  },
  {
   "cell_type": "code",
   "execution_count": 9,
   "outputs": [
    {
     "name": "stdout",
     "output_type": "stream",
     "text": [
      "s = 0.1:\n"
     ]
    },
    {
     "name": "stderr",
     "output_type": "stream",
     "text": [
      "100%|██████████| 30000/30000 [00:24<00:00, 1220.84it/s]\n",
      "100%|██████████| 30001/30001 [01:38<00:00, 305.84it/s]\n"
     ]
    },
    {
     "name": "stdout",
     "output_type": "stream",
     "text": [
      "s = 1:\n"
     ]
    },
    {
     "name": "stderr",
     "output_type": "stream",
     "text": [
      "100%|██████████| 30000/30000 [00:24<00:00, 1229.31it/s]\n",
      "100%|██████████| 30001/30001 [01:38<00:00, 304.56it/s]\n"
     ]
    },
    {
     "name": "stdout",
     "output_type": "stream",
     "text": [
      "s = 10:\n"
     ]
    },
    {
     "name": "stderr",
     "output_type": "stream",
     "text": [
      "100%|██████████| 30000/30000 [00:24<00:00, 1241.79it/s]\n",
      "100%|██████████| 30001/30001 [01:37<00:00, 308.89it/s]\n"
     ]
    }
   ],
   "source": [
    "N = 30000\n",
    "n = 1000\n",
    "list_s = [0.1,1,10]\n",
    "\n",
    "E_avg = []\n",
    "E_std = []\n",
    "\n",
    "for s_test in list_s:\n",
    "    print(f\"s = {s_test}:\")\n",
    "    simulation_s = metropolis_algorithm(R, N, s_test, alpha=0.15, beta=0.5, kappa=2)\n",
    "    E_avg_s, E_std_s = energy_statistics(simulation_s, n)\n",
    "    E_avg.append(E_avg_s)\n",
    "    E_std.append(E_std_s)"
   ],
   "metadata": {
    "collapsed": false,
    "ExecuteTime": {
     "end_time": "2024-01-18T10:43:05.674731200Z",
     "start_time": "2024-01-18T10:36:55.539236800Z"
    }
   }
  },
  {
   "cell_type": "code",
   "execution_count": 10,
   "outputs": [
    {
     "data": {
      "text/plain": "<matplotlib.legend.Legend at 0x2ab878637d0>"
     },
     "execution_count": 10,
     "metadata": {},
     "output_type": "execute_result"
    },
    {
     "data": {
      "text/plain": "<Figure size 640x480 with 1 Axes>",
      "image/png": "[encoded data removed]"
     },
     "metadata": {},
     "output_type": "display_data"
    }
   ],
   "source": [
    "t = np.arange(N+1)\n",
    "for i in range(len(E_avg)):\n",
    "    plt.fill_between(t, E_avg[i]-E_std[i], E_avg[i]+E_std[i], alpha=0.3)\n",
    "    plt.plot(t, E_avg[i], label=f\"s = {list_s[i]}\")\n",
    "    \n",
    "plt.title(\"Energy development\")\n",
    "plt.xlabel(\"t\")\n",
    "plt.ylabel(r\"$\\langle E_L \\rangle$\")\n",
    "plt.legend()"
   ],
   "metadata": {
    "collapsed": false,
    "ExecuteTime": {
     "end_time": "2024-01-18T10:43:05.985019100Z",
     "start_time": "2024-01-18T10:43:05.680079Z"
    }
   }
  },
  {
   "cell_type": "code",
   "execution_count": 12,
   "outputs": [
    {
     "data": {
      "text/plain": "[<matplotlib.lines.Line2D at 0x2abe84ac310>]"
     },
     "execution_count": 12,
     "metadata": {},
     "output_type": "execute_result"
    },
    {
     "data": {
      "text/plain": "<Figure size 640x480 with 1 Axes>",
      "image/png": "[encoded data removed]"
     },
     "metadata": {},
     "output_type": "display_data"
    }
   ],
   "source": [
    "plt.plot(t, E_avg[1], label=\"s = s=1\")"
   ],
   "metadata": {
    "collapsed": false,
    "ExecuteTime": {
     "end_time": "2024-01-18T10:46:06.599095800Z",
     "start_time": "2024-01-18T10:46:06.529513600Z"
    }
   }
  },
  {
   "cell_type": "markdown",
   "source": [
    "# Problem b"
   ],
   "metadata": {
    "collapsed": false
   }
  },
  {
   "cell_type": "code",
   "execution_count": 13,
   "outputs": [
    {
     "data": {
      "text/plain": "array([[[-0.05751198, -0.49671322, -0.33131246],\n        [-0.21816933,  0.42307189, -0.44332656],\n        [-0.44126084, -0.29567081,  0.33478144],\n        ...,\n        [-0.02901937, -0.07598686,  0.21627156],\n        [-0.01050113,  0.18821676, -0.10714096],\n        [ 0.25892669,  0.09669078, -0.18662758]],\n\n       [[-0.05751198, -0.49671322, -0.33131246],\n        [-0.21816933,  0.42307189, -0.44332656],\n        [-0.44126084, -0.29567081,  0.33478144],\n        ...,\n        [-0.02901937, -0.07598686,  0.21627156],\n        [-0.01050113,  0.18821676, -0.10714096],\n        [ 0.25892669,  0.09669078, -0.18662758]],\n\n       [[-0.05751198, -0.49671322, -0.33131246],\n        [-0.21816933,  0.42307189, -0.44332656],\n        [-0.44126084, -0.29567081,  0.33478144],\n        ...,\n        [-0.02901937, -0.07598686,  0.21627156],\n        [-0.01050113,  0.18821676, -0.10714096],\n        [ 0.25892669,  0.09669078, -0.18662758]],\n\n       ...,\n\n       [[-0.05751198, -0.49671322, -0.33131246],\n        [-0.21816933,  0.42307189, -0.44332656],\n        [-0.44126084, -0.29567081,  0.33478144],\n        ...,\n        [-0.02901937, -0.07598686,  0.21627156],\n        [-0.01050113,  0.18821676, -0.10714096],\n        [ 0.25892669,  0.09669078, -0.18662758]],\n\n       [[-0.05751198, -0.49671322, -0.33131246],\n        [-0.21816933,  0.42307189, -0.44332656],\n        [-0.44126084, -0.29567081,  0.33478144],\n        ...,\n        [-0.02901937, -0.07598686,  0.21627156],\n        [-0.01050113,  0.18821676, -0.10714096],\n        [ 0.25892669,  0.09669078, -0.18662758]],\n\n       [[-0.05751198, -0.49671322, -0.33131246],\n        [-0.21816933,  0.42307189, -0.44332656],\n        [-0.44126084, -0.29567081,  0.33478144],\n        ...,\n        [-0.02901937, -0.07598686,  0.21627156],\n        [-0.01050113,  0.18821676, -0.10714096],\n        [ 0.25892669,  0.09669078, -0.18662758]]])"
     },
     "execution_count": 13,
     "metadata": {},
     "output_type": "execute_result"
    }
   ],
   "source": [
    "list_alpha = [0.0, 0.1, 0.2, 0.3, 0.4, 0.5]\n",
    "\n",
    "E_avg_alpha = []\n",
    "E_std_alpha = []\n",
    "\n",
    "for alpha in list_alpha:\n",
    "    print(rf\"$\\alpha$ = {alpha}:\")\n",
    "    simulation_a = metropolis_algorithm(R, N, s=1, alpha=alpha, beta=0.5, kappa=2)\n",
    "    E_avg_a, E_std_a = energy_statistics(simulation_a, n)\n",
    "    E_avg_alpha.append(E_avg_a)\n",
    "    E_std_alpha.append(E_std_a)"
   ],
   "metadata": {
    "collapsed": false,
    "ExecuteTime": {
     "end_time": "2024-01-18T10:46:31.933465100Z",
     "start_time": "2024-01-18T10:46:31.929430200Z"
    }
   }
  },
  {
   "cell_type": "code",
   "execution_count": null,
   "outputs": [],
   "source": [
    "for i in range(len(E_avg)):\n",
    "    plt.fill_between(t, E_avg_alpha[i]-E_std_alpha[i], E_avg_alpha[i]+E_std_alpha[i], alpha=0.3)\n",
    "    plt.plot(t, E_avg_alpha[i], label= rf\"$\\alpha$ = {list_alpha[i]}\")\n",
    "    \n",
    "plt.title(\"Energy development\")\n",
    "plt.xlabel(\"t\")\n",
    "plt.ylabel(r\"$\\langle E_L \\rangle$\")\n",
    "plt.legend()"
   ],
   "metadata": {
    "collapsed": false
   }
  },
  {
   "cell_type": "markdown",
   "source": [
    "# Problem c"
   ],
   "metadata": {
    "collapsed": false
   }
  },
  {
   "cell_type": "code",
   "execution_count": null,
   "outputs": [],
   "source": [
    "def energy_statistics_c(simulation, equilibration_time): # Todo: If change in energy_statistics function is made, it may be necessary to change it here as well\n",
    "    energies = []\n",
    "    num_simulation_steps = simulation.shape[0]\n",
    "    for time in tqdm(range(num_simulation_steps)):\n",
    "        energies_t = []\n",
    "        for i in range(M):\n",
    "            e_i = energy_local(simulation[time,i], simulation[time,i+M], alpha=0.15, beta=0.5, kappa=2)\n",
    "            energies_t.append(e_i)\n",
    "        energies.append(energies_t)\n",
    "    e_avg = np.mean(energies, axis=1)\n",
    "    var_E = np.std(energies, axis=1)   \n",
    "    e_avg_accumulated = [e_avg[0]]\n",
    "    e_var_accumulated = [var_E[0]]\n",
    "    for time in range(equilibration_time+1, num_simulation_steps):\n",
    "        e_avg_t = np.mean(e_avg[equilibration_time:time])\n",
    "        e_var_t = np.mean(var_E[equilibration_time:time])\n",
    "        e_avg_accumulated.append(e_avg_t)\n",
    "        e_var_accumulated.append(e_var_t)\n",
    "    return np.array(e_avg_accumulated), np.array(e_var_accumulated)"
   ],
   "metadata": {
    "collapsed": false
   }
  },
  {
   "cell_type": "code",
   "execution_count": 22,
   "outputs": [
    {
     "name": "stdout",
     "output_type": "stream",
     "text": [
      "[0.         0.01020408 0.02040816 0.03061224 0.04081633 0.05102041\n",
      " 0.06122449 0.07142857 0.08163265 0.09183673 0.10204082 0.1122449\n",
      " 0.12244898 0.13265306 0.14285714 0.15306122 0.16326531 0.17346939\n",
      " 0.18367347 0.19387755 0.20408163 0.21428571 0.2244898  0.23469388\n",
      " 0.24489796 0.25510204 0.26530612 0.2755102  0.28571429 0.29591837\n",
      " 0.30612245 0.31632653 0.32653061 0.33673469 0.34693878 0.35714286\n",
      " 0.36734694 0.37755102 0.3877551  0.39795918 0.40816327 0.41836735\n",
      " 0.42857143 0.43877551 0.44897959 0.45918367 0.46938776 0.47959184\n",
      " 0.48979592 0.5       ]\n"
     ]
    }
   ],
   "source": [
    "n_equilibrium = 5000 # Todo: Choose appropriate value\n",
    "\n",
    "list_alpha_c = np.linspace(0,0.5,50)\n",
    "\n",
    "E_avg_alpha_c = []\n",
    "E_std_alpha_c = []\n",
    "\n",
    "for alpha in list_alpha_c:\n",
    "    simulation_a = metropolis_algorithm(R, N, s=1, alpha=alpha, beta=0.5, kappa=2)\n",
    "    E_avg_a, E_std_a = energy_statistics_c(simulation_a, n_equilibrium)\n",
    "    E_avg_alpha_c.append(E_avg_a)\n",
    "    E_std_alpha_c.append(E_std_a)"
   ],
   "metadata": {
    "collapsed": false,
    "ExecuteTime": {
     "end_time": "2024-01-18T11:49:14.799319500Z",
     "start_time": "2024-01-18T11:49:14.758857200Z"
    }
   }
  },
  {
   "cell_type": "markdown",
   "source": [
    "# Problem d"
   ],
   "metadata": {
    "collapsed": false
   }
  },
  {
   "cell_type": "code",
   "execution_count": null,
   "outputs": [],
   "source": [
    "alpha_optimal = 2 # Todo: Select optimal alpha from problem part c\n",
    "\n",
    "list_kappa = np.linspace(1.7,2.2,50)\n",
    "\n",
    "E_avg_alpha_c = []\n",
    "E_std_alpha_c = []\n",
    "\n",
    "for k in list_kappa:\n",
    "    simulation_a = metropolis_algorithm(R, N, s=1, alpha=alpha_optimal, beta=0.5, kappa=k)\n",
    "    E_avg_a, E_std_a = energy_statistics_c(simulation_a, n_equilibrium)\n",
    "    E_avg_alpha_c.append(E_avg_a)\n",
    "    E_std_alpha_c.append(E_std_a)"
   ],
   "metadata": {
    "collapsed": false
   }
  },
  {
   "cell_type": "markdown",
   "source": [
    "# Problem e"
   ],
   "metadata": {
    "collapsed": false
   }
  },
  {
   "cell_type": "code",
   "execution_count": null,
   "outputs": [],
   "source": [
    "beta_e = 0.38\n",
    "alpha_e = 0.18 \n",
    "kappa_e = 1.85"
   ],
   "metadata": {
    "collapsed": false
   }
  },
  {
   "cell_type": "markdown",
   "source": [
    "# Problem g"
   ],
   "metadata": {
    "collapsed": false
   }
  },
  {
   "cell_type": "code",
   "execution_count": null,
   "outputs": [],
   "source": [
    "metropolis_algorithm(initial_state, N, s=1, alpha_e, beta_e, kappa_e, use_FP = False)"
   ],
   "metadata": {
    "collapsed": false
   }
  }
 ],
 "metadata": {
  "kernelspec": {
   "display_name": "Python 3",
   "language": "python",
   "name": "python3"
  },
  "language_info": {
   "codemirror_mode": {
    "name": "ipython",
    "version": 2
   },
   "file_extension": ".py",
   "mimetype": "text/x-python",
   "name": "python",
   "nbconvert_exporter": "python",
   "pygments_lexer": "ipython2",
   "version": "2.7.6"
  }
 },
 "nbformat": 4,
 "nbformat_minor": 0
}
