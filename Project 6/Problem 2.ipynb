{
 "cells": [
  {
   "cell_type": "code",
   "execution_count": 286,
   "id": "initial_id",
   "metadata": {
    "collapsed": true,
    "ExecuteTime": {
     "end_time": "2024-02-02T13:01:23.501694Z",
     "start_time": "2024-02-02T13:01:23.451641500Z"
    }
   },
   "outputs": [],
   "source": [
    "import numpy as np\n",
    "import time\n",
    "import matplotlib.pyplot as plt"
   ]
  },
  {
   "cell_type": "code",
   "execution_count": 287,
   "outputs": [],
   "source": [
    "#https://arxiv.org/pdf/1101.3281.pdf"
   ],
   "metadata": {
    "collapsed": false,
    "ExecuteTime": {
     "end_time": "2024-02-02T13:01:23.607889200Z",
     "start_time": "2024-02-02T13:01:23.458300200Z"
    }
   }
  },
  {
   "cell_type": "code",
   "execution_count": 288,
   "outputs": [
    {
     "name": "stdout",
     "output_type": "stream",
     "text": [
      "a_test: [0, 1, 2, 3, 4, 5, 6, 7]\n",
      "a_bin: [[0, 0, 0], [1, 0, 0], [0, 1, 0], [1, 1, 0], [0, 0, 1], [1, 0, 1], [0, 1, 1], [1, 1, 1]]\n"
     ]
    }
   ],
   "source": [
    "def generate_binary_list(N, fixed_length=None):\n",
    "    a_test = range(2**N)\n",
    "    binary_list = []\n",
    "    # Determine the fixed length if not provided\n",
    "    if fixed_length is None:\n",
    "        fixed_length = len(bin(max(a_test))) - 2\n",
    "    for num in a_test:\n",
    "        binary_representation = bin(num)[2:]  # Convert to binary and remove the '0b' prefix\n",
    "        binary_digits = [int(digit) for digit in binary_representation]\n",
    "        while len(binary_digits) < fixed_length:\n",
    "            binary_digits.insert(0, 0)\n",
    "        binary_digits.reverse()\n",
    "        binary_list.append(binary_digits)\n",
    "\n",
    "    return a_test, binary_list\n",
    "\n",
    "a_test, a_bin = generate_binary_list(3)\n",
    "\n",
    "print(\"a_test:\", list(a_test))\n",
    "print(\"a_bin:\", a_bin)"
   ],
   "metadata": {
    "collapsed": false,
    "ExecuteTime": {
     "end_time": "2024-02-02T13:01:23.609884200Z",
     "start_time": "2024-02-02T13:01:23.484163200Z"
    }
   },
   "id": "9f1c72b1ea42063d"
  },
  {
   "cell_type": "code",
   "execution_count": 289,
   "outputs": [
    {
     "name": "stdout",
     "output_type": "stream",
     "text": [
      "[[ 0.5  0.   0.   0. ]\n",
      " [ 0.  -0.5  0.5  0. ]\n",
      " [ 0.   0.5 -0.5  0. ]\n",
      " [ 0.   0.   0.   0.5]]\n"
     ]
    }
   ],
   "source": [
    "def flip(a, i, j):\n",
    "    f = 2**i + 2**j\n",
    "    return a^f\n",
    "\n",
    "def generate_Hamiltonian(N):\n",
    "    a, a_binary = generate_binary_list(N)\n",
    "    a = list(a)\n",
    "    H = np.zeros((2**N, 2**N))\n",
    "    for a_bin, a_int in zip(a_binary, a):\n",
    "        for i in range(N):\n",
    "            j = (i+1)%N\n",
    "            if a_bin[i] == a_bin[j]:\n",
    "                H[a_int,a_int] += 1/4\n",
    "            else:\n",
    "                H[a_int,a_int] -= 1/4\n",
    "                b = flip(a_int, i, j)\n",
    "                H[a_int, b] = 1/2\n",
    "    return H\n",
    "\n",
    "H_2 = generate_Hamiltonian(2)\n",
    "#Todo: Why for N=7 imaginary?Numerical error\n",
    "\n",
    "print(H_2)"
   ],
   "metadata": {
    "collapsed": false,
    "ExecuteTime": {
     "end_time": "2024-02-02T13:01:23.609884200Z",
     "start_time": "2024-02-02T13:01:23.509265500Z"
    }
   },
   "id": "6dc90bdbc5f45725"
  },
  {
   "cell_type": "code",
   "execution_count": 290,
   "outputs": [
    {
     "data": {
      "text/plain": "array([ 1.11022302e-16, -1.00000000e+00,  5.00000000e-01,  5.00000000e-01])"
     },
     "execution_count": 290,
     "metadata": {},
     "output_type": "execute_result"
    }
   ],
   "source": [
    "eigs_2 = np.linalg.eig(H_2)\n",
    "eigs_2.eigenvalues"
   ],
   "metadata": {
    "collapsed": false,
    "ExecuteTime": {
     "end_time": "2024-02-02T13:01:23.609884200Z",
     "start_time": "2024-02-02T13:01:23.522259Z"
    }
   }
  },
  {
   "cell_type": "code",
   "execution_count": 291,
   "outputs": [
    {
     "data": {
      "text/plain": "array([[ 0.        ,  0.70710678,  0.70710678,  0.        ],\n       [ 0.        ,  0.70710678, -0.70710678,  0.        ],\n       [ 1.        ,  0.        ,  0.        ,  0.        ],\n       [ 0.        ,  0.        ,  0.        ,  1.        ]])"
     },
     "execution_count": 291,
     "metadata": {},
     "output_type": "execute_result"
    }
   ],
   "source": [
    "np.transpose(eigs_2.eigenvectors) #Todo: Need to transpose?"
   ],
   "metadata": {
    "collapsed": false,
    "ExecuteTime": {
     "end_time": "2024-02-02T13:01:23.609884200Z",
     "start_time": "2024-02-02T13:01:23.531081800Z"
    }
   }
  },
  {
   "cell_type": "code",
   "execution_count": 292,
   "outputs": [
    {
     "data": {
      "text/plain": "[-0.9999999999999999,\n -0.75,\n -1.9999999999999987,\n -1.8680339887499,\n (-2.8027756377319992+0j)]"
     },
     "execution_count": 292,
     "metadata": {},
     "output_type": "execute_result"
    }
   ],
   "source": [
    "eigenvalues = []\n",
    "eigenvectors = []\n",
    "list_N = np.arange(2,7)\n",
    "\n",
    "for n in list_N:\n",
    "    H_n = generate_Hamiltonian(n)\n",
    "    eigs = np.linalg.eig(H_n)\n",
    "    eigvals = eigs.eigenvalues\n",
    "    eigvecs = np.transpose(eigs.eigenvectors)\n",
    "    eigenvalues.append(eigvals)\n",
    "    eigenvectors.append(eigvecs)\n",
    "\n",
    "[np.min(e) for e in eigenvalues]"
   ],
   "metadata": {
    "collapsed": false,
    "ExecuteTime": {
     "end_time": "2024-02-02T13:01:23.610882200Z",
     "start_time": "2024-02-02T13:01:23.546406900Z"
    }
   },
   "id": "4157076f51d528db"
  },
  {
   "cell_type": "code",
   "execution_count": 293,
   "outputs": [
    {
     "name": "stdout",
     "output_type": "stream",
     "text": [
      "n = 2:\n",
      "[ 0.          0.70710678 -0.70710678  0.        ]\n",
      "n = 3:\n",
      "[ 0.          0.          0.          0.40824829  0.          0.40824829\n",
      " -0.81649658  0.        ]\n",
      "n = 4:\n",
      "[ 0.00000000e+00  2.77354685e-17  2.57913478e-17  2.88675135e-01\n",
      " -8.55761944e-17 -5.77350269e-01  2.88675135e-01  5.93181067e-17\n",
      "  4.45654388e-17  2.88675135e-01 -5.77350269e-01  4.86828725e-33\n",
      "  2.88675135e-01 -5.93181067e-17  4.86828725e-33  0.00000000e+00]\n",
      "n = 5:\n",
      "[ 0.00000000e+00  1.00607891e-16 -9.37588118e-17 -2.25301316e-01\n",
      "  8.22872906e-17  4.57243147e-01 -5.72904897e-02  2.87191878e-12\n",
      "  3.68069548e-17 -1.49988449e-01 -2.14556738e-01 -6.48222379e-12\n",
      "  1.89893846e-01  2.96975423e-12  6.40566639e-13 -2.77218716e-17\n",
      "  3.05548646e-17 -8.19533814e-02  4.97148544e-01  1.13468151e-12\n",
      " -5.89846503e-01  1.67624977e-12 -5.68277868e-12 -3.47167794e-18\n",
      "  1.74651341e-01 -2.17032895e-12  7.51783158e-12 -2.82752094e-18\n",
      " -2.47571470e-12  2.18275281e-17  4.43718334e-33  0.00000000e+00]\n",
      "n = 6:\n",
      "[ 0.00000000e+00+0.j  1.11022302e-16+0.j -5.55111512e-17+0.j\n",
      " -3.93952627e-16+0.j  1.66533454e-16+0.j  9.83517636e-16+0.j\n",
      " -3.84885425e-16+0.j -6.29206215e-02+0.j -2.77555756e-16+0.j\n",
      " -1.00957288e-15+0.j  1.39602092e-15+0.j  2.07812696e-01+0.j\n",
      " -6.05019817e-16+0.j -2.07812696e-01+0.j  6.29206215e-02+0.j\n",
      "  1.03078780e-18+0.j  2.77555756e-16+0.j  7.80247989e-16+0.j\n",
      " -1.44622104e-15+0.j -2.07812696e-01+0.j  1.16570301e-15+0.j\n",
      "  4.78546013e-01+0.j -2.07812696e-01+0.j  5.22434956e-19+0.j\n",
      " -3.63334533e-16+0.j -2.07812696e-01+0.j  2.07812696e-01+0.j\n",
      " -1.85778010e-19+0.j -6.29206215e-02+0.j  1.08854642e-19+0.j\n",
      " -9.56682617e-20+0.j  9.07993804e-17+0.j -5.55111512e-17+0.j\n",
      " -4.48693763e-16+0.j  1.15640996e-15+0.j  6.29206215e-02+0.j\n",
      " -1.09034296e-15+0.j -2.07812696e-01+0.j  2.07812696e-01+0.j\n",
      " -9.55662563e-20+0.j  9.57115691e-16+0.j  2.07812696e-01+0.j\n",
      " -4.78546013e-01+0.j  1.08832850e-19+0.j  2.07812696e-01+0.j\n",
      " -1.85926666e-19+0.j  5.23086966e-19+0.j -5.41640090e-17+0.j\n",
      " -2.60647668e-16+0.j -6.29206215e-02+0.j  2.07812696e-01+0.j\n",
      " -3.39643395e-20+0.j -2.07812696e-01+0.j  1.15520336e-19+0.j\n",
      " -2.77172022e-19+0.j  4.06918732e-18+0.j  6.29206215e-02+0.j\n",
      " -3.49718030e-20+0.j  1.15487702e-19+0.j  4.41504790e-17+0.j\n",
      " -3.39626981e-20+0.j -1.40599112e-16+0.j -2.75860297e-33+0.j\n",
      "  0.00000000e+00+0.j]\n"
     ]
    }
   ],
   "source": [
    "for n in list_N:\n",
    "    print(f\"n = {n}:\")\n",
    "    print(eigenvectors[n-2][np.argmin(eigenvalues[n-2])])"
   ],
   "metadata": {
    "collapsed": false,
    "ExecuteTime": {
     "end_time": "2024-02-02T13:01:23.610882200Z",
     "start_time": "2024-02-02T13:01:23.560519100Z"
    }
   }
  },
  {
   "cell_type": "code",
   "execution_count": 294,
   "outputs": [
    {
     "data": {
      "text/plain": "array([ 0.        ,  0.70710678, -0.70710678,  0.        ])"
     },
     "execution_count": 294,
     "metadata": {},
     "output_type": "execute_result"
    }
   ],
   "source": [
    "eigenvectors[0][1]"
   ],
   "metadata": {
    "collapsed": false,
    "ExecuteTime": {
     "end_time": "2024-02-02T13:01:23.611878900Z",
     "start_time": "2024-02-02T13:01:23.571138600Z"
    }
   }
  },
  {
   "cell_type": "markdown",
   "source": [
    "# Part b"
   ],
   "metadata": {
    "collapsed": false
   }
  },
  {
   "cell_type": "code",
   "execution_count": 295,
   "outputs": [
    {
     "data": {
      "text/plain": "[<matplotlib.lines.Line2D at 0x2b20cfda690>]"
     },
     "execution_count": 295,
     "metadata": {},
     "output_type": "execute_result"
    },
    {
     "data": {
      "text/plain": "<Figure size 640x480 with 1 Axes>",
      "image/png": "[encoded data removed]"
     },
     "metadata": {},
     "output_type": "display_data"
    }
   ],
   "source": [
    "computing_times = []\n",
    "list_N = np.arange(2,12)\n",
    "\n",
    "for n in list_N:\n",
    "    start = time.time()\n",
    "    H_n = generate_Hamiltonian(n)\n",
    "    eigs = np.linalg.eig(H_n)\n",
    "    stop = time.time()\n",
    "    diff_time = stop - start\n",
    "    computing_times.append(diff_time)\n",
    "\n",
    "plt.plot(list_N, computing_times)"
   ],
   "metadata": {
    "collapsed": false,
    "ExecuteTime": {
     "end_time": "2024-02-02T13:01:31.761466100Z",
     "start_time": "2024-02-02T13:01:23.587942700Z"
    }
   },
   "id": "49173904ba74d7c9"
  },
  {
   "cell_type": "code",
   "execution_count": 296,
   "outputs": [
    {
     "data": {
      "text/plain": "[0.0,\n 0.0009982585906982422,\n 0.0,\n 0.0,\n 0.0019936561584472656,\n 0.01296544075012207,\n 0.05086636543273926,\n 0.2527153491973877,\n 1.731370210647583,\n 5.987319707870483]"
     },
     "execution_count": 296,
     "metadata": {},
     "output_type": "execute_result"
    }
   ],
   "source": [
    "computing_times"
   ],
   "metadata": {
    "collapsed": false,
    "ExecuteTime": {
     "end_time": "2024-02-02T13:01:31.769126900Z",
     "start_time": "2024-02-02T13:01:31.762467900Z"
    }
   },
   "id": "a41039bcd5bfccbd"
  },
  {
   "cell_type": "markdown",
   "source": [
    "Part c)"
   ],
   "metadata": {
    "collapsed": false
   },
   "id": "326ea267bccc0fce"
  },
  {
   "cell_type": "code",
   "execution_count": 297,
   "outputs": [],
   "source": [
    "k_B = 1#.38 *10**(-23)\n",
    "\n",
    "def magnetisation_per_particle(spin_sequence):\n",
    "    m = 0\n",
    "    for s in spin_sequence:\n",
    "        if s == 1:\n",
    "            m += 1\n",
    "        elif s == -1:\n",
    "            m -= 1\n",
    "        elif s == 0:\n",
    "            m -= 1\n",
    "        else:\n",
    "            print(\"Spin sequence is neither binary nor sequence of 1 and -1\")\n",
    "    return m/len(spin_sequence)\n",
    "\n",
    "def magnetisation_for_state(state, N):\n",
    "    list_a_int, list_a_bin = generate_binary_list(N)\n",
    "    list_m = [] #Magnetisation per particle for all basis states\n",
    "    for lb in list_a_bin:\n",
    "        mp = magnetisation_per_particle(lb)\n",
    "        list_m.append(mp)\n",
    "    m = 0\n",
    "    for index, val in enumerate(state):\n",
    "        m += list_m[index] * val**2 #Todo: quadrat oder nicht?\n",
    "    return m\n",
    "\n",
    "def specific_heat(energies, N, T):\n",
    "    prefs = [np.exp(-e/T) for e in energies]\n",
    "    mean_energy = np.average(energies, weights=prefs)\n",
    "    mean_square_energy = np.average([e_i**2 for e_i in energies], weights=prefs)\n",
    "    return (mean_square_energy - mean_energy**2)/(N*k_B*T**2)\n",
    "\n",
    "def magnetic_susceptibility(arr_states, N, T):\n",
    "    #k_b = 1.38 *10**(-23)\n",
    "    m_states = []\n",
    "    for state in arr_states:\n",
    "        m_s = magnetisation_for_state(state, N)\n",
    "        m_states.append(m_s)\n",
    "    m_mean = np.mean(m_states)\n",
    "    m_2_mean = np.mean([m**2 for m in m_states])\n",
    "    return (1/T)*(m_2_mean-m_mean**2)\n",
    "\n",
    "def C_v(N, T, J=1):\n",
    "    frac = J/(k_B*T)\n",
    "    enum = frac**2\n",
    "    denom = np.cosh(frac)**2\n",
    "    return N*k_B*enum/denom"
   ],
   "metadata": {
    "collapsed": false,
    "ExecuteTime": {
     "end_time": "2024-02-02T13:01:31.779947500Z",
     "start_time": "2024-02-02T13:01:31.774148800Z"
    }
   },
   "id": "234bd066a64ce15f"
  },
  {
   "cell_type": "code",
   "execution_count": 298,
   "outputs": [
    {
     "data": {
      "text/plain": "0.5"
     },
     "execution_count": 298,
     "metadata": {},
     "output_type": "execute_result"
    }
   ],
   "source": [
    "ms = magnetic_susceptibility(eigenvectors[0], 2, 1)\n",
    "ms"
   ],
   "metadata": {
    "collapsed": false,
    "ExecuteTime": {
     "end_time": "2024-02-02T13:01:31.845357200Z",
     "start_time": "2024-02-02T13:01:31.781968Z"
    }
   }
  },
  {
   "cell_type": "code",
   "execution_count": 299,
   "outputs": [
    {
     "name": "stdout",
     "output_type": "stream",
     "text": [
      "0\n",
      "b\n",
      "1\n",
      "1\n",
      "1\n"
     ]
    }
   ],
   "source": [
    "[bin(a) for a in range(8)]\n",
    "for b in bin(7):\n",
    "    print(b)"
   ],
   "metadata": {
    "collapsed": false,
    "ExecuteTime": {
     "end_time": "2024-02-02T13:01:31.845357200Z",
     "start_time": "2024-02-02T13:01:31.796326800Z"
    }
   }
  },
  {
   "cell_type": "code",
   "execution_count": 300,
   "outputs": [],
   "source": [
    "list_N_c = [4,8]#,12] #Todo: Add another\n",
    "specific_heats = []\n",
    "magnetic_susceptibilities = []\n",
    "list_T = np.linspace(0.1,2,100)\n",
    "\n",
    "for n in list_N_c:\n",
    "    list_sp = []\n",
    "    list_ms = []\n",
    "    for temp in list_T:\n",
    "        H_n = generate_Hamiltonian(n)\n",
    "        eigs = np.linalg.eig(H_n)\n",
    "        eigvecs = eigs.eigenvectors\n",
    "        sp = specific_heat(eigs.eigenvalues, n, temp)\n",
    "        list_sp.append(sp)\n",
    "        ms = magnetic_susceptibility(eigvecs, n, temp)\n",
    "        list_ms.append(ms)\n",
    "    magnetic_susceptibilities.append(list_ms)\n",
    "    specific_heats.append(list_sp)"
   ],
   "metadata": {
    "collapsed": false,
    "ExecuteTime": {
     "end_time": "2024-02-02T13:01:53.157979500Z",
     "start_time": "2024-02-02T13:01:31.805429800Z"
    }
   }
  },
  {
   "cell_type": "code",
   "execution_count": 301,
   "outputs": [
    {
     "data": {
      "text/plain": "<matplotlib.legend.Legend at 0x2b20d104690>"
     },
     "execution_count": 301,
     "metadata": {},
     "output_type": "execute_result"
    },
    {
     "data": {
      "text/plain": "<Figure size 640x480 with 1 Axes>",
      "image/png": "[encoded data removed]"
     },
     "metadata": {},
     "output_type": "display_data"
    }
   ],
   "source": [
    "plt.plot(list_T, specific_heats[0], label=\"N = 4\")\n",
    "plt.plot(list_T, specific_heats[1], label=\"N = 8\")\n",
    "#plt.plot(list_T, specific_heats[2], label=\"N = 12\") #Todo: Calculate and plot this as well\n",
    "plt.plot(list_T, [3/(13*t**2) for t in list_T])\n",
    "plt.title(\"2c): specific heat\")\n",
    "plt.xlabel(\"T\")\n",
    "plt.ylim(0,0.5)\n",
    "plt.legend()"
   ],
   "metadata": {
    "collapsed": false,
    "ExecuteTime": {
     "end_time": "2024-02-02T13:01:53.363009800Z",
     "start_time": "2024-02-02T13:01:53.158973200Z"
    }
   }
  },
  {
   "cell_type": "code",
   "execution_count": 302,
   "outputs": [
    {
     "data": {
      "text/plain": "<matplotlib.legend.Legend at 0x2b20d4b7f50>"
     },
     "execution_count": 302,
     "metadata": {},
     "output_type": "execute_result"
    },
    {
     "data": {
      "text/plain": "<Figure size 640x480 with 1 Axes>",
      "image/png": "[encoded data removed]"
     },
     "metadata": {},
     "output_type": "display_data"
    }
   ],
   "source": [
    "plt.plot(list_T, magnetic_susceptibilities[0], label=\"N = 4\")\n",
    "#plt.plot(list_T, magnetic_susceptibilities[1], label=\"N = 8\")\n",
    "#plt.plot(list_T, specific_heats[2], label=\"N = 12\") #Todo: Calculate and plot this as well\n",
    "#plt.plot(list_T, [3/(13*t**2) for t in list_T])\n",
    "plt.title(\"2c): Magnetic susceptibility\")\n",
    "plt.xlabel(\"T\")\n",
    "#plt.ylim(0,0.5)\n",
    "plt.legend()"
   ],
   "metadata": {
    "collapsed": false,
    "ExecuteTime": {
     "end_time": "2024-02-02T13:01:53.560741900Z",
     "start_time": "2024-02-02T13:01:53.364003100Z"
    }
   }
  },
  {
   "cell_type": "code",
   "execution_count": 303,
   "outputs": [
    {
     "data": {
      "text/plain": "[[1.800202630749392,\n  1.510339495289744,\n  1.3008763536072248,\n  1.1424362848986525,\n  1.0184003453953703,\n  0.9186601053824217,\n  0.8367138987990131,\n  0.7681899157077147,\n  0.7100400814509554,\n  0.6600742979414437,\n  0.6166784098414871,\n  0.5786365598837331,\n  0.5450154753644948,\n  0.5150868798965023,\n  0.4882741382032598,\n  0.46411474074007764,\n  0.44223340060593,\n  0.42232241811419385,\n  0.404127121188639,\n  0.3874349140091083,\n  0.37206693203379915,\n  0.35787160731765016,\n  0.3447196526966921,\n  0.3325001127690108,\n  0.32111722602556725,\n  0.31048791018151534,\n  0.3005397309345528,\n  0.2912092490918134,\n  0.2824406663140885,\n  0.2741847083756766,\n  0.2663976987207621,\n  0.2590407855293456,\n  0.25207929341469565,\n  0.24548217692037164,\n  0.2392215576432078,\n  0.23327233042433218,\n  0.2276118268763599,\n  0.2222195267383913,\n  0.21707680931082804,\n  0.21216673862403546,\n  0.20747387711779952,\n  0.20298412351274464,\n  0.1986845712867222,\n  0.19456338476439936,\n  0.19060969031464153,\n  0.18681348054946523,\n  0.18316552974736877,\n  0.17965731899615905,\n  0.17628096977664667,\n  0.17302918489727165,\n  0.1698951958476547,\n  0.16687271577171328,\n  0.1639558973727597,\n  0.16113929515749528,\n  0.15841783150594646,\n  0.1557867661225435,\n  0.15324166848167653,\n  0.15077839293078663,\n  0.14839305615669426,\n  0.14608201675753263,\n  0.14384185669426133,\n  0.14166936442304434,\n  0.13956151953342974,\n  0.13751547873780076,\n  0.1355285630754295,\n  0.13359824621003732,\n  0.13172214371337013,\n  0.12989800323920536,\n  0.12812369550265262,\n  0.1263972059887871,\n  0.12471662732273603,\n  0.12308015224046255,\n  0.12148606710578717,\n  0.11993274592475761,\n  0.11841864481341516,\n  0.11694229687938963,\n  0.11550230748165248,\n  0.11409734983622906,\n  0.11272616093876647,\n  0.11138753777761862,\n  0.11008033381358234,\n  0.10880345570463357,\n  0.10755586025599866,\n  0.10633655157767886,\n  0.10514457843315032,\n  0.10397903176440476,\n  0.10283904237979791,\n  0.10172377879234576,\n  0.10063244519717097,\n  0.09956427957775967,\n  0.09851855193155877,\n  0.09749456260623074,\n  0.0964916407385976,\n  0.09550914278895488,\n  0.09454645116402642,\n  0.09360297292236859,\n  0.09267813855652095,\n  0.09177140084664767,\n  0.0908822337808209,\n  0.09001013153746959],\n [(0.15093826903567298-4.5683872664487686e-05j),\n  (0.12663464944518324-3.832799486257865e-05j),\n  (0.10907217981409945-3.301243353127212e-05j),\n  (0.095787747657254-2.8991688421694105e-05j),\n  (0.08538793505446643-2.5844019393053036e-05j),\n  (0.07702519914707023-2.3312904091671553e-05j),\n  (0.07015440673489025-2.123334926659287e-05j),\n  (0.06440900273505011-1.949441118010466e-05j),\n  (0.05953342085470767-1.8018738620654506e-05j),\n  (0.05534403197974676-1.6750753310312154e-05j),\n  (0.051705497005299736-1.5649492712056334e-05j),\n  (0.048515872190037744-1.4684101927871043e-05j),\n  (0.04569690713924044-1.3830897228698106e-05j),\n  (0.043187539406160755-1.3071397091862082e-05j),\n  (0.040939420916525006-1.2390968202148717e-05j),\n  (0.038913772485759446-1.1777873421313233e-05j),\n  (0.03707912812538865-1.1222589066462237e-05j),\n  (0.03540968870742091-1.0717306620341899e-05j),\n  (0.03388410121208985-1.0255563251211523e-05j),\n  (0.03248454050985136-9.831963899531047e-06j),\n  (0.031196009675431364-9.441969506856535e-06j),\n  (0.030005800470947034-9.081733722458394e-06j),\n  (0.02890307279406504-8.747975616604027e-06j),\n  (0.02787852357188736-8.43787946601545e-06j),\n  (0.02692412366582275-8.149015123935642e-06j),\n  (0.02603290702880074-7.879274205199096e-06j),\n  (0.02519880039550021-7.626818539265229e-06j),\n  (0.0244164846969471-7.390038225137714e-06j),\n  (0.02368128151272841-7.167517264317404e-06j),\n  (0.02298905943774096-6.958005221206587e-06j),\n  (0.022336156404382104-6.760393712682036e-06j),\n  (0.02171931487577271-6.5736967932911066e-06j),\n  (0.021135627488729315-6.39703450323095e-06j),\n  (0.020582491232137224-6.229618999702867e-06j),\n  (0.0200575686369552-6.0707428104487e-06j),\n  (0.019558754757240344-5.919768840031781e-06j),\n  (0.019084148958533362-5.776121831142121e-06j),\n  (0.0186320307163736-5.639281039631274e-06j),\n  (0.01820083877531258-5.508773926655642e-06j),\n  (0.01778915313634717-5.3841707068860484e-06j),\n  (0.01739567943484473-5.265079620237813e-06j),\n  (0.017019235346846955-5.151142817521961e-06j),\n  (0.016658738723000697-5.04203276899028e-06j),\n  (0.016313197199270334-4.937449119851836e-06j),\n  (0.015981699074365377-4.83711592918105e-06j),\n  (0.01566340527728682-4.740779238767591e-06j),\n  (0.01535754227598317-4.6482049268081e-06j),\n  (0.015063395800939136-4.559176808250283e-06j),\n  (0.01478030527649023-4.4734949493415235e-06j),\n  (0.014507658868477305-4.390974168722603e-06j),\n  (0.014244889070096876-4.3114427014149484e-06j),\n  (0.01399146875892474-4.234741005415993e-06j),\n  (0.013746907667462395-4.1607206934538e-06j),\n  (0.013510749217478864-4.089243574850163e-06j),\n  (0.01328256767513922-4.020180794474916e-06j),\n  (0.013061965589625545-3.953412057503742e-06j),\n  (0.01284857148283029-3.888824930167052e-06j),\n  (0.012642037761871087-3.8263142079393245e-06j),\n  (0.012442038829751562-3.7657813437004837e-06j),\n  (0.012248269372566905-3.7071339293313777e-06j),\n  (0.012060442804303167-3.650285225007491e-06j),\n  (0.011878289852568858-3.595153731148077e-06j),\n  (0.011701557270580755-3.541662798578137e-06j),\n  (0.01153000666244724-3.489740272981698e-06j),\n  (0.011363413410290207-3.4393181701781606e-06j),\n  (0.011201565693052192-3.3903323791486363e-06j),\n  (0.011044263587976071-3.3427223900844647e-06j),\n  (0.010891318246743165-3.2964310450322742e-06j),\n  (0.01074255113913129-3.2514043089750402e-06j),\n  (0.010597793357823846-3.207591059421476e-06j),\n  (0.010456884978678534-3.1649428927811623e-06j),\n  (0.010319674471361617-3.1234139459836192e-06j),\n  (0.010186018155781611-3.082960731959292e-06j),\n  (0.010055779700223167-3.0435419877417774e-06j),\n  (0.009928829657496098-3.0051185340759347e-06j),\n  (0.009805045035781907-2.9676531455277436e-06j),\n  (0.009684308901187053-2.9311104301907198e-06j),\n  (0.009566510009303216-2.895456718171755e-06j),\n  (0.00945154246333436-2.860659958117825e-06j),\n  (0.009339305396582264-2.8266896211151756e-06j),\n  (0.009229702677289453-2.7935166113553314e-06j),\n  (0.00912264263402419-2.7611131830184863e-06j),\n  (0.009018037799958734-2.729452862875245e-06j),\n  (0.008915804674541542-2.698510378152912e-06j),\n  (0.008815863501198598-2.668261589253263e-06j),\n  (0.008718138059820083-2.638683426945321e-06j),\n  (0.008622555472897647-2.6097538336897174e-06j),\n  (0.00852904602427604-2.581451708780982e-06j),\n  (0.008437542989571781-2.553756857021051e-06j),\n  (0.008347982477391968-2.5266499406616094e-06j),\n  (0.008260303280559218-2.5001124343749485e-06j),\n  (0.008174446736614674-2.4741265830329764e-06j),\n  (0.008090356596931036-2.448675362092193e-06j),\n  (0.008007978903821877-2.4237424403988644e-06j),\n  (0.00792726187508309-2.3993121452436507e-06j),\n  (0.007848155795447282-2.375369429508551e-06j),\n  (0.007770612914473023-2.3518998407614565e-06j),\n  (0.007694587350428231-2.328889492164923e-06j),\n  (0.007620034999761154-2.306325035076125e-06j),\n  (0.007546913451783648-2.2841936332243843e-06j)]]"
     },
     "execution_count": 303,
     "metadata": {},
     "output_type": "execute_result"
    }
   ],
   "source": [
    "magnetic_susceptibilities"
   ],
   "metadata": {
    "collapsed": false,
    "ExecuteTime": {
     "end_time": "2024-02-02T13:01:53.571152800Z",
     "start_time": "2024-02-02T13:01:53.561739800Z"
    }
   }
  },
  {
   "cell_type": "code",
   "execution_count": 304,
   "outputs": [],
   "source": [
    "# Problem 3\n",
    "\n"
   ],
   "metadata": {
    "collapsed": false,
    "ExecuteTime": {
     "end_time": "2024-02-02T13:01:53.688430Z",
     "start_time": "2024-02-02T13:01:53.575142300Z"
    }
   }
  }
 ],
 "metadata": {
  "kernelspec": {
   "display_name": "Python 3",
   "language": "python",
   "name": "python3"
  },
  "language_info": {
   "codemirror_mode": {
    "name": "ipython",
    "version": 2
   },
   "file_extension": ".py",
   "mimetype": "text/x-python",
   "name": "python",
   "nbconvert_exporter": "python",
   "pygments_lexer": "ipython2",
   "version": "2.7.6"
  }
 },
 "nbformat": 4,
 "nbformat_minor": 5
}
