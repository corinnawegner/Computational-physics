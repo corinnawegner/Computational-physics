{
 "cells": [
  {
   "cell_type": "code",
   "execution_count": 114,
   "id": "initial_id",
   "metadata": {
    "collapsed": true,
    "ExecuteTime": {
     "end_time": "2024-01-31T15:48:23.455960100Z",
     "start_time": "2024-01-31T15:48:23.427390500Z"
    }
   },
   "outputs": [],
   "source": [
    "import numpy as np\n",
    "import time\n",
    "import matplotlib.pyplot as plt"
   ]
  },
  {
   "cell_type": "code",
   "execution_count": 115,
   "outputs": [
    {
     "name": "stdout",
     "output_type": "stream",
     "text": [
      "a_test: [0, 1, 2, 3, 4, 5, 6, 7]\n",
      "a_bin: [[0, 0, 0], [1, 0, 0], [0, 1, 0], [1, 1, 0], [0, 0, 1], [1, 0, 1], [0, 1, 1], [1, 1, 1]]\n"
     ]
    }
   ],
   "source": [
    "def generate_binary_list(N, fixed_length=None):\n",
    "    a_test = range(2**N)\n",
    "    binary_list = []\n",
    "    # Determine the fixed length if not provided\n",
    "    if fixed_length is None:\n",
    "        fixed_length = len(bin(max(a_test))) - 2\n",
    "    for num in a_test:\n",
    "        binary_representation = bin(num)[2:]  # Convert to binary and remove the '0b' prefix\n",
    "        binary_digits = [int(digit) for digit in binary_representation]\n",
    "        while len(binary_digits) < fixed_length:\n",
    "            binary_digits.insert(0, 0)\n",
    "        binary_digits.reverse()\n",
    "        binary_list.append(binary_digits)\n",
    "\n",
    "    return a_test, binary_list\n",
    "\n",
    "a_test, a_bin = generate_binary_list(3)\n",
    "\n",
    "print(\"a_test:\", list(a_test))\n",
    "print(\"a_bin:\", a_bin)"
   ],
   "metadata": {
    "collapsed": false,
    "ExecuteTime": {
     "end_time": "2024-01-31T15:48:23.524680100Z",
     "start_time": "2024-01-31T15:48:23.435439300Z"
    }
   },
   "id": "9f1c72b1ea42063d"
  },
  {
   "cell_type": "code",
   "execution_count": 124,
   "outputs": [
    {
     "name": "stdout",
     "output_type": "stream",
     "text": [
      "[[ 0.5  0.   0.   0. ]\n",
      " [ 0.  -0.5  0.5  0. ]\n",
      " [ 0.   0.5 -0.5  0. ]\n",
      " [ 0.   0.   0.   0.5]]\n"
     ]
    }
   ],
   "source": [
    "def flip(a, i, j):\n",
    "    f = 2**i + 2**j\n",
    "    return a^f\n",
    "\n",
    "def generate_Hamiltonian(N):\n",
    "    a, a_binary = generate_binary_list(N)\n",
    "    a = list(a)\n",
    "    H = np.zeros((2**N, 2**N))\n",
    "    for a_bin, a_int in zip(a_binary, a):\n",
    "        for i in range(N):\n",
    "            j = (i+1)%N\n",
    "            if a_bin[i] == a_bin[j]:\n",
    "                H[a_int,a_int] += 1/4\n",
    "            else:\n",
    "                H[a_int,a_int] -= 1/4\n",
    "                b = flip(a_int, i, j)\n",
    "                H[a_int, b] = 1/2\n",
    "    return H\n",
    "\n",
    "H_2 = generate_Hamiltonian(2)\n",
    "print(H_2)"
   ],
   "metadata": {
    "collapsed": false,
    "ExecuteTime": {
     "end_time": "2024-01-31T15:53:37.598927600Z",
     "start_time": "2024-01-31T15:53:37.591295600Z"
    }
   },
   "id": "6dc90bdbc5f45725"
  },
  {
   "cell_type": "code",
   "execution_count": 117,
   "outputs": [
    {
     "data": {
      "text/plain": "array([-0.75,  0.75, -0.75,  0.75, -0.75, -0.75,  0.75,  0.75])"
     },
     "execution_count": 117,
     "metadata": {},
     "output_type": "execute_result"
    }
   ],
   "source": [
    "eigs_2 = np.linalg.eig(H_2)\n",
    "eigs_2.eigenvalues"
   ],
   "metadata": {
    "collapsed": false,
    "ExecuteTime": {
     "end_time": "2024-01-31T15:48:23.550614Z",
     "start_time": "2024-01-31T15:48:23.485447900Z"
    }
   }
  },
  {
   "cell_type": "code",
   "execution_count": 118,
   "outputs": [
    {
     "data": {
      "text/plain": "array([[ 0.        ,  0.        ,  0.        ,  0.        ,  0.        ,\n         0.        ,  1.        ,  0.        ],\n       [ 0.        ,  0.        ,  0.69128584,  0.56195149,  0.12677556,\n         0.26953578,  0.        ,  0.        ],\n       [ 0.        ,  0.        , -0.34564292,  0.56195149,  0.4209427 ,\n         0.16691735,  0.        ,  0.        ],\n       [ 0.40824829,  0.57735027, -0.21725018,  0.13245324,  0.52209556,\n        -0.66174511,  0.        ,  0.        ],\n       [ 0.        ,  0.        , -0.34564292,  0.56195149, -0.54771826,\n        -0.43645313,  0.        ,  0.        ],\n       [ 0.40824829,  0.57735027, -0.21725018,  0.13245324, -0.48225385,\n         0.49233127,  0.        ,  0.        ],\n       [-0.81649658,  0.57735027,  0.43450036,  0.13245324, -0.03984172,\n         0.16941385,  0.        ,  0.        ],\n       [ 0.        ,  0.        ,  0.        ,  0.        ,  0.        ,\n         0.        ,  0.        ,  1.        ]])"
     },
     "execution_count": 118,
     "metadata": {},
     "output_type": "execute_result"
    }
   ],
   "source": [
    "eigs_2.eigenvectors"
   ],
   "metadata": {
    "collapsed": false,
    "ExecuteTime": {
     "end_time": "2024-01-31T15:48:23.550614Z",
     "start_time": "2024-01-31T15:48:23.537140500Z"
    }
   }
  },
  {
   "cell_type": "code",
   "execution_count": 119,
   "outputs": [
    {
     "data": {
      "text/plain": "[-0.9999999999999999, -0.75, -1.9999999999999987, -1.8680339887499]"
     },
     "execution_count": 119,
     "metadata": {},
     "output_type": "execute_result"
    }
   ],
   "source": [
    "eigenvalues = []\n",
    "eigenvectors = []\n",
    "list_N = np.arange(2,6)\n",
    "\n",
    "for n in list_N:\n",
    "    H_n = generate_Hamiltonian(n)\n",
    "    eigs = np.linalg.eig(H_n)\n",
    "    eigvals = eigs.eigenvalues\n",
    "    eigvecs = eigs.eigenvectors\n",
    "    eigenvalues.append(eigvals)\n",
    "    eigenvectors.append(eigvecs)\n",
    "\n",
    "[np.min(e) for e in eigenvalues]"
   ],
   "metadata": {
    "collapsed": false,
    "ExecuteTime": {
     "end_time": "2024-01-31T15:48:23.631700400Z",
     "start_time": "2024-01-31T15:48:23.544631300Z"
    }
   },
   "id": "4157076f51d528db"
  },
  {
   "cell_type": "code",
   "execution_count": 120,
   "outputs": [
    {
     "data": {
      "text/plain": "[<matplotlib.lines.Line2D at 0x197bfed7890>]"
     },
     "execution_count": 120,
     "metadata": {},
     "output_type": "execute_result"
    },
    {
     "data": {
      "text/plain": "<Figure size 640x480 with 1 Axes>",
      "image/png": "[encoded data removed]"
     },
     "metadata": {},
     "output_type": "display_data"
    }
   ],
   "source": [
    "computing_times = []\n",
    "list_N = np.arange(2,12)\n",
    "\n",
    "for n in list_N:\n",
    "    start = time.time()\n",
    "    H_n = generate_Hamiltonian(n)\n",
    "    eigs = np.linalg.eig(H_n)\n",
    "    stop = time.time()\n",
    "    diff_time = stop - start\n",
    "    computing_times.append(diff_time)\n",
    "\n",
    "plt.plot(list_N, computing_times)"
   ],
   "metadata": {
    "collapsed": false,
    "ExecuteTime": {
     "end_time": "2024-01-31T15:48:32.517273600Z",
     "start_time": "2024-01-31T15:48:23.578842200Z"
    }
   },
   "id": "49173904ba74d7c9"
  },
  {
   "cell_type": "code",
   "execution_count": 121,
   "outputs": [
    {
     "data": {
      "text/plain": "[0.0,\n 0.0,\n 0.0009984970092773438,\n 0.0019989013671875,\n 0.003985166549682617,\n 0.021938800811767578,\n 0.057468414306640625,\n 0.275435209274292,\n 1.1688838005065918,\n 7.157394886016846]"
     },
     "execution_count": 121,
     "metadata": {},
     "output_type": "execute_result"
    }
   ],
   "source": [
    "computing_times"
   ],
   "metadata": {
    "collapsed": false,
    "ExecuteTime": {
     "end_time": "2024-01-31T15:48:32.530575600Z",
     "start_time": "2024-01-31T15:48:32.520266Z"
    }
   },
   "id": "a41039bcd5bfccbd"
  },
  {
   "cell_type": "markdown",
   "source": [
    "Part c)"
   ],
   "metadata": {
    "collapsed": false
   },
   "id": "326ea267bccc0fce"
  },
  {
   "cell_type": "code",
   "execution_count": 122,
   "outputs": [],
   "source": [
    "testsequence = [1, 0, 0, 0, 1, 0, 1]\n",
    "k_B = 1.38 *10**(-23)\n",
    "\n",
    "def energy(seq_bin, J=1):\n",
    "    e = np.sum([seq_bin[i]*seq_bin[i+1] for i in range(len(seq_bin)-1)]) \n",
    "    e += seq_bin[0]*seq_bin[-1]\n",
    "    return -J*e\n",
    "\n",
    "#according to the definition from assignment 2\n",
    "def specific_heat(arr_bin, T, J=1):\n",
    "    energies = []\n",
    "    for s in arr_bin:\n",
    "        e_s = energy(s, J)\n",
    "        energies.append(e_s)\n",
    "    mean_energy = np.mean(energies)\n",
    "    mean_square_energy = np.mean([e_i**2 for e_i in energies])\n",
    "    k_b = 1.38 *10**(-23)\n",
    "    return (mean_square_energy - mean_energy**2)/k_b*T**2\n",
    "\n",
    "def magnetic_susceptibility(arr_bin, T):\n",
    "    list_spins = []\n",
    "    for seq in arr_bin:\n",
    "        l_s = []\n",
    "        for s_i in seq:\n",
    "            if s_i == 0:\n",
    "                l_s.append(-1)\n",
    "            if s_i == 1:\n",
    "                l_s.append(1)\n",
    "        list_spins.append(l_s)\n",
    "    k_b = 1.38 *10**(-23)\n",
    "    n = arr_bin.shape[1] #Todo: is true?\n",
    "    list_m = np.sum(list_spins, axis=0)\n",
    "    m_mean = np.mean(list_m)\n",
    "    m_2_mean = np.mean([m**2 for m in list_m])\n",
    "    return (n/k_b*T)*(m_2_mean-m_mean**2)\n",
    "\n",
    "def C_v(N, T, J=1):\n",
    "    frac = J/(k_B*T)\n",
    "    enum = frac**2\n",
    "    denom = np.cosh(frac)**2\n",
    "    return N*k_B*enum/denom\n"
   ],
   "metadata": {
    "collapsed": false,
    "ExecuteTime": {
     "end_time": "2024-01-31T15:48:32.546801700Z",
     "start_time": "2024-01-31T15:48:32.529578Z"
    }
   },
   "id": "234bd066a64ce15f"
  },
  {
   "cell_type": "code",
   "execution_count": 123,
   "outputs": [
    {
     "ename": "TypeError",
     "evalue": "specific_heat() missing 2 required positional arguments: 'arr_bin' and 'T'",
     "output_type": "error",
     "traceback": [
      "\u001B[1;31m---------------------------------------------------------------------------\u001B[0m",
      "\u001B[1;31mTypeError\u001B[0m                                 Traceback (most recent call last)",
      "Cell \u001B[1;32mIn[123], line 1\u001B[0m\n\u001B[1;32m----> 1\u001B[0m sp \u001B[38;5;241m=\u001B[39m \u001B[43mspecific_heat\u001B[49m\u001B[43m(\u001B[49m\u001B[43m)\u001B[49m\n",
      "\u001B[1;31mTypeError\u001B[0m: specific_heat() missing 2 required positional arguments: 'arr_bin' and 'T'"
     ]
    }
   ],
   "source": [
    "sp = specific_heat()"
   ],
   "metadata": {
    "collapsed": false,
    "ExecuteTime": {
     "end_time": "2024-01-31T15:48:32.661999100Z",
     "start_time": "2024-01-31T15:48:32.551816400Z"
    }
   }
  },
  {
   "cell_type": "code",
   "execution_count": null,
   "outputs": [],
   "source": [
    "list_T = np.linspace(0.1,10,100)\n",
    "\n",
    "plt.plot(list_T, C_v(100, list_T))"
   ],
   "metadata": {
    "collapsed": false,
    "ExecuteTime": {
     "start_time": "2024-01-31T15:48:32.576403600Z"
    }
   }
  },
  {
   "cell_type": "code",
   "execution_count": null,
   "outputs": [],
   "source": [
    "# Problem 3\n",
    "\n"
   ],
   "metadata": {
    "collapsed": false,
    "ExecuteTime": {
     "start_time": "2024-01-31T15:48:32.580220500Z"
    }
   }
  }
 ],
 "metadata": {
  "kernelspec": {
   "display_name": "Python 3",
   "language": "python",
   "name": "python3"
  },
  "language_info": {
   "codemirror_mode": {
    "name": "ipython",
    "version": 2
   },
   "file_extension": ".py",
   "mimetype": "text/x-python",
   "name": "python",
   "nbconvert_exporter": "python",
   "pygments_lexer": "ipython2",
   "version": "2.7.6"
  }
 },
 "nbformat": 4,
 "nbformat_minor": 5
}
