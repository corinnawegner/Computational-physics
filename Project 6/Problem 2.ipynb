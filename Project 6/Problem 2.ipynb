{
 "cells": [
  {
   "cell_type": "code",
   "execution_count": 4,
   "id": "initial_id",
   "metadata": {
    "collapsed": true,
    "ExecuteTime": {
     "end_time": "2024-02-06T23:20:40.351117900Z",
     "start_time": "2024-02-06T23:20:40.040427300Z"
    }
   },
   "outputs": [],
   "source": [
    "import numpy as np\n",
    "import time\n",
    "import matplotlib.pyplot as plt\n",
    "import math"
   ]
  },
  {
   "cell_type": "code",
   "execution_count": 5,
   "outputs": [],
   "source": [
    "#https://arxiv.org/pdf/1101.3281.pdf"
   ],
   "metadata": {
    "collapsed": false,
    "ExecuteTime": {
     "end_time": "2024-02-06T23:20:40.359504200Z",
     "start_time": "2024-02-06T23:20:40.352117600Z"
    }
   },
   "id": "747e05cbdf069be5"
  },
  {
   "cell_type": "code",
   "execution_count": 6,
   "outputs": [
    {
     "name": "stdout",
     "output_type": "stream",
     "text": [
      "a_test: [0, 1, 2, 3, 4, 5, 6, 7]\n",
      "a_bin: [[0, 0, 0], [1, 0, 0], [0, 1, 0], [1, 1, 0], [0, 0, 1], [1, 0, 1], [0, 1, 1], [1, 1, 1]]\n"
     ]
    }
   ],
   "source": [
    "def generate_binary_list(N, fixed_length=None):\n",
    "    a_test = range(2**N)\n",
    "    binary_list = []\n",
    "    # Determine the fixed length if not provided\n",
    "    if fixed_length is None:\n",
    "        fixed_length = len(bin(max(a_test))) - 2\n",
    "    for num in a_test:\n",
    "        binary_representation = bin(num)[2:]  # Convert to binary and remove the '0b' prefix\n",
    "        binary_digits = [int(digit) for digit in binary_representation]\n",
    "        while len(binary_digits) < fixed_length:\n",
    "            binary_digits.insert(0, 0)\n",
    "        binary_digits.reverse()\n",
    "        binary_list.append(binary_digits)\n",
    "\n",
    "    return a_test, binary_list\n",
    "\n",
    "a_test, a_bin = generate_binary_list(3)\n",
    "\n",
    "print(\"a_test:\", list(a_test))\n",
    "print(\"a_bin:\", a_bin)"
   ],
   "metadata": {
    "collapsed": false,
    "ExecuteTime": {
     "end_time": "2024-02-06T23:20:40.360505700Z",
     "start_time": "2024-02-06T23:20:40.354749100Z"
    }
   },
   "id": "9f1c72b1ea42063d"
  },
  {
   "cell_type": "code",
   "execution_count": 7,
   "outputs": [
    {
     "name": "stdout",
     "output_type": "stream",
     "text": [
      "[[ 0.5  0.   0.   0. ]\n",
      " [ 0.  -0.5  0.5  0. ]\n",
      " [ 0.   0.5 -0.5  0. ]\n",
      " [ 0.   0.   0.   0.5]]\n"
     ]
    }
   ],
   "source": [
    "def flip(a, i, j):\n",
    "    f = 2**i + 2**j\n",
    "    return a^f\n",
    "\n",
    "def generate_Hamiltonian(N):\n",
    "    a, a_binary = generate_binary_list(N)\n",
    "    a = list(a)\n",
    "    H = np.zeros((2**N, 2**N))\n",
    "    for a_bin, a_int in zip(a_binary, a):\n",
    "        for i in range(N):\n",
    "            j = (i+1)%N\n",
    "            if a_bin[i] == a_bin[j]:\n",
    "                H[a_int,a_int] += 1/4\n",
    "            else:\n",
    "                H[a_int,a_int] -= 1/4\n",
    "                b = flip(a_int, i, j)\n",
    "                H[a_int, b] = 1/2\n",
    "    return H\n",
    "\n",
    "H_2 = generate_Hamiltonian(2)\n",
    "#Todo: Why for N=7 imaginary?Numerical error\n",
    "\n",
    "print(H_2)"
   ],
   "metadata": {
    "collapsed": false,
    "ExecuteTime": {
     "end_time": "2024-02-06T23:20:40.369208500Z",
     "start_time": "2024-02-06T23:20:40.360505700Z"
    }
   },
   "id": "6dc90bdbc5f45725"
  },
  {
   "cell_type": "code",
   "execution_count": 8,
   "outputs": [
    {
     "data": {
      "text/plain": "array([ 1.11022302e-16, -1.00000000e+00,  5.00000000e-01,  5.00000000e-01])"
     },
     "execution_count": 8,
     "metadata": {},
     "output_type": "execute_result"
    }
   ],
   "source": [
    "eigs_2 = np.linalg.eig(H_2)\n",
    "eigs_2.eigenvalues"
   ],
   "metadata": {
    "collapsed": false,
    "ExecuteTime": {
     "end_time": "2024-02-06T23:20:40.371215400Z",
     "start_time": "2024-02-06T23:20:40.364686400Z"
    }
   },
   "id": "a92caa475256cb39"
  },
  {
   "cell_type": "code",
   "execution_count": 9,
   "outputs": [
    {
     "data": {
      "text/plain": "array([[ 0.        ,  0.70710678,  0.70710678,  0.        ],\n       [ 0.        ,  0.70710678, -0.70710678,  0.        ],\n       [ 1.        ,  0.        ,  0.        ,  0.        ],\n       [ 0.        ,  0.        ,  0.        ,  1.        ]])"
     },
     "execution_count": 9,
     "metadata": {},
     "output_type": "execute_result"
    }
   ],
   "source": [
    "np.transpose(eigs_2.eigenvectors) #Todo: Need to transpose?"
   ],
   "metadata": {
    "collapsed": false,
    "ExecuteTime": {
     "end_time": "2024-02-06T23:20:40.381169800Z",
     "start_time": "2024-02-06T23:20:40.371215400Z"
    }
   },
   "id": "ad1ee0394b3bc3bd"
  },
  {
   "cell_type": "code",
   "execution_count": 10,
   "outputs": [
    {
     "data": {
      "text/plain": "[-0.9999999999999999,\n -0.75,\n -1.9999999999999987,\n -1.8680339887499,\n (-2.8027756377319992+0j)]"
     },
     "execution_count": 10,
     "metadata": {},
     "output_type": "execute_result"
    }
   ],
   "source": [
    "eigenvalues = []\n",
    "eigenvectors = []\n",
    "list_N = np.arange(2,7)\n",
    "\n",
    "for n in list_N:\n",
    "    H_n = generate_Hamiltonian(n)\n",
    "    eigs = np.linalg.eig(H_n)\n",
    "    eigvals = eigs.eigenvalues\n",
    "    eigvecs = np.transpose(eigs.eigenvectors)\n",
    "    eigenvalues.append(eigvals)\n",
    "    eigenvectors.append(eigvecs)\n",
    "\n",
    "[np.min(e) for e in eigenvalues]"
   ],
   "metadata": {
    "collapsed": false,
    "ExecuteTime": {
     "end_time": "2024-02-06T23:20:40.406266300Z",
     "start_time": "2024-02-06T23:20:40.374780400Z"
    }
   },
   "id": "4157076f51d528db"
  },
  {
   "cell_type": "code",
   "execution_count": 11,
   "outputs": [
    {
     "name": "stdout",
     "output_type": "stream",
     "text": [
      "n = 2:\n",
      "[ 0.          0.70710678 -0.70710678  0.        ]\n",
      "n = 3:\n",
      "[ 0.          0.          0.          0.40824829  0.          0.40824829\n",
      " -0.81649658  0.        ]\n",
      "n = 4:\n",
      "[ 0.00000000e+00  2.77354685e-17  2.57913478e-17  2.88675135e-01\n",
      " -8.55761944e-17 -5.77350269e-01  2.88675135e-01  5.93181067e-17\n",
      "  4.45654388e-17  2.88675135e-01 -5.77350269e-01  4.86828725e-33\n",
      "  2.88675135e-01 -5.93181067e-17  4.86828725e-33  0.00000000e+00]\n",
      "n = 5:\n",
      "[ 0.00000000e+00  1.00607891e-16 -9.37588118e-17 -2.25301316e-01\n",
      "  8.22872906e-17  4.57243147e-01 -5.72904897e-02  2.87191878e-12\n",
      "  3.68069548e-17 -1.49988449e-01 -2.14556738e-01 -6.48222379e-12\n",
      "  1.89893846e-01  2.96975423e-12  6.40566639e-13 -2.77218716e-17\n",
      "  3.05548646e-17 -8.19533814e-02  4.97148544e-01  1.13468151e-12\n",
      " -5.89846503e-01  1.67624977e-12 -5.68277868e-12 -3.47167794e-18\n",
      "  1.74651341e-01 -2.17032895e-12  7.51783158e-12 -2.82752094e-18\n",
      " -2.47571470e-12  2.18275281e-17  4.43718334e-33  0.00000000e+00]\n",
      "n = 6:\n",
      "[ 0.00000000e+00+0.j  1.11022302e-16+0.j -5.55111512e-17+0.j\n",
      " -3.93952627e-16+0.j  1.66533454e-16+0.j  9.83517636e-16+0.j\n",
      " -3.84885425e-16+0.j -6.29206215e-02+0.j -2.77555756e-16+0.j\n",
      " -1.00957288e-15+0.j  1.39602092e-15+0.j  2.07812696e-01+0.j\n",
      " -6.05019817e-16+0.j -2.07812696e-01+0.j  6.29206215e-02+0.j\n",
      "  1.03078780e-18+0.j  2.77555756e-16+0.j  7.80247989e-16+0.j\n",
      " -1.44622104e-15+0.j -2.07812696e-01+0.j  1.16570301e-15+0.j\n",
      "  4.78546013e-01+0.j -2.07812696e-01+0.j  5.22434956e-19+0.j\n",
      " -3.63334533e-16+0.j -2.07812696e-01+0.j  2.07812696e-01+0.j\n",
      " -1.85778010e-19+0.j -6.29206215e-02+0.j  1.08854642e-19+0.j\n",
      " -9.56682617e-20+0.j  9.07993804e-17+0.j -5.55111512e-17+0.j\n",
      " -4.48693763e-16+0.j  1.15640996e-15+0.j  6.29206215e-02+0.j\n",
      " -1.09034296e-15+0.j -2.07812696e-01+0.j  2.07812696e-01+0.j\n",
      " -9.55662563e-20+0.j  9.57115691e-16+0.j  2.07812696e-01+0.j\n",
      " -4.78546013e-01+0.j  1.08832850e-19+0.j  2.07812696e-01+0.j\n",
      " -1.85926666e-19+0.j  5.23086966e-19+0.j -5.41640090e-17+0.j\n",
      " -2.60647668e-16+0.j -6.29206215e-02+0.j  2.07812696e-01+0.j\n",
      " -3.39643395e-20+0.j -2.07812696e-01+0.j  1.15520336e-19+0.j\n",
      " -2.77172022e-19+0.j  4.06918732e-18+0.j  6.29206215e-02+0.j\n",
      " -3.49718030e-20+0.j  1.15487702e-19+0.j  4.41504790e-17+0.j\n",
      " -3.39626981e-20+0.j -1.40599112e-16+0.j -2.75860297e-33+0.j\n",
      "  0.00000000e+00+0.j]\n"
     ]
    }
   ],
   "source": [
    "for n in list_N:\n",
    "    print(f\"n = {n}:\")\n",
    "    print(eigenvectors[n-2][np.argmin(eigenvalues[n-2])])"
   ],
   "metadata": {
    "collapsed": false,
    "ExecuteTime": {
     "end_time": "2024-02-06T23:20:40.408266200Z",
     "start_time": "2024-02-06T23:20:40.381169800Z"
    }
   },
   "id": "1bafe5fd1409f970"
  },
  {
   "cell_type": "code",
   "execution_count": 12,
   "outputs": [
    {
     "data": {
      "text/plain": "array([ 0.        ,  0.70710678, -0.70710678,  0.        ])"
     },
     "execution_count": 12,
     "metadata": {},
     "output_type": "execute_result"
    }
   ],
   "source": [
    "eigenvectors[0][1]"
   ],
   "metadata": {
    "collapsed": false,
    "ExecuteTime": {
     "end_time": "2024-02-06T23:20:40.408266200Z",
     "start_time": "2024-02-06T23:20:40.384779400Z"
    }
   },
   "id": "94f948d045052c1c"
  },
  {
   "cell_type": "markdown",
   "source": [
    "# Part b"
   ],
   "metadata": {
    "collapsed": false
   },
   "id": "f3279029aaaceeec"
  },
  {
   "cell_type": "code",
   "execution_count": 13,
   "outputs": [
    {
     "data": {
      "text/plain": "[<matplotlib.lines.Line2D at 0x20fdfac8e90>]"
     },
     "execution_count": 13,
     "metadata": {},
     "output_type": "execute_result"
    },
    {
     "data": {
      "text/plain": "<Figure size 640x480 with 1 Axes>",
      "image/png": "[encoded data removed]"
     },
     "metadata": {},
     "output_type": "display_data"
    }
   ],
   "source": [
    "computing_times_b = []\n",
    "list_N = np.arange(2,12)\n",
    "\n",
    "for n in list_N:\n",
    "    start = time.time()\n",
    "    H_n = generate_Hamiltonian(n)\n",
    "    eigs = np.linalg.eig(H_n)\n",
    "    stop = time.time()\n",
    "    diff_time = stop - start\n",
    "    computing_times_b.append(diff_time)\n",
    "\n",
    "plt.plot(list_N, computing_times_b)"
   ],
   "metadata": {
    "collapsed": false,
    "ExecuteTime": {
     "end_time": "2024-02-06T23:20:45.322789200Z",
     "start_time": "2024-02-06T23:20:40.388027800Z"
    }
   },
   "id": "49173904ba74d7c9"
  },
  {
   "cell_type": "code",
   "execution_count": 14,
   "outputs": [
    {
     "data": {
      "text/plain": "[0.0,\n 0.0,\n 0.0,\n 0.0,\n 0.0010004043579101562,\n 0.02775716781616211,\n 0.06840109825134277,\n 0.3855574131011963,\n 1.2155251502990723,\n 3.1429758071899414]"
     },
     "execution_count": 14,
     "metadata": {},
     "output_type": "execute_result"
    }
   ],
   "source": [
    "computing_times_b"
   ],
   "metadata": {
    "collapsed": false,
    "ExecuteTime": {
     "end_time": "2024-02-06T23:20:45.322789200Z",
     "start_time": "2024-02-06T23:20:45.315986300Z"
    }
   },
   "id": "a41039bcd5bfccbd"
  },
  {
   "cell_type": "markdown",
   "source": [
    "Part c)"
   ],
   "metadata": {
    "collapsed": false
   },
   "id": "326ea267bccc0fce"
  },
  {
   "cell_type": "code",
   "execution_count": 15,
   "outputs": [],
   "source": [
    "k_B = 1#.38 *10**(-23)\n",
    "\n",
    "def magnetisation_for_state(state, N):\n",
    "    list_a_int, list_a_bin = generate_binary_list(N)\n",
    "    list_m = [] #Magnetisation per particle for all basis states\n",
    "    for spin_sequence in list_a_bin: #Iterate over all basis states (their binary representation) to determine their magnetisation\n",
    "        m = 0\n",
    "        for s in spin_sequence:\n",
    "            if s == 1:\n",
    "                m += 1/2\n",
    "            elif s == -1:\n",
    "                m -= 1/2\n",
    "            elif s == 0:\n",
    "                m -= 1/2\n",
    "            else:\n",
    "                print(\"Spin sequence is neither binary nor sequence of 1 and -1\")\n",
    "        list_m.append(m)\n",
    "    mz = 0\n",
    "    for index, val in enumerate(state):\n",
    "        mz += list_m[index] * val**2 #Todo: quadrat oder nicht?\n",
    "    return mz\n",
    "\n",
    "def specific_heat(energies, N, T):\n",
    "    prefs = [np.exp(-e/T) for e in energies]\n",
    "    mean_energy = np.average(energies, weights=prefs)\n",
    "    mean_square_energy = np.average([e_i**2 for e_i in energies], weights=prefs)\n",
    "    return (mean_square_energy - mean_energy**2)/(N*k_B*T**2)\n",
    "\n",
    "def magnetic_susceptibility(arr_states, energies, N, T):\n",
    "    prefs = [np.exp(-e/T) for e in energies]\n",
    "    m_states = []\n",
    "    for state in arr_states:\n",
    "        m_s = magnetisation_for_state(state, N)\n",
    "        m_states.append(m_s)\n",
    "    m_mean = np.average(m_states, weights=prefs)\n",
    "    m_2_mean = np.average([m**2 for m in m_states], weights=prefs)\n",
    "    return (1/(N*T))*(m_2_mean-m_mean**2)\n",
    "\n",
    "def C_v(N, T, J=1):\n",
    "    frac = J/(k_B*T)\n",
    "    enum = frac**2\n",
    "    denom = np.cosh(frac)**2\n",
    "    return N*k_B*enum/denom"
   ],
   "metadata": {
    "collapsed": false,
    "ExecuteTime": {
     "end_time": "2024-02-06T23:20:45.324796300Z",
     "start_time": "2024-02-06T23:20:45.318156600Z"
    }
   },
   "id": "234bd066a64ce15f"
  },
  {
   "cell_type": "code",
   "execution_count": 16,
   "outputs": [
    {
     "name": "stdout",
     "output_type": "stream",
     "text": [
      "0.0\n",
      "0.0\n"
     ]
    }
   ],
   "source": [
    "state_test = [0,1/np.sqrt(2),-1/np.sqrt(2),0]\n",
    "n_test = 2\n",
    "\n",
    "print(magnetisation_for_state(state_test,n_test))\n",
    "print(magnetic_susceptibility([state_test], [-1], n_test, 1))"
   ],
   "metadata": {
    "collapsed": false,
    "ExecuteTime": {
     "end_time": "2024-02-06T23:20:45.336464600Z",
     "start_time": "2024-02-06T23:20:45.324796300Z"
    }
   },
   "id": "a7c5b9fa79c0c795"
  },
  {
   "cell_type": "code",
   "execution_count": null,
   "outputs": [],
   "source": [
    "list_N_c = [2,4,6,8,10]#,12] #Todo: Add another\n",
    "specific_heats = []\n",
    "magnetic_susceptibilities = []\n",
    "list_T = np.linspace(0.1,2,100)\n",
    "\n",
    "for n in list_N_c:\n",
    "    list_sp = []\n",
    "    list_ms = []\n",
    "    for temp in list_T:\n",
    "        H_n = generate_Hamiltonian(n)\n",
    "        eigs = np.linalg.eig(H_n)\n",
    "        eigvecs = eigs.eigenvectors\n",
    "        sp = specific_heat(eigs.eigenvalues, n, temp)\n",
    "        list_sp.append(sp)\n",
    "        ms = magnetic_susceptibility(eigvecs, np.real(eigs.eigenvalues), n, temp)\n",
    "        list_ms.append(ms)\n",
    "    magnetic_susceptibilities.append(list_ms)\n",
    "    specific_heats.append(list_sp)"
   ],
   "metadata": {
    "collapsed": false,
    "is_executing": true,
    "ExecuteTime": {
     "start_time": "2024-02-06T23:20:45.329933700Z"
    }
   },
   "id": "d3c03bbbf3809055"
  },
  {
   "cell_type": "code",
   "execution_count": null,
   "outputs": [],
   "source": [
    "plt.plot(list_T, specific_heats[0], label=\"N = 2\")\n",
    "plt.plot(list_T, specific_heats[1], label=\"N = 4\")\n",
    "plt.plot(list_T, specific_heats[2], label=\"N = 6\") #Todo: Calculate and plot this as well\n",
    "plt.plot(list_T, specific_heats[3], label=\"N = 8\") #Todo: Calculate and plot this as well\n",
    "plt.plot(list_T, specific_heats[4], label=\"N = 10\") #Todo: Calculate and plot this as well\n",
    "plt.plot(list_T, [3/(13*t**2) for t in list_T], \"k--\")\n",
    "plt.title(\"2c): specific heat\")\n",
    "plt.xlabel(\"T\")\n",
    "plt.ylim(0,0.5)\n",
    "plt.legend()"
   ],
   "metadata": {
    "collapsed": false,
    "is_executing": true
   },
   "id": "21c8ac7adad8a469"
  },
  {
   "cell_type": "code",
   "execution_count": null,
   "outputs": [],
   "source": [
    "magnetisation_for_state([0,0,0,1,1,1,0,0],3)"
   ],
   "metadata": {
    "collapsed": false,
    "is_executing": true
   },
   "id": "ce7d663c9d7d2e20"
  },
  {
   "cell_type": "code",
   "execution_count": null,
   "outputs": [],
   "source": [
    "plt.plot(list_T, magnetic_susceptibilities[0], label=\"N = 2\")\n",
    "plt.plot(list_T, magnetic_susceptibilities[1], label=\"N = 4\")\n",
    "plt.plot(list_T, magnetic_susceptibilities[2], label=\"N = 6\")\n",
    "plt.plot(list_T, magnetic_susceptibilities[3], label=\"N = 8\")\n",
    "plt.plot(list_T, magnetic_susceptibilities[4], label=\"N = 10\")\n",
    "plt.plot(list_T, [1/(4*t) for t in list_T], \"k--\", label=\"\")\n",
    "#plt.plot(list_T, specific_heats[2], label=\"N = 12\") #Todo: Calculate and plot this as well\n",
    "#plt.plot(list_T, [3/(13*t**2) for t in list_T])\n",
    "plt.title(\"2c): Magnetic susceptibility\")\n",
    "plt.xlabel(\"T\")\n",
    "plt.ylim(0,0.25)\n",
    "plt.legend()"
   ],
   "metadata": {
    "collapsed": false,
    "is_executing": true
   },
   "id": "f9640c85c4906844"
  },
  {
   "cell_type": "code",
   "execution_count": null,
   "outputs": [],
   "source": [
    "plt.plot(list_T, np.array(magnetic_susceptibilities[0])/np.array([1/(4*t) for t in list_T]), label=\"N = 2\")\n",
    "plt.plot(list_T, np.array(magnetic_susceptibilities[1])/np.array([1/(4*t) for t in list_T]), label=\"N = 4\")\n",
    "plt.plot(list_T, np.array(magnetic_susceptibilities[2])/np.array([1/(4*t) for t in list_T]), label=\"N = 6\")\n",
    "plt.plot(list_T, np.array(magnetic_susceptibilities[3])/np.array([1/(4*t) for t in list_T]), label=\"N = 8\")\n",
    "plt.plot(list_T, np.array(magnetic_susceptibilities[4])/np.array([1/(4*t) for t in list_T]), label=\"N = 10\")\n",
    "plt.plot(list_T, np.ones(list_T.shape[0]))  \n",
    "#plt.plot(list_T, specific_heats[2], label=\"N = 12\") #Todo: Calculate and plot this as well\n",
    "#plt.plot(list_T, [3/(13*t**2) for t in list_T])\n",
    "plt.title(\"2c): Magnetic susceptibility\")\n",
    "plt.xlabel(\"T\")\n",
    "plt.ylim(0.9,1.1)\n",
    "plt.legend()"
   ],
   "metadata": {
    "collapsed": false,
    "is_executing": true
   },
   "id": "59eb9646eb121bdb"
  },
  {
   "cell_type": "code",
   "execution_count": null,
   "outputs": [],
   "source": [
    "def correlation_spins(spin_sequence, i=0, j=2):\n",
    "    return spin_sequence[i]*spin_sequence[j]"
   ],
   "metadata": {
    "collapsed": false,
    "is_executing": true
   },
   "id": "7c49716c8326de0d"
  },
  {
   "cell_type": "markdown",
   "source": [
    "# Problem 3"
   ],
   "metadata": {
    "collapsed": false
   },
   "id": "58bb7c6e544870e2"
  },
  {
   "cell_type": "code",
   "execution_count": null,
   "outputs": [],
   "source": [
    "N=3\n",
    "\n",
    "H = generate_Hamiltonian(N)\n",
    "print(H)\n",
    "\n",
    "#M = math.factorial(N)/(math.factorial(n_up)*math.factorial(N-n_up))\n",
    "\n",
    "def get_basis_set(m_z, N):\n",
    "    n_up = m_z + N/2 \n",
    "    basis_set = []\n",
    "    a = 0\n",
    "    for s, s_bin in zip(*generate_binary_list(N)):\n",
    "        if np.sum(s_bin) == n_up:\n",
    "            a += 1\n",
    "            s_a = s\n",
    "            basis_set.append(s_a)\n",
    "    M = a\n",
    "    return basis_set, M\n",
    "    \n",
    "s_a, a = get_basis_set(1/2, 3)"
   ],
   "metadata": {
    "collapsed": false,
    "is_executing": true
   },
   "id": "5671a816c3950269"
  },
  {
   "cell_type": "code",
   "execution_count": null,
   "outputs": [],
   "source": [
    "print(get_basis_set(-3/2, 3), get_basis_set(-1/2, 3), get_basis_set(1/2, 3), get_basis_set(3/2, 3))"
   ],
   "metadata": {
    "collapsed": false,
    "is_executing": true
   },
   "id": "c237802a3e96b54"
  },
  {
   "cell_type": "code",
   "execution_count": null,
   "outputs": [],
   "source": [
    "def findstate(s_, M):\n",
    "    #s_b = list(bin(b)[2:])\n",
    "    #s_b.reverse()\n",
    "    bmin = 0; bmax = -1\n",
    "    for i in range(1000):\n",
    "        b = bmin + (bmax-bmin)/2\n",
    "        if s_ < b:\n",
    "            bmax = b-1\n",
    "        elif s_ > b:\n",
    "            bmin = b+1\n",
    "        else:\n",
    "            return b\n",
    "    raise RuntimeError(\"No b found\")\n",
    "\n",
    "def generate_Hamiltonian_for_mz(N, mz):\n",
    "    list_s, M = get_basis_set(mz, N)\n",
    "    H = np.zeros((M, M))\n",
    "    for a in range(M):\n",
    "        s = list_s[a]\n",
    "        s_bin = list(bin(s)[2:].zfill(N))\n",
    "        s_bin.reverse()\n",
    "        for i in range(N):\n",
    "            #s_a = bool(a & (1 << i))\n",
    "            j = (i+1)%N \n",
    "            if s_bin[i] == s_bin[j]:\n",
    "                H[a,a] += 1/4\n",
    "            else:\n",
    "                H[a,a] -= 1/4\n",
    "                s_asterisk = flip(list_s[a], i, j)\n",
    "                b = list_s.index(s_asterisk)\n",
    "                H[a, b] = 1/2\n",
    "    return H\n",
    "\n",
    "h = generate_Hamiltonian_for_mz(3, -3/2)\n",
    "print(h)"
   ],
   "metadata": {
    "collapsed": false,
    "is_executing": true
   },
   "id": "ea6a5b683c2962da"
  },
  {
   "cell_type": "code",
   "execution_count": null,
   "outputs": [],
   "source": [
    "eigenvalues = []\n",
    "for n in range(2,7):\n",
    "    eigs_n = []\n",
    "    for m_z in np.arange(-n/2, n/2+1, 1, dtype=float):\n",
    "        H_mz = generate_Hamiltonian_for_mz(n, m_z)\n",
    "        eigs = np.linalg.eig(H_mz)\n",
    "        eigvals = eigs.eigenvalues\n",
    "        eigs_n.append(eigvals)\n",
    "    eigs_n = [number for subarray in eigs_n for number in subarray]\n",
    "    eigenvalues.append(np.min(eigs_n))\n",
    "\n",
    "print(eigenvalues)"
   ],
   "metadata": {
    "collapsed": false,
    "is_executing": true
   },
   "id": "4d0489f0190f6b65"
  },
  {
   "cell_type": "code",
   "execution_count": null,
   "outputs": [],
   "source": [
    "[-0.9999999999999999,\n",
    " -0.75,\n",
    " -1.9999999999999987,\n",
    " -1.8680339887499,\n",
    " (-2.8027756377319992+0j)]"
   ],
   "metadata": {
    "collapsed": false,
    "is_executing": true
   },
   "id": "d21272e68c17d2be"
  },
  {
   "cell_type": "code",
   "execution_count": null,
   "outputs": [],
   "source": [
    "def block_diagonal(matrices):\n",
    "    shapes = np.array([matrix.shape for matrix in matrices])\n",
    "    new_shape = shapes.sum(axis=0)\n",
    "    result = np.zeros(new_shape, dtype=matrices[0].dtype)\n",
    "\n",
    "    row, col = 0, 0\n",
    "    for matrix in matrices:\n",
    "        rows, cols = matrix.shape\n",
    "        result[row:row+rows, col:col+cols] = matrix\n",
    "        row += rows\n",
    "        col += cols\n",
    "\n",
    "    return result"
   ],
   "metadata": {
    "collapsed": false,
    "is_executing": true
   },
   "id": "e4145846024fda5a"
  },
  {
   "cell_type": "code",
   "execution_count": null,
   "outputs": [],
   "source": [
    "N = 3\n",
    "list_matrices = []\n",
    "for m_z in np.arange(-N/2, N/2+1, 1, dtype=float):\n",
    "    h = generate_Hamiltonian_for_mz(N, m_z)\n",
    "    h = np.array(h)\n",
    "    list_matrices.append(h)\n",
    "H_blocks = block_diagonal(list_matrices)\n",
    "print(H_blocks)"
   ],
   "metadata": {
    "collapsed": false,
    "is_executing": true
   },
   "id": "e6445d34ed6547bb"
  },
  {
   "cell_type": "code",
   "execution_count": null,
   "outputs": [],
   "source": [
    "computing_times = []\n",
    "list_N = np.arange(2,12) #todo: compare with problem 2 \n",
    "\n",
    "for n in list_N:\n",
    "    start = time.time()\n",
    "    list_matrices = []\n",
    "    for m_z in np.arange(-n/2, n/2+1, 1, dtype=float):\n",
    "        h = generate_Hamiltonian_for_mz(n, m_z)\n",
    "        h = np.array(h)\n",
    "        list_matrices.append(h)\n",
    "    h_blocks = block_diagonal(list_matrices)\n",
    "    eigs = np.linalg.eig(h_blocks)\n",
    "    stop = time.time()\n",
    "    diff_time = stop - start\n",
    "    computing_times.append(diff_time)\n",
    "\n",
    "plt.plot(list_N, computing_times, label=\"Block hamiltonian\")\n",
    "plt.plot(list_N, computing_times_b, label = \"Non-block hamiltonian\")\n",
    "plt.legend()\n",
    "plt.xlabel(\"N\")\n",
    "plt.ylabel(\"Computing time\")\n",
    "plt.title(\"Problem 3: Computing times for diagonalisation\")"
   ],
   "metadata": {
    "collapsed": false,
    "is_executing": true
   },
   "id": "3f0871ddc33d8adc"
  },
  {
   "cell_type": "markdown",
   "source": [
    "# Problem 4"
   ],
   "metadata": {
    "collapsed": false
   },
   "id": "681572e3fda9d55e"
  },
  {
   "cell_type": "code",
   "execution_count": null,
   "outputs": [],
   "source": [
    "def construct_lanczos_basis(h, Lambda):\n",
    "    \"\"\"\n",
    "    Function to construct a Lanczos basis from a given hamiltonian\n",
    "    :param h: \n",
    "        hamiltonian to construct the lanczos basis\n",
    "    :return: \n",
    "        coeffs_normalized: 2D-array of normalized lanczos basis coefficients,\n",
    "        list_a: array of parameters a to construct lanczos hamiltonian, \n",
    "        list_b: array of parameters b to construct lanczos hamiltonian\n",
    "    \"\"\"\n",
    "    dim = h.shape[0]\n",
    "    if dim < Lambda:\n",
    "        print(\"Dimension of original Hamiltonian is smaller than Krylov\")\n",
    "        exit()\n",
    "    coeffs = []\n",
    "    coeffs_normalized = []\n",
    "    list_a = []\n",
    "    list_b = []\n",
    "    list_norm = []\n",
    "    #randomly determine initial state\n",
    "    coeffs_0 = np.random.uniform(size=dim)\n",
    "    n_0 = np.dot(coeffs_0, coeffs_0)\n",
    "    coeffs.append(coeffs_0)\n",
    "    coeffs_normalized.append(coeffs_0/np.sqrt(n_0))\n",
    "    list_norm.append(n_0)\n",
    "    #construct second state\n",
    "    h_00 = np.dot(coeffs[0], np.matmul(h, coeffs[0]))\n",
    "    a_0 = h_00/n_0\n",
    "    list_a.append(a_0)\n",
    "    coeffs_1 = np.matmul(h, coeffs[0]) - a_0*coeffs[0]\n",
    "    n_1 = np.dot(coeffs_1, coeffs_1)\n",
    "    coeffs.append(coeffs_1)\n",
    "    coeffs_normalized.append(coeffs_1/np.sqrt(n_1))\n",
    "    list_norm.append(n_1)\n",
    "    #construct remaining states\n",
    "    for m in range(1, Lambda):\n",
    "        h_mm = np.dot(coeffs[m], np.matmul(h, coeffs[m]))\n",
    "        n_m = list_norm[m]\n",
    "        n_m1 = list_norm[m-1]\n",
    "        a_m = h_mm/n_m\n",
    "        b_m1 = n_m/n_m1\n",
    "        coeffs_mp = np.matmul(h, coeffs[m]) - a_m*coeffs[m] - b_m1*coeffs[m-1]\n",
    "        n_mp = np.dot(coeffs_mp, coeffs_mp)\n",
    "        coeffs.append(coeffs_mp)\n",
    "        coeffs_normalized.append(coeffs_mp/np.sqrt(n_mp))\n",
    "        list_a.append(a_m)\n",
    "        list_b.append(b_m1)\n",
    "        list_norm.append(n_mp)\n",
    "    n_last = np.dot(coeffs[-1], coeffs[-1])\n",
    "    n_before = np.dot(coeffs[-2], coeffs[-2])\n",
    "    b_last = n_last/n_before\n",
    "    list_b.append(b_last)\n",
    "    return coeffs, list_a, list_b, list_norm\n",
    "\n",
    "def construct_lanczos_hamiltonian(list_a, list_b):\n",
    "    dim = len(list_a)\n",
    "    h_lanczos = np.zeros((dim, dim))\n",
    "    # add first- and last-row elements manually\n",
    "    h_lanczos[0,0] = list_a[0]\n",
    "    h_lanczos[1,0] = np.sqrt(list_b[0])\n",
    "    h_lanczos[-1,-1]= list_a[-1]\n",
    "    h_lanczos[-2, -1] = np.sqrt(list_b[-2])\n",
    "    # fill middle of lanczos hamiltonian\n",
    "    for m in range(1, dim-1):\n",
    "        h_lanczos[m,m] = list_a[m]\n",
    "        h_lanczos[m-1, m] = np.sqrt(list_b[m-1])\n",
    "        h_lanczos[m+1, m] = np.sqrt(list_b[m])\n",
    "    return h_lanczos"
   ],
   "metadata": {
    "collapsed": false,
    "is_executing": true
   },
   "id": "78c01fd282159697"
  },
  {
   "cell_type": "code",
   "execution_count": null,
   "outputs": [],
   "source": [
    "computing_times_4 = []\n",
    "list_N = np.arange(2,12) #todo: plot for n=11 and compare with problem 2 and 3\n",
    "\n",
    "for n in list_N:\n",
    "    print(n)\n",
    "    start = time.time()\n",
    "    for m_z in np.arange(-n/2, n/2+1, 1, dtype=float):\n",
    "        h = generate_Hamiltonian_for_mz(n, m_z)\n",
    "        h = np.array(h)\n",
    "        vecs, la, lb, norms = construct_lanczos_basis(h, n) #I did the full lanczos basis instead of applying the stopping criterion\n",
    "        H_n = construct_lanczos_hamiltonian(la, lb)\n",
    "        H_n = np.array(H_n)\n",
    "        eigs = np.linalg.eig(H_n)\n",
    "    stop = time.time()\n",
    "    diff_time = stop - start\n",
    "    computing_times_4.append(diff_time)\n",
    "\n",
    "plt.plot(list_N, computing_times_4, label=\"Lanczos method\")\n",
    "plt.plot(list_N, computing_times, label=\"Block hamiltonian\")\n",
    "plt.plot(list_N, computing_times_b, label = \"Non-block hamiltonian\")\n",
    "plt.legend()\n",
    "plt.xlabel(\"N\")\n",
    "plt.ylabel(\"Computing time\")\n",
    "plt.title(\"Problem 4: Computing times for diagonalisation\")"
   ],
   "metadata": {
    "collapsed": false,
    "is_executing": true
   },
   "id": "5f05b0740f03bd0e"
  },
  {
   "cell_type": "markdown",
   "source": [
    "4b)"
   ],
   "metadata": {
    "collapsed": false
   },
   "id": "ce8d2ccda0887fe4"
  },
  {
   "cell_type": "code",
   "execution_count": null,
   "outputs": [],
   "source": [
    "minimal_eigenvalues = []\n",
    "\n",
    "for l in range(2, 50):\n",
    "    h = generate_Hamiltonian_for_mz(10, 0)\n",
    "    coeffs, la, lb, ln = construct_lanczos_basis(h, l)\n",
    "    h_lanczos = construct_lanczos_hamiltonian(la,lb)\n",
    "    eig = np.linalg.eig(h_lanczos)\n",
    "    eig_min = np.min(eig.eigenvalues)\n",
    "    minimal_eigenvalues.append(eig_min)\n",
    "    \n",
    "plt.plot(np.arange(48), minimal_eigenvalues)\n",
    "plt.title(\"Problem 4b): Minimal eigenvalue of Lanczos hamiltonian in dependence of Lambda\")\n",
    "plt.xlabel(\"Lambda\")\n",
    "plt.ylabel(\"$E_{0}$\")"
   ],
   "metadata": {
    "collapsed": false,
    "is_executing": true
   },
   "id": "ef51ef6715877f19"
  },
  {
   "cell_type": "markdown",
   "source": [
    "The implementation of the lanczos basis function does not work apparently, because many lanczos basis states are not orthogonal:"
   ],
   "metadata": {
    "collapsed": false
   },
   "id": "4a14666b1a4574dc"
  },
  {
   "cell_type": "code",
   "execution_count": null,
   "outputs": [],
   "source": [
    "h = generate_Hamiltonian(3)\n",
    "vecs, la, lb, norms = construct_lanczos_basis(h, 8)\n",
    "for i, a in enumerate(vecs):\n",
    "    for j, b in enumerate(vecs):\n",
    "        if i!=j:\n",
    "            dot = np.dot(a/np.linalg.norm(a),b/np.linalg.norm(b))\n",
    "            print(i, j, dot)"
   ],
   "metadata": {
    "collapsed": false,
    "is_executing": true
   },
   "id": "ab10979d16b5f4de"
  }
 ],
 "metadata": {
  "kernelspec": {
   "display_name": "Python 3",
   "language": "python",
   "name": "python3"
  },
  "language_info": {
   "codemirror_mode": {
    "name": "ipython",
    "version": 2
   },
   "file_extension": ".py",
   "mimetype": "text/x-python",
   "name": "python",
   "nbconvert_exporter": "python",
   "pygments_lexer": "ipython2",
   "version": "2.7.6"
  }
 },
 "nbformat": 4,
 "nbformat_minor": 5
}
