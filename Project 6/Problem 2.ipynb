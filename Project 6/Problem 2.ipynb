{
 "cells": [
  {
   "cell_type": "code",
   "execution_count": 55,
   "id": "initial_id",
   "metadata": {
    "collapsed": true,
    "ExecuteTime": {
     "end_time": "2024-01-26T11:47:30.065560300Z",
     "start_time": "2024-01-26T11:47:28.859191700Z"
    }
   },
   "outputs": [],
   "source": [
    "import numpy as np\n",
    "import time\n",
    "import matplotlib.pyplot as plt"
   ]
  },
  {
   "cell_type": "code",
   "execution_count": 50,
   "outputs": [],
   "source": [
    "def generate_binary_list(N, fixed_length=None):\n",
    "    a_test = range(2**N)\n",
    "    binary_list = []\n",
    "    # Determine the fixed length if not provided\n",
    "    if fixed_length is None:\n",
    "        fixed_length = len(bin(max(a_test))) - 2\n",
    "    for num in a_test:\n",
    "        binary_representation = bin(num)[2:]  # Convert to binary and remove the '0b' prefix\n",
    "        binary_digits = [int(digit) for digit in binary_representation]\n",
    "        while len(binary_digits) < fixed_length:\n",
    "            binary_digits.insert(0, 0)\n",
    "        binary_list.append(binary_digits)\n",
    "\n",
    "    return a_test, binary_list\n",
    "\n",
    "#a_test, a_bin = generate_binary_list(N)\n",
    "\n",
    "#print(\"a_test:\", list(a_test))\n",
    "#print(\"a_bin:\", a_bin)"
   ],
   "metadata": {
    "collapsed": false,
    "ExecuteTime": {
     "end_time": "2024-01-26T11:39:44.402338100Z",
     "start_time": "2024-01-26T11:39:44.397237600Z"
    }
   }
  },
  {
   "cell_type": "code",
   "execution_count": 62,
   "outputs": [
    {
     "name": "stdout",
     "output_type": "stream",
     "text": [
      "[[1.25 0.   0.   ... 0.   0.   0.  ]\n",
      " [0.   0.25 0.   ... 0.   0.   0.  ]\n",
      " [0.   0.   0.25 ... 0.   0.   0.  ]\n",
      " ...\n",
      " [0.   0.   0.   ... 0.25 0.   0.  ]\n",
      " [0.   0.   0.   ... 0.   0.25 0.  ]\n",
      " [0.   0.   0.   ... 0.   0.   1.25]]\n"
     ]
    }
   ],
   "source": [
    "def flip(a, i, j):\n",
    "    f = 2**i + 2**j\n",
    "    return a^f\n",
    "\n",
    "\n",
    "def generate_Hamiltonian(N):\n",
    "    a_test, a_bin = generate_binary_list(N)\n",
    "    H = np.zeros((2**N, 2**N))\n",
    "    for a_b, a_int in zip(a_bin, a_test):\n",
    "        for i in range(N):\n",
    "            j = (i+1)%N\n",
    "            if a_b[i] == a_b[j]:\n",
    "                H[a_int,a_int] += 1/4\n",
    "            else:\n",
    "                H[a_int,a_int] -= 1/4\n",
    "                b = flip(a_int, i, j)\n",
    "                H[a_int, b] += 1/2\n",
    "    return H\n",
    "\n",
    "H_2 = generate_Hamiltonian(5)\n",
    "print(H_2)"
   ],
   "metadata": {
    "collapsed": false,
    "ExecuteTime": {
     "end_time": "2024-01-26T11:50:07.469602500Z",
     "start_time": "2024-01-26T11:50:07.461801600Z"
    }
   }
  },
  {
   "cell_type": "code",
   "execution_count": 69,
   "outputs": [
    {
     "data": {
      "text/plain": "[-1.5, -0.7499999999999999, -2.0, (-1.6778862533179986+0j)]"
     },
     "execution_count": 69,
     "metadata": {},
     "output_type": "execute_result"
    }
   ],
   "source": [
    "eigenvalues = []\n",
    "list_N = np.arange(2,6)\n",
    "\n",
    "for n in list_N:\n",
    "    H_n = generate_Hamiltonian(n)\n",
    "    eigs = np.linalg.eig(H_n)[0]\n",
    "    eig_ground = np.min(eigs)\n",
    "    eigenvalues.append(eig_ground)\n",
    "\n",
    "eigenvalues"
   ],
   "metadata": {
    "collapsed": false,
    "ExecuteTime": {
     "end_time": "2024-01-26T11:56:35.897016500Z",
     "start_time": "2024-01-26T11:56:35.889418500Z"
    }
   }
  },
  {
   "cell_type": "code",
   "execution_count": 73,
   "outputs": [
    {
     "data": {
      "text/plain": "[<matplotlib.lines.Line2D at 0x1cabd89f0d0>]"
     },
     "execution_count": 73,
     "metadata": {},
     "output_type": "execute_result"
    },
    {
     "data": {
      "text/plain": "<Figure size 640x480 with 1 Axes>",
      "image/png": "[encoded data removed]"
     },
     "metadata": {},
     "output_type": "display_data"
    }
   ],
   "source": [
    "computing_times = []\n",
    "list_N = np.arange(2,12)\n",
    "\n",
    "for n in list_N:\n",
    "    start = time.time()\n",
    "    H_n = generate_Hamiltonian(n)\n",
    "    eigs = np.linalg.eig(H_n)\n",
    "    stop = time.time()\n",
    "    diff_time = stop - start\n",
    "    computing_times.append(diff_time)\n",
    "\n",
    "plt.plot(list_N, computing_times)\n"
   ],
   "metadata": {
    "collapsed": false,
    "ExecuteTime": {
     "end_time": "2024-01-26T12:00:12.562913900Z",
     "start_time": "2024-01-26T12:00:04.858943900Z"
    }
   }
  },
  {
   "cell_type": "code",
   "execution_count": 57,
   "outputs": [
    {
     "data": {
      "text/plain": "[0.006975412368774414, 0.0, 0.0, 0.0]"
     },
     "execution_count": 57,
     "metadata": {},
     "output_type": "execute_result"
    }
   ],
   "source": [
    "computing_times"
   ],
   "metadata": {
    "collapsed": false,
    "ExecuteTime": {
     "end_time": "2024-01-26T11:48:24.656530400Z",
     "start_time": "2024-01-26T11:48:24.649939600Z"
    }
   }
  }
 ],
 "metadata": {
  "kernelspec": {
   "display_name": "Python 3",
   "language": "python",
   "name": "python3"
  },
  "language_info": {
   "codemirror_mode": {
    "name": "ipython",
    "version": 2
   },
   "file_extension": ".py",
   "mimetype": "text/x-python",
   "name": "python",
   "nbconvert_exporter": "python",
   "pygments_lexer": "ipython2",
   "version": "2.7.6"
  }
 },
 "nbformat": 4,
 "nbformat_minor": 5
}
