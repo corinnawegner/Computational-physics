{
 "cells": [
  {
   "cell_type": "code",
   "execution_count": 22,
   "id": "initial_id",
   "metadata": {
    "collapsed": true,
    "ExecuteTime": {
     "end_time": "2024-02-03T18:18:48.684382300Z",
     "start_time": "2024-02-03T18:18:48.629426800Z"
    }
   },
   "outputs": [],
   "source": [
    "import numpy as np\n",
    "import time\n",
    "import matplotlib.pyplot as plt\n",
    "import math"
   ]
  },
  {
   "cell_type": "code",
   "execution_count": 23,
   "outputs": [],
   "source": [
    "#https://arxiv.org/pdf/1101.3281.pdf"
   ],
   "metadata": {
    "collapsed": false,
    "ExecuteTime": {
     "end_time": "2024-02-03T18:18:48.696350200Z",
     "start_time": "2024-02-03T18:18:48.635906700Z"
    }
   },
   "id": "747e05cbdf069be5"
  },
  {
   "cell_type": "code",
   "execution_count": 24,
   "outputs": [
    {
     "name": "stdout",
     "output_type": "stream",
     "text": [
      "a_test: [0, 1, 2, 3, 4, 5, 6, 7]\n",
      "a_bin: [[0, 0, 0], [1, 0, 0], [0, 1, 0], [1, 1, 0], [0, 0, 1], [1, 0, 1], [0, 1, 1], [1, 1, 1]]\n"
     ]
    }
   ],
   "source": [
    "def generate_binary_list(N, fixed_length=None):\n",
    "    a_test = range(2**N)\n",
    "    binary_list = []\n",
    "    # Determine the fixed length if not provided\n",
    "    if fixed_length is None:\n",
    "        fixed_length = len(bin(max(a_test))) - 2\n",
    "    for num in a_test:\n",
    "        binary_representation = bin(num)[2:]  # Convert to binary and remove the '0b' prefix\n",
    "        binary_digits = [int(digit) for digit in binary_representation]\n",
    "        while len(binary_digits) < fixed_length:\n",
    "            binary_digits.insert(0, 0)\n",
    "        binary_digits.reverse()\n",
    "        binary_list.append(binary_digits)\n",
    "\n",
    "    return a_test, binary_list\n",
    "\n",
    "a_test, a_bin = generate_binary_list(3)\n",
    "\n",
    "print(\"a_test:\", list(a_test))\n",
    "print(\"a_bin:\", a_bin)"
   ],
   "metadata": {
    "collapsed": false,
    "ExecuteTime": {
     "end_time": "2024-02-03T18:18:48.699147300Z",
     "start_time": "2024-02-03T18:18:48.644901700Z"
    }
   },
   "id": "9f1c72b1ea42063d"
  },
  {
   "cell_type": "code",
   "execution_count": 25,
   "outputs": [
    {
     "name": "stdout",
     "output_type": "stream",
     "text": [
      "[[ 0.5  0.   0.   0. ]\n",
      " [ 0.  -0.5  0.5  0. ]\n",
      " [ 0.   0.5 -0.5  0. ]\n",
      " [ 0.   0.   0.   0.5]]\n"
     ]
    }
   ],
   "source": [
    "def flip(a, i, j):\n",
    "    f = 2**i + 2**j\n",
    "    return a^f\n",
    "\n",
    "def generate_Hamiltonian(N):\n",
    "    a, a_binary = generate_binary_list(N)\n",
    "    a = list(a)\n",
    "    H = np.zeros((2**N, 2**N))\n",
    "    for a_bin, a_int in zip(a_binary, a):\n",
    "        for i in range(N):\n",
    "            j = (i+1)%N\n",
    "            if a_bin[i] == a_bin[j]:\n",
    "                H[a_int,a_int] += 1/4\n",
    "            else:\n",
    "                H[a_int,a_int] -= 1/4\n",
    "                b = flip(a_int, i, j)\n",
    "                H[a_int, b] = 1/2\n",
    "    return H\n",
    "\n",
    "H_2 = generate_Hamiltonian(2)\n",
    "#Todo: Why for N=7 imaginary?Numerical error\n",
    "\n",
    "print(H_2)"
   ],
   "metadata": {
    "collapsed": false,
    "ExecuteTime": {
     "end_time": "2024-02-03T18:18:48.829277300Z",
     "start_time": "2024-02-03T18:18:48.663469100Z"
    }
   },
   "id": "6dc90bdbc5f45725"
  },
  {
   "cell_type": "code",
   "execution_count": 26,
   "outputs": [
    {
     "data": {
      "text/plain": "array([ 1.11022302e-16, -1.00000000e+00,  5.00000000e-01,  5.00000000e-01])"
     },
     "execution_count": 26,
     "metadata": {},
     "output_type": "execute_result"
    }
   ],
   "source": [
    "eigs_2 = np.linalg.eig(H_2)\n",
    "eigs_2.eigenvalues"
   ],
   "metadata": {
    "collapsed": false,
    "ExecuteTime": {
     "end_time": "2024-02-03T18:18:48.829277300Z",
     "start_time": "2024-02-03T18:18:48.671419500Z"
    }
   },
   "id": "a92caa475256cb39"
  },
  {
   "cell_type": "code",
   "execution_count": 27,
   "outputs": [
    {
     "data": {
      "text/plain": "array([[ 0.        ,  0.70710678,  0.70710678,  0.        ],\n       [ 0.        ,  0.70710678, -0.70710678,  0.        ],\n       [ 1.        ,  0.        ,  0.        ,  0.        ],\n       [ 0.        ,  0.        ,  0.        ,  1.        ]])"
     },
     "execution_count": 27,
     "metadata": {},
     "output_type": "execute_result"
    }
   ],
   "source": [
    "np.transpose(eigs_2.eigenvectors) #Todo: Need to transpose?"
   ],
   "metadata": {
    "collapsed": false,
    "ExecuteTime": {
     "end_time": "2024-02-03T18:18:48.832269800Z",
     "start_time": "2024-02-03T18:18:48.684382300Z"
    }
   },
   "id": "ad1ee0394b3bc3bd"
  },
  {
   "cell_type": "code",
   "execution_count": 28,
   "outputs": [
    {
     "data": {
      "text/plain": "[-0.9999999999999999,\n -0.75,\n -1.9999999999999987,\n -1.8680339887499,\n (-2.8027756377319992+0j)]"
     },
     "execution_count": 28,
     "metadata": {},
     "output_type": "execute_result"
    }
   ],
   "source": [
    "eigenvalues = []\n",
    "eigenvectors = []\n",
    "list_N = np.arange(2,7)\n",
    "\n",
    "for n in list_N:\n",
    "    H_n = generate_Hamiltonian(n)\n",
    "    eigs = np.linalg.eig(H_n)\n",
    "    eigvals = eigs.eigenvalues\n",
    "    eigvecs = np.transpose(eigs.eigenvectors)\n",
    "    eigenvalues.append(eigvals)\n",
    "    eigenvectors.append(eigvecs)\n",
    "\n",
    "[np.min(e) for e in eigenvalues]"
   ],
   "metadata": {
    "collapsed": false,
    "ExecuteTime": {
     "end_time": "2024-02-03T18:18:48.832269800Z",
     "start_time": "2024-02-03T18:18:48.706128700Z"
    }
   },
   "id": "4157076f51d528db"
  },
  {
   "cell_type": "code",
   "execution_count": 29,
   "outputs": [
    {
     "name": "stdout",
     "output_type": "stream",
     "text": [
      "n = 2:\n",
      "[ 0.          0.70710678 -0.70710678  0.        ]\n",
      "n = 3:\n",
      "[ 0.          0.          0.          0.40824829  0.          0.40824829\n",
      " -0.81649658  0.        ]\n",
      "n = 4:\n",
      "[ 0.00000000e+00  2.77354685e-17  2.57913478e-17  2.88675135e-01\n",
      " -8.55761944e-17 -5.77350269e-01  2.88675135e-01  5.93181067e-17\n",
      "  4.45654388e-17  2.88675135e-01 -5.77350269e-01  4.86828725e-33\n",
      "  2.88675135e-01 -5.93181067e-17  4.86828725e-33  0.00000000e+00]\n",
      "n = 5:\n",
      "[ 0.00000000e+00  1.00607891e-16 -9.37588118e-17 -2.25301316e-01\n",
      "  8.22872906e-17  4.57243147e-01 -5.72904897e-02  2.87191878e-12\n",
      "  3.68069548e-17 -1.49988449e-01 -2.14556738e-01 -6.48222379e-12\n",
      "  1.89893846e-01  2.96975423e-12  6.40566639e-13 -2.77218716e-17\n",
      "  3.05548646e-17 -8.19533814e-02  4.97148544e-01  1.13468151e-12\n",
      " -5.89846503e-01  1.67624977e-12 -5.68277868e-12 -3.47167794e-18\n",
      "  1.74651341e-01 -2.17032895e-12  7.51783158e-12 -2.82752094e-18\n",
      " -2.47571470e-12  2.18275281e-17  4.43718334e-33  0.00000000e+00]\n",
      "n = 6:\n",
      "[ 0.00000000e+00+0.j  1.11022302e-16+0.j -5.55111512e-17+0.j\n",
      " -3.93952627e-16+0.j  1.66533454e-16+0.j  9.83517636e-16+0.j\n",
      " -3.84885425e-16+0.j -6.29206215e-02+0.j -2.77555756e-16+0.j\n",
      " -1.00957288e-15+0.j  1.39602092e-15+0.j  2.07812696e-01+0.j\n",
      " -6.05019817e-16+0.j -2.07812696e-01+0.j  6.29206215e-02+0.j\n",
      "  1.03078780e-18+0.j  2.77555756e-16+0.j  7.80247989e-16+0.j\n",
      " -1.44622104e-15+0.j -2.07812696e-01+0.j  1.16570301e-15+0.j\n",
      "  4.78546013e-01+0.j -2.07812696e-01+0.j  5.22434956e-19+0.j\n",
      " -3.63334533e-16+0.j -2.07812696e-01+0.j  2.07812696e-01+0.j\n",
      " -1.85778010e-19+0.j -6.29206215e-02+0.j  1.08854642e-19+0.j\n",
      " -9.56682617e-20+0.j  9.07993804e-17+0.j -5.55111512e-17+0.j\n",
      " -4.48693763e-16+0.j  1.15640996e-15+0.j  6.29206215e-02+0.j\n",
      " -1.09034296e-15+0.j -2.07812696e-01+0.j  2.07812696e-01+0.j\n",
      " -9.55662563e-20+0.j  9.57115691e-16+0.j  2.07812696e-01+0.j\n",
      " -4.78546013e-01+0.j  1.08832850e-19+0.j  2.07812696e-01+0.j\n",
      " -1.85926666e-19+0.j  5.23086966e-19+0.j -5.41640090e-17+0.j\n",
      " -2.60647668e-16+0.j -6.29206215e-02+0.j  2.07812696e-01+0.j\n",
      " -3.39643395e-20+0.j -2.07812696e-01+0.j  1.15520336e-19+0.j\n",
      " -2.77172022e-19+0.j  4.06918732e-18+0.j  6.29206215e-02+0.j\n",
      " -3.49718030e-20+0.j  1.15487702e-19+0.j  4.41504790e-17+0.j\n",
      " -3.39626981e-20+0.j -1.40599112e-16+0.j -2.75860297e-33+0.j\n",
      "  0.00000000e+00+0.j]\n"
     ]
    }
   ],
   "source": [
    "for n in list_N:\n",
    "    print(f\"n = {n}:\")\n",
    "    print(eigenvectors[n-2][np.argmin(eigenvalues[n-2])])"
   ],
   "metadata": {
    "collapsed": false,
    "ExecuteTime": {
     "end_time": "2024-02-03T18:18:48.833267Z",
     "start_time": "2024-02-03T18:18:48.735051700Z"
    }
   },
   "id": "1bafe5fd1409f970"
  },
  {
   "cell_type": "code",
   "execution_count": 30,
   "outputs": [
    {
     "data": {
      "text/plain": "array([ 0.        ,  0.70710678, -0.70710678,  0.        ])"
     },
     "execution_count": 30,
     "metadata": {},
     "output_type": "execute_result"
    }
   ],
   "source": [
    "eigenvectors[0][1]"
   ],
   "metadata": {
    "collapsed": false,
    "ExecuteTime": {
     "end_time": "2024-02-03T18:18:48.872163400Z",
     "start_time": "2024-02-03T18:18:48.760464100Z"
    }
   },
   "id": "94f948d045052c1c"
  },
  {
   "cell_type": "markdown",
   "source": [
    "# Part b"
   ],
   "metadata": {
    "collapsed": false
   },
   "id": "f3279029aaaceeec"
  },
  {
   "cell_type": "code",
   "execution_count": 31,
   "outputs": [
    {
     "data": {
      "text/plain": "[<matplotlib.lines.Line2D at 0x25b34510050>]"
     },
     "execution_count": 31,
     "metadata": {},
     "output_type": "execute_result"
    },
    {
     "data": {
      "text/plain": "<Figure size 640x480 with 1 Axes>",
      "image/png": "[encoded data removed]"
     },
     "metadata": {},
     "output_type": "display_data"
    }
   ],
   "source": [
    "computing_times = []\n",
    "list_N = np.arange(2,12)\n",
    "\n",
    "for n in list_N:\n",
    "    start = time.time()\n",
    "    H_n = generate_Hamiltonian(n)\n",
    "    eigs = np.linalg.eig(H_n)\n",
    "    stop = time.time()\n",
    "    diff_time = stop - start\n",
    "    computing_times.append(diff_time)\n",
    "\n",
    "plt.plot(list_N, computing_times)"
   ],
   "metadata": {
    "collapsed": false,
    "ExecuteTime": {
     "end_time": "2024-02-03T18:18:56.896167200Z",
     "start_time": "2024-02-03T18:18:48.784397500Z"
    }
   },
   "id": "49173904ba74d7c9"
  },
  {
   "cell_type": "code",
   "execution_count": 32,
   "outputs": [
    {
     "data": {
      "text/plain": "[0.0009970664978027344,\n 0.0,\n 0.0,\n 0.0009968280792236328,\n 0.0009970664978027344,\n 0.014960527420043945,\n 0.049866437911987305,\n 0.29933667182922363,\n 1.5014209747314453,\n 6.085248231887817]"
     },
     "execution_count": 32,
     "metadata": {},
     "output_type": "execute_result"
    }
   ],
   "source": [
    "computing_times"
   ],
   "metadata": {
    "collapsed": false,
    "ExecuteTime": {
     "end_time": "2024-02-03T18:18:56.909071700Z",
     "start_time": "2024-02-03T18:18:56.896167200Z"
    }
   },
   "id": "a41039bcd5bfccbd"
  },
  {
   "cell_type": "markdown",
   "source": [
    "Part c)"
   ],
   "metadata": {
    "collapsed": false
   },
   "id": "326ea267bccc0fce"
  },
  {
   "cell_type": "code",
   "execution_count": 33,
   "outputs": [],
   "source": [
    "k_B = 1#.38 *10**(-23)\n",
    "\n",
    "def magnetisation_for_state(state, N):\n",
    "    list_a_int, list_a_bin = generate_binary_list(N)\n",
    "    list_m = [] #Magnetisation per particle for all basis states\n",
    "    for spin_sequence in list_a_bin:\n",
    "        m = 0\n",
    "        for s in spin_sequence:\n",
    "            if s == 1:\n",
    "                m += 1\n",
    "            elif s == -1:\n",
    "                m -= 1\n",
    "            elif s == 0:\n",
    "                m -= 1\n",
    "            else:\n",
    "                print(\"Spin sequence is neither binary nor sequence of 1 and -1\")\n",
    "        list_m.append(m)\n",
    "    m = 0\n",
    "    for index, val in enumerate(state):\n",
    "        m += list_m[index] * val**2 #Todo: quadrat oder nicht?\n",
    "    return m/N\n",
    "\n",
    "def specific_heat(energies, N, T):\n",
    "    prefs = [np.exp(-e/T) for e in energies]\n",
    "    mean_energy = np.average(energies, weights=prefs)\n",
    "    mean_square_energy = np.average([e_i**2 for e_i in energies], weights=prefs)\n",
    "    return (mean_square_energy - mean_energy**2)/(N*k_B*T**2)\n",
    "\n",
    "def magnetic_susceptibility(arr_states, energies, N, T):\n",
    "    prefs = [np.exp(-e/T) for e in energies]\n",
    "    m_states = []\n",
    "    for state in arr_states:\n",
    "        m_s = magnetisation_for_state(state, N)\n",
    "        m_states.append(m_s)\n",
    "    m_mean = np.average(m_states, weights=prefs)\n",
    "    m_2_mean = np.average([m**2 for m in m_states], weights=prefs)\n",
    "    return (1/T)*(m_2_mean-m_mean**2)\n",
    "\n",
    "def C_v(N, T, J=1):\n",
    "    frac = J/(k_B*T)\n",
    "    enum = frac**2\n",
    "    denom = np.cosh(frac)**2\n",
    "    return N*k_B*enum/denom"
   ],
   "metadata": {
    "collapsed": false,
    "ExecuteTime": {
     "end_time": "2024-02-03T18:18:57.000436800Z",
     "start_time": "2024-02-03T18:18:56.909071700Z"
    }
   },
   "id": "234bd066a64ce15f"
  },
  {
   "cell_type": "code",
   "execution_count": 34,
   "outputs": [],
   "source": [
    "list_N_c = [4,8]#,12] #Todo: Add another\n",
    "specific_heats = []\n",
    "magnetic_susceptibilities = []\n",
    "list_T = np.linspace(0.1,2,100)\n",
    "\n",
    "for n in list_N_c:\n",
    "    list_sp = []\n",
    "    list_ms = []\n",
    "    for temp in list_T:\n",
    "        H_n = generate_Hamiltonian(n)\n",
    "        eigs = np.linalg.eig(H_n)\n",
    "        eigvecs = eigs.eigenvectors\n",
    "        sp = specific_heat(eigs.eigenvalues, n, temp)\n",
    "        list_sp.append(sp)\n",
    "        ms = magnetic_susceptibility(eigvecs, eigs.eigenvalues, n, temp)\n",
    "        list_ms.append(ms)\n",
    "    magnetic_susceptibilities.append(list_ms)\n",
    "    specific_heats.append(list_sp)"
   ],
   "metadata": {
    "collapsed": false,
    "ExecuteTime": {
     "end_time": "2024-02-03T18:19:18.430528300Z",
     "start_time": "2024-02-03T18:18:56.931622200Z"
    }
   },
   "id": "d3c03bbbf3809055"
  },
  {
   "cell_type": "code",
   "execution_count": 35,
   "outputs": [
    {
     "name": "stderr",
     "output_type": "stream",
     "text": [
      "C:\\Users\\corin\\PycharmProjects\\Computational-physics\\venv\\Lib\\site-packages\\matplotlib\\cbook.py:1699: ComplexWarning: Casting complex values to real discards the imaginary part\n",
      "  return math.isfinite(val)\n",
      "C:\\Users\\corin\\PycharmProjects\\Computational-physics\\venv\\Lib\\site-packages\\matplotlib\\cbook.py:1345: ComplexWarning: Casting complex values to real discards the imaginary part\n",
      "  return np.asarray(x, float)\n"
     ]
    },
    {
     "data": {
      "text/plain": "<matplotlib.legend.Legend at 0x25b3471c750>"
     },
     "execution_count": 35,
     "metadata": {},
     "output_type": "execute_result"
    },
    {
     "data": {
      "text/plain": "<Figure size 640x480 with 1 Axes>",
      "image/png": "[encoded data removed]"
     },
     "metadata": {},
     "output_type": "display_data"
    }
   ],
   "source": [
    "plt.plot(list_T, specific_heats[0], label=\"N = 4\")\n",
    "plt.plot(list_T, specific_heats[1], label=\"N = 8\")\n",
    "#plt.plot(list_T, specific_heats[2], label=\"N = 12\") #Todo: Calculate and plot this as well\n",
    "plt.plot(list_T, [3/(13*t**2) for t in list_T])\n",
    "plt.title(\"2c): specific heat\")\n",
    "plt.xlabel(\"T\")\n",
    "plt.ylim(0,0.5)\n",
    "plt.legend()"
   ],
   "metadata": {
    "collapsed": false,
    "ExecuteTime": {
     "end_time": "2024-02-03T18:19:18.659977200Z",
     "start_time": "2024-02-03T18:19:18.433517200Z"
    }
   },
   "id": "21c8ac7adad8a469"
  },
  {
   "cell_type": "code",
   "execution_count": 35,
   "outputs": [],
   "source": [],
   "metadata": {
    "collapsed": false,
    "ExecuteTime": {
     "end_time": "2024-02-03T18:19:18.666829900Z",
     "start_time": "2024-02-03T18:19:18.660972600Z"
    }
   },
   "id": "ce7d663c9d7d2e20"
  },
  {
   "cell_type": "code",
   "execution_count": 36,
   "outputs": [
    {
     "data": {
      "text/plain": "<matplotlib.legend.Legend at 0x25b34816350>"
     },
     "execution_count": 36,
     "metadata": {},
     "output_type": "execute_result"
    },
    {
     "data": {
      "text/plain": "<Figure size 640x480 with 1 Axes>",
      "image/png": "[encoded data removed]"
     },
     "metadata": {},
     "output_type": "display_data"
    }
   ],
   "source": [
    "plt.plot(list_T, magnetic_susceptibilities[0], label=\"N = 4\")\n",
    "plt.plot(list_T, magnetic_susceptibilities[1], label=\"N = 8\")\n",
    "plt.plot(list_T, [1/(4*t) for t in list_T])\n",
    "#plt.plot(list_T, specific_heats[2], label=\"N = 12\") #Todo: Calculate and plot this as well\n",
    "#plt.plot(list_T, [3/(13*t**2) for t in list_T])\n",
    "plt.title(\"2c): Magnetic susceptibility\")\n",
    "plt.xlabel(\"T\")\n",
    "plt.ylim(0,0.2)\n",
    "plt.legend()"
   ],
   "metadata": {
    "collapsed": false,
    "ExecuteTime": {
     "end_time": "2024-02-03T18:19:18.936251Z",
     "start_time": "2024-02-03T18:19:18.668825100Z"
    }
   },
   "id": "f9640c85c4906844"
  },
  {
   "cell_type": "code",
   "execution_count": 37,
   "outputs": [],
   "source": [
    "def correlation_spins(spin_sequence, i=0, j=2):\n",
    "    return spin_sequence[i]*spin_sequence[j]"
   ],
   "metadata": {
    "collapsed": false,
    "ExecuteTime": {
     "end_time": "2024-02-03T18:19:18.945876300Z",
     "start_time": "2024-02-03T18:19:18.939244900Z"
    }
   },
   "id": "7c49716c8326de0d"
  },
  {
   "cell_type": "code",
   "execution_count": 38,
   "outputs": [
    {
     "name": "stdout",
     "output_type": "stream",
     "text": [
      "[[ 0.75  0.    0.    0.    0.    0.    0.    0.  ]\n",
      " [ 0.   -0.25  0.5   0.    0.5   0.    0.    0.  ]\n",
      " [ 0.    0.5  -0.25  0.    0.5   0.    0.    0.  ]\n",
      " [ 0.    0.    0.   -0.25  0.    0.5   0.5   0.  ]\n",
      " [ 0.    0.5   0.5   0.   -0.25  0.    0.    0.  ]\n",
      " [ 0.    0.    0.    0.5   0.   -0.25  0.5   0.  ]\n",
      " [ 0.    0.    0.    0.5   0.    0.5  -0.25  0.  ]\n",
      " [ 0.    0.    0.    0.    0.    0.    0.    0.75]]\n"
     ]
    }
   ],
   "source": [
    "# Problem 3\n",
    "\n",
    "N=3\n",
    "\n",
    "H = generate_Hamiltonian(N)\n",
    "print(H)\n",
    "\n",
    "#M = math.factorial(N)/(math.factorial(n_up)*math.factorial(N-n_up))\n",
    "\n",
    "def get_basis_set(m_z, N):\n",
    "    n_up = m_z + N/2 \n",
    "    basis_set = []\n",
    "    a = 0\n",
    "    for s, s_bin in zip(*generate_binary_list(N)):\n",
    "        if np.sum(s_bin) == n_up:\n",
    "            a += 1\n",
    "            s_a = s\n",
    "            basis_set.append(s_a)\n",
    "    M = a\n",
    "    return basis_set, M\n",
    "    \n",
    "s_a, a = get_basis_set(1/2, N)"
   ],
   "metadata": {
    "collapsed": false,
    "ExecuteTime": {
     "end_time": "2024-02-03T18:19:18.961621700Z",
     "start_time": "2024-02-03T18:19:18.947872100Z"
    }
   },
   "id": "5671a816c3950269"
  },
  {
   "cell_type": "code",
   "execution_count": 103,
   "outputs": [],
   "source": [
    "def findstate(s_, b, M):\n",
    "    #s_b = list(bin(b)[2:])\n",
    "    #s_b.reverse()\n",
    "    s_b = s_\n",
    "    bmin = 1; bmax = M\n",
    "    while True:\n",
    "        b = bmin + (bmax-bmin)/2\n",
    "        if s_ < s_b:\n",
    "            bmax = b-1\n",
    "        elif s_ > s_b:\n",
    "            bmin = b+1\n",
    "        else:\n",
    "            break\n",
    "    return b\n",
    "\n",
    "def generate_Hamiltonian_for_mz(N, mz):\n",
    "    s_a, M = get_basis_set(mz, N) #implements the pseudo code {3} in the script\n",
    "    H = np.zeros((2**N, 2**N))\n",
    "    for a in s_a:\n",
    "        for i in range(M):\n",
    "            j = (i+1)%M\n",
    "            s_b = bin(a)[2:].zfill(M)\n",
    "            if s_b[i] == s_b[j]:\n",
    "                H[a,a] += 1/4\n",
    "            else:\n",
    "                H[a,a] -= 1/4\n",
    "                b = flip(a, i, j)\n",
    "                s_asterisk = flip(a, i, j)\n",
    "                findstate(s_asterisk, b, M)\n",
    "                H[a, b] = 1/2\n",
    "    return H"
   ],
   "metadata": {
    "collapsed": false,
    "ExecuteTime": {
     "end_time": "2024-02-03T22:11:26.171874200Z",
     "start_time": "2024-02-03T22:11:26.123006300Z"
    }
   },
   "id": "ea6a5b683c2962da"
  },
  {
   "cell_type": "code",
   "execution_count": 104,
   "outputs": [
    {
     "name": "stdout",
     "output_type": "stream",
     "text": [
      "3 011\n",
      "0\n",
      "3 011\n",
      "3 011\n",
      "6\n",
      "5 101\n",
      "6\n",
      "5 101\n",
      "3\n",
      "5 101\n",
      "6 110\n",
      "6 110\n",
      "0\n",
      "6 110\n",
      "3\n",
      "[[ 0.    0.    0.    0.    0.    0.    0.    0.  ]\n",
      " [ 0.    0.    0.    0.    0.    0.    0.    0.  ]\n",
      " [ 0.    0.    0.    0.    0.    0.    0.    0.  ]\n",
      " [ 0.5   0.    0.   -0.25  0.    0.    0.5   0.  ]\n",
      " [ 0.    0.    0.    0.    0.    0.    0.    0.  ]\n",
      " [ 0.    0.    0.    0.5   0.   -0.25  0.5   0.  ]\n",
      " [ 0.5   0.    0.    0.5   0.    0.   -0.25  0.  ]\n",
      " [ 0.    0.    0.    0.    0.    0.    0.    0.  ]]\n"
     ]
    }
   ],
   "source": [
    "h = generate_Hamiltonian_for_mz(3, 1/2)\n",
    "print(h)"
   ],
   "metadata": {
    "collapsed": false,
    "ExecuteTime": {
     "end_time": "2024-02-03T22:11:27.561212Z",
     "start_time": "2024-02-03T22:11:27.536110700Z"
    }
   }
  },
  {
   "cell_type": "code",
   "execution_count": 88,
   "outputs": [
    {
     "name": "stdout",
     "output_type": "stream",
     "text": [
      "0\n",
      "1\n",
      "2\n"
     ]
    }
   ],
   "source": [
    "for index, num in enumerate([\"a\",\"b\",\"c\"]):\n",
    "    print(index)"
   ],
   "metadata": {
    "collapsed": false,
    "ExecuteTime": {
     "end_time": "2024-02-03T19:02:35.287798200Z",
     "start_time": "2024-02-03T19:02:35.282811300Z"
    }
   }
  }
 ],
 "metadata": {
  "kernelspec": {
   "display_name": "Python 3",
   "language": "python",
   "name": "python3"
  },
  "language_info": {
   "codemirror_mode": {
    "name": "ipython",
    "version": 2
   },
   "file_extension": ".py",
   "mimetype": "text/x-python",
   "name": "python",
   "nbconvert_exporter": "python",
   "pygments_lexer": "ipython2",
   "version": "2.7.6"
  }
 },
 "nbformat": 4,
 "nbformat_minor": 5
}
