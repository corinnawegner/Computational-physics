{
 "cells": [
  {
   "cell_type": "markdown",
   "source": [
    "Imagine having a sample of $N(t)$ radioactive nuclei at time t. Simulate the decay of the sample by increasing the time $t$ in discrete steps of $\\Delta{t}$, and at each time count how many nuclei have decayed during the last $\\Delta{t}$ interval. The simulation quits when there are no nuclei left. The probability of a nucleus to decay per unit of time should be $\\lambda = 0.03 s^{−1}$.\n"
   ],
   "metadata": {
    "collapsed": false
   },
   "id": "53991d54a067bbf0"
  },
  {
   "cell_type": "code",
   "execution_count": null,
   "outputs": [],
   "source": [
    "import numpy as np\n",
    "\n",
    "def N(N_0, t):\n",
    "    prob_decay = 0.03\n",
    "    list_N = [N_0]\n",
    "    #for \n",
    "    return list_N"
   ],
   "metadata": {
    "collapsed": false
   },
   "id": "bccf699efe7a73ba"
  },
  {
   "cell_type": "code",
   "execution_count": null,
   "outputs": [],
   "source": [],
   "metadata": {
    "collapsed": false
   },
   "id": "c46309fd74be6eea"
  },
  {
   "cell_type": "markdown",
   "source": [
    "Repeat the simulation for $N(0) = 10, 100, 1000, 10000$ and $100000$, and plot the $log N(t)$ versus time $t$ in a single plot. Also add the theory lines for the continuous decay model (for which $N \\to \\infty$ and $\\Delta{t} \\to 0$ is assumed), i.e. $N_{cont.}(t) = N(0)e^{- \\lambda t}$.\n",
    "Approximately, for which $log N$ do the simulation results begin to appear stochastic (instead of approximating an exponential)?"
   ],
   "metadata": {
    "collapsed": false
   },
   "id": "d49042a22d56ad66"
  },
  {
   "cell_type": "code",
   "execution_count": null,
   "outputs": [],
   "source": [],
   "metadata": {
    "collapsed": false
   },
   "id": "11e39675372db714"
  }
 ],
 "metadata": {
  "kernelspec": {
   "display_name": "Python 3",
   "language": "python",
   "name": "python3"
  },
  "language_info": {
   "codemirror_mode": {
    "name": "ipython",
    "version": 2
   },
   "file_extension": ".py",
   "mimetype": "text/x-python",
   "name": "python",
   "nbconvert_exporter": "python",
   "pygments_lexer": "ipython2",
   "version": "2.7.6"
  }
 },
 "nbformat": 4,
 "nbformat_minor": 5
}
